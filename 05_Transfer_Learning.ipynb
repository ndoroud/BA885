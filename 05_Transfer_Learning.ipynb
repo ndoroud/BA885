{
 "cells": [
  {
   "cell_type": "code",
   "execution_count": 2,
   "id": "de6e34cd-eeb9-42ec-9e80-83910ed9ea71",
   "metadata": {},
   "outputs": [],
   "source": [
    "import os\n",
    "import sys\n",
    "import math\n",
    "import numpy as np\n",
    "import pandas as pd\n",
    "import matplotlib.pyplot as plt\n",
    "import tensorflow as tf\n",
    "from tensorflow import keras\n",
    "from tensorflow.keras import layers\n",
    "from sklearn.utils import shuffle\n",
    "from IPython import display"
   ]
  },
  {
   "cell_type": "code",
   "execution_count": 3,
   "id": "1ca9e560-cca4-41d2-9b2b-e2d9f6c5e6e2",
   "metadata": {},
   "outputs": [],
   "source": [
    "# Assign home_dir as a local directory to use when saving data to disk.\n",
    "home_dir = os.getenv(\"home_BA885\")\n",
    "#\n",
    "if not home_dir:\n",
    "    home_dir = os.getcwd()\n",
    "# Colab home\n",
    "# home_dir = \"/content/\""
   ]
  },
  {
   "cell_type": "markdown",
   "id": "e43421eb-6ca6-437a-b753-e85bcafbefee",
   "metadata": {},
   "source": [
    "# Transfer Learning\n",
    "\n",
    "Author: Nima Doroud\n",
    "\n",
    "One of the most important resources for Deep Learning are tried and tested pretrained models which can be utilized in a variety of ways ranging from direct incorporation in a pipeline to drawing inspiration in architecture design. Aterall, pretrained models aren't just trained weights and biases but also model architectures and hyperparameters which are tuned to best extract information from a particular type of data.\n",
    "\n",
    "Crucially, the latter part is task-specific rather than data-specific. For example, a model trained to recognize wildlife in images is really designed and tuned to pick up on objects and learn their features. In turn, this enables the transfer of specific application -- recognizing wildlife -- to a new domain, say recognizing household object.\n",
    "\n",
    "This process, known as transfer learning, eliminates the need for designing and tuning a neural network from scratch and to a great extent reduces the time and resources needed for training.\n",
    "\n",
    "To see this in action we will utilize transfer learning to produce a model that can detect speech commands starting with the pretrained [YAMNet](https://github.com/tensorflow/models/tree/master/research/audioset/yamnet) model."
   ]
  },
  {
   "cell_type": "markdown",
   "id": "9a45e163-b6bc-4a1e-9ae9-ba3eaf56bfb4",
   "metadata": {
    "tags": []
   },
   "source": [
    "## Speech commands dataset\n",
    "\n",
    "We will use the \"speech commands\" dataset published by Peter Warden in conjunction with the paper [1804.03209](https://arxiv.org/abs/1804.03209).\n",
    "\n",
    "The links for downloading the full dataset can be found [here](https://github.com/tensorflow/datasets/blob/master/tensorflow_datasets/datasets/speech_commands/speech_commands_dataset_builder.py).\n",
    "\n",
    "This dataset is also available through pardata:\n",
    "```\n",
    "import pardata\n",
    "pardata.load_dataset('tensorflow_speech_commands')\n",
    "```"
   ]
  },
  {
   "cell_type": "code",
   "execution_count": null,
   "id": "d941d7e1-4769-4019-927b-fa91dce3ec1c",
   "metadata": {},
   "outputs": [],
   "source": [
    "# Check if home_dir/dataset exists and if not create dataset directory.\n",
    "if not os.path.exists(home_dir+'/datasets'):\n",
    "    os.mkdir('datasets')\n",
    "#\n",
    "# Download links for train and test datasets.\n",
    "ds_links = {'train' : 'http://download.tensorflow.org/data/speech_commands_v0.02.tar.gz',\n",
    "            'test' : 'http://download.tensorflow.org/data/speech_commands_test_set_v0.02.tar.gz'}\n",
    "#\n",
    "# Check if folder is already present\n",
    "if os.path.exists(home_dir+'/datasets/speech_commands_train/'):\n",
    "    raise ValueError(\"Folder exists already!\")\n",
    "# Download and extract train and test datasets.\n",
    "for key in ds_links.keys():\n",
    "    tf.keras.utils.get_file('speech_commands_{}.tar.gz'.format(key),\n",
    "                            ds_links[key],\n",
    "                            cache_dir = home_dir+'/datasets/',\n",
    "                            cache_subdir = 'speech_commands_{}'.format(key),\n",
    "                            extract=True)"
   ]
  },
  {
   "cell_type": "code",
   "execution_count": 4,
   "id": "2fe65348-031d-4c0a-86ae-51659bb2f99c",
   "metadata": {},
   "outputs": [
    {
     "data": {
      "text/plain": [
       "array(['cat', 'wow', 'follow', 'yes', 'down', 'bird', 'marvin', 'right',\n",
       "       'five', 'three', 'six', 'no', 'tree', 'off', 'four', 'bed', 'one',\n",
       "       'zero', 'nine', 'eight', 'up', 'left', 'on', 'forward', 'learn',\n",
       "       'dog', 'stop', '_background_noise_', 'seven', 'go', 'two',\n",
       "       'sheila', 'visual', 'house', 'backward', 'happy'], dtype=object)"
      ]
     },
     "execution_count": 4,
     "metadata": {},
     "output_type": "execute_result"
    }
   ],
   "source": [
    "# Train dataset directory\n",
    "train_ds_dir = home_dir+'/datasets/speech_commands_train/'\n",
    "#\n",
    "# Create and populate a list of file paths for the train dataset.\n",
    "train_paths = []\n",
    "for folder, labels, samples in os.walk(train_ds_dir):\n",
    "    for sample in samples:\n",
    "        if sample[-3:] == 'wav':\n",
    "            train_paths.append([folder+'/'+sample, folder[len(train_ds_dir):]])\n",
    "#\n",
    "# Convert the list to pandas.Dataframe\n",
    "train_paths = pd.DataFrame(train_paths, columns=['file_path', 'category'])\n",
    "#\n",
    "# Number of samples per category\n",
    "#data_paths.groupby('category').count()\n",
    "#\n",
    "# List the unique categories\n",
    "train_paths['category'].unique()"
   ]
  },
  {
   "cell_type": "code",
   "execution_count": 5,
   "id": "419e7737-2433-499f-9330-55dd3aa5f4b5",
   "metadata": {},
   "outputs": [
    {
     "name": "stdout",
     "output_type": "stream",
     "text": [
      "Number of distinct commands = 35\n"
     ]
    }
   ],
   "source": [
    "# Separate the '_background_noise_' category.\n",
    "bg_noise_paths = train_paths.where(\n",
    "    train_paths['category']=='_background_noise_').dropna()\n",
    "train_paths = train_paths.where(\n",
    "    train_paths['category']!='_background_noise_').dropna()\n",
    "#\n",
    "# Shuffle and reset the index of the dataframes\n",
    "train_paths = train_paths.sample(frac = 1)\n",
    "train_paths.reset_index(inplace=True)\n",
    "#\n",
    "bg_noise_paths = bg_noise_paths.sample(frac = 1)\n",
    "bg_noise_paths.reset_index(inplace=True)\n",
    "bg_noise_paths = np.array(bg_noise_paths['file_path'])\n",
    "#\n",
    "# Remaining number of categories\n",
    "num_categories = train_paths['category'].unique().shape[0]\n",
    "print('Number of distinct commands = {}'.format(num_categories))"
   ]
  },
  {
   "cell_type": "code",
   "execution_count": 6,
   "id": "fd0f6a30-2db9-4941-b2a2-77ff4f0219b3",
   "metadata": {},
   "outputs": [],
   "source": [
    "# split into training (85%) and valididation (15%) datasets\n",
    "split_index = train_paths.shape[0]*17//20\n",
    "#\n",
    "valid_labels = np.array(train_paths[split_index+1:]['category'])\n",
    "valid_paths = np.array(train_paths[split_index+1:]['file_path'])\n",
    "#\n",
    "train_labels = np.array(train_paths[:split_index]['category'])\n",
    "train_paths = np.array(train_paths[:split_index]['file_path'])\n",
    "#\n",
    "# Define the number of categories as a global parameter\n",
    "num_categories = np.unique(train_labels).shape[0]"
   ]
  },
  {
   "cell_type": "markdown",
   "id": "6449185b-b56c-4ce9-8f5e-7fe72c0d6ee7",
   "metadata": {
    "tags": []
   },
   "source": [
    "## Working with audio data\n",
    "\n",
    "Before we get started with building a Neural Network, let's familiarize ourselves with audio data starting with how to import audio files as tensors as well as the standard representations of audio data (wave form and spectrogram with different scales)."
   ]
  },
  {
   "cell_type": "markdown",
   "id": "0f4e922c-1328-43c5-a05d-5b982a2efd22",
   "metadata": {
    "tags": []
   },
   "source": [
    "### Audio data in wave form"
   ]
  },
  {
   "cell_type": "code",
   "execution_count": 7,
   "id": "ce3ba52f-ed66-407d-b730-01e1aaf0c87c",
   "metadata": {},
   "outputs": [],
   "source": [
    "# Define a function to import audio files ('.wav') from disk as\n",
    "# tf.tensor with shape=(time*sample_rate, channel) if channels=True\n",
    "# and shape=(time*sample_rate) otherwise.\n",
    "def load_audio(file_path, l = 16000, sample_rate = 16000, channels = True):\n",
    "    \"\"\"Loads '.wav' audio file from 'path' assuming it has\n",
    "    'sample_rate' as provided. 'l' is the desired length of\n",
    "    the output with longer sample cut off at l and shorter\n",
    "    ones padded at the end. When l = None, the length equals\n",
    "    'T*sample_rate' when T is the duration of the audio file.\n",
    "    #\n",
    "    Returns tf.tensor with float32 values in range [-1,1],\n",
    "    of shape = (l, c) if 'channels = True', else\n",
    "    of shape = (l,) if 'channels = False'.\n",
    "    \"\"\"\n",
    "    audio = tf.io.read_file(file_path)\n",
    "    if channels:\n",
    "        return tf.audio.decode_wav(audio, desired_samples=16000)[0]\n",
    "    else:\n",
    "        return tf.squeeze(tf.audio.decode_wav(audio, desired_samples=16000)[0],\n",
    "                          axis=-1)"
   ]
  },
  {
   "cell_type": "code",
   "execution_count": 8,
   "id": "132e7673-5378-42e5-82de-8bf6c55a2852",
   "metadata": {},
   "outputs": [
    {
     "name": "stdout",
     "output_type": "stream",
     "text": [
      "Sample audio shape = (16000, 1) and max_amplitude = 0.812957763671875\n",
      "Sample noise shape = (16000, 1) and max_amplitude = 0.415435791015625\n"
     ]
    }
   ],
   "source": [
    "# Here is a sample of audio data recording a spoken command.\n",
    "sample_path = train_paths[0]\n",
    "sample_audio = load_audio(sample_path)\n",
    "# Here is a sample of audio data recording background noise.\n",
    "sample_noise_path = bg_noise_paths[0]\n",
    "sample_noise = load_audio(sample_noise_path)\n",
    "#\n",
    "print(\"Sample audio shape = {} and max_amplitude = {}\".format(\n",
    "    sample_audio.shape, tf.math.reduce_max(sample_audio)) + \"\\n\"\n",
    "      \"Sample noise shape = {} and max_amplitude = {}\".format(\n",
    "          sample_noise.shape, tf.math.reduce_max(sample_noise))\n",
    "     )"
   ]
  },
  {
   "cell_type": "code",
   "execution_count": 9,
   "id": "8acae553-095c-4b9d-91b3-b2f6563e7be0",
   "metadata": {},
   "outputs": [
    {
     "data": {
      "image/png": "[encoded data removed]",
      "text/plain": [
       "<Figure size 1200x600 with 2 Axes>"
      ]
     },
     "metadata": {},
     "output_type": "display_data"
    }
   ],
   "source": [
    "# Plot the wave forms (x ~ time, y ~ amplitude).\n",
    "#\n",
    "fig, axis = plt.subplots(2, sharex=True, sharey=True, figsize=(12, 6))\n",
    "#\n",
    "axis[0].plot(sample_audio.numpy().reshape((-1)), color='b')\n",
    "axis[0].set_title('Sample')\n",
    "#\n",
    "axis[1].plot(sample_noise.numpy().reshape((-1)), color='b')\n",
    "axis[1].set_title('Noise')\n",
    "#\n",
    "plt.show()"
   ]
  },
  {
   "cell_type": "code",
   "execution_count": 10,
   "id": "2feac333-1634-4f49-be8d-1d0f6dfff164",
   "metadata": {},
   "outputs": [
    {
     "data": {
      "text/html": [
       "\n",
       "                <audio  controls=\"controls\" >\n",
       "                    <source src=\"data:audio/wav;base64,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\" type=\"audio/wav\" />\n",
       "                    Your browser does not support the audio element.\n",
       "                </audio>\n",
       "              "
      ],
      "text/plain": [
       "<IPython.lib.display.Audio object>"
      ]
     },
     "execution_count": 10,
     "metadata": {},
     "output_type": "execute_result"
    }
   ],
   "source": [
    "# To play the audio file directly in the notebook we can use\n",
    "# Ipython.display:\n",
    "display.Audio(sample_audio.numpy().reshape((-1)),rate=16000)"
   ]
  },
  {
   "cell_type": "markdown",
   "id": "7cfb8c26-cc5c-4889-891f-6f73ee43354f",
   "metadata": {
    "tags": []
   },
   "source": [
    "### Audio data in spectrogram form\n",
    "\n",
    "Performing Short-time Fourier analysis on a waveform yields a spectrogram which is an all-round better feature representation of the data. Short-time Fourier transformation applies (truncated and discrete) Fourier transformation to a sliding window along the waveform mapping it to the stride(time)-frequency space.\n",
    "\n",
    "amplitude(time, channel) --> amplitude(stride~time, frequency, channel)\n",
    "\n",
    "We may further convert the frequency to mel scale (logarithmic frequency) or convert the amplitude to decibel (logarithmic amplitude) scale."
   ]
  },
  {
   "cell_type": "markdown",
   "id": "b03a4adb-4aaf-450f-958d-a9c29cdffaf7",
   "metadata": {
    "tags": []
   },
   "source": [
    "#### Hann (Gaussian) window\n",
    "\n",
    "The common choice for the window is a Gaussian that fades the signal at the two ends, also known as Hann window. As we slide this window along the signal, Fourier transformation focuses on only the spectrum of the reduced signal."
   ]
  },
  {
   "cell_type": "code",
   "execution_count": 11,
   "id": "529b5c43-484d-4aa2-b949-6e6b2cdd45dd",
   "metadata": {},
   "outputs": [],
   "source": [
    "def Hann_window(window_length = 4000, position = 0, length = 16000):\n",
    "    \"\"\"Generates a truncated Discrete Gaussian of length 'window_length'.\n",
    "    The window is embedded in a sample of length 'length' starting\n",
    "    at 'position'.\n",
    "    Returns a tf.tensor of shape = ('length').\n",
    "    \"\"\"\n",
    "    assert (window_length <= length\n",
    "            and 0 <= position\n",
    "            and position <= length - window_length)\n",
    "    #\n",
    "    window = tf.pad(tf.signal.hann_window(window_length),\n",
    "                    tf.constant([[position, length - position - window_length]]),\n",
    "                    \"CONSTANT\")\n",
    "    return window"
   ]
  },
  {
   "cell_type": "code",
   "execution_count": 12,
   "id": "da3acf85-6526-4081-bd69-727534e6c367",
   "metadata": {},
   "outputs": [
    {
     "data": {
      "image/png": "[encoded data removed]",
      "text/plain": [
       "<Figure size 1200x600 with 4 Axes>"
      ]
     },
     "metadata": {},
     "output_type": "display_data"
    }
   ],
   "source": [
    "# Plot the wave forms (x = time, y = amplitude).\n",
    "#\n",
    "fig, axis = plt.subplots(4, sharex=True, sharey=True, figsize=(12, 6))\n",
    "#\n",
    "axis[0].plot(sample_noise.numpy().reshape((-1)), color='b')\n",
    "axis[0].set_title('Original')\n",
    "#\n",
    "for i in np.arange(1, 4):\n",
    "    axis[i].plot(np.multiply(Hann_window(8000, 4000*(i-1)).numpy(),\n",
    "                             sample_noise.numpy().reshape((-1))),\n",
    "                 color='b')\n",
    "plt.show()"
   ]
  },
  {
   "cell_type": "code",
   "execution_count": 13,
   "id": "2599c2b4-a432-4f72-b0e4-9e11ce723af6",
   "metadata": {},
   "outputs": [
    {
     "data": {
      "image/png": "[encoded data removed]",
      "text/plain": [
       "<Figure size 1200x600 with 2 Axes>"
      ]
     },
     "metadata": {},
     "output_type": "display_data"
    }
   ],
   "source": [
    "# Note, that with our choice of windows confined to the length of the\n",
    "# signal the signal is automatically faded at the ends. If this is not\n",
    "# the desired outcome we can pad the original signal by ~window_length/2\n",
    "# on both ends.\n",
    "#\n",
    "fig, axis = plt.subplots(2, sharex=True, sharey=True, figsize=(12, 6))\n",
    "#\n",
    "axis[0].plot(sample_noise.numpy().reshape((-1)), color='b')\n",
    "axis[0].set_title('Original')\n",
    "#\n",
    "axis[1].plot(np.sum([np.multiply(\n",
    "    Hann_window(8000, 4000*(i-1)).numpy(), \n",
    "    sample_noise.numpy().reshape((-1))) for i in np.arange(1,4)],\n",
    "                    axis=0),\n",
    "                 color='b')\n",
    "plt.show()"
   ]
  },
  {
   "cell_type": "markdown",
   "id": "40c35c13-6026-4758-8d60-4575f62d2f87",
   "metadata": {
    "tags": []
   },
   "source": [
    "#### Spectrogram\n",
    "\n",
    "Let us define a function to convert a waveform to a spectrogram."
   ]
  },
  {
   "cell_type": "code",
   "execution_count": 14,
   "id": "da33166a-01ca-4f07-a74d-76cc83f86cb7",
   "metadata": {},
   "outputs": [],
   "source": [
    "# The built-in Fourier transform functions (from tf.signal) apply\n",
    "# FT to the innermost dimension. If the waveform is in the channel\n",
    "# last format we need to convert it to channel-first via the\n",
    "# following function.\n",
    "def convert_wave_to_channel_first(waveform):\n",
    "    \"\"\"Converts a signal with channel-last format to channel-first.\n",
    "    Expects a tf.tensor of rank 2 (CT) or rank 3 (BCT).\n",
    "    Returns a tf.tensor of the same shape where the inner axis is\n",
    "    time. Example: Input format = BTC, output format = BCT.\n",
    "    \"\"\"\n",
    "    if waveform.shape.rank == 2:\n",
    "        perm = [1, 0]\n",
    "    else:\n",
    "        perm = [0, 2, 1]\n",
    "    return tf.transpose(waveform, perm)\n",
    "#\n",
    "# We choose the convention where spectrograms are formated as\n",
    "# frequency-stride-channel (FSC). This is not the output format of\n",
    "# 'tf.signal.stft' but can be converted as follows.\n",
    "def convert_spectrogram_to_frequency_first(spectrogram, channels = True):\n",
    "    \"\"\"Converts a spectrogram with the format '...(C)SF' (Stride-\n",
    "    Frequency-Channel) to '...FS(C).\n",
    "    \"\"\"\n",
    "    if channels:\n",
    "        # Expected input format = (B)CSF\n",
    "        if spectrogram.shape.rank == 3:\n",
    "            perm = [2, 1, 0]\n",
    "        else:\n",
    "            perm = [0, 3, 2, 1]\n",
    "    else:\n",
    "        # Expected input format = (B)SF\n",
    "        if spectrogram.shape.rank == 2:\n",
    "            perm = [1, 0]\n",
    "        else:\n",
    "            perm = [0, 2, 1]\n",
    "    return tf.transpose(spectrogram, perm)\n",
    "#\n",
    "# Define a function to generate a spectrogram in the FS(C) format from\n",
    "# a waveform in the channel-last format.\n",
    "def get_spectrogram(waveform, window, stride, fts, channels = True):\n",
    "    \"\"\"Converts waveform to a spectrogram via a Short-time Fourier Transform\n",
    "    using 'tf.signal.stft' which applies STFT to the inner dimension:\n",
    "        (..., t) --> (..., s, f)\n",
    "    Here 't' denotes the time axis and is in units (wf = waveform)\n",
    "    \n",
    "        time_diff(wf[t+1], wf[t]) = (1/sample_rate) second\n",
    "    \n",
    "    's' which denotes the # of strides is in units (sp = spectrogram)\n",
    "    \n",
    "        time_diff(sp[s+1], sp[s]) = (stride/sample_rate) seconds\n",
    "    \n",
    "    and f (frequency) is sampled in units\n",
    "    \n",
    "        freq_diff(sp[f+1], sp[f]) = (fts/sample_rate) Hz\n",
    "    \n",
    "    Returns a tf.Tensor of rank = waveform.rank + 1, where the time axis\n",
    "    is replaced as follows: (t) --> (f, s)\n",
    "    Example: input format = BTC --> output format = BFSC, (B = Batch).\n",
    "    \"\"\"\n",
    "    # If the input waveform has channels convert to channel_first format.\n",
    "    if channels:\n",
    "        waveform = convert_wave_to_channel_first(waveform)\n",
    "    #\n",
    "    # Obtain the magnitude of the STFT.\n",
    "    spectrogram = tf.abs(tf.signal.stft(signals = waveform,\n",
    "                                        frame_length = window,\n",
    "                                        frame_step = stride,\n",
    "                                        fft_length = fts,\n",
    "                                        window_fn = tf.signal.hann_window,\n",
    "                                        pad_end = False,\n",
    "                                        name = None)\n",
    "                        )\n",
    "    #\n",
    "    # Return after converting to Frequency first (and channel last) format. \n",
    "    return convert_spectrogram_to_frequency_first(spectrogram, channels)"
   ]
  },
  {
   "cell_type": "code",
   "execution_count": 15,
   "id": "08b17cf2-80c0-45ff-84b6-146b53910190",
   "metadata": {},
   "outputs": [
    {
     "data": {
      "image/png": "[encoded data removed]",
      "text/plain": [
       "<Figure size 1200x800 with 2 Axes>"
      ]
     },
     "metadata": {},
     "output_type": "display_data"
    }
   ],
   "source": [
    "# Let's plot the spectrogram for sample_audio with the following parameters\n",
    "window_length = 1023\n",
    "stride_length = 256\n",
    "fts_length = 1024\n",
    "# First, generate the spectrogram\n",
    "sample_spectrogram = get_spectrogram(sample_audio,\n",
    "                                     window = window_length,\n",
    "                                     stride = stride_length,\n",
    "                                     fts = fts_length)\n",
    "#\n",
    "f_index_lim, s_index_lim = tf.squeeze(sample_spectrogram,-1).numpy().shape\n",
    "#\n",
    "x = np.arange(s_index_lim+1)*stride_length \n",
    "# time_diff(x[1], x[0]) = (1/sample_rate) seconds\n",
    "y = np.arange(f_index_lim+1)*16000/fts_length\n",
    "# freq_diff(y[1], y[0]) = 1 Hz\n",
    "#\n",
    "fig, axis = plt.subplots(2, sharex=True, figsize=(12, 8))\n",
    "plt.xlim(0,s_index_lim*stride_length)\n",
    "#\n",
    "axis[0].plot(tf.squeeze(sample_audio,-1).numpy(), color='b')\n",
    "axis[0].set_title('Wave')\n",
    "#\n",
    "axis[1].pcolormesh(x, y, tf.squeeze(sample_spectrogram,-1).numpy())\n",
    "axis[1].set_title('Spectrogram')\n",
    "#\n",
    "fig.tight_layout()\n",
    "plt.show()"
   ]
  },
  {
   "cell_type": "markdown",
   "id": "7eb84f4b-69ca-4a85-8c80-1a20c7a9fc79",
   "metadata": {
    "tags": []
   },
   "source": [
    "#### Frequency in mel scale\n",
    "\n",
    "As you can see from the spectrogram plot, for a speech sample the frequency range is relatively limited. This is a visual demonstration of the effectiveness of the [narrowband](https://en.wikipedia.org/wiki/Voice_frequency) frequency range in telephony.\n",
    "\n",
    "A better representation would be switch from linear sampling of frequencies to logarithmic sampling or mel scale."
   ]
  },
  {
   "cell_type": "code",
   "execution_count": 16,
   "id": "81944874-7f46-4e6d-a7ad-1db1ba4e5cd4",
   "metadata": {},
   "outputs": [],
   "source": [
    "# Here is the standard convention for the mel transformation\n",
    "def convert_Hz_to_mel(frequency):\n",
    "    # Converts frequency in Hz to mels \n",
    "    # (Ex: 0 Hz = 0 mels, 6300 Hz = 2595 mels.)\n",
    "    return 2595.0*np.log10(1.0+ frequency/700.0)\n",
    "#\n",
    "# And here is the inverse transformation\n",
    "def convert_mel_to_Hz(mels):\n",
    "    # Converts from mels to Hz\n",
    "    return 700*(np.power(10.0, mels/2595.0) - 1.0)\n",
    "#\n",
    "# TF.signal has a built-in function for this transformation\n",
    "def mel_spectrogram(spectrogram, window, stride, fts, sample_rate = 16000,\n",
    "                    mel_bins = 128, min_f = 50.0, max_f = 7000.0, \n",
    "                    channels = True):\n",
    "    \"\"\"Logarithmically resamples the frequency axis. The input 'spectrogram'\n",
    "    is expected to be a tf.tensor with the format (B)FS(C). The arguments\n",
    "    'window', 'stride', 'fts' are the parameters used to generate 'spectrogram'\n",
    "    from a waveform, 'sample_rate' is the sample_rate of the waveform.\n",
    "    'mel_bins' is the length of the output along the mel (frequency) axis.\n",
    "    ['min_f','max_f'] is the range of frequencies sampled. The default range\n",
    "    is known as the wideband (50-7000).\n",
    "    (A shorter range known as the narrowband (300-3400) is also commonly used\n",
    "    for speech data.)\n",
    "    'channels=True' indicates that spectrogram has the channel axis.\n",
    "    \"\"\"\n",
    "    # Identify the frequency axis of the input \n",
    "    # (1 if input is a batch, 0 otherwise)\n",
    "    f_axis = spectrogram.shape.rank - 2 - int(channels)\n",
    "    #\n",
    "    # Extract the number of sampled frequencies\n",
    "    # (equals spectrogram.shape[frequency_axis]\n",
    "    f_bins = fts_length//2 + 1\n",
    "    #\n",
    "    # Generate the transformation matrix with wide_\n",
    "    M = tf.signal.linear_to_mel_weight_matrix(num_mel_bins = mel_bins,\n",
    "                                              num_spectrogram_bins = f_bins,\n",
    "                                              sample_rate = sample_rate,\n",
    "                                              lower_edge_hertz = min_f,\n",
    "                                              upper_edge_hertz = max_f,\n",
    "                                              dtype = tf.dtypes.float32,\n",
    "                                              name=None)\n",
    "    #\n",
    "    # Adjust the order of the axes when batch axis is present:\n",
    "    #  tf.tensordot(M_{ij}, S_{klmn}, (i,l)) = (MS)_{jkmn}\n",
    "    # transpose to (MS)_{kjmn}.\n",
    "    if f_axis:\n",
    "        M = tf.transpose(tf.tensordot(M, spectrogram, [[0], [f_axis]]), [1,0,2,3])\n",
    "    else:\n",
    "        M = tf.tensordot(M, spectrogram, [[0], [f_axis]])\n",
    "    #\n",
    "    return M"
   ]
  },
  {
   "cell_type": "code",
   "execution_count": 17,
   "id": "dca457fc-9b4e-4634-befa-d1eed805680e",
   "metadata": {},
   "outputs": [
    {
     "data": {
      "image/png": "[encoded data removed]",
      "text/plain": [
       "<Figure size 1200x800 with 2 Axes>"
      ]
     },
     "metadata": {},
     "output_type": "display_data"
    }
   ],
   "source": [
    "# Let's plot the  two spectrograms for a visual comparison.\n",
    "window_length = 1023\n",
    "stride_length = 256\n",
    "fts_length = 1024\n",
    "mel_length = 128\n",
    "#\n",
    "# First generate the two spectrograms\n",
    "sample_spectrogram = get_spectrogram(sample_audio,\n",
    "                                     window = window_length,\n",
    "                                     stride = stride_length,\n",
    "                                     fts = fts_length)\n",
    "#\n",
    "sample_mel = mel_spectrogram(sample_spectrogram,\n",
    "                             window = window_length,\n",
    "                             stride = stride_length,\n",
    "                             fts = fts_length,\n",
    "                             mel_bins = mel_length,\n",
    "                             min_f = 50,\n",
    "                             max_f = 7000)\n",
    "# \n",
    "f_index_lim, s_index_lim = tf.squeeze(sample_spectrogram,-1).numpy().shape\n",
    "#\n",
    "x = np.arange(s_index_lim+1)*stride_length \n",
    "# time_diff(x[1], x[0]) = (1/sample_rate) seconds\n",
    "y = np.arange(f_index_lim+1)*16000/fts_length\n",
    "# freq_diff(y[1], y[0]) = 1 Hz\n",
    "y_mel = np.arange(convert_Hz_to_mel(y[0]),\n",
    "                  convert_Hz_to_mel(y[-1])+0.1,\n",
    "                  (convert_Hz_to_mel(y[-1])-\n",
    "                   convert_Hz_to_mel(y[0]))/mel_length)\n",
    "#\n",
    "fig, axis = plt.subplots(2, sharex=True, figsize=(12, 8))\n",
    "plt.xlim(0,s_index_lim*stride_length)\n",
    "#\n",
    "axis[0].pcolormesh(x, y, tf.squeeze(sample_spectrogram,-1).numpy())\n",
    "axis[0].set_title('Linear scale frequency')\n",
    "#\n",
    "axis[1].pcolormesh(x, y_mel, tf.squeeze(sample_mel,-1).numpy())\n",
    "axis[1].set_title('Mel scale frequency')\n",
    "#\n",
    "fig.tight_layout()\n",
    "plt.show()"
   ]
  },
  {
   "cell_type": "markdown",
   "id": "fbedea5a-eaec-437a-a90b-a0afc383a825",
   "metadata": {
    "tags": []
   },
   "source": [
    "#### Power in decibel (dB) scale\n",
    "\n",
    "Lastly we can switch the power or in our case the amplitude to logarithmic scale."
   ]
  },
  {
   "cell_type": "code",
   "execution_count": 18,
   "id": "5b627eeb-6465-4328-a247-a4bc89d4ac0b",
   "metadata": {},
   "outputs": [],
   "source": [
    "def log_spectrogram(spectrogram, min_amp = 0.0001, ref_amp = 0.1, n = 8.0):\n",
    "    \"\"\"Logarithmically scales the amplitudes recorded in 'spectrogram',\n",
    "    a tf.tensor in the format (B)FS(C). 'min_amp' restricts the minimum\n",
    "    values of the output to log(min_amp/ref_amp)/n ~ -1.0\n",
    "    'ref_amp' is a reference value and 'n' is the normalization.\n",
    "    \"\"\"\n",
    "    return tf.divide(tf.math.log(tf.divide(tf.add(spectrogram, min_amp), ref_amp)), n)"
   ]
  },
  {
   "cell_type": "code",
   "execution_count": 19,
   "id": "3c4b94ad-2d7f-4433-9792-0edb00c79655",
   "metadata": {},
   "outputs": [
    {
     "data": {
      "image/png": "[encoded data removed]",
      "text/plain": [
       "<Figure size 1200x800 with 3 Axes>"
      ]
     },
     "metadata": {},
     "output_type": "display_data"
    }
   ],
   "source": [
    "# Let's plot the  two spectrograms for a visual comparison.\n",
    "window_length = 1023\n",
    "stride_length = 256\n",
    "fts_length = 1024\n",
    "mel_length = 128\n",
    "#\n",
    "# First generate the two spectrograms\n",
    "sample_spectrogram = get_spectrogram(sample_audio,\n",
    "                                     window = window_length,\n",
    "                                     stride = stride_length,\n",
    "                                     fts = fts_length)\n",
    "#\n",
    "sample_mel = mel_spectrogram(sample_spectrogram,\n",
    "                             window = window_length,\n",
    "                             stride = stride_length,\n",
    "                             fts = fts_length,\n",
    "                             mel_bins = mel_length,\n",
    "                             min_f = 50,\n",
    "                             max_f = 7000)\n",
    "#\n",
    "sample_mel_log = log_spectrogram(sample_mel)\n",
    "#\n",
    "f_index_lim, s_index_lim = tf.squeeze(sample_spectrogram,-1).numpy().shape\n",
    "#\n",
    "x = np.arange(s_index_lim+1)*stride_length \n",
    "# time_diff(x[1], x[0]) = (1/sample_rate) seconds\n",
    "y = np.arange(f_index_lim+1)*16000/fts_length\n",
    "# freq_diff(y[1], y[0]) = 1 Hz\n",
    "y_mel = np.arange(convert_Hz_to_mel(y[0]),\n",
    "                  convert_Hz_to_mel(y[-1])+0.1,\n",
    "                  (convert_Hz_to_mel(y[-1])-\n",
    "                   convert_Hz_to_mel(y[0]))/mel_length)\n",
    "#\n",
    "fig, axis = plt.subplots(3, sharex=True, figsize=(12, 8))\n",
    "plt.xlim(0,s_index_lim*stride_length)\n",
    "#\n",
    "axis[0].pcolormesh(x, y, tf.squeeze(sample_spectrogram,-1).numpy())\n",
    "axis[0].set_title('Linear scale frequency')\n",
    "#\n",
    "axis[1].pcolormesh(x, y_mel, tf.squeeze(sample_mel,-1).numpy())\n",
    "axis[1].set_title('Mel scale frequency')\n",
    "#\n",
    "axis[2].pcolormesh(x, y_mel, tf.squeeze(sample_mel_log,-1).numpy())\n",
    "axis[1].set_title('Mel scale frequency and log scale amplitude')\n",
    "#\n",
    "fig.tight_layout()\n",
    "plt.show()"
   ]
  },
  {
   "cell_type": "markdown",
   "id": "dd8dddd9-cce1-4443-b0d7-66ae40168e93",
   "metadata": {
    "tags": []
   },
   "source": [
    "### Augmentation\n",
    "\n",
    "We have a few straightforward options to augment our samples:\n",
    "\n",
    "    - Fade in/out (similar to applying a Hann window)\n",
    "    - Time masking (simulating a lapse in signal/connection)\n",
    "    - Frequency masking (for spectrograms)\n",
    "    - Background noise augmentation\n",
    "\n",
    "Some of these are implemented in [tfio.audio](https://www.tensorflow.org/io/api_docs/python/tfio/audio) module, along with functions for loading audio waves and converting them to spectrograms with different scalings. We did not use tfio since its support for channels is somewhat patchy. \n",
    "\n",
    "Lastly, we can utilize the (limited number of) samples of background noise in the speech commands dataset for augmentation by randomly adding background noise to our samples during training."
   ]
  },
  {
   "cell_type": "code",
   "execution_count": 20,
   "id": "d7ae1abb-edb6-4b03-8d50-6a663727e80f",
   "metadata": {},
   "outputs": [
    {
     "name": "stdout",
     "output_type": "stream",
     "text": [
      "Number of independent noise samples = 398\n"
     ]
    }
   ],
   "source": [
    "# First load the noise samples, split them to 1s samples and concatenate along a new axis.\n",
    "bg_noise_samples = []\n",
    "for path in bg_noise_paths:\n",
    "    x = tf.audio.decode_wav(tf.io.read_file(path))[0]\n",
    "    x = tf.slice(x, [0,0], [16000*(x.shape[0]//16000),1])\n",
    "    x = tf.split(x, x.shape[0]//16000, axis=0)\n",
    "    bg_noise_samples += x\n",
    "#\n",
    "bg_noise_samples = tf.convert_to_tensor(bg_noise_samples)\n",
    "#\n",
    "print('Number of independent noise samples =', bg_noise_samples.shape[0])"
   ]
  },
  {
   "cell_type": "code",
   "execution_count": 21,
   "id": "ecfc104b-2cb3-4c40-b4db-f45d6530a32b",
   "metadata": {},
   "outputs": [],
   "source": [
    "# Define a function to randomly select floor(rate*batch_size) number of noise samples\n",
    "# and scatter them along the batch axis of a mostly 0 tensor.\n",
    "#\n",
    "def random_noise_sampler(rate, noise_samples, batch_size=128):\n",
    "    \"\"\"Generates a tensor of shape(batch_size, noise_samples.shape[1:]) by randomly\n",
    "    sampling floor(rate*batch_size) number of samples from 'noise_samples' and\n",
    "    scattering them along the batch axis. The arguments are:\n",
    "    'rate' is a number between 0 and 1,\n",
    "    'noise_samples' is a rank 3 tf.tensor with the format (count, length, channels)\n",
    "    'batch_size' specifies output.shape[0].        \n",
    "    \"\"\"\n",
    "    r = int(rate*batch_size)\n",
    "    # Generate 'r' number of indicies to select from 'noise_samples'\n",
    "    p = tf.random.uniform(shape=(r,),\n",
    "                          minval=0,\n",
    "                          maxval=noise_samples.shape[0]-1,\n",
    "                          dtype=tf.int32)\n",
    "    # Gather 'r' samples, pad to reach shape[0]=batch_size and shuffle along\n",
    "    # the batch axis before returning.\n",
    "    return tf.random.shuffle(tf.pad(tf.gather(noise_samples, p),\n",
    "                                    tf.constant([[0,batch_size-r],[0,0],[0,0]])))"
   ]
  },
  {
   "cell_type": "code",
   "execution_count": 22,
   "id": "c9caa713-42dd-4065-bde7-fba77ec2f5ba",
   "metadata": {},
   "outputs": [],
   "source": [
    "# Create a customized Layer to augment waveforms during training.\n",
    "#\n",
    "class Noise_augment(keras.layers.Layer):\n",
    "    \"\"\"Adds noise, selected from a provided set of noise samples, to input audio waveform\n",
    "    during training. Subclass of 'keras.layers.Layer'. Takes the following arguments to\n",
    "    initialize:\n",
    "    'rate' is a number between 0 and 1,\n",
    "    'noise_samples' is a rank 3 tf.tensor with the format (count, length, channels),\n",
    "    constraint: noise_samples.shape[1,2] = input_shape.\n",
    "    \"\"\"\n",
    "    def __init__(self, rate, noise_samples, **kwargs):\n",
    "        super().__init__(**kwargs)\n",
    "        #\n",
    "        self.rate = rate\n",
    "        self.noise_samples = noise_samples\n",
    "        #\n",
    "    def call(self, inputs, batch_size = 128, training=False):\n",
    "        # Only add noise during training and if rate>0.\n",
    "        if training and self.rate > 1/(batch_size+1):\n",
    "            return tf.add(inputs,\n",
    "                          random_noise_sampler(rate = self.rate,\n",
    "                                               noise_samples = self.noise_samples,\n",
    "                                               batch_size = batch_size)\n",
    "                         )\n",
    "        return inputs\n",
    "    #\n",
    "    def compute_output_shape(self, input_shape):\n",
    "        return input_shape"
   ]
  },
  {
   "cell_type": "markdown",
   "id": "c717dcb5-1ce3-4a53-894f-af0d15781690",
   "metadata": {
    "tags": []
   },
   "source": [
    "## Prepare data for training\n",
    "\n",
    "In order to feed our data to a training loop such as 'model.fit', there are two issues we need to address. First, our data labels are a set of strings which cannot be used directly. Thus we will vectorize the labels by assigning an index to each unique label.\n",
    "\n",
    "The second issue is that our audio dataset is potentially too large to bring to memory and has to be loaded in batches. To resolve this issue, we will utilize a Sequence object to batch-wise preload, feed and off-load the data.\n",
    "\n",
    "Alternatively we can use the built-in 'keras.utils.audio_ds_from_dir' which serves the same purpose."
   ]
  },
  {
   "cell_type": "markdown",
   "id": "37f9dd28-6a8b-4b67-8a08-2412cf657c44",
   "metadata": {
    "tags": []
   },
   "source": [
    "### Using keras.utils.Sequence"
   ]
  },
  {
   "cell_type": "code",
   "execution_count": 23,
   "id": "8ab4e995-8ab3-47e0-9246-8edbc99b4083",
   "metadata": {},
   "outputs": [
    {
     "data": {
      "text/plain": [
       "array([ 0,  1,  2,  3,  4,  5,  6,  7,  8,  9, 10, 11, 12, 13, 14, 15, 16,\n",
       "       17, 18, 19, 20, 21, 22, 23, 24, 25, 26, 27, 28, 29, 30, 31, 32, 33,\n",
       "       34])"
      ]
     },
     "execution_count": 23,
     "metadata": {},
     "output_type": "execute_result"
    }
   ],
   "source": [
    "# Vectorize the labels and create dictionaries to map the vectors\n",
    "# and labels.\n",
    "#\n",
    "labels_dict = {}\n",
    "labels_reverse_dict = {}\n",
    "for i, l in zip(np.arange(num_categories),np.unique(train_labels)):\n",
    "    labels_dict[l] = i\n",
    "    labels_reverse_dict[i] = l\n",
    "#\n",
    "# Convert the train and valid labels using labels_dict using the\n",
    "# following function:\n",
    "def vector_labels(labels, dictionary):\n",
    "    # returns [dictionary[label] for label in labels]\n",
    "    return np.vectorize(lambda label: dictionary[label])(labels)\n",
    "#\n",
    "train_labels = vector_labels(train_labels, labels_dict)\n",
    "valid_labels = vector_labels(valid_labels, labels_dict)\n",
    "#\n",
    "np.unique(train_labels)"
   ]
  },
  {
   "cell_type": "code",
   "execution_count": 24,
   "id": "2e3f8370-71b6-46fa-b171-9655e649b794",
   "metadata": {},
   "outputs": [],
   "source": [
    "# Specify the number of categories.\n",
    "try:\n",
    "    num_categories\n",
    "except:\n",
    "    num_categories = np.unique(train_labels).shape[0]\n",
    "#\n",
    "# Customize the sequence class to fetch speech commands samples.\n",
    "class audio_seq(keras.utils.Sequence):\n",
    "    # Subclass of keras.utils.Sequence used to generate data from\n",
    "    # a source (disk).\n",
    "    def __init__(self, file_paths, labels,\n",
    "                 num_classes = num_categories,\n",
    "                 batch_size = 128,\n",
    "                 sample_shape = (16000,1),\n",
    "                 shuffle_on_epoch_end = True):\n",
    "        \"\"\"Initializes the class.\n",
    "        'file_paths' points to the source of the data and \n",
    "        'labels' are the corresponding labels.\n",
    "        'num_classes' is the number of distinct classes.\n",
    "        'batch_size' is the number of samples per batch.\n",
    "        'sample_shape' is the shape of a single sample.\n",
    "        'shuffle_on_epoch_end' determines whether the data is \n",
    "        shuffled at the end of each epoch.\n",
    "        \"\"\"\n",
    "        #\n",
    "        super().__init__()\n",
    "        # Initializes by calling the initializer of the parent class.\n",
    "        #\n",
    "        self.paths = file_paths\n",
    "        self.labels = labels\n",
    "        self.num_classes = num_classes\n",
    "        self.batch_size = batch_size\n",
    "        self.sample_shape = sample_shape\n",
    "        self.shuffle = shuffle_on_epoch_end\n",
    "        self.on_epoch_end()\n",
    "        #\n",
    "    def __len__(self):\n",
    "        # Determines the number of batches per epoch.\n",
    "        return int(self.paths.shape[0] // self.batch_size)\n",
    "        #\n",
    "    def __getitem__(self, idx):\n",
    "        # Loads a batch of data from source.\n",
    "        #\n",
    "        batch_paths = self.paths[self.batch_size * idx:\n",
    "                                 self.batch_size * (idx+1)]\n",
    "        batch_labels = self.labels[self.batch_size * idx:\n",
    "                                   self.batch_size * (idx+1)]\n",
    "        batch_samples = tf.zeros(shape=(0, self.sample_shape[0], self.sample_shape[1]),\n",
    "                                 dtype=tf.float32)\n",
    "        for path in batch_paths:\n",
    "            batch_samples = tf.concat([batch_samples,\n",
    "                                       tf.expand_dims(load_audio(path),0)],\n",
    "                                       axis=0)\n",
    "        #\n",
    "        return batch_samples, tf.cast(batch_labels, dtype = tf.int32)\n",
    "        #\n",
    "    def on_epoch_end(self):\n",
    "        # Shuffles the entire dataset after each epoch if on_epoch_end=True.\n",
    "        if self.shuffle:\n",
    "            self.paths, self.labels = shuffle(self.paths, self.labels)"
   ]
  },
  {
   "cell_type": "code",
   "execution_count": 25,
   "id": "8d5a5faa-df09-4c25-91e5-1441fe5cc1cc",
   "metadata": {},
   "outputs": [],
   "source": [
    "# Generate the train and validation datasets as Sequence objects.\n",
    "train_seq = audio_seq(train_paths, train_labels)\n",
    "valid_seq = audio_seq(valid_paths, valid_labels)"
   ]
  },
  {
   "cell_type": "code",
   "execution_count": 26,
   "id": "bb57f434-9216-4ea5-b081-0a3cff8f70a9",
   "metadata": {},
   "outputs": [
    {
     "name": "stdout",
     "output_type": "stream",
     "text": [
      "A batch of samples with shape = (128, 16000, 1)\n",
      "And the corresponding labels with shape = (128,)\n"
     ]
    }
   ],
   "source": [
    "# Here is a what train_seq returns when called in a training loop:\n",
    "for samples, labels in train_seq:\n",
    "    print('A batch of samples with shape = {}'.format(samples.shape))\n",
    "    print('And the corresponding labels with shape = {}'.format(labels.shape))\n",
    "    break"
   ]
  },
  {
   "cell_type": "markdown",
   "id": "68aef01c-cfde-4b88-bfdc-dafeaaa3e661",
   "metadata": {
    "jp-MarkdownHeadingCollapsed": true,
    "tags": []
   },
   "source": [
    "### Using keras.utils.audio_dataset_from_directory\n",
    "\n",
    "To fix: Broadcast issue when Noise_augment layer is present."
   ]
  },
  {
   "cell_type": "code",
   "execution_count": 34,
   "id": "71a47f0d-b4db-48a3-8e9d-5f4b014ff060",
   "metadata": {},
   "outputs": [],
   "source": [
    "# A more straight forward way to load our dataset is through\n",
    "# 'keras.utils.audio_dataset_from_directory'.\n",
    "# However, it offers less control over the process\n",
    "#\n",
    "# Import dependencies\n",
    "import tensorflow_io as tfio\n",
    "#\n",
    "def gen_audio_ds_from_dir(train_ds_dir):\n",
    "    \"\"\"Generates a 'tf.data.dataset' object from the directory\n",
    "    'train_ds_dir' with integer labels associated to the index\n",
    "    of the list 'audio_ds.class_names'.\"\"\"\n",
    "    audio_ds = tf.keras.utils.audio_dataset_from_directory(\n",
    "        directory = train_ds_dir,\n",
    "        labels = \"inferred\",\n",
    "        label_mode = \"int\",\n",
    "        class_names = None,\n",
    "        batch_size = 128,\n",
    "        sampling_rate = 16000,\n",
    "        output_sequence_length = 16000,\n",
    "        ragged = False,\n",
    "        shuffle = True,\n",
    "        seed = 248,\n",
    "        validation_split = 0.15,\n",
    "        subset = \"both\",\n",
    "        follow_links = False\n",
    "    )\n",
    "    return audio_ds"
   ]
  },
  {
   "cell_type": "code",
   "execution_count": 35,
   "id": "bd47c4ae-05a2-4d22-8e3c-6025a40ee068",
   "metadata": {},
   "outputs": [],
   "source": [
    "# To exclude the bg noise samples we need to move it away.\n",
    "!mv {home_dir+'/datasets/speech_commands_train/_background_noise_'} {home_dir+'/datasets/'}"
   ]
  },
  {
   "cell_type": "code",
   "execution_count": 39,
   "id": "2cc8d893-86a2-4d63-87bb-66124b61bbb9",
   "metadata": {},
   "outputs": [
    {
     "name": "stdout",
     "output_type": "stream",
     "text": [
      "Found 105829 files belonging to 35 classes.\n",
      "Using 89955 files for training.\n",
      "Using 15874 files for validation.\n",
      "WARNING:tensorflow:Using a while_loop for converting IO>AudioResample cause there is no registered converter for this op.\n",
      "WARNING:tensorflow:Using a while_loop for converting IO>AudioResample cause there is no registered converter for this op.\n",
      "Class names: ['backward' 'bed' 'bird' 'cat' 'dog' 'down' 'eight' 'five' 'follow'\n",
      " 'forward' 'four' 'go' 'happy' 'house' 'learn' 'left' 'marvin' 'nine' 'no'\n",
      " 'off' 'on' 'one' 'right' 'seven' 'sheila' 'six' 'stop' 'three' 'tree'\n",
      " 'two' 'up' 'visual' 'wow' 'yes' 'zero']\n"
     ]
    }
   ],
   "source": [
    "# Generate training and validation datasets\n",
    "#\n",
    "train_ds, valid_ds = gen_audio_ds_from_dir(train_ds_dir)\n",
    "#\n",
    "# Print the identified classes\n",
    "print(\"Class names:\", np.array(train_ds.class_names))"
   ]
  },
  {
   "cell_type": "markdown",
   "id": "a4c47175-ca25-45a0-bc27-28233d948c27",
   "metadata": {},
   "source": [
    "## Baseline models\n",
    "\n",
    "Before we modify a relatively large (YAMNet has over 3.7e6 trainable parameters) pretrained model to transfer to the speech commands dataset, let us build and train a few smaller models (~4e4 trainable parameters) to set a performance baseline."
   ]
  },
  {
   "cell_type": "code",
   "execution_count": 27,
   "id": "7f505875-6f61-4775-bfb5-78b7d5b31820",
   "metadata": {},
   "outputs": [],
   "source": [
    "# Create a dictionary to record traning history of our models.\n",
    "histories = {}"
   ]
  },
  {
   "cell_type": "markdown",
   "id": "17655796-e66b-4b21-bdf9-475eff03996c",
   "metadata": {
    "tags": []
   },
   "source": [
    "### Waveform baseline model"
   ]
  },
  {
   "cell_type": "code",
   "execution_count": 28,
   "id": "e78942c0-7222-4e6f-a94b-1bf37549c4c5",
   "metadata": {},
   "outputs": [],
   "source": [
    "# Specify the number of categories.\n",
    "try:\n",
    "    num_categories\n",
    "except:\n",
    "    num_categories = np.unique(train_labels).shape[0]\n",
    "#\n",
    "# Define a function that generates a simple 1D CNN model\n",
    "# for speech commands in wave format.\n",
    "def gen_baseline_wave_model(input_shape = (16000,1),\n",
    "                            noise_augment_rate = 0.0,\n",
    "                            noise_samples = bg_noise_samples,\n",
    "                            model_name = None):\n",
    "    # Generates a simple Conv1D model for the speech commands dataset.\n",
    "    # The default input is a rank 2 (+1 for the batch axis) wave tensor.\n",
    "    #\n",
    "    inputs = layers.Input(shape=input_shape)\n",
    "    # Include noise augmentation layer\n",
    "    x = Noise_augment(rate = noise_augment_rate,\n",
    "                      noise_samples = noise_samples)(inputs)\n",
    "    # Downsample the input waveform\n",
    "    x = layers.AveragePooling1D(2)(x)\n",
    "    x = layers.Conv1D(32, 16, 8, activation='relu')(x)\n",
    "    x = layers.MaxPooling1D(4)(x)\n",
    "    x = layers.Conv1D(64, 4, 2, activation='relu')(x)\n",
    "    x = layers.AveragePooling1D(8)(x)\n",
    "    x = layers.Flatten()(x)\n",
    "    x = layers.Dense(num_categories, activation='softmax')(x)\n",
    "    #\n",
    "    return keras.Model(inputs, x, name = model_name)"
   ]
  },
  {
   "cell_type": "code",
   "execution_count": 29,
   "id": "22384106-9040-447c-b110-d6b5fe9e0a5c",
   "metadata": {},
   "outputs": [
    {
     "name": "stdout",
     "output_type": "stream",
     "text": [
      "Model: \"baseline_0\"\n",
      "_________________________________________________________________\n",
      " Layer (type)                Output Shape              Param #   \n",
      "=================================================================\n",
      " input_1 (InputLayer)        [(None, 16000, 1)]        0         \n",
      "                                                                 \n",
      " noise_augment (Noise_augme  (None, 16000, 1)          0         \n",
      " nt)                                                             \n",
      "                                                                 \n",
      " average_pooling1d (Average  (None, 8000, 1)           0         \n",
      " Pooling1D)                                                      \n",
      "                                                                 \n",
      " conv1d (Conv1D)             (None, 999, 32)           544       \n",
      "                                                                 \n",
      " max_pooling1d (MaxPooling1  (None, 249, 32)           0         \n",
      " D)                                                              \n",
      "                                                                 \n",
      " conv1d_1 (Conv1D)           (None, 123, 64)           8256      \n",
      "                                                                 \n",
      " average_pooling1d_1 (Avera  (None, 15, 64)            0         \n",
      " gePooling1D)                                                    \n",
      "                                                                 \n",
      " flatten (Flatten)           (None, 960)               0         \n",
      "                                                                 \n",
      " dense (Dense)               (None, 35)                33635     \n",
      "                                                                 \n",
      "=================================================================\n",
      "Total params: 42435 (165.76 KB)\n",
      "Trainable params: 42435 (165.76 KB)\n",
      "Non-trainable params: 0 (0.00 Byte)\n",
      "_________________________________________________________________\n"
     ]
    }
   ],
   "source": [
    "# Choose the optimizer, loss function and metrics with which to compile the model.\n",
    "# We will choose 'sparse_categoriacal_crossentropy' as the loss function since the \n",
    "# labels are valued in range(num_categories) while the model outputs are one-hot encoded.\n",
    "optim0 = \"adam\"\n",
    "loss0 = \"sparse_categorical_crossentropy\"\n",
    "metrics0 = [\"accuracy\"]\n",
    "callb0 = [keras.callbacks.EarlyStopping(monitor='val_accuracy',\n",
    "                                        patience=3,\n",
    "                                        restore_best_weights=True)]\n",
    "#\n",
    "# Instantiate, build and compile the baseline model\n",
    "speech_commands_model_0 = gen_baseline_wave_model(model_name='baseline_0')\n",
    "speech_commands_model_0.build(input_shape=(16000,1))\n",
    "speech_commands_model_0.compile(optimizer=\"adam\",\n",
    "                                loss=\"sparse_categorical_crossentropy\",\n",
    "                                metrics=['accuracy'])\n",
    "#\n",
    "# Print model summary\n",
    "speech_commands_model_0.summary()"
   ]
  },
  {
   "cell_type": "code",
   "execution_count": null,
   "id": "21f54464-c319-4503-b367-6fa8e9c10501",
   "metadata": {},
   "outputs": [],
   "source": [
    "# Train the baseline model\n",
    "#\n",
    "history = speech_commands_model_0.fit(train_seq,\n",
    "                                      validation_data = valid_seq,\n",
    "                                      batch_size = 128,\n",
    "                                      epochs = 30,\n",
    "                                      callbacks = callb0,\n",
    "                                      verbose = 1)"
   ]
  },
  {
   "cell_type": "code",
   "execution_count": 52,
   "id": "8493ac45-149c-4ede-ae8c-3c78c41139c8",
   "metadata": {},
   "outputs": [],
   "source": [
    "# Record training history in histories.\n",
    "#\n",
    "histories['waveform_baseline_0'] = history"
   ]
  },
  {
   "cell_type": "code",
   "execution_count": 30,
   "id": "2d0adc63-1201-4a51-81b2-1c515bba8ab8",
   "metadata": {},
   "outputs": [],
   "source": [
    "# Save model wieghts\n",
    "#speech_commands_model_0.save_weights(\n",
    "#    home_dir+'/models/05_speech_commands/waveform_baseline_0.h5')\n",
    "#\n",
    "# Load node model weights (the provided weights are the result of ~30 \n",
    "# epochs of training)\n",
    "speech_commands_model_0.load_weights(\n",
    "    home_dir+'/models/05_speech_commands/waveform_baseline_0.h5')"
   ]
  },
  {
   "cell_type": "code",
   "execution_count": 59,
   "id": "1e998c6e-bf77-4c79-a7db-71221c288d04",
   "metadata": {},
   "outputs": [
    {
     "name": "stdout",
     "output_type": "stream",
     "text": [
      "124/124 [==============================] - 18s 145ms/step - loss: 1.0557 - accuracy: 0.7291\n"
     ]
    },
    {
     "data": {
      "text/plain": [
       "[1.055704951286316, 0.7291456460952759]"
      ]
     },
     "execution_count": 59,
     "metadata": {},
     "output_type": "execute_result"
    }
   ],
   "source": [
    "# Evaluate model performance on the validation dataset\n",
    "speech_commands_model_0.evaluate(valid_seq)"
   ]
  },
  {
   "cell_type": "markdown",
   "id": "82eb9208-2886-4557-ac3c-79baa09a0787",
   "metadata": {},
   "source": [
    "### Waveform baseline model with noise augmentation"
   ]
  },
  {
   "cell_type": "code",
   "execution_count": 32,
   "id": "14f4f8b6-b195-4dfa-9582-588a45d2a718",
   "metadata": {},
   "outputs": [],
   "source": [
    "# Generate a new model with noise augmentation\n",
    "speech_commands_model_0_wn = gen_baseline_wave_model(noise_augment_rate=0.2,\n",
    "                                                     model_name='baseline_0_wn')\n",
    "speech_commands_model_0_wn.build(input_shape=(16000,1))\n",
    "speech_commands_model_0_wn.compile(optimizer=\"adam\",\n",
    "                                   loss=\"sparse_categorical_crossentropy\",\n",
    "                                   metrics=['accuracy'])\n",
    "#\n",
    "# Print model summary\n",
    "#speech_commands_model_0_wn.summary()"
   ]
  },
  {
   "cell_type": "code",
   "execution_count": null,
   "id": "0ae54e93-e814-4171-8c10-5d3af3604bbb",
   "metadata": {},
   "outputs": [],
   "source": [
    "# Train the new baseline model\n",
    "#\n",
    "history = speech_commands_model_0_wn.fit(train_seq,\n",
    "                                         validation_data = valid_seq,\n",
    "                                         batch_size = 128,\n",
    "                                         epochs = 30,\n",
    "                                         callbacks = callb0,\n",
    "                                         verbose = 1)"
   ]
  },
  {
   "cell_type": "code",
   "execution_count": null,
   "id": "ff314f7b-50d9-4010-8d42-7018576a8fcd",
   "metadata": {},
   "outputs": [],
   "source": [
    "# Record training history in 'histories'.\n",
    "histories['waveform_baseline_0_wn'] = history"
   ]
  },
  {
   "cell_type": "code",
   "execution_count": 33,
   "id": "492dc5ac-b871-4872-8814-45f8a3b85254",
   "metadata": {},
   "outputs": [],
   "source": [
    "# Save model wieghts\n",
    "#speech_commands_model_0_wn.save_weights(\n",
    "#    home_dir+'/models/05_speech_commands/waveform_baseline_0_wn.h5')\n",
    "#\n",
    "# Load node model weights\n",
    "speech_commands_model_0_wn.load_weights(\n",
    "    home_dir+'/models/05_speech_commands/waveform_baseline_0_wn.h5')"
   ]
  },
  {
   "cell_type": "code",
   "execution_count": 57,
   "id": "174e9b33-4d7f-4f27-a325-9c7edfacb69a",
   "metadata": {},
   "outputs": [
    {
     "name": "stdout",
     "output_type": "stream",
     "text": [
      "124/124 [==============================] - 14s 114ms/step - loss: 0.8916 - accuracy: 0.7685\n"
     ]
    },
    {
     "data": {
      "text/plain": [
       "[0.8916088938713074, 0.7684601545333862]"
      ]
     },
     "execution_count": 57,
     "metadata": {},
     "output_type": "execute_result"
    }
   ],
   "source": [
    "# Evaluate model performance on the validation dataset\n",
    "speech_commands_model_0_wn.evaluate(valid_seq)"
   ]
  },
  {
   "cell_type": "markdown",
   "id": "bc08ceac-1a83-4f35-af76-6f97e428238a",
   "metadata": {
    "tags": []
   },
   "source": [
    "### Spectrogram baseline model"
   ]
  },
  {
   "cell_type": "code",
   "execution_count": 35,
   "id": "adfff32a-25db-44d3-b336-5656607e90d2",
   "metadata": {},
   "outputs": [],
   "source": [
    "# Specify the number of categories.\n",
    "try:\n",
    "    num_categories\n",
    "except:\n",
    "    num_categories = np.unique(train_labels).shape[0]\n",
    "#\n",
    "# Defome a function to convert waveforms into log-amp scale, mel-scale\n",
    "# spectrograms with fixed parameters.\n",
    "def waveform_to_spectrogram(samples):\n",
    "    # Converts a batch of waveform audio samples to spectrograms with\n",
    "    # logarithmic amplitude scaling and mel scaling for frequencies.\n",
    "    #\n",
    "    samples = get_spectrogram(samples, window=1023, stride=256, fts=1024)\n",
    "    samples = mel_spectrogram(samples, window=1023, stride=256, fts=1024,\n",
    "                              mel_bins=128, min_f=50, max_f=3000)\n",
    "    return log_spectrogram(samples)\n",
    "#\n",
    "# Define a function that generates a simple 2D CNN model\n",
    "# for speech commands in spectrogram form.\n",
    "def gen_baseline_spectrogram_model(input_shape = (16000,1),\n",
    "                                   noise_augment_rate = 0.0,\n",
    "                                   noise_samples = bg_noise_samples,\n",
    "                                   model_name = None):\n",
    "    # Generates a simple Conv2D model for the speech commands dataset.\n",
    "    # The default input is a rank 2 (+1 for the batch axis) wave tensor\n",
    "    # which we convert to spectrogram using a lambda layer.\n",
    "    #\n",
    "    inputs = layers.Input(shape=input_shape)\n",
    "    x = Noise_augment(rate = noise_augment_rate,\n",
    "                      noise_samples = noise_samples)(inputs)\n",
    "    x = layers.Lambda(waveform_to_spectrogram,\n",
    "                      output_shape = (128,59,1))(x)\n",
    "    x = layers.Conv2D(8, 8, 2, activation='relu')(x)\n",
    "    x = layers.MaxPooling2D(2)(x)\n",
    "    x = layers.Conv2D(16, 4, 2, activation='relu')(x)\n",
    "    x = layers.Flatten()(x)\n",
    "    x = layers.Dense(num_categories, activation='softmax')(x)\n",
    "    #\n",
    "    return keras.Model(inputs, x, name = model_name)"
   ]
  },
  {
   "cell_type": "code",
   "execution_count": 36,
   "id": "f0a81fd5-5ce7-4515-a596-b889e8b190f2",
   "metadata": {},
   "outputs": [
    {
     "name": "stdout",
     "output_type": "stream",
     "text": [
      "Model: \"baseline_1\"\n",
      "_________________________________________________________________\n",
      " Layer (type)                Output Shape              Param #   \n",
      "=================================================================\n",
      " input_3 (InputLayer)        [(None, 16000, 1)]        0         \n",
      "                                                                 \n",
      " noise_augment_2 (Noise_aug  (None, 16000, 1)          0         \n",
      " ment)                                                           \n",
      "                                                                 \n",
      " lambda (Lambda)             (None, 128, 59, 1)        0         \n",
      "                                                                 \n",
      " conv2d (Conv2D)             (None, 61, 26, 8)         520       \n",
      "                                                                 \n",
      " max_pooling2d (MaxPooling2  (None, 30, 13, 8)         0         \n",
      " D)                                                              \n",
      "                                                                 \n",
      " conv2d_1 (Conv2D)           (None, 14, 5, 16)         2064      \n",
      "                                                                 \n",
      " flatten_2 (Flatten)         (None, 1120)              0         \n",
      "                                                                 \n",
      " dense_2 (Dense)             (None, 35)                39235     \n",
      "                                                                 \n",
      "=================================================================\n",
      "Total params: 41819 (163.36 KB)\n",
      "Trainable params: 41819 (163.36 KB)\n",
      "Non-trainable params: 0 (0.00 Byte)\n",
      "_________________________________________________________________\n"
     ]
    }
   ],
   "source": [
    "# We shall use the same functions to compile the model as the\n",
    "# waveform baseline model.\n",
    "#optim0 = \"adam\"\n",
    "#loss0 = \"sparse_categorical_crossentropy\"\n",
    "#metrics0 = [\"accuracy\"]\n",
    "#callb0 = [keras.callbacks.EarlyStopping(monitor='val_accuracy',\n",
    "#                                        patience=3,\n",
    "#                                        restore_best_weights=True)]\n",
    "#\n",
    "# Instantiate, build and compile the baseline model\n",
    "speech_commands_model_1 = gen_baseline_spectrogram_model(noise_augment_rate=0.15,\n",
    "                                                         model_name='baseline_1')\n",
    "speech_commands_model_1.build(input_shape=(1,16000,))\n",
    "speech_commands_model_1.compile(optimizer=\"adam\",\n",
    "                                loss=\"sparse_categorical_crossentropy\",\n",
    "                                metrics=['accuracy'])\n",
    "#\n",
    "# Print model summary\n",
    "speech_commands_model_1.summary()"
   ]
  },
  {
   "cell_type": "code",
   "execution_count": null,
   "id": "5e45cb8e-0ee8-4eb6-9aa3-1afdf83d4437",
   "metadata": {},
   "outputs": [],
   "source": [
    "# Train the baseline model\n",
    "#\n",
    "history = speech_commands_model_1.fit(train_seq,\n",
    "                                      validation_data = valid_seq,\n",
    "                                      batch_size = 128,\n",
    "                                      epochs = 10,\n",
    "                                      callbacks = callb0,\n",
    "                                      verbose = 1)"
   ]
  },
  {
   "cell_type": "code",
   "execution_count": 78,
   "id": "c16e6c61-9558-425c-8ee9-d2bdeb63fffb",
   "metadata": {},
   "outputs": [],
   "source": [
    "# Record training history in 'histories'.\n",
    "histories['sg_baseline_0'] = history"
   ]
  },
  {
   "cell_type": "code",
   "execution_count": 37,
   "id": "4187648f-8f20-4db6-a096-9b6a082fd876",
   "metadata": {},
   "outputs": [],
   "source": [
    "# Save model wieghts\n",
    "#speech_commands_model_1.save_weights(\n",
    "#    home_dir+'/models/05_speech_commands/spectrogram_baseline_0.h5')\n",
    "#\n",
    "# Load node model weights (the provided weights are the result of ~10\n",
    "# epochs of training.)\n",
    "speech_commands_model_1.load_weights(\n",
    "    home_dir+'/models/05_speech_commands/spectrogram_baseline_0.h5')"
   ]
  },
  {
   "cell_type": "code",
   "execution_count": 58,
   "id": "791dfffd-0310-46ca-9759-250b13f79f3b",
   "metadata": {},
   "outputs": [
    {
     "name": "stdout",
     "output_type": "stream",
     "text": [
      "124/124 [==============================] - 16s 131ms/step - loss: 0.5729 - accuracy: 0.8336\n"
     ]
    },
    {
     "data": {
      "text/plain": [
       "[0.5728774666786194, 0.8336063623428345]"
      ]
     },
     "execution_count": 58,
     "metadata": {},
     "output_type": "execute_result"
    }
   ],
   "source": [
    "# Evaluate model performance on the validation dataset\n",
    "speech_commands_model_1.evaluate(valid_seq)"
   ]
  },
  {
   "cell_type": "markdown",
   "id": "2bcbbe6f-989a-4248-8b34-849131fc5b76",
   "metadata": {},
   "source": [
    "## Transfer learning using the pretrained YAMNet model\n",
    "\n",
    "Now that we have a set the performance baseline (~83% validation accuracy), we are ready to utilize transfer learning and take full advantage of the time and resources used to train YAMNet."
   ]
  },
  {
   "cell_type": "markdown",
   "id": "e1615cf4-2e89-4c2e-a05b-ac0c9b9b7756",
   "metadata": {
    "tags": []
   },
   "source": [
    "### YAMNet model setup"
   ]
  },
  {
   "cell_type": "code",
   "execution_count": null,
   "id": "537116f7-68e0-43d6-ba4a-287d183115ea",
   "metadata": {},
   "outputs": [],
   "source": [
    "# Import YAMNet model from the git repository\n",
    "if not os.path.exists(home_dir+'tmp'):\n",
    "    os.mkdir('tmp')\n",
    "#\n",
    "# Check if the repository is present or clashes with current folders.\n",
    "if os.path.exists(home_dir+'/tmp/models'):\n",
    "    raise ValueError(\"~/tmp/models already exists!\")\n",
    "#\n",
    "# clone git repository in the tmp folder\n",
    "%cd tmp\n",
    "!git clone https://github.com/tensorflow/models.git"
   ]
  },
  {
   "cell_type": "code",
   "execution_count": null,
   "id": "ccf95ffc-4416-4334-a808-c29141528692",
   "metadata": {},
   "outputs": [],
   "source": [
    "%cd {home_dir+'/tmp/models/research/audioset/yamnet'}\n",
    "#\n",
    "# Import yamnet python files\n",
    "import params as yamnet_params\n",
    "import yamnet as yamnet_model"
   ]
  },
  {
   "cell_type": "code",
   "execution_count": null,
   "id": "0afc73a3-572e-46aa-9e70-2501c5e953f1",
   "metadata": {},
   "outputs": [],
   "source": [
    "# Check if the saved model weights file has been download previously.\n",
    "if os.path.exists('yamnet.h5'):\n",
    "    raise ValueError(\"File exists already!\")\n",
    "#\n",
    "# Download the pretrained model:\n",
    "tf.keras.utils.get_file('yamnet.h5',\n",
    "                        'https://storage.googleapis.com/audioset/yamnet.h5',\n",
    "                        cache_subdir=os.getcwd())"
   ]
  },
  {
   "cell_type": "code",
   "execution_count": 96,
   "id": "f3bd2a80-425a-44f3-9438-9af53298eb2f",
   "metadata": {},
   "outputs": [],
   "source": [
    "# Pretrained YAMNet model setup:\n",
    "#\n",
    "# List of class names for the original pretrained model\n",
    "yamnet_class_names = yamnet_model.class_names('yamnet_class_map.csv')\n",
    "#\n",
    "# Specify model parameters:\n",
    "#  'sample_rate': Expected sample rate of input waveforms.\n",
    "#  'patch_hop_seconds': Duration between patches.\n",
    "#  'patch_window_seconds': Duration of each patch.\n",
    "# Note: yamnet accepts inputs of variable length and breaks\n",
    "# them into (overlapping) patches of fixed length.\n",
    "params = yamnet_params.Params(sample_rate=16000,\n",
    "                              patch_hop_seconds = 1.0,\n",
    "                              patch_window_seconds = 1.0)\n",
    "#\n",
    "# Import model architecture:\n",
    "yamnet = yamnet_model.yamnet_frames_model(params)\n",
    "#\n",
    "# Import model weights:\n",
    "yamnet.load_weights('yamnet.h5')"
   ]
  },
  {
   "cell_type": "code",
   "execution_count": 97,
   "id": "571e13c9-4658-4b60-88e9-9dc1112ed191",
   "metadata": {},
   "outputs": [
    {
     "name": "stdout",
     "output_type": "stream",
     "text": [
      "batchnorm_center =  True\n",
      "batchnorm_epsilon =  0.0001\n",
      "batchnorm_scale =  False\n",
      "classifier_activation =  sigmoid\n",
      "conv_padding =  same\n",
      "log_offset =  0.001\n",
      "mel_bands =  64\n",
      "mel_max_hz =  7500.0\n",
      "mel_min_hz =  125.0\n",
      "num_classes =  521\n",
      "patch_bands =  64\n",
      "patch_frames =  100\n",
      "patch_hop_seconds =  1.0\n",
      "patch_window_seconds =  1.0\n",
      "sample_rate =  16000\n",
      "stft_hop_seconds =  0.01\n",
      "stft_window_seconds =  0.025\n",
      "tflite_compatible =  False\n"
     ]
    }
   ],
   "source": [
    "# Print the current model parameters.\n",
    "for p in dir(params):\n",
    "    if p[0] != '_':\n",
    "        print(p+\" = \", eval('params.'+p))"
   ]
  },
  {
   "cell_type": "code",
   "execution_count": 98,
   "id": "8ecbf8a7-4dd8-4410-a076-d9bf217bb204",
   "metadata": {},
   "outputs": [
    {
     "name": "stdout",
     "output_type": "stream",
     "text": [
      "Model predictions shape:  (1, 521)\n",
      "Patch shape:  (1, 1024)\n",
      "Spectrogram shape:  (100, 64)\n"
     ]
    }
   ],
   "source": [
    "# Sample output\n",
    "# Note: yamnet expects inputs without the channels axis.\n",
    "sample_output = yamnet(tf.squeeze(sample_audio,-1))\n",
    "#\n",
    "print('Model predictions shape: ', sample_output[0].shape)\n",
    "print('Patch shape: ', sample_output[1].shape)\n",
    "print('Spectrogram shape: ', sample_output[2].shape)"
   ]
  },
  {
   "cell_type": "code",
   "execution_count": null,
   "id": "7de581b3-1dc8-4862-8056-3ec0ecf37def",
   "metadata": {},
   "outputs": [],
   "source": [
    "# You can print out the model summary to get an idea of the scale\n",
    "# of the model and its architecture.\n",
    "yamnet.summary()"
   ]
  },
  {
   "cell_type": "code",
   "execution_count": 99,
   "id": "48009b17-b923-4eba-98b1-1b93dc5d4948",
   "metadata": {},
   "outputs": [
    {
     "name": "stdout",
     "output_type": "stream",
     "text": [
      "Input shape = (None,)\n",
      "Output shape = [(None, 521), (None, 1024), (None, 64)]\n",
      "Number of layers = 106\n",
      "Number of trainable parameters = 3729481\n"
     ]
    }
   ],
   "source": [
    "# Here is a reduced summary of the model:\n",
    "print('Input shape =', yamnet.input_shape)\n",
    "print('Output shape =', yamnet.output_shape)\n",
    "print('Number of layers =', len(yamnet.layers))\n",
    "print('Number of trainable parameters =',\n",
    "      np.sum([keras.backend.count_params(p) for p in yamnet.trainable_variables]))"
   ]
  },
  {
   "cell_type": "markdown",
   "id": "5507c05c-1ca3-4e0a-98b0-72be2d28d770",
   "metadata": {},
   "source": [
    "### Transfer learning with minimal training\n",
    "\n",
    "Broadly speaking, the task of the initial layers of a DNN is to recognize 'surface-level' features while, as we delve deeper, the learned features become more and more abstract. The deeper the layer, the more abstract the features, and more domain specific!\n",
    "\n",
    "Thus, when transfering a pretrained model from one domain to another, we need to figure out at what 'depth' the features of the two domains start diverging. That is to say, we need to decide the extend to which we retrain the model in the new domain.\n",
    "\n",
    "The two extremes are the most straightforward: At one extreme, and the least resource-hungry option, is to only re-calibrate the model. This boils down to replacing the last trainable layer of the pretrained model and only training this layer with the rest of the model parameters completely frozen.\n",
    "\n",
    "The opposite extreme is to retrain the entire model.\n",
    "\n",
    "Lets try the simplest case of replacing and training only the last trainable layer."
   ]
  },
  {
   "cell_type": "code",
   "execution_count": 44,
   "id": "a3b86258-42bd-4c75-a66d-64154baddfe0",
   "metadata": {},
   "outputs": [
    {
     "name": "stdout",
     "output_type": "stream",
     "text": [
      "Input of the last trainable layer has shape = (None, 1024)\n"
     ]
    }
   ],
   "source": [
    "# yamnet.layers[-2] is the last trainable layer of yamnet.\n",
    "# To replace it, we need to know its input_shape:\n",
    "print('Input of the last trainable layer has shape =',\n",
    "      yamnet.layers[-2].input_shape)"
   ]
  },
  {
   "cell_type": "code",
   "execution_count": 45,
   "id": "638a46cf-5b84-480a-8791-4705047d16b9",
   "metadata": {},
   "outputs": [
    {
     "name": "stdout",
     "output_type": "stream",
     "text": [
      "Number of distinct classes = 35\n"
     ]
    }
   ],
   "source": [
    "# Recall that speech commands has 35 distinct commands:\n",
    "print('Number of distinct classes =', num_categories)"
   ]
  },
  {
   "cell_type": "code",
   "execution_count": 46,
   "id": "667308d6-e55a-4afc-8dd2-2f9405992b93",
   "metadata": {},
   "outputs": [],
   "source": [
    "# Define a function to flatten the input batch into a\n",
    "# 1D tensor. (Recall that yamnet takes as input a 1D\n",
    "# tensor which it segments to a batch of 1D tensors.)\n",
    "#\n",
    "def yamnet_input_reshape_model(r = 0.2,\n",
    "                               noise = bg_noise_samples):\n",
    "    \"\"\"Generates a model that first applies noise augmentation\n",
    "    by randomly adding noise from a specified source to the inputs.\n",
    "    The model then flattens the resulting input with\n",
    "        input_shape = (batch_size,16000,1) \n",
    "    along the batch axis:\n",
    "        output_shape = (batch_size*16000,)\n",
    "    'r' specifies the ratio of augmented samples per batch.\n",
    "    'noise' points to a set of preloaded noise samples.\n",
    "    \"\"\"        \n",
    "    inputs = layers.Input(shape=(16000,1))\n",
    "    # Add noise augmentation layer here.\n",
    "    output = Noise_augment(rate = r,\n",
    "                           noise_samples = noise)(inputs)\n",
    "    output = tf.reshape(output, (-1,))\n",
    "    return keras.Model(inputs, output)\n",
    "#\n",
    "# Define a function to generate a model by shaving off\n",
    "# the last few layers of yamnet.\n",
    "#\n",
    "def truncated_yamnet_model(yn_model = yamnet, t_len = 104):\n",
    "    \"\"\"Generates a truncated version of a pretrained yamnet model \n",
    "    with the last (106-truncated_len) layers removed.\n",
    "    'yn_model' points to a preloaded yamnet model.\n",
    "    't_len' specifies the number of layers after truncation.\n",
    "    (t_len < 106 = len(yamnet.layers) )\n",
    "    \"\"\"\n",
    "    inputs = yn_model.input\n",
    "    output = yn_model.layers[t_len - 1].output\n",
    "    return keras.Model(inputs, output)\n",
    "#\n",
    "# Define a function to generate the new set of last layers to\n",
    "# attach to the truncated yamnet model.\n",
    "#\n",
    "def speech_commands_classifier(inputs, num_classes = num_categories):\n",
    "    \"\"\"Generates a classification module for the speech commands dataset\n",
    "    which can be attached to a truncated pretrained model.\n",
    "    'inputs' is expected to have shape = (batch_size, None)\n",
    "    'num_classes' determines output_shape = (batch_size, num_classes)\n",
    "    \"\"\"\n",
    "    x = layers.Dense(num_classes)(inputs)\n",
    "    x = layers.Softmax(axis=-1)(x)\n",
    "    #\n",
    "    return x\n",
    "#\n",
    "# Define a function to generate our new model by attaching \n",
    "# the 'reshape_model' to the surface, and the new classifier\n",
    "# to the depth of truncated yamnet model.\n",
    "#\n",
    "def transferred_yamnet_model(num_classes = num_categories,\n",
    "                             rate = 0.2,\n",
    "                             noise_samples = bg_noise_samples,\n",
    "                             yamnet_model = yamnet,\n",
    "                             truncated_len = 104,\n",
    "                             model_name = None):\n",
    "    \"\"\"Generates a model that sequentially connects 3 modules:\n",
    "    module_1: Input-Augment-Reshape model ('yamnet_input_reshape_model')\n",
    "    module_2: Truncated YAMNet model ('truncated_yamnet_model')\n",
    "    module_3: New domain classifier layers ('speech_commands_classifier').\n",
    "    \"\"\"\n",
    "    inputs = layers.Input(shape=(16000,1))\n",
    "    #\n",
    "    x = yamnet_input_reshape_model(r = rate,\n",
    "                                   noise = noise_samples)(inputs)\n",
    "    x = truncated_yamnet_model(yn_model = yamnet_model,\n",
    "                               t_len = truncated_len)(x)\n",
    "    #    \n",
    "    x = speech_commands_classifier(inputs = x, num_classes = num_classes)\n",
    "    #\n",
    "    return keras.Model(inputs, x, name = model_name)"
   ]
  },
  {
   "cell_type": "code",
   "execution_count": 141,
   "id": "11c8ec06-37de-4519-9f92-1511baed2d20",
   "metadata": {},
   "outputs": [
    {
     "name": "stdout",
     "output_type": "stream",
     "text": [
      "Number of trainable parameters = 35875\n"
     ]
    }
   ],
   "source": [
    "# Specify the optimizer, loss, metrics and callbacks to use for training.\n",
    "optim0 = \"adam\"\n",
    "loss0 = \"sparse_categorical_crossentropy\"\n",
    "metrics0 = [\"accuracy\"]\n",
    "callb0 = [keras.callbacks.EarlyStopping(monitor='val_accuracy',\n",
    "                                        patience=5,\n",
    "                                        restore_best_weights=True)]\n",
    "#\n",
    "# Instantiate, compile and build the new model\n",
    "transferred_yamnet_0 = transferred_yamnet_model(num_classes = num_categories,\n",
    "                                                rate = 0.2,\n",
    "                                                noise_samples = bg_noise_samples,\n",
    "                                                yamnet_model = yamnet,\n",
    "                                                truncated_len = 104,\n",
    "                                                model_name='yamnet_0')\n",
    "#\n",
    "transferred_yamnet_0.build(input_shape=(16000,1))\n",
    "#\n",
    "transferred_yamnet_0.compile(optimizer=\"adam\",\n",
    "                             loss=\"sparse_categorical_crossentropy\",\n",
    "                             metrics=['accuracy'])\n",
    "#\n",
    "# You can also build the model with a simple call.\n",
    "#transferred_yamnet_0(tf.squeeze(sample_audio));\n",
    "#\n",
    "# Freeze all pre-trained layers\n",
    "frozen_layers = []\n",
    "for i in range(len(yamnet.layers)):\n",
    "    if yamnet.layers[i].trainable:\n",
    "        frozen_layers.append(i)\n",
    "        yamnet.layers[i].trainable = False\n",
    "#\n",
    "# Print the number of trainable parameters of the model.\n",
    "print('Number of trainable parameters =',\n",
    "      np.sum([keras.backend.count_params(p) for p in transferred_yamnet_0.trainable_variables]))"
   ]
  },
  {
   "cell_type": "code",
   "execution_count": null,
   "id": "43b8d3ca-7b69-483b-ad16-33cb89433506",
   "metadata": {},
   "outputs": [],
   "source": [
    "# Train the new model\n",
    "#\n",
    "history = transferred_yamnet_0.fit(train_seq,\n",
    "                                   validation_data=valid_seq,\n",
    "                                   batch_size = 128,\n",
    "                                   epochs = 15,\n",
    "                                   callbacks = callb0,\n",
    "                                   verbose = 1)"
   ]
  },
  {
   "cell_type": "code",
   "execution_count": 90,
   "id": "440d531c-46b6-42b4-8abf-d66d3f6b998a",
   "metadata": {},
   "outputs": [],
   "source": [
    "# Record training history in 'histories'.\n",
    "histories['yamnet-2_0'] = history"
   ]
  },
  {
   "cell_type": "code",
   "execution_count": 142,
   "id": "f8116bb5-a58b-4b8f-9d5d-463bcfbe034c",
   "metadata": {},
   "outputs": [],
   "source": [
    "# Save model wieghts\n",
    "#transferred_yamnet_0.save_weights(\n",
    "#    home_dir+'/models/05_speech_commands/transferred_yamnet_0.h5')\n",
    "#\n",
    "# Load node model weights (the provided weights are the result of ~15 \n",
    "# epochs of training)\n",
    "transferred_yamnet_0.load_weights(\n",
    "    home_dir+'/models/05_speech_commands/transferred_yamnet_0.h5')"
   ]
  },
  {
   "cell_type": "code",
   "execution_count": 62,
   "id": "34765add-e744-4dcc-8a58-d9f01e9755c8",
   "metadata": {},
   "outputs": [
    {
     "name": "stdout",
     "output_type": "stream",
     "text": [
      "124/124 [==============================] - 49s 396ms/step - loss: 0.1031 - accuracy: 0.9693\n"
     ]
    },
    {
     "data": {
      "text/plain": [
       "[0.10306055098772049, 0.9693170189857483]"
      ]
     },
     "execution_count": 62,
     "metadata": {},
     "output_type": "execute_result"
    }
   ],
   "source": [
    "# Evaluate model performance on the validation dataset\n",
    "transferred_yamnet_0.evaluate(valid_seq)"
   ]
  },
  {
   "cell_type": "markdown",
   "id": "985e2dba-1267-4fcb-90a7-4beb97d4a777",
   "metadata": {},
   "source": [
    "### Full model training\n",
    "\n",
    "With minimal training, the pretrained yamnet model with only the two final layers replaced, vastly outperforms our baseline models and breaks the 97% validation accuracy mark. We can still gain a slight edge by adjusting all the weights in the model with a few epochs of training the unrestricted model."
   ]
  },
  {
   "cell_type": "code",
   "execution_count": 144,
   "id": "a3f3f384-970b-42d6-8759-4efde12ae16e",
   "metadata": {},
   "outputs": [
    {
     "name": "stdout",
     "output_type": "stream",
     "text": [
      "Number of trainable parameters = 3231331\n"
     ]
    }
   ],
   "source": [
    "# Unfreeze the frozen trainable layers.\n",
    "for i in frozen_layers:\n",
    "    yamnet.layers[i].trainable = True\n",
    "#\n",
    "# Print the number of trainable parameters of the model.\n",
    "print('Number of trainable parameters =',\n",
    "      np.sum([keras.backend.count_params(p) for p in transferred_yamnet_0.trainable_variables]))"
   ]
  },
  {
   "cell_type": "code",
   "execution_count": null,
   "id": "5be91d8d-0988-4c73-97a1-3e754f29674c",
   "metadata": {},
   "outputs": [],
   "source": [
    "# Train the unfrozen model for a few more epochs.\n",
    "#\n",
    "history = transferred_yamnet_0.fit(train_seq,\n",
    "                                   validation_data=valid_seq,\n",
    "                                   batch_size = 128,\n",
    "                                   epochs = 1,\n",
    "                                   callbacks = callb0,\n",
    "                                   verbose = 1)"
   ]
  },
  {
   "cell_type": "code",
   "execution_count": null,
   "id": "90f83c09-81b0-42dc-8373-bd9b701467a0",
   "metadata": {},
   "outputs": [],
   "source": [
    "histories['yamnet-2_1'] = history"
   ]
  },
  {
   "cell_type": "code",
   "execution_count": 145,
   "id": "b847cb92-b1e0-44c9-969e-43b9f17d563b",
   "metadata": {},
   "outputs": [],
   "source": [
    "# Save model wieghts\n",
    "#transferred_yamnet_0.save_weights(\n",
    "#    home_dir+'/models/05_speech_commands/transferred_yamnet_1.h5')\n",
    "#\n",
    "# Load node model weights\n",
    "transferred_yamnet_0.load_weights(\n",
    "    home_dir+'/models/05_speech_commands/transferred_yamnet_1.h5')"
   ]
  },
  {
   "cell_type": "code",
   "execution_count": 66,
   "id": "8ee26bb0-acd6-42ae-80b0-210a51416526",
   "metadata": {},
   "outputs": [
    {
     "name": "stdout",
     "output_type": "stream",
     "text": [
      "124/124 [==============================] - 43s 344ms/step - loss: 0.0643 - accuracy: 0.9815\n"
     ]
    },
    {
     "data": {
      "text/plain": [
       "[0.0643388032913208, 0.9814768433570862]"
      ]
     },
     "execution_count": 66,
     "metadata": {},
     "output_type": "execute_result"
    }
   ],
   "source": [
    "# Evaluate model performance on the validation dataset\n",
    "transferred_yamnet_0.evaluate(valid_seq)"
   ]
  },
  {
   "cell_type": "markdown",
   "id": "4e9fa6da-83dc-4a52-9a71-090f0af6a926",
   "metadata": {},
   "source": [
    "### Middle-ground\n",
    "\n",
    "As you can see, retraining the full model does offer a marginal improvement in performance. However, this does not necessarily make retraining the full model the best choice. Just as the trained parameters of the deeper layers are more domain specific, so are the hyperparameters, i.e. the model architecture. "
   ]
  },
  {
   "cell_type": "code",
   "execution_count": 67,
   "id": "59399fe5-0dcf-4f17-a51a-7a7d72275b62",
   "metadata": {},
   "outputs": [],
   "source": [
    "# Reload yamnet weights and freeze pretrained layers.\n",
    "yamnet.load_weights('yamnet.h5')\n",
    "#\n",
    "frozen_layers = []\n",
    "for i in range(len(yamnet.layers)):\n",
    "    if yamnet.layers[i].trainable:\n",
    "        frozen_layers.append(i)\n",
    "        yamnet.layers[i].trainable = False"
   ]
  },
  {
   "cell_type": "code",
   "execution_count": 68,
   "id": "9f61a4ad-304c-4935-ac96-94274db79684",
   "metadata": {},
   "outputs": [
    {
     "name": "stdout",
     "output_type": "stream",
     "text": [
      "layer[66] (relu activation):\n",
      " {'name': 'layer8/pointwise_conv/relu', 'trainable': False, 'dtype': 'float32', 'max_value': None, 'negative_slope': array(0., dtype=float32), 'threshold': array(0., dtype=float32)}\n",
      "layer[66] output_shape = (None, 7, 4, 512)\n"
     ]
    }
   ],
   "source": [
    "print('layer[66] (relu activation):\\n', yamnet.layers[66].get_config())\n",
    "print('layer[66] output_shape =', yamnet.layers[66].output_shape)"
   ]
  },
  {
   "cell_type": "code",
   "execution_count": 69,
   "id": "f3d4096a-8a6e-4644-a7d2-0d7bf34ccb29",
   "metadata": {},
   "outputs": [],
   "source": [
    "# We need a new classifier module to attach to the yamnet model\n",
    "# truncated at layer[57].\n",
    "L66_output_shape = tuple([yamnet.layers[66].output_shape[i] for i in [1,2,3]])\n",
    "#\n",
    "def spch_cmmnds_classifier_66(inputs,\n",
    "                              input_shape = L66_output_shape,\n",
    "                              num_classes = num_categories):\n",
    "    \"\"\"Generates a classification module for the speech commands dataset\n",
    "    which can be attached to a truncated pretrained model. Assumes yamnet\n",
    "    has been truncated at the 58th layer (layer[57]).\n",
    "    'inputs' is expected output of the truncated yamnet\n",
    "    'input_shape' is expected to match yamnet.layers[57].output_shape[1:]\n",
    "    'num_classes' determines output_shape = (batch_size, num_classes)\n",
    "    \"\"\"\n",
    "    x = layers.Conv2D(512, 2, 1, padding='same')(inputs)\n",
    "    x = layers.ReLU()(x)\n",
    "    x = layers.MaxPooling2D(2)(x)\n",
    "    x = layers.Conv2D(512, 2, 1, padding='same')(x)\n",
    "    x = layers.ReLU()(x)\n",
    "    x = layers.MaxPooling2D(2)(x)\n",
    "    x = layers.Flatten()(x)\n",
    "    x = layers.Dense(num_classes)(x)\n",
    "    x = layers.Softmax(axis=-1)(x)\n",
    "    #\n",
    "    return x\n",
    "#\n",
    "# We also need a new function to glue our modules together.\n",
    "def transferred_yamn66_model(num_classes = num_categories,\n",
    "                             rate = 0.2,\n",
    "                             noise_samples = bg_noise_samples,\n",
    "                             yamnet_model = yamnet,\n",
    "                             truncated_len = 67,\n",
    "                             model_name = None):\n",
    "    \"\"\"Generates a model that sequentially connects 3 modules:\n",
    "    module_1: Input-Augment-Reshape model ('yamnet_input_reshape_model')\n",
    "    module_2: Truncated YAMNet model ('truncated_yamnet_model')\n",
    "    module_3: New domain classifier layers ('sc_classifier_66').\n",
    "    \"\"\"\n",
    "    inputs = layers.Input(shape=(16000,1))\n",
    "    #\n",
    "    x = yamnet_input_reshape_model(r = rate,\n",
    "                                   noise = noise_samples)(inputs)\n",
    "    x = truncated_yamnet_model(yn_model = yamnet_model,\n",
    "                               t_len = truncated_len)(x)\n",
    "    #    \n",
    "    x = spch_cmmnds_classifier_66(inputs = x,\n",
    "                                  input_shape = L66_output_shape,\n",
    "                                  num_classes = num_classes)\n",
    "    #\n",
    "    return keras.Model(inputs, x, name = model_name)"
   ]
  },
  {
   "cell_type": "code",
   "execution_count": 70,
   "id": "b83248f7-9f0f-4b00-b4f1-102d4598363a",
   "metadata": {},
   "outputs": [
    {
     "name": "stdout",
     "output_type": "stream",
     "text": [
      "Number of trainable parameters = 2116131\n"
     ]
    }
   ],
   "source": [
    "# Specify the optimizer, loss, metrics and callbacks to use for training.\n",
    "optim0 = \"adam\"\n",
    "loss0 = \"sparse_categorical_crossentropy\"\n",
    "metrics0 = [\"accuracy\"]\n",
    "callb0 = [keras.callbacks.EarlyStopping(monitor='val_accuracy',\n",
    "                                        patience=5,\n",
    "                                        restore_best_weights=True)]\n",
    "#\n",
    "# Instantiate, compile and build the new model\n",
    "transferred_yamnet_66 = transferred_yamn66_model(num_classes = num_categories,\n",
    "                                                 rate = 0.2,\n",
    "                                                 noise_samples = bg_noise_samples,\n",
    "                                                 yamnet_model = yamnet,\n",
    "                                                 truncated_len = 67,\n",
    "                                                 model_name='yamnet_66')\n",
    "#\n",
    "transferred_yamnet_66.build(input_shape=(16000,))\n",
    "#\n",
    "transferred_yamnet_66.compile(optimizer=\"adam\",\n",
    "                              loss=\"sparse_categorical_crossentropy\",\n",
    "                              metrics=['accuracy'])\n",
    "#\n",
    "# You can also build the model with a simple call.\n",
    "#transferred_yamnet_0(tf.squeeze(sample_audio));\n",
    "#\n",
    "# Print the number of trainable parameters of the model.\n",
    "print('Number of trainable parameters =',\n",
    "      np.sum([keras.backend.count_params(p) for p in transferred_yamnet_66.trainable_variables]))"
   ]
  },
  {
   "cell_type": "code",
   "execution_count": null,
   "id": "87ecc06a-3fc8-4719-a9e3-32d0dd3b335d",
   "metadata": {},
   "outputs": [],
   "source": [
    "# Train the unfrozen model for a few more epochs.\n",
    "#\n",
    "history = transferred_yamnet_66.fit(train_seq,\n",
    "                                    validation_data=valid_seq,\n",
    "                                    batch_size = 128,\n",
    "                                    epochs = 10,\n",
    "                                    callbacks = callb0,\n",
    "                                    verbose = 1)"
   ]
  },
  {
   "cell_type": "code",
   "execution_count": null,
   "id": "91f85447-9b9a-4f8a-86a7-99f914a7b7d9",
   "metadata": {},
   "outputs": [],
   "source": [
    "histories['yamnet_66'] = history"
   ]
  },
  {
   "cell_type": "code",
   "execution_count": 71,
   "id": "8962f697-4059-4996-84ba-08f726aa06aa",
   "metadata": {},
   "outputs": [],
   "source": [
    "# Save model wieghts\n",
    "#transferred_yamnet_66.save_weights(\n",
    "#    home_dir+'/models/05_speech_commands/transferred_yamnet_66.h5')\n",
    "#\n",
    "# Load node model weights (the provided weights are the result of ~25 \n",
    "# epochs of training)\n",
    "transferred_yamnet_66.load_weights(\n",
    "    home_dir+'/models/05_speech_commands/transferred_yamnet_66.h5')"
   ]
  },
  {
   "cell_type": "code",
   "execution_count": 72,
   "id": "6da7b414-2235-4986-938b-4eaa823a38b9",
   "metadata": {},
   "outputs": [
    {
     "name": "stdout",
     "output_type": "stream",
     "text": [
      "124/124 [==============================] - 26s 208ms/step - loss: 0.0998 - accuracy: 0.9795\n"
     ]
    },
    {
     "data": {
      "text/plain": [
       "[0.09984921663999557, 0.9794606566429138]"
      ]
     },
     "execution_count": 72,
     "metadata": {},
     "output_type": "execute_result"
    }
   ],
   "source": [
    "# Evaluate model performance on the validation dataset\n",
    "transferred_yamnet_66.evaluate(valid_seq)"
   ]
  },
  {
   "cell_type": "markdown",
   "id": "86669bc8-5956-47c5-9fa9-05a5900b7dd2",
   "metadata": {},
   "source": [
    "# Performance"
   ]
  },
  {
   "cell_type": "markdown",
   "id": "7fcb8a74-0a63-4fec-bc96-e9cde851d78a",
   "metadata": {},
   "source": [
    "## Import test dataset"
   ]
  },
  {
   "cell_type": "code",
   "execution_count": 173,
   "id": "d4024bae-7c2a-4af5-816f-28836b88df3b",
   "metadata": {},
   "outputs": [
    {
     "data": {
      "text/plain": [
       "array(['yes', 'down', 'right', 'no', 'off', '_silence_', 'up', 'left',\n",
       "       'on', 'stop', 'go', '_unknown_'], dtype=object)"
      ]
     },
     "execution_count": 173,
     "metadata": {},
     "output_type": "execute_result"
    }
   ],
   "source": [
    "# Test dataset directory\n",
    "test_ds_dir = home_dir+'/datasets/speech_commands_test/'\n",
    "#\n",
    "# Create and populate a list of file paths for the test dataset.\n",
    "test_paths = []\n",
    "for folder, labels, samples in os.walk(test_ds_dir):\n",
    "    for sample in samples:\n",
    "        if sample[-3:] == 'wav':\n",
    "            test_paths.append([folder+'/'+sample, folder[len(test_ds_dir):]])\n",
    "#\n",
    "# Convert the list to pandas.Dataframe\n",
    "test_paths = pd.DataFrame(test_paths, columns=['file_path', 'category'])\n",
    "#\n",
    "# Number of samples per category\n",
    "#data_paths.groupby('category').count()\n",
    "#\n",
    "# List the unique categories\n",
    "test_paths['category'].unique()"
   ]
  },
  {
   "cell_type": "code",
   "execution_count": 174,
   "id": "08c83d51-fa9f-4b6c-a968-8e416ed54120",
   "metadata": {},
   "outputs": [],
   "source": [
    "# Separate '_silence_' and '_unknown_' categories\n",
    "silence_paths = test_paths.where(\n",
    "    test_paths['category']=='_silence_').dropna()\n",
    "unknown_paths = test_paths.where(\n",
    "    test_paths['category']=='_unknown_').dropna()\n",
    "#\n",
    "test_paths = test_paths.where(\n",
    "    test_paths['category']!='_silence_').dropna()\n",
    "test_paths = test_paths.where(\n",
    "    test_paths['category']!='_unknown_').dropna()"
   ]
  },
  {
   "cell_type": "code",
   "execution_count": 175,
   "id": "fe598b89-53af-4919-81dc-c9ddad81b195",
   "metadata": {},
   "outputs": [
    {
     "name": "stdout",
     "output_type": "stream",
     "text": [
      "Number of distinct commands = 10\n"
     ]
    }
   ],
   "source": [
    "# Shuffle and reset the index of the dataframes\n",
    "test_paths = test_paths.sample(frac = 1)\n",
    "test_paths.reset_index(inplace=True)\n",
    "#\n",
    "# Remaining number of categories\n",
    "num_test_categories = test_paths['category'].unique().shape[0]\n",
    "print('Number of distinct commands = {}'.format(num_test_categories))"
   ]
  },
  {
   "cell_type": "code",
   "execution_count": 176,
   "id": "df1c66ba-4db3-4389-9316-f5104ac20527",
   "metadata": {},
   "outputs": [],
   "source": [
    "# Create separate numpy arrays for sample paths and labels.\n",
    "# Vectorize the labels using the previously define labels_dict.\n",
    "#\n",
    "test_labels = np.vectorize(labels_dict.get)(np.array(test_paths['category']))\n",
    "test_paths = np.array(test_paths['file_path'])"
   ]
  },
  {
   "cell_type": "code",
   "execution_count": 177,
   "id": "c578941a-15a6-4226-bd57-36f380689f9a",
   "metadata": {},
   "outputs": [],
   "source": [
    "# Create test Sequence\n",
    "#\n",
    "test_seq = audio_seq(test_paths, test_labels)"
   ]
  },
  {
   "cell_type": "markdown",
   "id": "f81911be-f4eb-493b-9564-6ce8e09226d6",
   "metadata": {},
   "source": [
    "## Evaluate model performance"
   ]
  },
  {
   "cell_type": "code",
   "execution_count": 87,
   "id": "ae3add9a-3fe6-4871-b785-e4aec161f530",
   "metadata": {},
   "outputs": [],
   "source": [
    "# Create a dictionary to record model performances\n",
    "test_performance = {}"
   ]
  },
  {
   "cell_type": "code",
   "execution_count": 88,
   "id": "193c74db-b083-494b-8f7f-43e2d069cc17",
   "metadata": {},
   "outputs": [
    {
     "name": "stdout",
     "output_type": "stream",
     "text": [
      "31/31 [==============================] - 4s 130ms/step - loss: 1.1159 - accuracy: 0.7069\n"
     ]
    }
   ],
   "source": [
    "# Baseline with waveform inputs and without augmentation\n",
    "#\n",
    "speech_commands_model_0.load_weights(\n",
    "    home_dir+'/models/05_speech_commands/waveform_baseline_0.h5')\n",
    "#\n",
    "test_performance['wf_baseline_0'] = speech_commands_model_0.evaluate(test_seq)"
   ]
  },
  {
   "cell_type": "code",
   "execution_count": 89,
   "id": "f68e0f2a-bd43-4b79-9032-33a2c2c65a74",
   "metadata": {},
   "outputs": [
    {
     "name": "stdout",
     "output_type": "stream",
     "text": [
      "31/31 [==============================] - 4s 115ms/step - loss: 0.8923 - accuracy: 0.7704\n"
     ]
    }
   ],
   "source": [
    "# Baseline with waveform inputs and with noise augmentation\n",
    "#\n",
    "speech_commands_model_0_wn.load_weights(\n",
    "    home_dir+'/models/05_speech_commands/waveform_baseline_0_wn.h5')\n",
    "#\n",
    "test_performance['wf_baseline_0_wn'] = speech_commands_model_0_wn.evaluate(test_seq)"
   ]
  },
  {
   "cell_type": "code",
   "execution_count": 90,
   "id": "2e52ea6f-d919-4640-9d8c-74a113f94a57",
   "metadata": {},
   "outputs": [
    {
     "name": "stdout",
     "output_type": "stream",
     "text": [
      "31/31 [==============================] - 4s 129ms/step - loss: 0.5712 - accuracy: 0.8266\n"
     ]
    }
   ],
   "source": [
    "# Baseline with waveform inputs and without augmentation\n",
    "#\n",
    "speech_commands_model_1.load_weights(\n",
    "    home_dir+'/models/05_speech_commands/spectrogram_baseline_0.h5')\n",
    "#\n",
    "test_performance['sg_baseline_0'] = speech_commands_model_1.evaluate(test_seq)"
   ]
  },
  {
   "cell_type": "code",
   "execution_count": 91,
   "id": "368cd241-308f-4581-b443-a5b63b0d2d55",
   "metadata": {},
   "outputs": [
    {
     "name": "stdout",
     "output_type": "stream",
     "text": [
      "31/31 [==============================] - 6s 188ms/step - loss: 0.0632 - accuracy: 0.9793\n"
     ]
    }
   ],
   "source": [
    "# YAMNet[:-2] with minimal training \n",
    "#\n",
    "transferred_yamnet_0.load_weights(\n",
    "    home_dir+'/models/05_speech_commands/transferred_yamnet_0.h5')\n",
    "#\n",
    "test_performance['yamnet-2_0'] = transferred_yamnet_0.evaluate(test_seq)"
   ]
  },
  {
   "cell_type": "code",
   "execution_count": 103,
   "id": "b61f5b5e-546a-4095-ac06-7ec7319469e7",
   "metadata": {},
   "outputs": [
    {
     "name": "stdout",
     "output_type": "stream",
     "text": [
      "31/31 [==============================] - 7s 197ms/step - loss: 0.0418 - accuracy: 0.9869\n"
     ]
    }
   ],
   "source": [
    "# YAMNet[:-2] with full training (Reload model before running)\n",
    "#\n",
    "transferred_yamnet_0.load_weights(\n",
    "    home_dir+'/models/05_speech_commands/transferred_yamnet_1.h5')\n",
    "#\n",
    "test_performance['yamnet-2_1'] = transferred_yamnet_0.evaluate(test_seq)"
   ]
  },
  {
   "cell_type": "code",
   "execution_count": 104,
   "id": "e996819c-a250-40a5-9f0d-7e277ce6b239",
   "metadata": {},
   "outputs": [
    {
     "name": "stdout",
     "output_type": "stream",
     "text": [
      "31/31 [==============================] - 6s 176ms/step - loss: 0.0646 - accuracy: 0.9831\n"
     ]
    }
   ],
   "source": [
    "# YAMNet[:67] with minimal training\n",
    "#\n",
    "transferred_yamnet_66.load_weights(\n",
    "    home_dir+'/models/05_speech_commands/transferred_yamnet_66.h5')\n",
    "#\n",
    "test_performance['yamnet_66'] = transferred_yamnet_66.evaluate(test_seq)"
   ]
  },
  {
   "cell_type": "code",
   "execution_count": 105,
   "id": "6dd5fee8-1e7f-4e4e-af44-bcbe447ae9cc",
   "metadata": {},
   "outputs": [
    {
     "data": {
      "text/plain": [
       "{'wf_baseline_0': [1.1158993244171143, 0.7069052457809448],\n",
       " 'wf_baseline_0_wn': [0.892331063747406, 0.7704132795333862],\n",
       " 'sg_baseline_0': [0.5711669325828552, 0.8266128897666931],\n",
       " 'yamnet-2_0': [0.0631522387266159, 0.9793346524238586],\n",
       " 'yamnet-2_1': [0.0417979396879673, 0.9868951439857483],\n",
       " 'yamnet_66': [0.06457618623971939, 0.9831148982048035]}"
      ]
     },
     "execution_count": 105,
     "metadata": {},
     "output_type": "execute_result"
    }
   ],
   "source": [
    "test_performance"
   ]
  },
  {
   "cell_type": "code",
   "execution_count": 106,
   "id": "2f72e717-b740-4d19-a74e-e5a994ce694a",
   "metadata": {},
   "outputs": [
    {
     "data": {
      "image/png": "[encoded data removed]",
      "text/plain": [
       "<Figure size 1000x500 with 1 Axes>"
      ]
     },
     "metadata": {},
     "output_type": "display_data"
    }
   ],
   "source": [
    "accuracies = {key:test_performance[key][1] for key in test_performance}\n",
    "models = list(accuracies.keys())\n",
    "acu_cs = list(accuracies.values())\n",
    "\n",
    "fig = plt.figure(figsize = (10, 5))\n",
    "\n",
    "# Plot as a bar plot.\n",
    "plt.bar(models, acu_cs, color = 'b', width = 0.5)\n",
    "\n",
    "plt.xlabel(\"Models\")\n",
    "plt.ylabel(\"Accuracy on Test Dataset\")\n",
    "plt.title(\"Model performances\")\n",
    "plt.show()"
   ]
  },
  {
   "cell_type": "markdown",
   "id": "87cd55d4-b7df-4ac4-870b-8c1a80e1abd9",
   "metadata": {},
   "source": [
    "## Inference\n",
    "\n",
    "Lastly, we can use any of our models to infer the labels of the unknown samples provided in the speech commands test dataset."
   ]
  },
  {
   "cell_type": "code",
   "execution_count": 178,
   "id": "4db5ddd1-8390-4654-a9e7-e2a4331e13a0",
   "metadata": {},
   "outputs": [
    {
     "data": {
      "text/plain": [
       "(408,)"
      ]
     },
     "execution_count": 178,
     "metadata": {},
     "output_type": "execute_result"
    }
   ],
   "source": [
    "# Unknown sample paths\n",
    "unknown_paths = np.array(unknown_paths['file_path'])\n",
    "unknown_paths.shape"
   ]
  },
  {
   "cell_type": "code",
   "execution_count": 182,
   "id": "c472b1de-69bf-44b3-970b-9f41f5a1029d",
   "metadata": {},
   "outputs": [],
   "source": [
    "# Load unknown samples\n",
    "unknown_samples = np.zeros((unknown_paths.shape[0], 16000, 1), dtype='float32')\n",
    "for i in np.arange(np.shape(unknown_paths)[0]):\n",
    "    unknown_samples[i] += load_audio(unknown_paths[i])"
   ]
  },
  {
   "cell_type": "code",
   "execution_count": 229,
   "id": "1943b478-5177-4ce2-af94-98540a687378",
   "metadata": {},
   "outputs": [],
   "source": [
    "# Create a dictionary {model : model.predict(unknown)}\n",
    "unknown_predictions = {}"
   ]
  },
  {
   "cell_type": "code",
   "execution_count": 230,
   "id": "b377d7f0-6eb9-4b84-ae01-883aa2e7fc79",
   "metadata": {},
   "outputs": [
    {
     "name": "stdout",
     "output_type": "stream",
     "text": [
      "13/13 [==============================] - 0s 12ms/step\n"
     ]
    }
   ],
   "source": [
    "# Run inference and convert to the original labels\n",
    "#\n",
    "unknown_predictions['sg_baseline_0'] = speech_commands_model_1.predict(unknown_samples)"
   ]
  },
  {
   "cell_type": "code",
   "execution_count": 231,
   "id": "ec245f79-3b39-4630-9805-91d581f57dd3",
   "metadata": {},
   "outputs": [
    {
     "name": "stdout",
     "output_type": "stream",
     "text": [
      "13/13 [==============================] - 0s 30ms/step\n"
     ]
    }
   ],
   "source": [
    "transferred_yamnet_0.load_weights(\n",
    "    home_dir+'/models/05_speech_commands/transferred_yamnet_1.h5')\n",
    "unknown_predictions['yamnet-2_1'] = transferred_yamnet_0.predict(unknown_samples)"
   ]
  },
  {
   "cell_type": "code",
   "execution_count": 232,
   "id": "b2a70cc5-cac7-4fed-83cf-2baae9601dde",
   "metadata": {},
   "outputs": [
    {
     "name": "stdout",
     "output_type": "stream",
     "text": [
      "13/13 [==============================] - 0s 28ms/step\n"
     ]
    }
   ],
   "source": [
    "transferred_yamnet_66.load_weights(\n",
    "    home_dir+'/models/05_speech_commands/transferred_yamnet_66.h5')\n",
    "unknown_predictions['yamnet_66'] = transferred_yamnet_66.predict(unknown_samples)"
   ]
  },
  {
   "cell_type": "code",
   "execution_count": 266,
   "id": "82050f40-1451-430f-afa7-b7e4075392a3",
   "metadata": {},
   "outputs": [],
   "source": [
    "# We can also look at the average of the different model predictions,\n",
    "# a practice known as ensembling.\n",
    "unknown_predictions['ensemble'] = np.average(list(unknown_predictions.values()), axis=0)"
   ]
  },
  {
   "cell_type": "code",
   "execution_count": 267,
   "id": "1e8380ce-a515-42f6-8e90-3aa2c6c17de1",
   "metadata": {},
   "outputs": [
    {
     "name": "stdout",
     "output_type": "stream",
     "text": [
      "Indices of disputed labels = [  0   2  14  22  26  28  36  39  49  52  67  69  74  79  82  85  92  95\n",
      "  98 102 119 129 131 133 142 146 152 155 163 164 166 174 180 184 194 196\n",
      " 221 224 225 235 245 250 258 259 261 286 295 298 304 314 319 327 328 340\n",
      " 342 343 346 356 367 378 379 384 385 394 396 399 401 403 405]\n"
     ]
    }
   ],
   "source": [
    "# Check samples for which the predictions do not match\n",
    "unknown_labels = {}\n",
    "for model in unknown_predictions:\n",
    "    unknown_labels[model] = np.argmax(unknown_predictions[model],axis=1)\n",
    "#\n",
    "# Define a function to pair all included models\n",
    "def distinct_pairs(x: list):\n",
    "    pairs = []\n",
    "    while x:\n",
    "        y = x.pop()\n",
    "        pairs += [(y,z) for z in x]\n",
    "    return pairs\n",
    "#\n",
    "# Create an array to store the results\n",
    "disputed_labels = np.zeros(unknown_paths.shape[0])\n",
    "#\n",
    "# Compare predictions for all distinct pairs of models\n",
    "for x, y in distinct_pairs(list(unknown_labels.keys())):\n",
    "    disputed_labels += np.abs(unknown_labels[x] - unknown_labels[y])\n",
    "#\n",
    "# Store the indices of samples for which the prediction of any pair\n",
    "# of models do not match.\n",
    "disputed_labels = np.flatnonzero(disputed_labels)\n",
    "#\n",
    "print('Indices of disputed labels =', disputed_labels)"
   ]
  },
  {
   "cell_type": "code",
   "execution_count": 268,
   "id": "073ebfdb-f9c8-48e7-a3ff-71c45681ae9b",
   "metadata": {},
   "outputs": [],
   "source": [
    "# Convert numeric labels to the original string labels\n",
    "for model in unknown_labels.keys():\n",
    "    unknown_labels[model] = np.vectorize(labels_reverse_dict.get)(unknown_labels[model])"
   ]
  },
  {
   "cell_type": "code",
   "execution_count": 269,
   "id": "0dc04e6d-1232-4b5a-9b16-333bc1b62426",
   "metadata": {},
   "outputs": [
    {
     "name": "stdout",
     "output_type": "stream",
     "text": [
      "Spectrogram baseline model predicts: go\n",
      "Fully retrained YAMNet predicts: follow\n",
      "Middle-ground transferred YAMNet predicts: four\n",
      "Ensemble of the three models predicts: four\n"
     ]
    },
    {
     "data": {
      "text/html": [
       "\n",
       "                <audio  controls=\"controls\" >\n",
       "                    <source src=\"data:audio/wav;base64,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\" type=\"audio/wav\" />\n",
       "                    Your browser does not support the audio element.\n",
       "                </audio>\n",
       "              "
      ],
      "text/plain": [
       "<IPython.lib.display.Audio object>"
      ]
     },
     "execution_count": 269,
     "metadata": {},
     "output_type": "execute_result"
    }
   ],
   "source": [
    "# Here is a sample that only our middle-ground model gets right.\n",
    "i = 67\n",
    "print('Spectrogram baseline model predicts:', unknown_labels['sg_baseline_0'][i])\n",
    "print('Fully retrained YAMNet predicts:', unknown_labels['yamnet-2_1'][i])\n",
    "print('Middle-ground transferred YAMNet predicts:', unknown_labels['yamnet_66'][i])\n",
    "print('Ensemble of the three models predicts:', unknown_labels['ensemble'][i])\n",
    "display.Audio(unknown_samples[i].reshape((-1)),rate=16000)"
   ]
  }
 ],
 "metadata": {
  "author": "Dr. Nima Doroud",
  "kernelspec": {
   "display_name": "Python [conda env:tf-pip]",
   "language": "python",
   "name": "conda-env-tf-pip-py"
  },
  "language_info": {
   "codemirror_mode": {
    "name": "ipython",
    "version": 3
   },
   "file_extension": ".py",
   "mimetype": "text/x-python",
   "name": "python",
   "nbconvert_exporter": "python",
   "pygments_lexer": "ipython3",
   "version": "3.9.13"
  },
  "title": "Transfer Learning"
 },
 "nbformat": 4,
 "nbformat_minor": 5
}
