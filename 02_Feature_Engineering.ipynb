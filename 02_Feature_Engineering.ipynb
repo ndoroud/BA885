{
 "cells": [
  {
   "cell_type": "code",
   "execution_count": 2,
   "id": "2a43b937-beca-41cd-a649-16a977310174",
   "metadata": {},
   "outputs": [],
   "source": [
    "import os\n",
    "import math\n",
    "import numpy as np\n",
    "import matplotlib.pyplot as plt\n",
    "import tensorflow as tf\n",
    "from tensorflow import keras\n",
    "from tensorflow.keras import layers\n",
    "from tensorflow.keras.datasets import mnist\n",
    "from sklearn.utils import shuffle"
   ]
  },
  {
   "cell_type": "code",
   "execution_count": 3,
   "id": "2f6209a7-ef18-460e-a4bd-37c17aeb44b8",
   "metadata": {},
   "outputs": [],
   "source": [
    "TF_ENABLE_ONEDNN_OPTS=1\n",
    "home_dir = os.getenv(\"home_BA885\")\n",
    "\n",
    "# Assign home_dir as a local directory to use when saving data to disk."
   ]
  },
  {
   "cell_type": "markdown",
   "id": "763df197-04cd-4696-a94b-db6e00b19ee3",
   "metadata": {
    "tags": []
   },
   "source": [
    "# Feature Engineering\n",
    "\n",
    "The premise of machine learning is to use abundance of data and computational power to compensate for our lack of understanding and inadequate modeling. This, however, is not always guaranteed to succeed as it is quite common for a large and clean dataset to be absent or for out computational resources to be limited. In practice, a successful ML model lies somewhere on a spectrum that has Large Deep Neural Networks (large hypothesis space) on one end and Exact Mathematical Modeling with a handful of parameters on the other end, which requires making numerous assumptions about the data and its important features.\n",
    "\n",
    "The main distinction between the two ends of the spectrum is the size of the hypothesis space which has a direct correlation with the number of trainable parameters: the larger the number of parameters, the bigger the hypothesis space and the fewer the number of assumptions we need to make regarding the relevant features in our dataset.\n",
    "\n",
    "However, as we scale up the number of trainable parameters the model becomes more and more susceptible to overfitting and as the number of trainable parameters approaches the number of training samples this issue becomes harder and harder to mitigate. Furthermore, the larger the model the more resources are required to train and deploy it which may not be desirable, for instance when the deplyed model's response time needs to be minimized."
   ]
  },
  {
   "cell_type": "markdown",
   "id": "977111d2-9d88-44c7-9527-d048d9c3c61b",
   "metadata": {},
   "source": [
    "## A simple binary classification problem\n",
    "\n",
    "The underlying principle in feature engineering is to gain a deeper understanding of the data. One approach is to train a simple deep neural network and observe its behavior.\n",
    "\n",
    "Here we will look at a toy example of MNIST restricted to identifying whether the input is an image of the digit 0 or not."
   ]
  },
  {
   "cell_type": "code",
   "execution_count": 36,
   "id": "5290748f-e3fa-41bf-a0b1-079a1285ed00",
   "metadata": {},
   "outputs": [],
   "source": [
    "# Load the MNIST dataset\n",
    "(train_images, train_labels), (test_images, test_labels) = mnist.load_data()\n",
    "\n",
    "# Rescale the data\n",
    "train_images = train_images.astype(\"float32\") / 255\n",
    "test_images = test_images.astype(\"float32\") / 255\n",
    "\n",
    "# Generate new labels that determine whether the digit is 0 or not\n",
    "# (label = 0 if the digit is 0 and label = 1 otherwise.)\n",
    "train_labels_0 = train_labels.astype('bool').astype('int')\n",
    "test_labels_0 = test_labels.astype('bool').astype('int')"
   ]
  },
  {
   "cell_type": "code",
   "execution_count": 61,
   "id": "eea82855-ac36-4f58-b120-0169e748331d",
   "metadata": {},
   "outputs": [
    {
     "name": "stdout",
     "output_type": "stream",
     "text": [
      "Model: \"mnist_0_model\"\n",
      "_________________________________________________________________\n",
      " Layer (type)                Output Shape              Param #   \n",
      "=================================================================\n",
      " input_10 (InputLayer)       [(None, 28, 28)]          0         \n",
      "                                                                 \n",
      " flatten_9 (Flatten)         (None, 784)               0         \n",
      "                                                                 \n",
      " dense_23 (Dense)            (None, 1)                 785       \n",
      "                                                                 \n",
      "=================================================================\n",
      "Total params: 785\n",
      "Trainable params: 785\n",
      "Non-trainable params: 0\n",
      "_________________________________________________________________\n"
     ]
    }
   ],
   "source": [
    "# Build a very simple model, we will do this through a function as we will be\n",
    "# initializing such a model multiple times.\n",
    "def ZeroOrNot(x = 'mnist_0_model'):\n",
    "    # Generates a model with input shape (28,28) and output shape (1)\n",
    "    mnist_0_input = layers.Input(shape=(28,28,))\n",
    "    mnist_0_flatten = layers.Flatten()(mnist_0_input)\n",
    "    mnist_0_output = layers.Dense(1, activation=\"sigmoid\")(mnist_0_flatten)\n",
    "    #\n",
    "    return keras.Model(inputs = mnist_0_input, outputs = mnist_0_output, name = x)\n",
    "\n",
    "mnist_0_model = ZeroOrNot('mnist_0_model')\n",
    "mnist_0_model.summary()"
   ]
  },
  {
   "cell_type": "code",
   "execution_count": 62,
   "id": "a71464b6-4545-47b2-8ff4-3a367a893237",
   "metadata": {},
   "outputs": [],
   "source": [
    "# Choose the optimizer, loss function and metrics with which to compile the model.\n",
    "# We will choose binary crossentropy as the loss function since the labels are 0 or 1\n",
    "# and the model output is a single number between 0 and 1.\n",
    "optim0 = \"rmsprop\"\n",
    "loss0 = \"binary_crossentropy\"\n",
    "metrics0 = [\"binary_accuracy\"]\n",
    "\n",
    "mnist_0_model.compile(optimizer = optim0, loss = loss0, metrics = metrics0)"
   ]
  },
  {
   "cell_type": "code",
   "execution_count": 63,
   "id": "3dbdad3d-f400-48b1-8ba2-32349f10b8c4",
   "metadata": {
    "collapsed": true,
    "jupyter": {
     "outputs_hidden": true
    },
    "tags": []
   },
   "outputs": [
    {
     "name": "stdout",
     "output_type": "stream",
     "text": [
      "Epoch 1/30\n",
      "188/188 [==============================] - 1s 5ms/step - loss: 0.1797 - binary_accuracy: 0.9511 - val_loss: 0.0753 - val_binary_accuracy: 0.9808\n",
      "Epoch 2/30\n",
      "188/188 [==============================] - 1s 4ms/step - loss: 0.0571 - binary_accuracy: 0.9859 - val_loss: 0.0450 - val_binary_accuracy: 0.9872\n",
      "Epoch 3/30\n",
      "188/188 [==============================] - 1s 5ms/step - loss: 0.0409 - binary_accuracy: 0.9893 - val_loss: 0.0365 - val_binary_accuracy: 0.9900\n",
      "Epoch 4/30\n",
      "188/188 [==============================] - 1s 4ms/step - loss: 0.0355 - binary_accuracy: 0.9903 - val_loss: 0.0326 - val_binary_accuracy: 0.9910\n",
      "Epoch 5/30\n",
      "188/188 [==============================] - 1s 7ms/step - loss: 0.0328 - binary_accuracy: 0.9908 - val_loss: 0.0307 - val_binary_accuracy: 0.9918\n",
      "Epoch 6/30\n",
      "188/188 [==============================] - 1s 6ms/step - loss: 0.0311 - binary_accuracy: 0.9910 - val_loss: 0.0294 - val_binary_accuracy: 0.9913\n",
      "Epoch 7/30\n",
      "188/188 [==============================] - 1s 4ms/step - loss: 0.0299 - binary_accuracy: 0.9912 - val_loss: 0.0285 - val_binary_accuracy: 0.9909\n",
      "Epoch 8/30\n",
      "188/188 [==============================] - 1s 4ms/step - loss: 0.0290 - binary_accuracy: 0.9913 - val_loss: 0.0279 - val_binary_accuracy: 0.9918\n",
      "Epoch 9/30\n",
      "188/188 [==============================] - 1s 4ms/step - loss: 0.0282 - binary_accuracy: 0.9917 - val_loss: 0.0282 - val_binary_accuracy: 0.9919\n",
      "Epoch 10/30\n",
      "188/188 [==============================] - 1s 4ms/step - loss: 0.0278 - binary_accuracy: 0.9919 - val_loss: 0.0270 - val_binary_accuracy: 0.9919\n",
      "Epoch 11/30\n",
      "188/188 [==============================] - 1s 4ms/step - loss: 0.0272 - binary_accuracy: 0.9921 - val_loss: 0.0268 - val_binary_accuracy: 0.9918\n",
      "Epoch 12/30\n",
      "188/188 [==============================] - 1s 6ms/step - loss: 0.0269 - binary_accuracy: 0.9922 - val_loss: 0.0265 - val_binary_accuracy: 0.9915\n"
     ]
    }
   ],
   "source": [
    "# Set history = model.fit in order to store the loss and accuracy of the model after\n",
    "# each epoch. Utilize early stoppping callback.\n",
    "\n",
    "callb0 = keras.callbacks.EarlyStopping(monitor='val_binary_accuracy',\n",
    "                                       patience=3,\n",
    "                                       restore_best_weights=True\n",
    "                                      )\n",
    "\n",
    "history = mnist_0_model.fit(train_images, train_labels_0,\n",
    "                            validation_split = 0.2,\n",
    "                            epochs = 30,\n",
    "                            batch_size = 256,\n",
    "                            callbacks = callb0)"
   ]
  },
  {
   "cell_type": "code",
   "execution_count": 64,
   "id": "493895ea-27cb-4142-9ec2-21850a05549f",
   "metadata": {},
   "outputs": [
    {
     "name": "stdout",
     "output_type": "stream",
     "text": [
      "313/313 [==============================] - 0s 883us/step - loss: 0.0232 - binary_accuracy: 0.9929\n"
     ]
    },
    {
     "data": {
      "text/plain": [
       "[0.023230357095599174, 0.992900013923645]"
      ]
     },
     "execution_count": 64,
     "metadata": {},
     "output_type": "execute_result"
    }
   ],
   "source": [
    "# Evaluate the model on the test dataset. Note that given the distribution of data\n",
    "# a model that always predicts \"not zero\" will have binary_accuracy ~ 0.90\n",
    "\n",
    "mnist_0_model.evaluate(test_images, test_labels_0)"
   ]
  },
  {
   "cell_type": "code",
   "execution_count": 65,
   "id": "25165da9-37a1-49be-b7ee-52d8e0cfdca5",
   "metadata": {},
   "outputs": [
    {
     "data": {
      "image/png": "[encoded data removed]",
      "text/plain": [
       "<Figure size 640x480 with 1 Axes>"
      ]
     },
     "metadata": {},
     "output_type": "display_data"
    }
   ],
   "source": [
    "# Lets look at what features the trained model is focusing on\n",
    "weights = mnist_0_model.layers[2].get_weights()[0]\n",
    "\n",
    "# Reshape to match the original image shape (28x28)\n",
    "weights = weights.reshape(28,28)\n",
    "\n",
    "# Plot the weights, the bright pixels correspond to the pixels the model\n",
    "# deems important features that help distinguish 0 from other digit images.\n",
    "plt.imshow(weights, cmap=plt.cm.binary)\n",
    "plt.show()"
   ]
  },
  {
   "cell_type": "markdown",
   "id": "bf56a69b-bc85-470d-bce9-2518eac6a942",
   "metadata": {
    "tags": []
   },
   "source": [
    "It should not come as a surprise that the pixels the model focuses on resemble\n",
    "the digit 0. In fact if we look at what the average of all the images of the digit 0 looks like we will that it looks pretty similar."
   ]
  },
  {
   "cell_type": "code",
   "execution_count": 66,
   "id": "8e82eed9-445a-47c0-a31c-a77a6212ad2a",
   "metadata": {},
   "outputs": [
    {
     "data": {
      "image/png": "[encoded data removed]",
      "text/plain": [
       "<Figure size 640x480 with 1 Axes>"
      ]
     },
     "metadata": {},
     "output_type": "display_data"
    }
   ],
   "source": [
    "# Take the average of all the images of the digit 0\n",
    "zero_indices = np.where(train_labels==0)\n",
    "average_zero_image = np.average(train_images[zero_indices],axis=0)\n",
    "\n",
    "plt.imshow(1 - average_zero_image, cmap=plt.cm.binary)\n",
    "plt.show()"
   ]
  },
  {
   "cell_type": "code",
   "execution_count": 67,
   "id": "0ddd6cfd-2eee-4f2f-aac4-d184131b7847",
   "metadata": {},
   "outputs": [
    {
     "name": "stdout",
     "output_type": "stream",
     "text": [
      "1/1 [==============================] - 0s 38ms/step\n"
     ]
    },
    {
     "data": {
      "text/plain": [
       "array([[0.01708952],\n",
       "       [1.        ]], dtype=float32)"
      ]
     },
     "execution_count": 67,
     "metadata": {},
     "output_type": "execute_result"
    }
   ],
   "source": [
    "# We can check easily check how much this average image overlaps with the\n",
    "# weights of the model\n",
    "mnist_0_model.predict(np.array([average_zero_image,\n",
    "                                1 - average_zero_image]))"
   ]
  },
  {
   "cell_type": "markdown",
   "id": "9b7d6db0-279c-4615-b49c-7f835e631faa",
   "metadata": {},
   "source": [
    "## A toy model with only 3 trainable parameters\n",
    "\n",
    "The shallow (i.e. no hidden layers) model above, with 785 trainable parameters, can achieve ~99.2% accuracy using almost the entire training dataset.\n",
    "\n",
    "We now want to reduce the number of trainable parameter with some (ad-hoc) feature engineering and compare the results. I encourage you to try and build a model with a handful of parameters on you own. Below is an extreme example with only 3 trainable parameters."
   ]
  },
  {
   "cell_type": "code",
   "execution_count": 68,
   "id": "1fcce43b-8096-4d32-8f34-6f5abce93414",
   "metadata": {},
   "outputs": [
    {
     "name": "stdout",
     "output_type": "stream",
     "text": [
      "Model: \"mnist_0_model_3p\"\n",
      "__________________________________________________________________________________________________\n",
      " Layer (type)                   Output Shape         Param #     Connected to                     \n",
      "==================================================================================================\n",
      " input_11 (InputLayer)          [(None, 28, 28)]     0           []                               \n",
      "                                                                                                  \n",
      " flatten_10 (Flatten)           (None, 784)          0           ['input_11[0][0]']               \n",
      "                                                                                                  \n",
      " dense_24 (Dense)               (None, 1)            785         ['flatten_10[0][0]']             \n",
      "                                                                                                  \n",
      " dense_25 (Dense)               (None, 1)            785         ['flatten_10[0][0]']             \n",
      "                                                                                                  \n",
      " concatenate_7 (Concatenate)    (None, 2)            0           ['dense_24[0][0]',               \n",
      "                                                                  'dense_25[0][0]']               \n",
      "                                                                                                  \n",
      " dense_26 (Dense)               (None, 1)            3           ['concatenate_7[0][0]']          \n",
      "                                                                                                  \n",
      "==================================================================================================\n",
      "Total params: 1,573\n",
      "Trainable params: 3\n",
      "Non-trainable params: 1,570\n",
      "__________________________________________________________________________________________________\n"
     ]
    }
   ],
   "source": [
    "# Compute the average of the images of 0 to use as a mask\n",
    "mask0 = np.average(train_images[zero_indices],axis=0).reshape((28*28,1))\n",
    "mask1 = 1 - mask0\n",
    "\n",
    "# Build a model with only 3 trainable parameters using our masks to identify 0s\n",
    "def ZeroOrNot_3p(x = 'mnist_0_model_3p'):\n",
    "    # Generates a model with input shape (28,28) and output shape (1)\n",
    "    # The model has 3 trainable parameters w0, w1 and b:\n",
    "    # Input x --> output = sigmoid( w0*mask0(x) + w1*mask1(x) + b )\n",
    "    mnist_0_input = layers.Input(shape=(28,28,))\n",
    "    mnist_0_flatten = layers.Flatten()(mnist_0_input)\n",
    "    mnist_0_mask_0 = layers.Dense(1)(mnist_0_flatten)\n",
    "    mnist_0_mask_1 = layers.Dense(1)(mnist_0_flatten)\n",
    "    mnist_0_concat = layers.Concatenate()([mnist_0_mask_0,mnist_0_mask_1])\n",
    "    mnist_0_output = layers.Dense(1, activation=\"sigmoid\")(mnist_0_concat)\n",
    "    #\n",
    "    mnist_0_model_3p = keras.Model(inputs = mnist_0_input, \n",
    "                                   outputs = mnist_0_output, \n",
    "                                   name = x)\n",
    "    #\n",
    "    # Set the weights of the mask layers\n",
    "    mnist_0_model_3p.layers[2].set_weights([mask0, np.zeros(1)])\n",
    "    mnist_0_model_3p.layers[3].set_weights([mask1, np.zeros(1)])\n",
    "    #\n",
    "    # Set the mask layers as not trainable\n",
    "    mnist_0_model_3p.layers[2].trainable = False\n",
    "    mnist_0_model_3p.layers[3].trainable = False\n",
    "    #\n",
    "    return mnist_0_model_3p\n",
    "\n",
    "mnist_0_model_3p = ZeroOrNot_3p()\n",
    "mnist_0_model_3p.summary()"
   ]
  },
  {
   "cell_type": "code",
   "execution_count": 69,
   "id": "c380ed0d-da67-4f85-87bb-f06280841388",
   "metadata": {
    "collapsed": true,
    "jupyter": {
     "outputs_hidden": true
    },
    "tags": []
   },
   "outputs": [
    {
     "name": "stdout",
     "output_type": "stream",
     "text": [
      "Epoch 1/30\n",
      "188/188 [==============================] - 1s 5ms/step - loss: 4.0387 - binary_accuracy: 0.9015 - val_loss: 2.8050 - val_binary_accuracy: 0.9000\n",
      "Epoch 2/30\n",
      "188/188 [==============================] - 1s 4ms/step - loss: 2.1182 - binary_accuracy: 0.8368 - val_loss: 1.7574 - val_binary_accuracy: 0.8322\n",
      "Epoch 3/30\n",
      "188/188 [==============================] - 1s 5ms/step - loss: 1.4508 - binary_accuracy: 0.8323 - val_loss: 1.1536 - val_binary_accuracy: 0.8559\n",
      "Epoch 4/30\n",
      "188/188 [==============================] - 1s 5ms/step - loss: 0.8808 - binary_accuracy: 0.8819 - val_loss: 0.6182 - val_binary_accuracy: 0.9003\n",
      "Epoch 5/30\n",
      "188/188 [==============================] - 1s 5ms/step - loss: 0.4160 - binary_accuracy: 0.9017 - val_loss: 0.2524 - val_binary_accuracy: 0.9059\n",
      "Epoch 6/30\n",
      "188/188 [==============================] - 1s 6ms/step - loss: 0.1867 - binary_accuracy: 0.9425 - val_loss: 0.1471 - val_binary_accuracy: 0.9624\n",
      "Epoch 7/30\n",
      "188/188 [==============================] - 1s 6ms/step - loss: 0.1334 - binary_accuracy: 0.9629 - val_loss: 0.1250 - val_binary_accuracy: 0.9650\n",
      "Epoch 8/30\n",
      "188/188 [==============================] - 1s 5ms/step - loss: 0.1206 - binary_accuracy: 0.9650 - val_loss: 0.1193 - val_binary_accuracy: 0.9645\n",
      "Epoch 9/30\n",
      "188/188 [==============================] - 1s 4ms/step - loss: 0.1153 - binary_accuracy: 0.9663 - val_loss: 0.1141 - val_binary_accuracy: 0.9662\n",
      "Epoch 10/30\n",
      "188/188 [==============================] - 1s 5ms/step - loss: 0.1122 - binary_accuracy: 0.9663 - val_loss: 0.1132 - val_binary_accuracy: 0.9657\n",
      "Epoch 11/30\n",
      "188/188 [==============================] - 1s 6ms/step - loss: 0.1104 - binary_accuracy: 0.9671 - val_loss: 0.1105 - val_binary_accuracy: 0.9664\n",
      "Epoch 12/30\n",
      "188/188 [==============================] - 1s 5ms/step - loss: 0.1091 - binary_accuracy: 0.9667 - val_loss: 0.1096 - val_binary_accuracy: 0.9670\n",
      "Epoch 13/30\n",
      "188/188 [==============================] - 1s 5ms/step - loss: 0.1080 - binary_accuracy: 0.9670 - val_loss: 0.1084 - val_binary_accuracy: 0.9669\n",
      "Epoch 14/30\n",
      "188/188 [==============================] - 1s 8ms/step - loss: 0.1071 - binary_accuracy: 0.9670 - val_loss: 0.1075 - val_binary_accuracy: 0.9668\n",
      "Epoch 15/30\n",
      "188/188 [==============================] - 2s 10ms/step - loss: 0.1063 - binary_accuracy: 0.9669 - val_loss: 0.1072 - val_binary_accuracy: 0.9672\n",
      "Epoch 16/30\n",
      "188/188 [==============================] - 2s 10ms/step - loss: 0.1055 - binary_accuracy: 0.9674 - val_loss: 0.1075 - val_binary_accuracy: 0.9654\n",
      "Epoch 17/30\n",
      "188/188 [==============================] - 2s 9ms/step - loss: 0.1049 - binary_accuracy: 0.9674 - val_loss: 0.1061 - val_binary_accuracy: 0.9666\n",
      "Epoch 18/30\n",
      "188/188 [==============================] - 2s 8ms/step - loss: 0.1042 - binary_accuracy: 0.9676 - val_loss: 0.1047 - val_binary_accuracy: 0.9676\n",
      "Epoch 19/30\n",
      "188/188 [==============================] - 2s 10ms/step - loss: 0.1036 - binary_accuracy: 0.9673 - val_loss: 0.1047 - val_binary_accuracy: 0.9669\n",
      "Epoch 20/30\n",
      "188/188 [==============================] - 1s 8ms/step - loss: 0.1029 - binary_accuracy: 0.9676 - val_loss: 0.1038 - val_binary_accuracy: 0.9679\n",
      "Epoch 21/30\n",
      "188/188 [==============================] - 2s 8ms/step - loss: 0.1025 - binary_accuracy: 0.9675 - val_loss: 0.1029 - val_binary_accuracy: 0.9675\n",
      "Epoch 22/30\n",
      "188/188 [==============================] - 2s 10ms/step - loss: 0.1020 - binary_accuracy: 0.9678 - val_loss: 0.1026 - val_binary_accuracy: 0.9678\n",
      "Epoch 23/30\n",
      "188/188 [==============================] - 4s 21ms/step - loss: 0.1015 - binary_accuracy: 0.9677 - val_loss: 0.1024 - val_binary_accuracy: 0.9673\n"
     ]
    },
    {
     "data": {
      "text/plain": [
       "<keras.callbacks.History at 0x7fcd3a686aa0>"
      ]
     },
     "execution_count": 69,
     "metadata": {},
     "output_type": "execute_result"
    }
   ],
   "source": [
    "# We will use the previously defined optimizer, loss function, metric and callback\n",
    "# (rmsprop, binary_crossentropy, binary_accuracy)\n",
    "\n",
    "mnist_0_model_3p.compile(optimizer = optim0, loss = loss0, metrics = metrics0)\n",
    "\n",
    "mnist_0_model_3p.fit(train_images, train_labels_0, validation_split = 0.2,\n",
    "                     epochs = 30, batch_size = 256, callbacks = callb0)"
   ]
  },
  {
   "cell_type": "code",
   "execution_count": 72,
   "id": "e78b725b-8220-48b1-9c4c-87b0413fac11",
   "metadata": {},
   "outputs": [
    {
     "name": "stdout",
     "output_type": "stream",
     "text": [
      "313/313 [==============================] - 1s 2ms/step - loss: 0.0964 - binary_accuracy: 0.9683\n"
     ]
    },
    {
     "data": {
      "text/plain": [
       "[0.09643455594778061, 0.9682999849319458]"
      ]
     },
     "execution_count": 72,
     "metadata": {},
     "output_type": "execute_result"
    }
   ],
   "source": [
    "# Evaluate the performance on the test dataset\n",
    "mnist_0_model_3p.evaluate(test_images, test_labels_0)"
   ]
  },
  {
   "cell_type": "markdown",
   "id": "85cd8399-3595-4d71-a38a-3ce594659efb",
   "metadata": {},
   "source": [
    "The best this model can do is ~97.0% accuracy which is quite a poor performance even compared to the shallow model mnist_0_model which achieves ~99.2% accuracy on the test dataset.\n",
    "\n",
    "Would this still be the case if we had a smaller dataset?"
   ]
  },
  {
   "cell_type": "code",
   "execution_count": 82,
   "id": "c75648df-78b5-4975-87ec-1bbb69cc3a1b",
   "metadata": {},
   "outputs": [
    {
     "name": "stdout",
     "output_type": "stream",
     "text": [
      "with 12000 images the model accuracy = 0.9922000169754028\n",
      "with 6000 images the model accuracy = 0.9915000200271606\n",
      "with 600 images the model accuracy = 0.9821000099182129\n",
      "with 300 images the model accuracy = 0.9787999987602234\n"
     ]
    }
   ],
   "source": [
    "# Lets see how well our shallow model does with a smaller training dataset\n",
    "# We need to increase the patience of the early stopping callback\n",
    "callb1 = keras.callbacks.EarlyStopping(monitor='val_binary_accuracy',\n",
    "                                       patience=8,\n",
    "                                       restore_best_weights=True\n",
    "                                      )\n",
    "for n in [12000, 6000, 600, 300]:\n",
    "    model_785p = ZeroOrNot('mnist_0_model_785p_{}'.format(n))\n",
    "    model_785p.compile(optimizer = optim0, loss = loss0, metrics = metrics0)\n",
    "    #\n",
    "    model_785p.fit(train_images[:n], train_labels_0[:n],\n",
    "                   validation_data = (train_images[58000:], train_labels_0[58000:]),\n",
    "                   epochs = 100, batch_size = 128, callbacks = callb1, verbose = 0)\n",
    "    #\n",
    "    accuracy_785p = model_785p.evaluate(test_images, test_labels_0, verbose = 0)[1]\n",
    "    #\n",
    "    #\n",
    "    model_3p = ZeroOrNot_3p('mnist_0_model_3p_{}'.format(n))\n",
    "    model_3p.compile(optimizer = optim0, loss = loss0, metrics = metrics0)\n",
    "    #\n",
    "    model_3p.fit(train_images[:n], train_labels_0[:n],\n",
    "                 validation_data = (train_images[58000:], train_labels_0[58000:]),\n",
    "                 epochs = 200, batch_size = 128, callbacks = callb1, verbose = 0)\n",
    "    #\n",
    "model_785p.evaluate(test_images, test_labels_0, verbose = 0)[1]\n",
    "    print('with {} images the model accuracy = {}'.format(n, accuracy_785p))"
   ]
  },
  {
   "cell_type": "code",
   "execution_count": 94,
   "id": "d4616919-abdc-4400-93c4-f70974ca6e22",
   "metadata": {},
   "outputs": [
    {
     "data": {
      "text/plain": [
       "0.9606999754905701"
      ]
     },
     "execution_count": 94,
     "metadata": {},
     "output_type": "execute_result"
    }
   ],
   "source": [
    "model_3p = ZeroOrNot_3p('mnist_0_model_3p_{}'.format(300))\n",
    "model_3p.compile(optimizer = optim0, loss = loss0, metrics = metrics0)\n",
    "#\n",
    "model_3p.fit(train_images[:300], train_labels_0[:300],\n",
    "             validation_data = (train_images[58000:], train_labels_0[58000:]),\n",
    "             epochs = 200, batch_size = 16, verbose = 0)\n",
    "#\n",
    "model_3p.evaluate(test_images, test_labels_0, callbacks = callb1, verbose = 0)[1]"
   ]
  },
  {
   "cell_type": "markdown",
   "id": "d5cdb5db-621e-410e-aff9-832ee9e11afe",
   "metadata": {},
   "source": [
    "As we reduce the size of the training dataset our 785 parameter model starts to lose its edge over the 3 parameter model.\n",
    "\n",
    "Note: Run model_3p.fit multiple times so that it has chance to find a 'good' local minimum."
   ]
  }
 ],
 "metadata": {
  "kernelspec": {
   "display_name": "Python [conda env:tf]",
   "language": "python",
   "name": "conda-env-tf-py"
  },
  "language_info": {
   "codemirror_mode": {
    "name": "ipython",
    "version": 3
   },
   "file_extension": ".py",
   "mimetype": "text/x-python",
   "name": "python",
   "nbconvert_exporter": "python",
   "pygments_lexer": "ipython3",
   "version": "3.10.9"
  }
 },
 "nbformat": 4,
 "nbformat_minor": 5
}
