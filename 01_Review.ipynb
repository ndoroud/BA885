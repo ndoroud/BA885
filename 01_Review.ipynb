{
 "cells": [
  {
   "cell_type": "code",
   "execution_count": 2,
   "id": "73c196df",
   "metadata": {
    "id": "73c196df"
   },
   "outputs": [],
   "source": [
    "import os\n",
    "import math\n",
    "import numpy as np\n",
    "import matplotlib.pyplot as plt\n",
    "import tensorflow as tf\n",
    "from tensorflow import keras\n",
    "from tensorflow.keras import layers\n",
    "from tensorflow.keras.datasets import mnist\n",
    "from sklearn.utils import shuffle"
   ]
  },
  {
   "cell_type": "code",
   "execution_count": 3,
   "id": "19732072-d5ce-498f-a2c2-1637f2e3ac90",
   "metadata": {},
   "outputs": [],
   "source": [
    "TF_ENABLE_ONEDNN_OPTS=1\n",
    "home_dir = os.getenv(\"home_BA885\")\n",
    "\n",
    "# Assign home_dir as a local directory to use when saving data to disk."
   ]
  },
  {
   "cell_type": "markdown",
   "id": "1e79f5d1",
   "metadata": {
    "id": "1e79f5d1"
   },
   "source": [
    "# Machine Learning with TensorFlow/Keras"
   ]
  },
  {
   "cell_type": "markdown",
   "id": "24a62006",
   "metadata": {},
   "source": [
    "Let us first review the basics of machine learning with TensorFlow. The goal is for you to feel comfortable with modifying or completely breaking apart from keras should the need arise. First, we will build a simple model with Keras and review the basic steps which we will then implement directly with TensorFlow.\n",
    "\n",
    "We will use the MNIST dataset as it is readily available and it does not require a lot of resources."
   ]
  },
  {
   "cell_type": "code",
   "execution_count": 4,
   "id": "58d1f7fc",
   "metadata": {
    "colab": {
     "base_uri": "https://localhost:8080/"
    },
    "id": "58d1f7fc",
    "outputId": "1d0913ee-ef5a-4204-c608-a2cdd2b615e7"
   },
   "outputs": [],
   "source": [
    "# Load the MNIST dataset.\n",
    "(train_images, train_labels), (test_images, test_labels) = mnist.load_data()\n",
    "\n",
    "# Rescale the data\n",
    "train_images = train_images.astype(\"float32\") / 255\n",
    "test_images = test_images.astype(\"float32\") / 255\n",
    "\n",
    "# You can also choose to flatten the data unless you wish to build a convolutional model\n",
    "#train_images = train_images.reshape((60000, 28 * 28))\n",
    "#test_images = test_images.reshape((10000, 28 * 28))"
   ]
  },
  {
   "cell_type": "markdown",
   "id": "db831236",
   "metadata": {},
   "source": [
    "## A simple model with Keras"
   ]
  },
  {
   "cell_type": "markdown",
   "id": "832d68a5",
   "metadata": {},
   "source": [
    "First, let us review the model building process in keras. We simply need to use a few building blocks (layers, model, compile, fit, evaluate) to build, train and evaluate the performance of a simple model.\n",
    "\n",
    "We will use the functional API instead of keras.Sequential to build our models since the functional API is much more flexible. \n",
    "\n",
    "To train the model, we need to compile it by choosing an optimizer (adam, rmsprop, ...), the loss function (mse, crossentropy, ...) as well as any metrics to evaluate the performance of the model (mae, accuracy, ...). Here we will use 'rmsprop' as the optimizer, 'sparse_categorical_entropy' as the loss function and 'accuracy' as the metric.\n",
    "\n",
    "Recall that 'categorical_crossentropy' loss function compares one-hot encodings while 'sparse_categorical_crossentropy' compares a one-hot encoding with an integer."
   ]
  },
  {
   "cell_type": "code",
   "execution_count": 11,
   "id": "51c07e02",
   "metadata": {
    "id": "51c07e02",
    "scrolled": true,
    "tags": []
   },
   "outputs": [
    {
     "name": "stdout",
     "output_type": "stream",
     "text": [
      "Model: \"mnist0_keras\"\n",
      "_________________________________________________________________\n",
      " Layer (type)                Output Shape              Param #   \n",
      "=================================================================\n",
      " input_3 (InputLayer)        [(None, 28, 28)]          0         \n",
      "                                                                 \n",
      " flatten_2 (Flatten)         (None, 784)               0         \n",
      "                                                                 \n",
      " dense_2 (Dense)             (None, 10)                7850      \n",
      "                                                                 \n",
      "=================================================================\n",
      "Total params: 7,850\n",
      "Trainable params: 7,850\n",
      "Non-trainable params: 0\n",
      "_________________________________________________________________\n"
     ]
    },
    {
     "data": {
      "image/png": "[encoded data removed]",
      "text/plain": [
       "<IPython.core.display.Image object>"
      ]
     },
     "execution_count": 11,
     "metadata": {},
     "output_type": "execute_result"
    }
   ],
   "source": [
    "# A simple classification model with no hiddel layers\n",
    "mnist0_keras_input = layers.Input(shape=(28,28,))\n",
    "mnist0_keras_flatten = layers.Flatten()(mnist0_keras_input)\n",
    "mnist0_keras_output = layers.Dense(10, activation=\"softmax\")(mnist0_keras_flatten)\n",
    "\n",
    "mnist0_keras_model = keras.Model(inputs = mnist0_keras_input,\n",
    "                        outputs = mnist0_keras_output,\n",
    "                        name=\"mnist0_keras\")\n",
    "\n",
    "# Print a summary of our model\n",
    "mnist0_keras_model.summary()\n",
    "\n",
    "# Plot the DAG for this model\n",
    "keras.utils.plot_model(mnist0_keras_model, to_file=home_dir+'/Tutorials/tmp/mnist0_keras.png')"
   ]
  },
  {
   "cell_type": "code",
   "execution_count": 12,
   "id": "6f163b29",
   "metadata": {
    "id": "6f163b29"
   },
   "outputs": [],
   "source": [
    "optim0 = \"rmsprop\"\n",
    "loss0 = \"sparse_categorical_crossentropy\"\n",
    "metrics0 = [\"accuracy\"]\n",
    "\n",
    "mnist0_keras_model.compile(optimizer = optim0,\n",
    "                           loss = loss0,\n",
    "                           metrics = metrics0\n",
    "                          )"
   ]
  },
  {
   "cell_type": "code",
   "execution_count": 13,
   "id": "17db3b7a",
   "metadata": {
    "id": "17db3b7a",
    "tags": []
   },
   "outputs": [
    {
     "name": "stdout",
     "output_type": "stream",
     "text": [
      "Epoch 1/30\n",
      "188/188 [==============================] - 3s 15ms/step - loss: 0.8537 - accuracy: 0.7956 - val_loss: 0.4344 - val_accuracy: 0.8898\n",
      "Epoch 2/30\n",
      "188/188 [==============================] - 2s 11ms/step - loss: 0.4029 - accuracy: 0.8928 - val_loss: 0.3367 - val_accuracy: 0.9101\n",
      "Epoch 3/30\n",
      "188/188 [==============================] - 2s 8ms/step - loss: 0.3434 - accuracy: 0.9064 - val_loss: 0.3093 - val_accuracy: 0.9157\n",
      "Epoch 4/30\n",
      "188/188 [==============================] - 1s 6ms/step - loss: 0.3188 - accuracy: 0.9119 - val_loss: 0.2957 - val_accuracy: 0.9178\n",
      "Epoch 5/30\n",
      "188/188 [==============================] - 1s 6ms/step - loss: 0.3047 - accuracy: 0.9159 - val_loss: 0.2870 - val_accuracy: 0.9200\n",
      "Epoch 6/30\n",
      "188/188 [==============================] - 1s 7ms/step - loss: 0.2953 - accuracy: 0.9176 - val_loss: 0.2800 - val_accuracy: 0.9222\n",
      "Epoch 7/30\n",
      "188/188 [==============================] - 2s 8ms/step - loss: 0.2885 - accuracy: 0.9193 - val_loss: 0.2753 - val_accuracy: 0.9241\n",
      "Epoch 8/30\n",
      "188/188 [==============================] - 3s 13ms/step - loss: 0.2836 - accuracy: 0.9206 - val_loss: 0.2723 - val_accuracy: 0.9252\n",
      "Epoch 9/30\n",
      "188/188 [==============================] - 1s 6ms/step - loss: 0.2793 - accuracy: 0.9223 - val_loss: 0.2706 - val_accuracy: 0.9243\n",
      "Epoch 10/30\n",
      "188/188 [==============================] - 1s 8ms/step - loss: 0.2758 - accuracy: 0.9233 - val_loss: 0.2682 - val_accuracy: 0.9252\n",
      "Epoch 11/30\n",
      "188/188 [==============================] - 1s 7ms/step - loss: 0.2727 - accuracy: 0.9240 - val_loss: 0.2680 - val_accuracy: 0.9258\n",
      "Epoch 12/30\n",
      "188/188 [==============================] - 3s 17ms/step - loss: 0.2704 - accuracy: 0.9253 - val_loss: 0.2660 - val_accuracy: 0.9289\n",
      "Epoch 13/30\n",
      "188/188 [==============================] - 3s 14ms/step - loss: 0.2679 - accuracy: 0.9251 - val_loss: 0.2639 - val_accuracy: 0.9280\n",
      "Epoch 14/30\n",
      "188/188 [==============================] - 2s 11ms/step - loss: 0.2665 - accuracy: 0.9258 - val_loss: 0.2636 - val_accuracy: 0.9278\n",
      "Epoch 15/30\n",
      "188/188 [==============================] - 2s 10ms/step - loss: 0.2644 - accuracy: 0.9268 - val_loss: 0.2645 - val_accuracy: 0.9285\n"
     ]
    }
   ],
   "source": [
    "# Set history = model.fit in order to store the loss and accuracy of the model after each epoch.\n",
    "# You can also utilize callbacks such as early stoppping. The EarlyStopping callback below keeps\n",
    "# record of the weights and validation accuracy after each epoch. Once the validation accuracy \n",
    "# stops improving for a few epochs in a row, the callback stops the training and restores the weights\n",
    "# with the highest validation accuracy.\n",
    "\n",
    "callb0 = keras.callbacks.EarlyStopping(monitor='val_accuracy',\n",
    "                                       patience=3,\n",
    "                                       restore_best_weights=True\n",
    "                                      )\n",
    "\n",
    "history = mnist0_keras_model.fit(train_images,\n",
    "                                 train_labels,\n",
    "                                 validation_split = 0.2,\n",
    "                                 epochs = 30,\n",
    "                                 batch_size = 256,\n",
    "                                 callbacks = callb0\n",
    "                                )"
   ]
  },
  {
   "cell_type": "code",
   "execution_count": 14,
   "id": "8edfcd29",
   "metadata": {
    "colab": {
     "base_uri": "https://localhost:8080/"
    },
    "id": "8edfcd29",
    "outputId": "11790f36-a463-405f-b95c-1565f8a563ed"
   },
   "outputs": [
    {
     "data": {
      "text/plain": [
       "dict_keys(['loss', 'accuracy', 'val_loss', 'val_accuracy'])"
      ]
     },
     "execution_count": 14,
     "metadata": {},
     "output_type": "execute_result"
    }
   ],
   "source": [
    "# Here is the data stored in history:\n",
    "\n",
    "history_dict = history.history\n",
    "history_dict.keys()"
   ]
  },
  {
   "cell_type": "code",
   "execution_count": 15,
   "id": "6b5eb80d",
   "metadata": {
    "colab": {
     "base_uri": "https://localhost:8080/",
     "height": 295
    },
    "id": "6b5eb80d",
    "outputId": "34c96b9d-ec6d-4abc-c71e-482dcd702733"
   },
   "outputs": [
    {
     "data": {
      "image/png": "[encoded data removed]",
      "text/plain": [
       "<Figure size 640x480 with 1 Axes>"
      ]
     },
     "metadata": {},
     "output_type": "display_data"
    }
   ],
   "source": [
    "# We can plot the loss or accuracy of the training and validation datasets to monitor overfitting.\n",
    "\n",
    "history_dict = history.history\n",
    "loss_values = history_dict[\"loss\"]\n",
    "start = 3\n",
    "val_loss_values = history_dict[\"val_loss\"]\n",
    "epochs = range(start, len(loss_values) + 1)\n",
    "plt.plot(epochs, loss_values[start-1:], \"bo\", label=\"Training loss\")\n",
    "plt.plot(epochs, val_loss_values[start-1:], \"b\", label=\"Validation loss\")\n",
    "plt.title(\"Training and validation loss\")\n",
    "plt.xlabel(\"Epochs\")\n",
    "plt.ylabel(\"Loss\")\n",
    "plt.legend()\n",
    "plt.show()"
   ]
  },
  {
   "cell_type": "code",
   "execution_count": 98,
   "id": "39e89328",
   "metadata": {
    "colab": {
     "base_uri": "https://localhost:8080/"
    },
    "id": "39e89328",
    "outputId": "b16da123-188f-4119-f40e-d49710fa5ae9"
   },
   "outputs": [
    {
     "name": "stdout",
     "output_type": "stream",
     "text": [
      "313/313 [==============================] - 1s 4ms/step - loss: 0.2711 - accuracy: 0.9238\n"
     ]
    },
    {
     "data": {
      "text/plain": [
       "[0.27110499143600464, 0.923799991607666]"
      ]
     },
     "execution_count": 98,
     "metadata": {},
     "output_type": "execute_result"
    }
   ],
   "source": [
    "# After the model is adequately trained we can evaluate its performance on the test dataset.\n",
    "\n",
    "mnist0_keras_model.evaluate(test_images, test_labels)"
   ]
  },
  {
   "cell_type": "code",
   "execution_count": 37,
   "id": "222eb304-e8f6-46d1-9526-a61692e3bbda",
   "metadata": {},
   "outputs": [
    {
     "name": "stdout",
     "output_type": "stream",
     "text": [
      "1/1 [==============================] - 0s 44ms/step\n",
      "The true label is : 1 \n",
      "The model predicts: 1\n"
     ]
    }
   ],
   "source": [
    "# To run inference with this model we use model.predict\n",
    "i = 2\n",
    "p = mnist0_keras_model.predict(np.array([test_images[i]]))\n",
    "print('The true label is : {} \\nThe model predicts: {}'.format(test_labels[i],np.argmax(p)))"
   ]
  },
  {
   "cell_type": "markdown",
   "id": "27f54b74",
   "metadata": {},
   "source": [
    "## A simple model with TensorFlow"
   ]
  },
  {
   "cell_type": "markdown",
   "id": "be324386",
   "metadata": {},
   "source": [
    "Now we would like to build and train the same model with Tensorflow. To do so, recall that to build and train such a model we need the following\n",
    "\n",
    "1. Feed Forward: Compute the output of the model given an input.\n",
    "2. Loss function: A differentiable function that compares the output of the model with the provided label.\n",
    "2. Back Propagation: Compute the derivatives of the loss function with respect to the weights.\n",
    "3. Gradient Descent: A mechanism that updates the weights in search of a minimum of the loss function."
   ]
  },
  {
   "cell_type": "code",
   "execution_count": 38,
   "id": "9c1d2261-b00b-487c-84c4-b411a173a883",
   "metadata": {},
   "outputs": [
    {
     "data": {
      "text/plain": [
       "(60000, 28, 28)"
      ]
     },
     "execution_count": 38,
     "metadata": {},
     "output_type": "execute_result"
    }
   ],
   "source": [
    "# Recall the shape of our input data\n",
    "train_images.shape"
   ]
  },
  {
   "cell_type": "code",
   "execution_count": 107,
   "id": "9346776d-e1f6-48bd-a320-8f3c3df1f2be",
   "metadata": {},
   "outputs": [],
   "source": [
    "# Specify the dimensions of the input and output for the model\n",
    "# (We shall flatten the images into vectors)\n",
    "input_dim = 28 * 28\n",
    "output_dim = 10\n",
    "\n",
    "# Initiae the weights for our model\n",
    "w = tf.Variable(tf.random.normal([input_dim, output_dim]), name='w')\n",
    "b = tf.Variable(tf.zeros([output_dim], dtype=tf.float32), name = 'b')\n",
    "\n",
    "# Define the model as a function using TensorFlow operations\n",
    "def mnist_simple_model(x):\n",
    "    y = tf.matmul(tf.reshape(x,[-1,28*28]), w) + b\n",
    "    return tf.nn.softmax(y)\n",
    "\n",
    "# Define the accuracy metric to evaluate model performance\n",
    "def simple_accuracy(x, y_true):\n",
    "    y_true = tf.cast(y_true, tf.int32)\n",
    "    y = tf.math.argmax(mnist_simple_model(x), axis=1, output_type=tf.int32)\n",
    "    total = tf.size(y_true)\n",
    "    count = total - tf.math.count_nonzero(y - y_true, dtype=tf.int32)\n",
    "    return tf.divide(count, total)\n",
    "\n",
    "# Split the data into training and validation datasets\n",
    "x_train = train_images[0:49920]\n",
    "y_train = train_labels[0:49920]\n",
    "\n",
    "x_valid = train_images[49920:]\n",
    "y_valid = train_labels[49920:]"
   ]
  },
  {
   "cell_type": "code",
   "execution_count": 109,
   "id": "9124fbea-48f4-4333-87d3-ec0aeba023ac",
   "metadata": {},
   "outputs": [
    {
     "name": "stdout",
     "output_type": "stream",
     "text": [
      "epoch(0): validation_loss = 0.146878182888031, validation accuracy = 0.16865079365079366\n",
      "epoch(10): validation_loss = 0.08111492544412613, validation accuracy = 0.5244047619047619\n",
      "epoch(20): validation_loss = 0.07142385095357895, validation accuracy = 0.5814484126984127\n",
      "epoch(30): validation_loss = 0.06384877115488052, validation accuracy = 0.6178571428571429\n",
      "epoch(40): validation_loss = 0.055814556777477264, validation accuracy = 0.6639880952380952\n",
      "epoch(50): validation_loss = 0.052464812994003296, validation accuracy = 0.6821428571428572\n",
      "epoch(60): validation_loss = 0.05046094208955765, validation accuracy = 0.6923611111111111\n",
      "epoch(70): validation_loss = 0.04899226129055023, validation accuracy = 0.6994047619047619\n",
      "epoch(80): validation_loss = 0.047520268708467484, validation accuracy = 0.7046626984126985\n",
      "epoch(90): validation_loss = 0.03711423650383949, validation accuracy = 0.7625\n",
      "epoch(100): validation_loss = 0.03275778517127037, validation accuracy = 0.7883928571428571\n",
      "epoch(110): validation_loss = 0.01969188079237938, validation accuracy = 0.8798611111111111\n",
      "epoch(120): validation_loss = 0.018238041549921036, validation accuracy = 0.8891865079365079\n",
      "epoch(130): validation_loss = 0.01735844835639, validation accuracy = 0.8944444444444445\n",
      "epoch(140): validation_loss = 0.016736861318349838, validation accuracy = 0.897420634920635\n",
      "epoch(150): validation_loss = 0.016153963282704353, validation accuracy = 0.9008928571428572\n",
      "epoch(160): validation_loss = 0.015721864998340607, validation accuracy = 0.9036706349206349\n",
      "epoch(170): validation_loss = 0.015375803224742413, validation accuracy = 0.9054563492063492\n",
      "epoch(180): validation_loss = 0.015094920992851257, validation accuracy = 0.9076388888888889\n",
      "epoch(190): validation_loss = 0.014834938570857048, validation accuracy = 0.9096230158730159\n",
      "epoch(200): validation_loss = 0.014639848843216896, validation accuracy = 0.9107142857142857\n"
     ]
    }
   ],
   "source": [
    "# Specify training parameters\n",
    "learning_rate = 1.2\n",
    "epochs = 201\n",
    "batch_size = 256\n",
    "history = {'train_loss':[], 'val_loss':[]}\n",
    "\n",
    "# Write a training loop for the model which runs over the batches for the specified number of epochs\n",
    "for i in range(epochs):\n",
    "    for j in range(len(x_train)//batch_size):\n",
    "        # Select batch from training data\n",
    "        x = x_train[256*j: 256*(j+1)]\n",
    "        y = y_train[256*j: 256*(j+1)]\n",
    "        # Use GradientTape to keep track of the gradients\n",
    "        with tf.GradientTape() as tape:\n",
    "            tape.watch((w, b))\n",
    "            # Compute the prediction as well as the loss (MSE)\n",
    "            predictions = mnist_simple_model(x)\n",
    "            # Remember to convert the true values into one-hot encoding\n",
    "            loss = tf.reduce_mean(tf.square(predictions - tf.one_hot(y,10)))\n",
    "            # GradientTape conveniently calculates the gadient for us\n",
    "            grad_loss = tape.gradient(loss, [w, b])\n",
    "            # Update the weights\n",
    "            w = w - learning_rate*grad_loss[0]\n",
    "            b = b - learning_rate*grad_loss[1]\n",
    "        #\n",
    "        # Move to the next batch\n",
    "        #\n",
    "    # Compute loss on validation data\n",
    "    train_loss = tf.reduce_mean(tf.square(mnist_simple_model(x_train) - tf.one_hot(y_train,10)))\n",
    "    val_loss = tf.reduce_mean(tf.square(mnist_simple_model(x_valid) - tf.one_hot(y_valid,10)))\n",
    "    history['train_loss'].append(train_loss)\n",
    "    history['val_loss'].append(val_loss)\n",
    "    val_accuracy = simple_accuracy(x_valid, y_valid)\n",
    "    if i%10 == 0:\n",
    "        tf.print('epoch({}): validation_loss = {}, validation accuracy = {}'.format(i,val_loss,val_accuracy))\n",
    "    # Shuffle the training data after each epoch\n",
    "    x_train, y_train = shuffle(x_train, y_train)"
   ]
  },
  {
   "cell_type": "code",
   "execution_count": 116,
   "id": "577baf1c-1725-413a-a3d8-4d63cda0fadd",
   "metadata": {},
   "outputs": [
    {
     "data": {
      "image/png": "[encoded data removed]",
      "text/plain": [
       "<Figure size 640x480 with 1 Axes>"
      ]
     },
     "metadata": {},
     "output_type": "display_data"
    }
   ],
   "source": [
    "# We can plot the loss or accuracy of the training and validation datasets to monitor overfitting.\n",
    "\n",
    "start = 20\n",
    "loss_values = history[\"train_loss\"]\n",
    "val_loss_values = history[\"val_loss\"]\n",
    "epochs = range(start, len(loss_values) + 1)\n",
    "plt.plot(epochs, loss_values[start-1:], \"bo\", label=\"Training loss\")\n",
    "plt.plot(epochs, val_loss_values[start-1:], \"b\", label=\"Validation loss\")\n",
    "plt.title(\"Training and validation loss\")\n",
    "plt.xlabel(\"Epochs\")\n",
    "plt.ylabel(\"Loss\")\n",
    "plt.legend()\n",
    "plt.show()"
   ]
  },
  {
   "cell_type": "code",
   "execution_count": 101,
   "id": "1ce924dc-b395-4441-8c58-72dc19bca8db",
   "metadata": {},
   "outputs": [
    {
     "data": {
      "text/plain": [
       "<tf.Tensor: shape=(), dtype=float64, numpy=0.9083>"
      ]
     },
     "execution_count": 101,
     "metadata": {},
     "output_type": "execute_result"
    }
   ],
   "source": [
    "# After the model is adequately trained we can evaluate its performance on the test dataset.\n",
    "\n",
    "simple_accuracy(test_images, test_labels)"
   ]
  },
  {
   "cell_type": "code",
   "execution_count": 106,
   "id": "2f9197aa-cdff-49ff-8f52-ba58e3ab196a",
   "metadata": {},
   "outputs": [
    {
     "name": "stdout",
     "output_type": "stream",
     "text": [
      "The true label is : 7 \n",
      "The model predicts: 7\n"
     ]
    }
   ],
   "source": [
    "# To run inference with this model we can just call the function\n",
    "i = 0\n",
    "p = mnist_simple_model(np.array([test_images[i]]))\n",
    "print('The true label is : {} \\nThe model predicts: {}'.format(test_labels[i],np.argmax(p)))"
   ]
  },
  {
   "cell_type": "markdown",
   "id": "7da7636c-3063-44d4-932d-983b2f38fe85",
   "metadata": {},
   "source": [
    "###\n",
    "\n",
    "It is evident that while the model and optimizer we built from scratch is completely transparent and customizable, it is significantly slower to train.\n",
    "\n",
    "You may be able to speed up the training by tuning the hyperparameters and I encourage you to experiment with this. For instance, you can try implementing a dynamic learning rate which starts at a relatively high value and is progressively lowered as the model is trained.\n",
    "\n",
    "However, to close the gap we would need to implement a more sophisticated training loop and include concepts such as momentum. In practice, the majority of deep learning models can be implemented purely using Keras, perhaps with minimal modifications. Such modifications can be implemented via subclassing which we will cover in another tutorial."
   ]
  },
  {
   "cell_type": "markdown",
   "id": "eea7acd9-7000-4b09-966d-2e4354156162",
   "metadata": {
    "tags": []
   },
   "source": [
    "## Exercises\n",
    "\n",
    "- I encourage you to experiment and familiarize yourself with various optimizers (adam, rmsprop, ...) and their hyperparameters (learning rate, momentum, ...) to better appreciate their utilization.\n",
    "\n",
    "- You can also implement models with different architectures starting with adding hidden layers to the models presented here.\n",
    "\n",
    "- Lastly, you can try incorporating momentum into the training loop. Schematically, this is what the update rule with momentum should look like:\n",
    "\n",
    "    w(j+1) = w(j) - learning_rate x d_wloss(j) - momentum * d_wloss(j-1)\n",
    "\n",
    "    where j is the number of steps into an epoch (i.e. batch number). You can look here \n",
    "    https://optimization.cbe.cornell.edu/index.php?title=Momentum\n",
    "    to gain a better understanding of the benefits of adding momentum to stochastic gradient descent."
   ]
  }
 ],
 "metadata": {
  "accelerator": "GPU",
  "colab": {
   "collapsed_sections": [],
   "name": "Feature_Engineering_MNIST.ipynb",
   "provenance": []
  },
  "kernelspec": {
   "display_name": "Python [conda env:tf]",
   "language": "python",
   "name": "conda-env-tf-py"
  },
  "language_info": {
   "codemirror_mode": {
    "name": "ipython",
    "version": 3
   },
   "file_extension": ".py",
   "mimetype": "text/x-python",
   "name": "python",
   "nbconvert_exporter": "python",
   "pygments_lexer": "ipython3",
   "version": "3.10.9"
  }
 },
 "nbformat": 4,
 "nbformat_minor": 5
}
