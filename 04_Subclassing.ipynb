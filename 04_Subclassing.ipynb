{
 "cells": [
  {
   "cell_type": "code",
   "execution_count": 2,
   "id": "7bdf1fc8-5d01-4f55-9be2-c9b84970a583",
   "metadata": {
    "tags": []
   },
   "outputs": [],
   "source": [
    "import os\n",
    "import gc\n",
    "import math\n",
    "import numpy as np\n",
    "import matplotlib.pyplot as plt\n",
    "import tensorflow as tf\n",
    "from tensorflow import keras\n",
    "from tensorflow.keras import layers\n",
    "from tensorflow.keras.datasets import mnist\n",
    "from sklearn.utils import shuffle"
   ]
  },
  {
   "cell_type": "code",
   "execution_count": 3,
   "id": "23943983-b994-402c-a552-2214c46afd30",
   "metadata": {},
   "outputs": [],
   "source": [
    "# Assign home_dir as a local directory to use when saving data to disk.\n",
    "home_dir = os.getenv(\"home_BA885\")\n",
    "#\n",
    "if not home_dir:\n",
    "    home_dir = os.getcwd()\n",
    "# Colab home\n",
    "# home_dir = \"/content/\""
   ]
  },
  {
   "cell_type": "markdown",
   "id": "eab73bf8-6691-489e-a53c-aed219389ab2",
   "metadata": {},
   "source": [
    "# Subclassing\n",
    "\n",
    "The standard Keras toolkit is perfectly adequate to meet the requirements for most deep learning applications. However, when building models with more complex architectures it is often convenient (if not necesssary) to customize the building blocks. This is best achieved via subclassing the two main building blocks which are:\n",
    "\n",
    "- tf.keras.Model\n",
    "- tf.keras.layers.Layer\n",
    "\n",
    "Note that tf.keras.Model is itself a subclass of tf.Module.\n",
    "\n",
    "In this notebook we will subclass keras Model and Layer classes to suit our needs. Note that our approach to model building is a modular one which is how most modern Deep Learning models are built."
   ]
  },
  {
   "cell_type": "markdown",
   "id": "7c5dcf32-7cf0-4145-8d3c-a3cc0ec94cf0",
   "metadata": {},
   "source": [
    "## Subclassing keras.Model\n",
    "\n",
    "As we get to more complex models we often find that they are constructed out of smaller specialized parts. For example, machine translation models (Google Translate, DeelL Translator, ...) have an encoder-decoder structure where the encoder is tasked with 'understanding' the input while the decoder is trained to generate text from this understanding.\n",
    "\n",
    "Moreover, the individual parts comprising a bigger model with a complex architecture may have sand-alone applications or be shared across multiple DNNs. It is therefore beneficial to practice building and training models which themselves are constructed from smaller parts.\n",
    "\n",
    "In the following we will build a Decision Tree Neural Network, which is a decision tree such that each node is a binary classification DNN. Such a model can be set up in a variaty of ways. In particular we can choose to train each node individually or to train the entire tree together."
   ]
  },
  {
   "cell_type": "code",
   "execution_count": 4,
   "id": "bf6cc37c-579a-4e9a-976d-e4ffe01e9601",
   "metadata": {},
   "outputs": [],
   "source": [
    "# Load the MNIST dataset.\n",
    "(train_images, train_labels), (test_images, test_labels) = mnist.load_data()\n",
    "\n",
    "# Rescale the data\n",
    "train_images = train_images.astype(\"float32\") / 255\n",
    "test_images = test_images.astype(\"float32\") / 255\n",
    "\n",
    "# Seperate the validation dataset\n",
    "val_images = train_images[50000:]\n",
    "val_labels = train_labels[50000:]\n",
    "\n",
    "train_images = train_images[0:50000]\n",
    "train_labels = train_labels[0:50000]\n",
    "\n",
    "# Define a function to convert labels to binary labels for list of digits\n",
    "# returns [int(label in digits) for label in labels]\n",
    "#\n",
    "def bin_labels(digits: list, labels):\n",
    "    \"\"\"Takes a numpy array of labels valued in [0:10] and a list of integer\n",
    "    digits in the same range and returns a numpy array of labels valued \n",
    "    in [0,1], 1 for when original label is present in digits, 0 otherwise.\n",
    "    \"\"\"\n",
    "    #\n",
    "    return (\n",
    "        np.any(\n",
    "            np.logical_not(np.subtract(np.array(digits).reshape((-1,1)),\n",
    "                                       labels.reshape((1,-1))).astype('bool')),\n",
    "            axis=0).astype('int')\n",
    "    )"
   ]
  },
  {
   "cell_type": "markdown",
   "id": "f3098638-f57c-4c36-b772-bf88aba94626",
   "metadata": {},
   "source": [
    "### MNIST Decision Tree\n",
    "\n",
    "Our starting point is a fixed decision tree where each node, labeled by a set of digits, is responsible for determining whether the input image is of one of the digits present in the label. For instance, the '06' node should return 1 when given an image of 0 or 6 and return 0 otherwise.\n",
    "\n",
    "You can systematically look for the best choice of partitions starting with the root. We will work with the fixed tree provided below."
   ]
  },
  {
   "cell_type": "code",
   "execution_count": 5,
   "id": "de6137d7-04bd-4738-991f-ec8ab727253b",
   "metadata": {},
   "outputs": [],
   "source": [
    "# Define tree as a list where tree[i] is the parent node of tree[2i+1] and tree[2i+2]\n",
    "tree = [[0,1,2,3,4,5,6,7,8,9],\n",
    "        [0,2,3,5,6,8], [1,4,7,9],\n",
    "        [2,3,5,8], [0,6] , [4,9], [1,7],\n",
    "        [3,5], [2,8], [0] , [6], [4], [9], [1], [7],\n",
    "        [3], [5], [2], [8]]\n",
    "#\n",
    "# We will simply label the nodes by a string of digits the node is responsible for.\n",
    "tree_node_labels = ['root','023568','1479','2358','06','49','17','35','28',\n",
    "                    '0','6','4','9','1','7','3','5','2','8']\n",
    "#\n",
    "# Define some useful functions to loolup the relationship between nodes.\n",
    "def parent_index(i):\n",
    "    # Takes in child index 'i', returns parent index 'k'.\n",
    "    if i<3:\n",
    "        k = 0\n",
    "    else:\n",
    "        k = (i - 1) // 2\n",
    "    return k\n",
    "#\n",
    "def parent_label(node_label):\n",
    "    # Takes in child label 'node_label', returns the label of the parent node.\n",
    "    if node_label in tree_node_labels[:3]:\n",
    "        parent = tree_node_labels[0]\n",
    "    else:\n",
    "        parent = tree_node_labels[(tree_node_labels.index(node_label) - 1) // 2]\n",
    "    return parent\n",
    "#\n",
    "def sibling_index(i):\n",
    "    # Takes in node index 'i', returns sibling index 'j'.\n",
    "    if i == 0:\n",
    "        j = 0\n",
    "    else:\n",
    "        j = i + 2 * (i%2) - 1\n",
    "    return j"
   ]
  },
  {
   "cell_type": "code",
   "execution_count": 6,
   "id": "acc237cd-6d7b-42f6-901d-8a1fa09c3b7b",
   "metadata": {
    "collapsed": true,
    "jupyter": {
     "outputs_hidden": true
    },
    "tags": []
   },
   "outputs": [
    {
     "name": "stdout",
     "output_type": "stream",
     "text": [
      "root is a child of root\n",
      "023568 is a child of root\n",
      "1479 is a child of root\n",
      "2358 is a child of 023568\n",
      "06 is a child of 023568\n",
      "49 is a child of 1479\n",
      "17 is a child of 1479\n",
      "35 is a child of 2358\n",
      "28 is a child of 2358\n",
      "0 is a child of 06\n",
      "6 is a child of 06\n",
      "4 is a child of 49\n",
      "9 is a child of 49\n",
      "1 is a child of 17\n",
      "7 is a child of 17\n",
      "3 is a child of 35\n",
      "5 is a child of 35\n",
      "2 is a child of 28\n",
      "8 is a child of 28\n"
     ]
    }
   ],
   "source": [
    "for n in tree_node_labels:\n",
    "    print('{} is a child of {}'.format(n, parent_label(n)))"
   ]
  },
  {
   "cell_type": "code",
   "execution_count": 7,
   "id": "93f846a1-d1f3-4692-ba22-a024283673fd",
   "metadata": {
    "collapsed": true,
    "jupyter": {
     "outputs_hidden": true
    },
    "tags": []
   },
   "outputs": [
    {
     "name": "stdout",
     "output_type": "stream",
     "text": [
      "root is the sibling of root\n",
      "023568 is the sibling of 1479\n",
      "1479 is the sibling of 023568\n",
      "2358 is the sibling of 06\n",
      "06 is the sibling of 2358\n",
      "49 is the sibling of 17\n",
      "17 is the sibling of 49\n",
      "35 is the sibling of 28\n",
      "28 is the sibling of 35\n",
      "0 is the sibling of 6\n",
      "6 is the sibling of 0\n",
      "4 is the sibling of 9\n",
      "9 is the sibling of 4\n",
      "1 is the sibling of 7\n",
      "7 is the sibling of 1\n",
      "3 is the sibling of 5\n",
      "5 is the sibling of 3\n",
      "2 is the sibling of 8\n",
      "8 is the sibling of 2\n"
     ]
    }
   ],
   "source": [
    "for n in tree_node_labels:\n",
    "    print('{} is the sibling of {}'.format(n, tree_node_labels[\n",
    "        sibling_index(tree_node_labels.index(n))]))"
   ]
  },
  {
   "cell_type": "code",
   "execution_count": 8,
   "id": "24a1905e-bdc2-4f78-b604-57c48ae6e804",
   "metadata": {},
   "outputs": [
    {
     "name": "stdout",
     "output_type": "stream",
     "text": [
      "['0', '1', '2', '3', '4', '5', '6', '7', '8', '9']\n"
     ]
    }
   ],
   "source": [
    "# For convenience we define a list to store the indices of leaves\n",
    "# with the natural ordering:\n",
    "leaf_order = []\n",
    "for i in range(10):\n",
    "    leaf_order.append(tree_node_labels.index('{}'.format(i)))\n",
    "#\n",
    "print([tree_node_labels[i] for i in leaf_order])"
   ]
  },
  {
   "cell_type": "markdown",
   "id": "38f7d7c3-9ca9-42b3-9dd9-953a2ba298d5",
   "metadata": {},
   "source": [
    "### Node model\n",
    "\n",
    "As mentioned above, each node is a binary classifier and can be treated as a stand-alone model and takes an image of a digit as an input and returns a 'confidence' value as the output gauging the likelihood that the digit in the image is one of the nodes designated digits.\n",
    "\n",
    "In such an image recognition DNN, the initial layers tend to extract 'surface level features' which are the same for all nodes. Thus we will break the nodes into a 'preprocessing' module, shared across all nodes, and specialized classifiers for each node. A full binary classifier will be the combination of these two:\n",
    "\n",
    "input image --> prep_mod --> node_model --> output\n"
   ]
  },
  {
   "cell_type": "code",
   "execution_count": 5,
   "id": "11d2d728-1353-4b8b-b8f9-f50c91206728",
   "metadata": {},
   "outputs": [],
   "source": [
    "# Define a function that generates our preprocessing model.\n",
    "def get_prep_model(num_filters = 64, model_name = 'prep_mod'):\n",
    "    \"\"\"Generates a CNN with input_shape = (28,28)\n",
    "    and output_shape = (14,14,num_filters)\n",
    "    \"\"\"\n",
    "    inputs = layers.Input(shape=(28,28,))\n",
    "    # Reshape input for a 2D Convolutional NN\n",
    "    x = layers.Reshape((28,28,1,))(inputs)\n",
    "    # Pass input through a CNN block\n",
    "    x = layers.Conv2D(32, 6, 1, activation='relu', padding='same')(x)\n",
    "    x = layers.Conv2D(num_filters, 4, 1, activation='relu', padding='same')(x)\n",
    "    x = layers.AveragePooling2D(pool_size = (2,2))(x)\n",
    "    #\n",
    "    return keras.Model(inputs, x, name = model_name)\n",
    "#\n",
    "#\n",
    "# Define a function that generates a node model.\n",
    "def get_node_model(input_shape = (14, 14, 64), model_name = None):\n",
    "    \"\"\"Generates a binary classifier CNN. with default input\n",
    "    shape (14, 14, 64) and a single sigmoid output.\n",
    "    \"\"\"\n",
    "    inputs = layers.Input(shape=input_shape)\n",
    "    #\n",
    "    x = layers.Conv2D(128, 4, 1, activation='relu')(inputs)\n",
    "    x = layers.AveragePooling2D(pool_size = (2,2))(x)\n",
    "    x = layers.Conv2D(64, 2, 1, activation='relu')(x)\n",
    "    x = layers.AveragePooling2D(pool_size = (2,2))(x)\n",
    "    x = layers.Flatten()(x)\n",
    "    x = layers.Dense(1, activation='sigmoid')(x)\n",
    "    #\n",
    "    return keras.Model(inputs, x, name = model_name)"
   ]
  },
  {
   "cell_type": "markdown",
   "id": "8de3bc6e-23db-4c24-b9ff-7e6fda0664aa",
   "metadata": {},
   "source": [
    "### The full decision tree neural network\n",
    "\n",
    "With the individual node models prepared we now have to glue them together to build the full tree. We will achieve this with a custom made keras.Model class."
   ]
  },
  {
   "cell_type": "code",
   "execution_count": 6,
   "id": "93e9a83c-dff4-4016-a7d6-4cb2dad38d65",
   "metadata": {},
   "outputs": [],
   "source": [
    "# Define the decision tree neural network class as a subclass of keras.Model\n",
    "#\n",
    "class MNIST_DTNN(keras.Model):\n",
    "    \"\"\"A model class for a simple decision tree neural network.\n",
    "    Subclass of keras.Model with arguments:\n",
    "    'node_models' is a list of binary classification models \n",
    "    representing our decision tree.\n",
    "    'leaf_order' is the ordering of the leaves that best matches the labels.\n",
    "    'residual_conn' is the residual connection when passing the (prep-ed)\n",
    "    image from one node to its children.\n",
    "    \"\"\"\n",
    "    # \n",
    "    #\n",
    "    def __init__(self, node_models, leaf_order, residual_conn = 0.01):\n",
    "        # Initializes the class. \n",
    "        #\n",
    "        super().__init__()\n",
    "        # Initializes by calling the initializer of the parent class.\n",
    "        #\n",
    "        self.node_models = node_models\n",
    "        self.leaf_order = leaf_order\n",
    "        self.num_nodes = len(node_models)\n",
    "        self.res = residual_conn\n",
    "        #\n",
    "    def call(self, inputs, training = False):\n",
    "        # Preprocess the input images to select 'surface level' features\n",
    "        # which should be the same for all nodes.\n",
    "        nodes = [self.node_models[0](inputs)]\n",
    "        #\n",
    "        # All other nodes take their inputs through nodes[0].\n",
    "        # Establish the parent-child hierarchy by suppressing the output\n",
    "        # of each node with the output of the parent node.\n",
    "        for i in range(1, self.num_nodes):\n",
    "            if i<3:\n",
    "                # No suppression present.\n",
    "                nodes.append(self.node_models[i](nodes[0]))\n",
    "            else:\n",
    "                # Suppress with parent and parent's sibling output down to\n",
    "                # a minimum set by the residual connection.\n",
    "                nodes.append(tf.multiply(self.res+1 - nodes[sibling_index((i-1)//2)],\n",
    "                                         tf.multiply(self.res + nodes[(i-1)//2],\n",
    "                                                     self.node_models[i](nodes[0]))\n",
    "                                        )\n",
    "                            )\n",
    "        #\n",
    "        # Concatenate all the leaves with the correct order provided by leaf_order.\n",
    "        y = layers.Concatenate()([nodes[i] for i in self.leaf_order])\n",
    "        # Normalize the output via a Softmax layer.\n",
    "        y = layers.Softmax()(y)\n",
    "        # Return y as the model output.\n",
    "        return y"
   ]
  },
  {
   "cell_type": "code",
   "execution_count": 12,
   "id": "0e67cf4e-74aa-4423-ad92-2413de550b63",
   "metadata": {},
   "outputs": [],
   "source": [
    "# Set 'num_filters' hyperparameter.\n",
    "num_filters = 64\n",
    "\n",
    "# Instantiate all the node models in a list which mirrors the tree_node_labels.\n",
    "# Our prep_model will represent the root node.\n",
    "node_models = []\n",
    "#\n",
    "# Generate the prep_model\n",
    "node_models.append(get_prep_model(num_filters, 'root'))\n",
    "# Build prep_model\n",
    "node_models[0].build(input_shape = (28,28,))\n",
    "#\n",
    "# Generate all the nodes\n",
    "for node in tree_node_labels[1:]:\n",
    "    node_models.append(get_node_model((14,14,num_filters), node))\n",
    "#\n",
    "# Build all the node_models\n",
    "for model in node_models[1:]:\n",
    "    model.build(input_shape = (14,14,num_filters))\n",
    "#\n",
    "#\n",
    "# Instantiate the full DT model\n",
    "mnist_DT_model = MNIST_DTNN(node_models, leaf_order, residual_conn=0.2)\n",
    "#\n",
    "# Choose the optimizer, loss function and metrics with which to compile the model.\n",
    "# We will choose 'sparse_categoriacal_crossentropy' as the loss function since the\n",
    "# labels are valued in range(10) while the model outputs are one-hot encoded.\n",
    "optim0 = \"adam\"\n",
    "loss0 = \"sparse_categorical_crossentropy\"\n",
    "metrics0 = [\"accuracy\"]\n",
    "callbacks0 = [keras.callbacks.EarlyStopping(\"val_loss\",\n",
    "                                            patience=5,\n",
    "                                            restore_best_weights=True)]\n",
    "\n",
    "mnist_DT_model.compile(optimizer = optim0, loss = loss0, metrics = metrics0)"
   ]
  },
  {
   "cell_type": "code",
   "execution_count": 18,
   "id": "f50dd857-95d3-4346-8438-e07f2f18fd1c",
   "metadata": {},
   "outputs": [
    {
     "name": "stdout",
     "output_type": "stream",
     "text": [
      "196/196 [==============================] - 1298s 7s/step - loss: 1.4255 - accuracy: 0.8862 - val_loss: 1.3280 - val_accuracy: 0.9678\n"
     ]
    },
    {
     "data": {
      "text/plain": [
       "<keras.callbacks.History at 0x7fbe0df1a230>"
      ]
     },
     "execution_count": 18,
     "metadata": {},
     "output_type": "execute_result"
    }
   ],
   "source": [
    "# Train the model\n",
    "mnist_DT_model.fit(train_images, train_labels,\n",
    "                   validation_data=(val_images, val_labels),\n",
    "                   epochs = 1,\n",
    "                   batch_size = 256,\n",
    "                   #callbacks = callbacks0,\n",
    "                   verbose = 1)"
   ]
  },
  {
   "cell_type": "code",
   "execution_count": 13,
   "id": "0c7624a3-51c0-41ee-b8ec-b168e19b2621",
   "metadata": {},
   "outputs": [],
   "source": [
    "# Save node model wieghts\n",
    "#for i in range(len(tree)):\n",
    "#    node_models[i].save_weights(\n",
    "#        home_dir+'/models/04_mnist_DT_weights/mnist_DT_node_{}.h5'.format(i))\n",
    "#\n",
    "# Load node model weights (the provided weights are the result of ~15 epochs of\n",
    "# training with the train dataset of 50,000 images.\n",
    "for i in range(len(tree)):\n",
    "    node_models[i].load_weights(\n",
    "        home_dir+'/models/04_mnist_DT_weights/mnist_DT_node_{}.h5'.format(i))"
   ]
  },
  {
   "cell_type": "code",
   "execution_count": 14,
   "id": "b9084d0a-0ff2-4e2c-a982-45218f513b24",
   "metadata": {},
   "outputs": [
    {
     "name": "stdout",
     "output_type": "stream",
     "text": [
      "313/313 [==============================] - 52s 162ms/step - loss: 0.7085 - accuracy: 0.9923\n"
     ]
    },
    {
     "data": {
      "text/plain": [
       "[0.7084919214248657, 0.9922999739646912]"
      ]
     },
     "execution_count": 14,
     "metadata": {},
     "output_type": "execute_result"
    }
   ],
   "source": [
    "# Check model performance on the test dataset\n",
    "mnist_DT_model.evaluate(test_images, test_labels)"
   ]
  },
  {
   "cell_type": "code",
   "execution_count": 27,
   "id": "9368f78a-8e84-402b-ba45-44d7d6e46c23",
   "metadata": {},
   "outputs": [],
   "source": [
    "# We can also check the performance of individual node models.\n",
    "# To this end we first define the accuracy function below:\n",
    "def node_model_accuracy(i, images, labels):\n",
    "    # 'i' is the node index in node_models (0 < i < len(tree))\n",
    "    # ('images', 'labels') is the dataset on which we compute\n",
    "    # model accuracy.\n",
    "    if not (0 < i or i < len(tree)):\n",
    "        raise ValueError('Node index out of range.')\n",
    "    return np.mean(\n",
    "        np.dot(1, np.equal(bin_labels(tree[i], labels),\n",
    "                          np.round(\n",
    "                              node_models[i](\n",
    "                                  node_models[0](images))).reshape((-1))\n",
    "                          )\n",
    "              ))"
   ]
  },
  {
   "cell_type": "code",
   "execution_count": 28,
   "id": "048b84fe-9a50-4af4-868d-44ff2f15f32b",
   "metadata": {},
   "outputs": [
    {
     "data": {
      "text/plain": [
       "'node 2358 accuracy = 0.595'"
      ]
     },
     "execution_count": 28,
     "metadata": {},
     "output_type": "execute_result"
    }
   ],
   "source": [
    "# Note that each node model is predominantly trained on samples\n",
    "# relevant to its parent's branch. For instance, node '2358' is\n",
    "# specialized in identifying the digits in its label apart from\n",
    "# the set of [0,2,3,5,6,8]. It, however will do a poor job \n",
    "# classifying images of [1,4,7,9].\n",
    "node_i = tree_node_labels.index('2358')\n",
    "'node {} accuracy = {}'.format(tree_node_labels[node_i], \n",
    "                               node_model_accuracy(node_i,\n",
    "                                                   test_images,\n",
    "                                                   test_labels)\n",
    "                               )"
   ]
  },
  {
   "cell_type": "code",
   "execution_count": 32,
   "id": "f8de488b-823e-4935-af2e-abd505d8e7db",
   "metadata": {},
   "outputs": [
    {
     "name": "stdout",
     "output_type": "stream",
     "text": [
      "node 2358 accuracy on restricted dataset:\n"
     ]
    },
    {
     "data": {
      "text/plain": [
       "0.9979473144030107"
      ]
     },
     "execution_count": 32,
     "metadata": {},
     "output_type": "execute_result"
    }
   ],
   "source": [
    "# The appropriate way to assess the performance of the nodes is\n",
    "# to limit the dataset to the classes identified by the parent node.\n",
    "def parent_mask(i, labels):\n",
    "    # generates a mask array that masks classes on which node 'i'\n",
    "    # is not properly trained.\n",
    "    return bin_labels(tree[parent_index(i)], labels).astype('bool')\n",
    "#\n",
    "#\n",
    "node_i = tree_node_labels.index('2358')\n",
    "print('node {} accuracy on restricted dataset:'.format(tree_node_labels[node_i]))\n",
    "node_model_accuracy(node_i, test_images[parent_mask(node_i, test_labels)],\n",
    "                    test_labels[parent_mask(node_i, test_labels)])"
   ]
  },
  {
   "cell_type": "code",
   "execution_count": 26,
   "id": "df82cd4e-d07e-40ec-8f1e-289ef57ebd17",
   "metadata": {},
   "outputs": [
    {
     "data": {
      "text/plain": [
       "0.9979473144030107"
      ]
     },
     "execution_count": 26,
     "metadata": {},
     "output_type": "execute_result"
    }
   ],
   "source": [
    "node_model_accuracy(node_i, test_images[mask], test_labels[mask])"
   ]
  },
  {
   "cell_type": "markdown",
   "id": "2682041c-6ebe-4f00-b633-419e4b24c1ad",
   "metadata": {},
   "source": [
    "### "
   ]
  },
  {
   "cell_type": "markdown",
   "id": "91d19d8f-15ef-4449-acc9-67553268f86b",
   "metadata": {},
   "source": [
    "## Subclassing keras.Layer"
   ]
  },
  {
   "cell_type": "markdown",
   "id": "cf3b7e15-fd0f-4fa4-ad73-ee8f20a7245d",
   "metadata": {
    "tags": []
   },
   "source": [
    "### A simple example\n",
    "\n",
    "Let us revisit our simple 3 parameter model to which predicts whether the image depicts the digit 0 or not."
   ]
  },
  {
   "cell_type": "code",
   "execution_count": 8,
   "id": "36189275-ca4c-4aef-8d4a-f0e26bc84d03",
   "metadata": {},
   "outputs": [
    {
     "data": {
      "image/png": "[encoded data removed]",
      "text/plain": [
       "<IPython.core.display.Image object>"
      ]
     },
     "execution_count": 8,
     "metadata": {},
     "output_type": "execute_result"
    }
   ],
   "source": [
    "# Compute the average of the images of 0 to use as a mask\n",
    "mask0 = np.average(train_images[np.where(train_labels==0)],axis=0).reshape((28*28,1))\n",
    "mask1 = 1 - mask0\n",
    "\n",
    "# Build a model with only 3 trainable parameters using our masks to identify 0s\n",
    "def ZeroOrNot_3p(x = 'mnist_0_model_3p'):\n",
    "    \"\"\"Generates a model with input shape (28,28) and output shape (1)\n",
    "    The model has 3 trainable parameters w0, w1 and b:\n",
    "    Input x --> output = sigmoid( w0*mask0(x) + w1*mask1(x) + b )\n",
    "    \"\"\"\n",
    "    mnist_0_input = layers.Input(shape=(28,28,))\n",
    "    mnist_0_flatten = layers.Flatten()(mnist_0_input)\n",
    "    mnist_0_mask_0 = layers.Dense(1)(mnist_0_flatten)\n",
    "    mnist_0_mask_1 = layers.Dense(1)(mnist_0_flatten)\n",
    "    mnist_0_concat = layers.Concatenate()([mnist_0_mask_0,mnist_0_mask_1])\n",
    "    mnist_0_output = layers.Dense(1, activation=\"sigmoid\")(mnist_0_concat)\n",
    "    #\n",
    "    mnist_0_model_3p = keras.Model(inputs = mnist_0_input, \n",
    "                                   outputs = mnist_0_output, \n",
    "                                   name = x)\n",
    "    #\n",
    "    # Set the weights of the mask layers\n",
    "    mnist_0_model_3p.layers[2].set_weights([mask0, np.zeros(1)])\n",
    "    mnist_0_model_3p.layers[3].set_weights([mask1, np.zeros(1)])\n",
    "    #\n",
    "    # Set the mask layers as not trainable\n",
    "    mnist_0_model_3p.layers[2].trainable = False\n",
    "    mnist_0_model_3p.layers[3].trainable = False\n",
    "    #\n",
    "    return mnist_0_model_3p\n",
    "\n",
    "mnist_0_model_3p = ZeroOrNot_3p()\n",
    "# Plot the DAG for this model\n",
    "keras.utils.plot_model(mnist_0_model_3p, to_file=home_dir+'/tmp/mnist_0_model_3p.png')"
   ]
  },
  {
   "cell_type": "markdown",
   "id": "adf83aea-ba88-4131-9dc1-88c68db0f34c",
   "metadata": {},
   "source": [
    "Note that we had to use 4 layers to implement a very simple operation:\n",
    "\n",
    "output = sigmoid(w0 * dot(input, mask0) + w1 * dot(input, mask1) + b)\n",
    "\n",
    "This unnecessarily clutters our model, specially if we need to repeat this pattern multiple times. Instead we can simply define a keras layer that implements this simple operation."
   ]
  },
  {
   "cell_type": "code",
   "execution_count": 11,
   "id": "7dc9de33-6062-44c6-b33f-eebc28d8afa7",
   "metadata": {},
   "outputs": [],
   "source": [
    "# Create a subclass of Layer that applies our simple operation\n",
    "# output = sigmoid(w0 * dot(input, mask0) + w1 * dot(input, mask1) + b)\n",
    "# We will make the layer more general to allow for generalization.\n",
    "\n",
    "class reduced_dense(keras.layers.Layer):\n",
    "    \"\"\"Subclass of keras.layers.Layer which takes as arguments\n",
    "    'masks' a numpy array of shape (input_shape, number of masks)\n",
    "    'units' determines the shape of the output (units,).\n",
    "    \"\"\"\n",
    "    def __init__(self, masks, units=1, activation=tf.nn.sigmoid):\n",
    "        # Initializer of our class object\n",
    "        #\n",
    "        super().__init__()\n",
    "        # Initializes by calling the initializer of the parent class\n",
    "        #\n",
    "        self.units = units\n",
    "        self.activation = activation\n",
    "        self.masks = masks\n",
    "        self.number_of_masks = masks.shape[-1]\n",
    "        #\n",
    "    def build(self, input_shape):\n",
    "        # Builds the layer object and initializes the weights\n",
    "        #\n",
    "        dim = self.number_of_masks\n",
    "        self.w = self.add_weight(shape = (dim,self.units), initializer=\"random_normal\")\n",
    "        self.b = self.add_weight(shape = (self.units,), initializer=\"zeros\")\n",
    "        #\n",
    "    def call(self, inputs):\n",
    "        # Evaluates the output of the layer\n",
    "        # sigmoid( (input @ mask0) @ w + b )\n",
    "        y = tf.matmul( tf.matmul(inputs, self.masks) , self.w) + self.b\n",
    "        return self.activation(y)\n",
    "    #\n",
    "    # Note: For serialization you also need to define the functions \n",
    "    # get_config and from_config.\n",
    "    # "
   ]
  },
  {
   "cell_type": "code",
   "execution_count": 12,
   "id": "c4f0a57e-7565-4f20-8baf-fe647d40ea62",
   "metadata": {},
   "outputs": [
    {
     "name": "stdout",
     "output_type": "stream",
     "text": [
      "Model: \"mnist_0_simplified_3p\"\n",
      "_________________________________________________________________\n",
      " Layer (type)                Output Shape              Param #   \n",
      "=================================================================\n",
      " input_3 (InputLayer)        [(None, 28, 28)]          0         \n",
      "                                                                 \n",
      " flatten_2 (Flatten)         (None, 784)               0         \n",
      "                                                                 \n",
      " reduced_dense (reduced_dens  (None, 1)                3         \n",
      " e)                                                              \n",
      "                                                                 \n",
      "=================================================================\n",
      "Total params: 3\n",
      "Trainable params: 3\n",
      "Non-trainable params: 0\n",
      "_________________________________________________________________\n"
     ]
    },
    {
     "data": {
      "image/png": "[encoded data removed]",
      "text/plain": [
       "<IPython.core.display.Image object>"
      ]
     },
     "execution_count": 12,
     "metadata": {},
     "output_type": "execute_result"
    }
   ],
   "source": [
    "# Using the subclassed layer our model declutters substantially\n",
    "mask0 = np.average(train_images[np.where(train_labels==0)],axis=0).reshape((28*28,1))\n",
    "masks = np.concatenate([mask0, 1-mask0], axis=1)\n",
    "\n",
    "# Build a model with only 3 trainable parameters using our masks to identify 0s\n",
    "def ZeroOrNot_simplified_3p(masks, x = 'mnist_0_simplified_3p'):\n",
    "    # Generates a model with input shape (28,28) and output shape (1)\n",
    "    # The model has 3 trainable parameters w0, w1 and b:\n",
    "    # Input x --> output = sigmoid( w0*mask0(x) + w1*mask1(x) + b )\n",
    "    mnist_0_input = layers.Input(shape=(28,28,))\n",
    "    mnist_0_flatten = layers.Flatten()(mnist_0_input)\n",
    "    mnist_0_output = reduced_dense(masks)(mnist_0_flatten)\n",
    "    #\n",
    "    mnist_0_simplified_3p = keras.Model(inputs = mnist_0_input,\n",
    "                                        outputs = mnist_0_output,\n",
    "                                        name = x)\n",
    "    #\n",
    "    return mnist_0_simplified_3p\n",
    "\n",
    "mnist_0_simplified_3p = ZeroOrNot_simplified_3p(masks)\n",
    "#Print out the summary\n",
    "mnist_0_simplified_3p.summary()\n",
    "# Plot the DAG for this model\n",
    "keras.utils.plot_model(mnist_0_simplified_3p, \n",
    "                       to_file=home_dir+'/tmp/mnist_0_simplified_3p.png')"
   ]
  },
  {
   "cell_type": "code",
   "execution_count": 9,
   "id": "fb62ec2d-ffa5-4a97-b05f-38765777f6ef",
   "metadata": {},
   "outputs": [
    {
     "name": "stdout",
     "output_type": "stream",
     "text": [
      "313/313 [==============================] - 0s 1ms/step - loss: 0.1101 - binary_accuracy: 0.9678\n"
     ]
    },
    {
     "data": {
      "text/plain": [
       "[0.11012645065784454, 0.9678000211715698]"
      ]
     },
     "execution_count": 9,
     "metadata": {},
     "output_type": "execute_result"
    }
   ],
   "source": [
    "# Choose the optimizer, loss function and metrics with which to compile the model.\n",
    "# We will choose binary crossentropy as the loss function since the labels are 0 or 1\n",
    "# and the model output is a single number between 0 and 1.\n",
    "optim0 = \"rmsprop\"\n",
    "loss0 = \"binary_crossentropy\"\n",
    "metrics0 = [\"binary_accuracy\"]\n",
    "\n",
    "mnist_0_simplified_3p.compile(optimizer = optim0, loss = loss0, metrics = metrics0)\n",
    "\n",
    "# Utilize early stoppping callback.\n",
    "#\n",
    "callb0 = keras.callbacks.EarlyStopping(monitor='val_binary_accuracy',\n",
    "                                       patience=3,\n",
    "                                       restore_best_weights=True\n",
    "                                      )\n",
    "\n",
    "# Train the model\n",
    "#\n",
    "mnist_0_simplified_3p.fit(train_images, bin_labels(0, train_labels),\n",
    "                          validation_data = (val_images, bin_labels(0, val_labels)),\n",
    "                          epochs = 30,\n",
    "                          batch_size = 256,\n",
    "                          callbacks = callb0,\n",
    "                          verbose = 0)\n",
    "\n",
    "# Check the performance on validation or test datasets\n",
    "#\n",
    "mnist_0_simplified_3p.evaluate(val_images, bin_labels(0, val_labels))"
   ]
  },
  {
   "cell_type": "markdown",
   "id": "df33e2cd-c647-4e76-9ca3-0a197c806cc8",
   "metadata": {
    "jp-MarkdownHeadingCollapsed": true,
    "tags": []
   },
   "source": [
    "#### Exercise\n",
    "\n",
    "Extend our simplified 3-parameter model to the full MNIST problem."
   ]
  },
  {
   "cell_type": "markdown",
   "id": "5716a482-a54a-4a46-9f0d-7060da6735d2",
   "metadata": {
    "jp-MarkdownHeadingCollapsed": true,
    "tags": []
   },
   "source": [
    "#### Solution"
   ]
  },
  {
   "cell_type": "code",
   "execution_count": 10,
   "id": "3d5665e2-cadc-4b32-b77c-06c5c0d4fbf5",
   "metadata": {},
   "outputs": [
    {
     "name": "stdout",
     "output_type": "stream",
     "text": [
      "Model: \"mnist_model_210p\"\n",
      "_________________________________________________________________\n",
      " Layer (type)                Output Shape              Param #   \n",
      "=================================================================\n",
      " input_4 (InputLayer)        [(None, 28, 28)]          0         \n",
      "                                                                 \n",
      " flatten_3 (Flatten)         (None, 784)               0         \n",
      "                                                                 \n",
      " reduced_dense_1 (reduced_de  (None, 10)               210       \n",
      " nse)                                                            \n",
      "                                                                 \n",
      "=================================================================\n",
      "Total params: 210\n",
      "Trainable params: 210\n",
      "Non-trainable params: 0\n",
      "_________________________________________________________________\n"
     ]
    },
    {
     "data": {
      "image/png": "[encoded data removed]",
      "text/plain": [
       "<IPython.core.display.Image object>"
      ]
     },
     "execution_count": 10,
     "metadata": {},
     "output_type": "execute_result"
    }
   ],
   "source": [
    "def digit_masks(d):\n",
    "    # Using the subclassed layer our model declutters substantially\n",
    "    return np.average(train_images[np.where(train_labels==d)],axis=0).reshape((28*28,1))\n",
    "\n",
    "masks = []\n",
    "for i in range(10):\n",
    "    masks.append(digit_masks(i))\n",
    "    masks.append(1.0 - digit_masks(i))\n",
    "\n",
    "masks = np.concatenate(masks, axis=1)\n",
    "\n",
    "# Build a model with only 3 trainable parameters using our masks to identify 0s\n",
    "def mnist_model_210p(masks, x = 'mnist_model_210p'):\n",
    "    # Generates a model with input shape (28,28) and output shape (10)\n",
    "    # The model has 210 trainable parameters\n",
    "    # Input x --> output y = softmax( w @ (masks @ x) + b )\n",
    "    mnist_0_input = layers.Input(shape=(28,28,))\n",
    "    mnist_0_flatten = layers.Flatten()(mnist_0_input)\n",
    "    mnist_0_output = reduced_dense(masks,\n",
    "                                  units = 10,\n",
    "                                  activation = tf.nn.softmax)(mnist_0_flatten)\n",
    "    #\n",
    "    mnist_model_210p = keras.Model(inputs = mnist_0_input,\n",
    "                                   outputs = mnist_0_output,\n",
    "                                   name = x)\n",
    "    #\n",
    "    return mnist_model_210p\n",
    "\n",
    "mnist_model_210p = mnist_model_210p(masks)\n",
    "#Print out the summary\n",
    "mnist_model_210p.summary()\n",
    "# Plot the DAG for this model\n",
    "keras.utils.plot_model(mnist_model_210p, \n",
    "                       to_file=home_dir+'/tmp/mnist_model_210p.png')"
   ]
  },
  {
   "cell_type": "code",
   "execution_count": 16,
   "id": "d457f7c6-3c12-4c80-8818-65b723e5a6a0",
   "metadata": {},
   "outputs": [
    {
     "name": "stdout",
     "output_type": "stream",
     "text": [
      "313/313 [==============================] - 3s 11ms/step - loss: 0.4760 - accuracy: 0.8569\n"
     ]
    },
    {
     "data": {
      "text/plain": [
       "[0.47595155239105225, 0.8568999767303467]"
      ]
     },
     "execution_count": 16,
     "metadata": {},
     "output_type": "execute_result"
    }
   ],
   "source": [
    "# Choose the optimizer, loss function and metrics with which to compile the model.\n",
    "#\n",
    "# optim1 = \"rmsprop\"\n",
    "loss1 = \"sparse_categorical_crossentropy\"\n",
    "metrics1 = [\"accuracy\"]\n",
    "\n",
    "mnist_model_210p.compile(optimizer = optim0, loss = loss1, metrics = metrics1)\n",
    "\n",
    "# Utilize early stoppping callback.\n",
    "#\n",
    "callb1 = keras.callbacks.EarlyStopping(monitor='val_accuracy',\n",
    "                                       patience=5,\n",
    "                                       restore_best_weights=True\n",
    "                                      )\n",
    "\n",
    "# Train the model\n",
    "#\n",
    "mnist_model_210p.fit(train_images, train_labels,\n",
    "                     validation_data = (val_images, val_labels),\n",
    "                     epochs = 30,\n",
    "                     batch_size = 256,\n",
    "                     callbacks = callb1,\n",
    "                     verbose = 0)\n",
    "\n",
    "# Check the performance on validation or test datasets\n",
    "#\n",
    "mnist_model_210p.evaluate(val_images, val_labels)"
   ]
  },
  {
   "cell_type": "markdown",
   "id": "2b59f6a5-b21d-4135-8a0a-26ddec8e4d66",
   "metadata": {},
   "source": [
    "### Different Training/Inference behavior\n",
    "\n",
    "A subclassed Layer is capable of behaving differently when called during training and inference. For a good example of this look at the call function of the Dropout layer here:\n",
    "\n",
    "https://github.com/keras-team/keras/blob/v3.0.0/keras/layers/regularization/dropout.py"
   ]
  }
 ],
 "metadata": {
  "author": "Dr. Nima Doroud",
  "kernelspec": {
   "display_name": "Python [conda env:tf]",
   "language": "python",
   "name": "conda-env-tf-py"
  },
  "language_info": {
   "codemirror_mode": {
    "name": "ipython",
    "version": 3
   },
   "file_extension": ".py",
   "mimetype": "text/x-python",
   "name": "python",
   "nbconvert_exporter": "python",
   "pygments_lexer": "ipython3",
   "version": "3.10.9"
  },
  "title": "Subclassing"
 },
 "nbformat": 4,
 "nbformat_minor": 5
}
