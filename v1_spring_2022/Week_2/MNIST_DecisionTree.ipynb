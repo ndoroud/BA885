{
  "nbformat": 4,
  "nbformat_minor": 0,
  "metadata": {
    "colab": {
      "name": "MNIST_DecisionTree.ipynb",
      "provenance": [],
      "collapsed_sections": []
    },
    "kernelspec": {
      "name": "python3",
      "display_name": "Python 3"
    },
    "language_info": {
      "name": "python"
    }
  },
  "cells": [
    {
      "cell_type": "markdown",
      "source": [
        "# MNIST with Decision Tree + Deep NN"
      ],
      "metadata": {
        "id": "YRPK7h323eBb"
      }
    },
    {
      "cell_type": "code",
      "execution_count": null,
      "metadata": {
        "id": "hjiDClRfvun2"
      },
      "outputs": [],
      "source": [
        "import math\n",
        "import numpy as np\n",
        "import matplotlib.pyplot as plt\n",
        "import tensorflow as tf\n",
        "from tensorflow import keras\n",
        "from tensorflow.keras import layers\n",
        "from tensorflow.keras.datasets import mnist\n",
        "from sklearn.utils import shuffle"
      ]
    },
    {
      "cell_type": "code",
      "source": [
        "(train_images, train_labels), (test_images, test_labels) = mnist.load_data()\n",
        "\n",
        "def digit_indices(digit, labels = train_labels):\n",
        "    return np.where(labels==digit)\n",
        "\n",
        "train_images = train_images.reshape((60000, 28 * 28))\n",
        "train_images = train_images.astype(\"float32\") / 255\n",
        "test_images = test_images.reshape((10000, 28 * 28))\n",
        "test_images = test_images.astype(\"float32\") / 255"
      ],
      "metadata": {
        "id": "K9oHtT4Wv3TS"
      },
      "execution_count": null,
      "outputs": []
    },
    {
      "cell_type": "code",
      "source": [
        "def decision_labels(labels, d0, d1, other=[]):\n",
        "    num_samples = labels.shape[0]\n",
        "    new_labels = np.zeros(shape=(num_samples, 3))\n",
        "    for i in range(num_samples):\n",
        "        if labels[i] in d0:\n",
        "            new_labels[i, 0] += 1\n",
        "        elif labels[i] in d1:\n",
        "            new_labels[i, 1] += 1\n",
        "        else:\n",
        "            new_labels[i, 2] += 1\n",
        "    return new_labels"
      ],
      "metadata": {
        "id": "V1z_gykMwAhR"
      },
      "execution_count": null,
      "outputs": []
    },
    {
      "cell_type": "markdown",
      "source": [
        "## Building a NN with decision tree architecture"
      ],
      "metadata": {
        "id": "pg0UvOwc3riA"
      }
    },
    {
      "cell_type": "markdown",
      "source": [
        "Build the full tree with the following structure: \n",
        "\n",
        "- [10] --> [6] + [4r]\n",
        "- [6] --> [4l] + [2]\n",
        "- [4r] --> [2] + [2]\n",
        "- [4l] --> [2] + [2]"
      ],
      "metadata": {
        "id": "8rhhMzgEwnnr"
      }
    },
    {
      "cell_type": "code",
      "source": [
        "model_input = keras.Input(shape=(28*28))\n",
        "\n",
        "def tree_node(node_input, node_name='classifier_node'):\n",
        "    node_output = layers.Dense(512, activation='relu')(node_input)\n",
        "    node_output = layers.Dense(3, activation='softmax')(node_output)\n",
        "    node_model = keras.Model(inputs = model_input,\n",
        "                             outputs = node_output,\n",
        "                             name = node_name)\n",
        "    return node_model, node_output\n",
        "\n",
        "\n",
        "nodes = []\n",
        "concat_layers = []\n",
        "\n",
        "# node 0 : [10] --> [6] + [4r]\n",
        "nodes.append(tree_node(model_input, node_name='node_0'))\n",
        "concat_layers.append(layers.Concatenate()([model_input, nodes[0][1]]))\n",
        "\n",
        "# node 1 : [6] --> [4l] + [2c]\n",
        "nodes.append(tree_node(concat_layers[0], node_name='node_1'))\n",
        "concat_layers.append(layers.Concatenate()([model_input, nodes[1][1]]))\n",
        "\n",
        "# node 2 : [4r] --> [2r] + [2rr]\n",
        "nodes.append(tree_node(concat_layers[0], node_name='node_2'))\n",
        "concat_layers.append(layers.Concatenate()([model_input, nodes[2][1]]))\n",
        "\n",
        "# node 3 : [4l] --> [2ll] + [2l]\n",
        "nodes.append(tree_node(concat_layers[1], node_name='node_3'))\n",
        "concat_layers.append(layers.Concatenate()([model_input, nodes[3][1]]))\n",
        "\n",
        "# node 4 : [2c]\n",
        "nodes.append(tree_node(concat_layers[1], node_name='node_4'))\n",
        "\n",
        "# node 5 : [2r]\n",
        "nodes.append(tree_node(concat_layers[2], node_name='node_5'))\n",
        "\n",
        "# node 6 : [2rr]\n",
        "nodes.append(tree_node(concat_layers[2], node_name='node_6'))\n",
        "\n",
        "# node 7 : [2ll]\n",
        "nodes.append(tree_node(concat_layers[3], node_name='node_7'))\n",
        "\n",
        "# node 8 : [2l]\n",
        "nodes.append(tree_node(concat_layers[3], node_name='node_8'))\n",
        "\n",
        "leaf_nodes = [7, 8, 4, 5, 6]\n",
        "concat_leaves = layers.Concatenate()([nodes[i][1] for i in leaf_nodes])\n",
        "\n",
        "model_output = layers.Dense(10, activation='softmax')(concat_leaves)\n",
        "model = keras.Model(inputs = model_input, outputs = model_output)"
      ],
      "metadata": {
        "id": "wo8ZVxGLwBxj"
      },
      "execution_count": null,
      "outputs": []
    },
    {
      "cell_type": "code",
      "source": [
        "model.summary()"
      ],
      "metadata": {
        "id": "pk1HdxpOzHZF"
      },
      "execution_count": null,
      "outputs": []
    },
    {
      "cell_type": "markdown",
      "source": [
        "# Model training"
      ],
      "metadata": {
        "id": "tMs-zpszZr2H"
      }
    },
    {
      "cell_type": "code",
      "source": [
        "import itertools\n",
        "\n",
        "def digits_comp(digits):\n",
        "    return sorted(list( set(range(10)) - set(digits) ))\n",
        "\n",
        "\n",
        "def generate_cats(digits, size):\n",
        "    combinations = list(itertools.combinations(digits, size))\n",
        "    return [(list(x),\n",
        "             sorted(list(set(digits) - set(x))),\n",
        "             digits_comp(digits)) for x in combinations]\n",
        "\n",
        "\n",
        "def train_node(node, categories, vs=0, num_epochs=10, report=0, fix_weights=False):\n",
        "    node.compile(optimizer=\"adam\",\n",
        "                 loss=\"categorical_crossentropy\",\n",
        "                 metrics=[\"accuracy\"])\n",
        "    lb, rb, nib = categories\n",
        "    labels = decision_labels(train_labels, lb, rb, nib)\n",
        "    history = node.fit(train_images, labels, validation_split=vs,\n",
        "                       epochs=num_epochs, batch_size=128,\n",
        "                       verbose=report)\n",
        "    if fix_weights:\n",
        "        node.trainable = False\n",
        "    return history.history"
      ],
      "metadata": {
        "id": "w6CA8PpFVyaY"
      },
      "execution_count": null,
      "outputs": []
    },
    {
      "cell_type": "code",
      "source": [
        "digits_comp([1,2,5,7])"
      ],
      "metadata": {
        "colab": {
          "base_uri": "https://localhost:8080/"
        },
        "id": "ujQrzhfwYfDV",
        "outputId": "e5bd6584-0058-4ac8-f733-2deb7be78511"
      },
      "execution_count": null,
      "outputs": [
        {
          "output_type": "execute_result",
          "data": {
            "text/plain": [
              "[0, 3, 4, 6, 8, 9]"
            ]
          },
          "metadata": {},
          "execution_count": 7
        }
      ]
    },
    {
      "cell_type": "code",
      "source": [
        "generate_cats([1,2,3,4], 2)"
      ],
      "metadata": {
        "colab": {
          "base_uri": "https://localhost:8080/"
        },
        "id": "H2ptm0AxYX45",
        "outputId": "869f96cb-53e1-46b3-b73e-ea30b083ec7f"
      },
      "execution_count": null,
      "outputs": [
        {
          "output_type": "execute_result",
          "data": {
            "text/plain": [
              "[([1, 2], [3, 4], [0, 5, 6, 7, 8, 9]),\n",
              " ([1, 3], [2, 4], [0, 5, 6, 7, 8, 9]),\n",
              " ([1, 4], [2, 3], [0, 5, 6, 7, 8, 9]),\n",
              " ([2, 3], [1, 4], [0, 5, 6, 7, 8, 9]),\n",
              " ([2, 4], [1, 3], [0, 5, 6, 7, 8, 9]),\n",
              " ([3, 4], [1, 2], [0, 5, 6, 7, 8, 9])]"
            ]
          },
          "metadata": {},
          "execution_count": 10
        }
      ]
    },
    {
      "cell_type": "markdown",
      "source": [
        "## Decision Tree training"
      ],
      "metadata": {
        "id": "ti7y59EB3aoR"
      }
    },
    {
      "cell_type": "markdown",
      "source": [
        "### Node 0 : [10] --> [6] + [4]"
      ],
      "metadata": {
        "id": "SLXfnIu0Vmcf"
      }
    },
    {
      "cell_type": "code",
      "source": [
        "categories_node_0 = generate_cats(range(10), 6)\n",
        "histories_node_0 = []\n",
        "\n",
        "for cats in categories_node_0:\n",
        "    histories_node_0.append(train_node(nodes[0][0], cats, vs=0.2, num_epochs=15))"
      ],
      "metadata": {
        "id": "EuwcdxTA37Dl"
      },
      "execution_count": null,
      "outputs": []
    },
    {
      "cell_type": "code",
      "source": [
        "max_va_0 = [max(history['val_accuracy']) for history in histories_node_0]\n",
        "max_va_0.index(max(max_va_0))"
      ],
      "metadata": {
        "colab": {
          "base_uri": "https://localhost:8080/"
        },
        "id": "jOFXg0tOgOld",
        "outputId": "b29aab60-447b-44f3-c744-16a20b18e8e3"
      },
      "execution_count": null,
      "outputs": [
        {
          "output_type": "execute_result",
          "data": {
            "text/plain": [
              "81"
            ]
          },
          "metadata": {},
          "execution_count": 17
        }
      ]
    },
    {
      "cell_type": "code",
      "source": [
        "categories_node_0[81]"
      ],
      "metadata": {
        "colab": {
          "base_uri": "https://localhost:8080/"
        },
        "id": "HQyUFl5Nf5sL",
        "outputId": "6e848935-11ac-43ce-fc45-5dc6a0b63190"
      },
      "execution_count": null,
      "outputs": [
        {
          "output_type": "execute_result",
          "data": {
            "text/plain": [
              "([0, 2, 3, 5, 6, 8], [1, 4, 7, 9], [])"
            ]
          },
          "metadata": {},
          "execution_count": 18
        }
      ]
    },
    {
      "cell_type": "markdown",
      "source": [
        "### Node 1 : [6] --> [4] + [2]"
      ],
      "metadata": {
        "id": "AxYtxWmLI8vx"
      }
    },
    {
      "cell_type": "code",
      "source": [
        "categories_node_1 = generate_cats([0, 2, 3, 5, 6, 8], 4)\n",
        "histories_node_1 = []\n",
        "\n",
        "for cats in categories_node_1:\n",
        "    histories_node_1.append(train_node(nodes[1][0], cats, vs=0.2, num_epochs=15))"
      ],
      "metadata": {
        "id": "i-BHqYm9I8wC"
      },
      "execution_count": null,
      "outputs": []
    },
    {
      "cell_type": "code",
      "source": [
        "max_va_1 = [max(history['val_accuracy']) for history in histories_node_1]\n",
        "max_va_1.index(max(max_va_1))"
      ],
      "metadata": {
        "id": "SXssbT4uI8wD"
      },
      "execution_count": null,
      "outputs": []
    },
    {
      "cell_type": "code",
      "source": [
        "categories_node_0[81]"
      ],
      "metadata": {
        "id": "UxBH5bmeI8wE"
      },
      "execution_count": null,
      "outputs": []
    },
    {
      "cell_type": "markdown",
      "source": [
        "## NN training"
      ],
      "metadata": {
        "id": "acrk-ci-38T8"
      }
    },
    {
      "cell_type": "markdown",
      "source": [
        "Each node is a classifier which classifies the image as belonging to the left branch, right branch or irrelevant to this branch with the categories obtained in the Decision Tree trainin phase.\n",
        "\n",
        "For example, the output categories of node 1 are [2, 3, 5, 8], [0, 6], [1, 4, 9, 7]"
      ],
      "metadata": {
        "id": "LnvUzGZd4_Cv"
      }
    },
    {
      "cell_type": "code",
      "source": [
        "def digits_comp(digits):\n",
        "    return sorted(list( set(range(10)) - set(digits) ))\n",
        "\n",
        "\n",
        "node_categories = []\n",
        "\n",
        "# node 0 : [10] --> [6] + [4r]\n",
        "node_categories.append( ([0,2,3,5,6,8], [1,4,7,9], []) )\n",
        "\n",
        "# node 1 : [6] --> [4l] + [2c]\n",
        "node_categories.append( ([2,3,5,8], [0,6], [1,4,7,9]) )\n",
        "\n",
        "# node 2 : [4r] --> [2r] + [2rr]\n",
        "node_categories.append( ([1,4], [7,9], [0,2,3,5,6,8]) )\n",
        "\n",
        "# node 3 : [4l] --> [2ll] + [2l]\n",
        "node_categories.append( ([2,3], [5,8], [0,1,4,6,7,9]) )\n",
        "\n",
        "# node 4 : [2c]\n",
        "node_categories.append( ([0], [6], digits_comp([0,6])) )\n",
        "\n",
        "# node 5 : [2r]\n",
        "node_categories.append( ([1], [4], digits_comp([1,4])) )\n",
        "\n",
        "# node 6 : [2rr]\n",
        "node_categories.append( ([7], [9], digits_comp([7,9])) )\n",
        "\n",
        "# node 7 : [2ll]\n",
        "node_categories.append( ([2], [3], digits_comp([2,3])) )\n",
        "\n",
        "# node 8 : [2l]\n",
        "node_categories.append( ([5], [8], digits_comp([5,8])) )"
      ],
      "metadata": {
        "id": "lLLdGf1h3_yY"
      },
      "execution_count": null,
      "outputs": []
    },
    {
      "cell_type": "code",
      "source": [
        "for i in range(len(nodes)):\n",
        "    histories = train_node(nodes[i][0], node_categories[i], fix_weights=True)"
      ],
      "metadata": {
        "id": "1poCBzks8oz_"
      },
      "execution_count": null,
      "outputs": []
    },
    {
      "cell_type": "code",
      "source": [
        "keras.utils.plot_model(model, \"MNIST_DT.png\")"
      ],
      "metadata": {
        "id": "KyBSSQ4sCf08"
      },
      "execution_count": null,
      "outputs": []
    },
    {
      "cell_type": "code",
      "source": [
        "model.summary()"
      ],
      "metadata": {
        "id": "ygzv45UfC-oG"
      },
      "execution_count": null,
      "outputs": []
    },
    {
      "cell_type": "markdown",
      "source": [
        "### Combining the leaves\n",
        "\n",
        "Since we have already fixed all the nodes to be non-trainable, instead of manually working out the final transformation that combines the leaves to the final output we can simply train the model to learn the transformations!"
      ],
      "metadata": {
        "id": "xxnv94HUS4jq"
      }
    },
    {
      "cell_type": "code",
      "source": [
        "model.compile(optimizer=\"adam\",\n",
        "        loss=\"sparse_categorical_crossentropy\",\n",
        "        metrics=[\"accuracy\"])\n",
        "\n",
        "model.fit(train_images, train_labels, epochs=3, batch_size=128)"
      ],
      "metadata": {
        "colab": {
          "base_uri": "https://localhost:8080/"
        },
        "id": "8WXKiGDpDMHN",
        "outputId": "e0c515b4-c809-460d-e7a9-511e9a446dfa"
      },
      "execution_count": null,
      "outputs": [
        {
          "output_type": "stream",
          "name": "stdout",
          "text": [
            "Epoch 1/3\n",
            "469/469 [==============================] - 11s 22ms/step - loss: 0.0142 - accuracy: 0.9998\n",
            "Epoch 2/3\n",
            "469/469 [==============================] - 10s 22ms/step - loss: 0.0071 - accuracy: 0.9998\n",
            "Epoch 3/3\n",
            "469/469 [==============================] - 10s 22ms/step - loss: 0.0045 - accuracy: 0.9998\n"
          ]
        },
        {
          "output_type": "execute_result",
          "data": {
            "text/plain": [
              "<keras.callbacks.History at 0x7f4e26c117d0>"
            ]
          },
          "metadata": {},
          "execution_count": 27
        }
      ]
    },
    {
      "cell_type": "code",
      "source": [
        "model.evaluate(test_images, test_labels)"
      ],
      "metadata": {
        "colab": {
          "base_uri": "https://localhost:8080/"
        },
        "id": "LgI-yyqaUPtA",
        "outputId": "0f8c3071-ef79-456f-8894-d8b117d2c6b1"
      },
      "execution_count": null,
      "outputs": [
        {
          "output_type": "stream",
          "name": "stdout",
          "text": [
            "313/313 [==============================] - 3s 10ms/step - loss: 0.1785 - accuracy: 0.9761\n"
          ]
        },
        {
          "output_type": "execute_result",
          "data": {
            "text/plain": [
              "[0.1784956455230713, 0.9761000275611877]"
            ]
          },
          "metadata": {},
          "execution_count": 28
        }
      ]
    },
    {
      "cell_type": "code",
      "source": [
        ""
      ],
      "metadata": {
        "id": "g_GIdl39c2CQ"
      },
      "execution_count": null,
      "outputs": []
    }
  ]
}