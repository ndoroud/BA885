{
  "nbformat": 4,
  "nbformat_minor": 0,
  "metadata": {
    "colab": {
      "name": "Transfer_Learning.ipynb",
      "provenance": [],
      "collapsed_sections": [
        "hExim6UEpbA-",
        "XmNescFw4-_t",
        "jdF230K3-m18",
        "EoE5xa6GTwAW",
        "mB-Ai5q5XyCj",
        "n3VyojaSjHJx",
        "WSvTm61-zuqy"
      ]
    },
    "kernelspec": {
      "name": "python3",
      "display_name": "Python 3"
    },
    "language_info": {
      "name": "python"
    }
  },
  "cells": [
    {
      "cell_type": "markdown",
      "source": [
        "# Transfer Learning"
      ],
      "metadata": {
        "id": "dAlbbKGO48F_"
      }
    },
    {
      "cell_type": "code",
      "execution_count": 1,
      "metadata": {
        "id": "qdLXSl7y6zFY",
        "colab": {
          "base_uri": "https://localhost:8080/"
        },
        "outputId": "bd96f921-d281-453b-b8db-7bfbfca5f210"
      },
      "outputs": [
        {
          "output_type": "stream",
          "name": "stdout",
          "text": [
            "Requirement already satisfied: tensorflow_io in /usr/local/lib/python3.7/dist-packages (0.24.0)\n",
            "Requirement already satisfied: tensorflow-io-gcs-filesystem==0.24.0 in /usr/local/lib/python3.7/dist-packages (from tensorflow_io) (0.24.0)\n"
          ]
        }
      ],
      "source": [
        "!pip install tensorflow_io"
      ]
    },
    {
      "cell_type": "code",
      "source": [
        "import os\n",
        "\n",
        "from IPython import display\n",
        "import matplotlib.pyplot as plt\n",
        "import numpy as np\n",
        "import pandas as pd\n",
        "\n",
        "import tensorflow as tf\n",
        "import tensorflow_hub as hub\n",
        "import tensorflow_io as tfio\n",
        "from tensorflow import keras\n",
        "from tensorflow.keras import layers\n",
        "from sklearn.utils import shuffle"
      ],
      "metadata": {
        "id": "1ESyta3o4z4q"
      },
      "execution_count": 2,
      "outputs": []
    },
    {
      "cell_type": "markdown",
      "source": [
        "## Load data"
      ],
      "metadata": {
        "id": "dAa_w6pE5Y_T"
      }
    },
    {
      "cell_type": "markdown",
      "source": [
        "We will use the test set of the \"speech commands\" dataset published by Peter Warden in conjunction with the paper [1804.03209](https://arxiv.org/abs/1804.03209).\n",
        "\n",
        "The training set is located [here](http://download.tensorflow.org/data/speech_commands_v0.02.tar.gz)."
      ],
      "metadata": {
        "id": "JrvDLYE3x3BD"
      }
    },
    {
      "cell_type": "code",
      "source": [
        "_ = tf.keras.utils.get_file('speech_commands.zip',\n",
        "                        'http://download.tensorflow.org/data/speech_commands_test_set_v0.02.tar.gz',\n",
        "                        cache_dir='./',\n",
        "                        cache_subdir='datasets',\n",
        "                        extract=True)"
      ],
      "metadata": {
        "id": "w0mZ3afS5orn"
      },
      "execution_count": 3,
      "outputs": []
    },
    {
      "cell_type": "code",
      "source": [
        "data = []\n",
        "labels_dict = {}\n",
        "i = -1\n",
        "for folder, labels, samples in os.walk('./datasets/'):\n",
        "    if folder[11:]:\n",
        "        i += 1\n",
        "        labels_dict[i] = folder[11:]\n",
        "    for sample in samples:\n",
        "        if sample[-3:] == 'wav':\n",
        "            data.append([folder+'/'+sample, i, folder[11:]])\n",
        "labels_reverse_dict = {y:x for x,y in labels_dict.items()}"
      ],
      "metadata": {
        "id": "lqT2SpCV51qE"
      },
      "execution_count": 4,
      "outputs": []
    },
    {
      "cell_type": "code",
      "source": [
        "data = pd.DataFrame(data, columns=['filename', 'label', 'category'])\n",
        "data.head()"
      ],
      "metadata": {
        "colab": {
          "base_uri": "https://localhost:8080/",
          "height": 206
        },
        "id": "lf2RmnZ36L56",
        "outputId": "79de3517-f1b9-4c7f-814d-986acb64db29"
      },
      "execution_count": 5,
      "outputs": [
        {
          "output_type": "execute_result",
          "data": {
            "text/plain": [
              "                               filename  label category\n",
              "0  ./datasets/off/f2e59fea_nohash_2.wav      0      off\n",
              "1  ./datasets/off/f428ca69_nohash_0.wav      0      off\n",
              "2  ./datasets/off/422d3197_nohash_0.wav      0      off\n",
              "3  ./datasets/off/6736bc64_nohash_0.wav      0      off\n",
              "4  ./datasets/off/db24628d_nohash_0.wav      0      off"
            ],
            "text/html": [
              "\n",
              "  <div id=\"df-006c1e8e-3ed5-4a30-92ef-c727f32097e4\">\n",
              "    <div class=\"colab-df-container\">\n",
              "      <div>\n",
              "<style scoped>\n",
              "    .dataframe tbody tr th:only-of-type {\n",
              "        vertical-align: middle;\n",
              "    }\n",
              "\n",
              "    .dataframe tbody tr th {\n",
              "        vertical-align: top;\n",
              "    }\n",
              "\n",
              "    .dataframe thead th {\n",
              "        text-align: right;\n",
              "    }\n",
              "</style>\n",
              "<table border=\"1\" class=\"dataframe\">\n",
              "  <thead>\n",
              "    <tr style=\"text-align: right;\">\n",
              "      <th></th>\n",
              "      <th>filename</th>\n",
              "      <th>label</th>\n",
              "      <th>category</th>\n",
              "    </tr>\n",
              "  </thead>\n",
              "  <tbody>\n",
              "    <tr>\n",
              "      <th>0</th>\n",
              "      <td>./datasets/off/f2e59fea_nohash_2.wav</td>\n",
              "      <td>0</td>\n",
              "      <td>off</td>\n",
              "    </tr>\n",
              "    <tr>\n",
              "      <th>1</th>\n",
              "      <td>./datasets/off/f428ca69_nohash_0.wav</td>\n",
              "      <td>0</td>\n",
              "      <td>off</td>\n",
              "    </tr>\n",
              "    <tr>\n",
              "      <th>2</th>\n",
              "      <td>./datasets/off/422d3197_nohash_0.wav</td>\n",
              "      <td>0</td>\n",
              "      <td>off</td>\n",
              "    </tr>\n",
              "    <tr>\n",
              "      <th>3</th>\n",
              "      <td>./datasets/off/6736bc64_nohash_0.wav</td>\n",
              "      <td>0</td>\n",
              "      <td>off</td>\n",
              "    </tr>\n",
              "    <tr>\n",
              "      <th>4</th>\n",
              "      <td>./datasets/off/db24628d_nohash_0.wav</td>\n",
              "      <td>0</td>\n",
              "      <td>off</td>\n",
              "    </tr>\n",
              "  </tbody>\n",
              "</table>\n",
              "</div>\n",
              "      <button class=\"colab-df-convert\" onclick=\"convertToInteractive('df-006c1e8e-3ed5-4a30-92ef-c727f32097e4')\"\n",
              "              title=\"Convert this dataframe to an interactive table.\"\n",
              "              style=\"display:none;\">\n",
              "        \n",
              "  <svg xmlns=\"http://www.w3.org/2000/svg\" height=\"24px\"viewBox=\"0 0 24 24\"\n",
              "       width=\"24px\">\n",
              "    <path d=\"M0 0h24v24H0V0z\" fill=\"none\"/>\n",
              "    <path d=\"M18.56 5.44l.94 2.06.94-2.06 2.06-.94-2.06-.94-.94-2.06-.94 2.06-2.06.94zm-11 1L8.5 8.5l.94-2.06 2.06-.94-2.06-.94L8.5 2.5l-.94 2.06-2.06.94zm10 10l.94 2.06.94-2.06 2.06-.94-2.06-.94-.94-2.06-.94 2.06-2.06.94z\"/><path d=\"M17.41 7.96l-1.37-1.37c-.4-.4-.92-.59-1.43-.59-.52 0-1.04.2-1.43.59L10.3 9.45l-7.72 7.72c-.78.78-.78 2.05 0 2.83L4 21.41c.39.39.9.59 1.41.59.51 0 1.02-.2 1.41-.59l7.78-7.78 2.81-2.81c.8-.78.8-2.07 0-2.86zM5.41 20L4 18.59l7.72-7.72 1.47 1.35L5.41 20z\"/>\n",
              "  </svg>\n",
              "      </button>\n",
              "      \n",
              "  <style>\n",
              "    .colab-df-container {\n",
              "      display:flex;\n",
              "      flex-wrap:wrap;\n",
              "      gap: 12px;\n",
              "    }\n",
              "\n",
              "    .colab-df-convert {\n",
              "      background-color: #E8F0FE;\n",
              "      border: none;\n",
              "      border-radius: 50%;\n",
              "      cursor: pointer;\n",
              "      display: none;\n",
              "      fill: #1967D2;\n",
              "      height: 32px;\n",
              "      padding: 0 0 0 0;\n",
              "      width: 32px;\n",
              "    }\n",
              "\n",
              "    .colab-df-convert:hover {\n",
              "      background-color: #E2EBFA;\n",
              "      box-shadow: 0px 1px 2px rgba(60, 64, 67, 0.3), 0px 1px 3px 1px rgba(60, 64, 67, 0.15);\n",
              "      fill: #174EA6;\n",
              "    }\n",
              "\n",
              "    [theme=dark] .colab-df-convert {\n",
              "      background-color: #3B4455;\n",
              "      fill: #D2E3FC;\n",
              "    }\n",
              "\n",
              "    [theme=dark] .colab-df-convert:hover {\n",
              "      background-color: #434B5C;\n",
              "      box-shadow: 0px 1px 3px 1px rgba(0, 0, 0, 0.15);\n",
              "      filter: drop-shadow(0px 1px 2px rgba(0, 0, 0, 0.3));\n",
              "      fill: #FFFFFF;\n",
              "    }\n",
              "  </style>\n",
              "\n",
              "      <script>\n",
              "        const buttonEl =\n",
              "          document.querySelector('#df-006c1e8e-3ed5-4a30-92ef-c727f32097e4 button.colab-df-convert');\n",
              "        buttonEl.style.display =\n",
              "          google.colab.kernel.accessAllowed ? 'block' : 'none';\n",
              "\n",
              "        async function convertToInteractive(key) {\n",
              "          const element = document.querySelector('#df-006c1e8e-3ed5-4a30-92ef-c727f32097e4');\n",
              "          const dataTable =\n",
              "            await google.colab.kernel.invokeFunction('convertToInteractive',\n",
              "                                                     [key], {});\n",
              "          if (!dataTable) return;\n",
              "\n",
              "          const docLinkHtml = 'Like what you see? Visit the ' +\n",
              "            '<a target=\"_blank\" href=https://colab.research.google.com/notebooks/data_table.ipynb>data table notebook</a>'\n",
              "            + ' to learn more about interactive tables.';\n",
              "          element.innerHTML = '';\n",
              "          dataTable['output_type'] = 'display_data';\n",
              "          await google.colab.output.renderOutput(dataTable, element);\n",
              "          const docLink = document.createElement('div');\n",
              "          docLink.innerHTML = docLinkHtml;\n",
              "          element.appendChild(docLink);\n",
              "        }\n",
              "      </script>\n",
              "    </div>\n",
              "  </div>\n",
              "  "
            ]
          },
          "metadata": {},
          "execution_count": 5
        }
      ]
    },
    {
      "cell_type": "code",
      "source": [
        "labels_reverse_dict.keys()"
      ],
      "metadata": {
        "colab": {
          "base_uri": "https://localhost:8080/"
        },
        "id": "VQ4rKXAT6S2m",
        "outputId": "70ada7e0-630b-494d-c057-e1e0d1a1a206"
      },
      "execution_count": 7,
      "outputs": [
        {
          "output_type": "execute_result",
          "data": {
            "text/plain": [
              "dict_keys(['off', 'stop', 'no', 'up', '_unknown_', 'right', '_silence_', 'go', 'left', 'yes', 'on', 'down'])"
            ]
          },
          "metadata": {},
          "execution_count": 7
        }
      ]
    },
    {
      "cell_type": "code",
      "source": [
        "data['category'].unique()"
      ],
      "metadata": {
        "colab": {
          "base_uri": "https://localhost:8080/"
        },
        "id": "9suwSUYd638B",
        "outputId": "9487a007-fcf3-47fa-dc89-220b58e1307a"
      },
      "execution_count": 8,
      "outputs": [
        {
          "output_type": "execute_result",
          "data": {
            "text/plain": [
              "array(['off', 'stop', 'no', 'up', '_unknown_', 'right', '_silence_', 'go',\n",
              "       'left', 'yes', 'on', 'down'], dtype=object)"
            ]
          },
          "metadata": {},
          "execution_count": 8
        }
      ]
    },
    {
      "cell_type": "code",
      "source": [
        "data_shuffled = data.sample(frac = 1)"
      ],
      "metadata": {
        "id": "KqtugCSJ9Z1J"
      },
      "execution_count": 9,
      "outputs": []
    },
    {
      "cell_type": "code",
      "source": [
        "nums = 4400\n",
        "train_data_paths = np.array(data_shuffled['filename'][:nums])\n",
        "train_labels = np.array(data_shuffled['label'][:nums])\n",
        "test_data_paths = np.array(data_shuffled['filename'][nums:])\n",
        "test_labels = np.array(data_shuffled['label'][nums:])"
      ],
      "metadata": {
        "id": "Wm873tII9gjm"
      },
      "execution_count": 10,
      "outputs": []
    },
    {
      "cell_type": "code",
      "source": [
        "def load_audio(filepath):\n",
        "    audio = tfio.audio.AudioIOTensor(filepath)\n",
        "    audio_rate = int(audio.rate)\n",
        "    assert audio_rate == 16000\n",
        "    return tf.cast(tf.squeeze(audio.to_tensor(), axis=[-1]), tf.float32) / 32767.0"
      ],
      "metadata": {
        "id": "S0hlIMXT_Kik"
      },
      "execution_count": 13,
      "outputs": []
    },
    {
      "cell_type": "code",
      "source": [
        "testing_file = train_data_paths[-1]\n",
        "testing_sample = load_audio(testing_file)\n",
        "\n",
        "\n",
        "_ = plt.plot(testing_sample)\n",
        "\n",
        "# Play the audio file.\n",
        "display.Audio(testing_sample,rate=16000)"
      ],
      "metadata": {
        "colab": {
          "base_uri": "https://localhost:8080/",
          "height": 323
        },
        "id": "HVZmrW0RN8SN",
        "outputId": "de68f48a-bbcd-4a68-e140-86b2e486275e"
      },
      "execution_count": 23,
      "outputs": [
        {
          "output_type": "execute_result",
          "data": {
            "text/plain": [
              "<IPython.lib.display.Audio object>"
            ],
            "text/html": [
              "\n",
              "                <audio controls=\"controls\" >\n",
              "                    <source src=\"data:audio/wav;base64,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\" type=\"audio/wav\" />\n",
              "                    Your browser does not support the audio element.\n",
              "                </audio>\n",
              "              "
            ]
          },
          "metadata": {},
          "execution_count": 23
        },
        {
          "output_type": "display_data",
          "data": {
            "text/plain": [
              "<Figure size 432x288 with 1 Axes>"
            ],
            "image/png": "[encoded data removed]"
          },
          "metadata": {
            "needs_background": "light"
          }
        }
      ]
    },
    {
      "cell_type": "markdown",
      "source": [
        "## Train a model from scratch"
      ],
      "metadata": {
        "id": "hExim6UEpbA-"
      }
    },
    {
      "cell_type": "code",
      "source": [
        "nums = 4400\n",
        "train_data_paths = np.array(data_shuffled['filename'][:nums])\n",
        "train_labels = np.array(data_shuffled['label'][:nums])\n",
        "test_data_paths = np.array(data_shuffled['filename'][nums:])\n",
        "test_labels = np.array(data_shuffled['label'][nums:])"
      ],
      "metadata": {
        "id": "fHuSkSivErvn"
      },
      "execution_count": 25,
      "outputs": []
    },
    {
      "cell_type": "code",
      "source": [
        "train_data = []\n",
        "for path in train_data_paths:\n",
        "    train_data.append(load_audio(path))\n",
        "\n",
        "test_data = []\n",
        "for path in test_data_paths:\n",
        "    test_data.append(load_audio(path))"
      ],
      "metadata": {
        "id": "3g_8pwgkpi8p"
      },
      "execution_count": 48,
      "outputs": []
    },
    {
      "cell_type": "code",
      "source": [
        "train_data[0]"
      ],
      "metadata": {
        "colab": {
          "base_uri": "https://localhost:8080/"
        },
        "id": "iDy5LmlDqVWc",
        "outputId": "baec26c6-cc38-4b93-efa9-4e8177d7ff36"
      },
      "execution_count": 30,
      "outputs": [
        {
          "output_type": "execute_result",
          "data": {
            "text/plain": [
              "<tf.Tensor: shape=(16000,), dtype=float32, numpy=\n",
              "array([ 6.1037019e-05,  6.1037019e-05,  6.1037019e-05, ...,\n",
              "       -1.2207404e-04, -9.1555528e-05, -9.1555528e-05], dtype=float32)>"
            ]
          },
          "metadata": {},
          "execution_count": 30
        }
      ]
    },
    {
      "cell_type": "code",
      "source": [
        "def get_spectrogram(waveform):\n",
        "    # Zero-padding for an audio waveform with less than 16,000 samples.\n",
        "    input_len = 16000\n",
        "    waveform = waveform[:input_len]\n",
        "    zero_padding = tf.zeros(\n",
        "        [16000] - tf.shape(waveform),\n",
        "        dtype=tf.float32)\n",
        "    # Cast the waveform tensors' dtype to float32.\n",
        "    waveform = tf.cast(waveform, dtype=tf.float32)\n",
        "    # Concatenate the waveform with `zero_padding`, which ensures all audio\n",
        "    # clips are of the same length.\n",
        "    equal_length = tf.concat([waveform, zero_padding], 0)\n",
        "    # Convert the waveform to a spectrogram via a STFT.\n",
        "    spectrogram = tf.signal.stft(\n",
        "        equal_length, frame_length=255, frame_step=128)\n",
        "    # Obtain the magnitude of the STFT.\n",
        "    spectrogram = tf.abs(spectrogram)\n",
        "    # Add a `channels` dimension, so that the spectrogram can be used\n",
        "    # as image-like input data with convolution layers (which expect\n",
        "    # shape (`batch_size`, `height`, `width`, `channels`).\n",
        "    spectrogram = spectrogram[..., tf.newaxis]\n",
        "    return spectrogram"
      ],
      "metadata": {
        "id": "BwboHNqAqW_i"
      },
      "execution_count": 31,
      "outputs": []
    },
    {
      "cell_type": "code",
      "source": [
        "def plot_spectrogram(spectrogram, ax):\n",
        "    if len(spectrogram.shape) > 2:\n",
        "        assert len(spectrogram.shape) == 3\n",
        "        spectrogram = np.squeeze(spectrogram, axis=-1)\n",
        "    # Convert the frequencies to log scale and transpose, so that the time is\n",
        "    # represented on the x-axis (columns).\n",
        "    # Add an epsilon to avoid taking a log of zero.\n",
        "    log_spec = np.log(spectrogram.T + np.finfo(float).eps)\n",
        "    height = log_spec.shape[0]\n",
        "    width = log_spec.shape[1]\n",
        "    X = np.linspace(0, np.size(spectrogram), num=width, dtype=int)\n",
        "    Y = range(height)\n",
        "    ax.pcolormesh(X, Y, log_spec)"
      ],
      "metadata": {
        "id": "AUTV7qPirLxx"
      },
      "execution_count": 32,
      "outputs": []
    },
    {
      "cell_type": "code",
      "source": [
        "waveform = testing_sample\n",
        "spectrogram = get_spectrogram(waveform)\n",
        "fig, axes = plt.subplots(2, figsize=(12, 8))\n",
        "timescale = np.arange(waveform.shape[0])\n",
        "axes[0].plot(timescale, waveform.numpy())\n",
        "axes[0].set_title('Waveform')\n",
        "axes[0].set_xlim([0, 16000])\n",
        "\n",
        "plot_spectrogram(spectrogram.numpy(), axes[1])\n",
        "axes[1].set_title('Spectrogram')\n",
        "plt.show()\n",
        "display.Audio(testing_sample,rate=16000)"
      ],
      "metadata": {
        "colab": {
          "base_uri": "https://localhost:8080/",
          "height": 557
        },
        "id": "cV3Tk_LbrRsu",
        "outputId": "f5a313b4-056e-452e-b874-7d6334d85d6e"
      },
      "execution_count": 33,
      "outputs": [
        {
          "output_type": "display_data",
          "data": {
            "text/plain": [
              "<Figure size 864x576 with 2 Axes>"
            ],
            "image/png": "[encoded data removed]"
          },
          "metadata": {
            "needs_background": "light"
          }
        },
        {
          "output_type": "execute_result",
          "data": {
            "text/plain": [
              "<IPython.lib.display.Audio object>"
            ],
            "text/html": [
              "\n",
              "                <audio controls=\"controls\" >\n",
              "                    <source src=\"data:audio/wav;base64,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\" type=\"audio/wav\" />\n",
              "                    Your browser does not support the audio element.\n",
              "                </audio>\n",
              "              "
            ]
          },
          "metadata": {},
          "execution_count": 33
        }
      ]
    },
    {
      "cell_type": "code",
      "source": [
        "train_data_s = []\n",
        "for i in range(len(train_data)):\n",
        "    train_data_s.append(get_spectrogram(train_data[i]))\n",
        "\n",
        "train_data_s = np.array(train_data_s)\n",
        "train_data_s.shape"
      ],
      "metadata": {
        "colab": {
          "base_uri": "https://localhost:8080/"
        },
        "id": "5N2xD6Y0tcgy",
        "outputId": "d504c125-0be3-4958-9808-3fd4242dfc88"
      },
      "execution_count": 37,
      "outputs": [
        {
          "output_type": "execute_result",
          "data": {
            "text/plain": [
              "(4400, 124, 129, 1)"
            ]
          },
          "metadata": {},
          "execution_count": 37
        }
      ]
    },
    {
      "cell_type": "code",
      "source": [
        "train_labels.shape"
      ],
      "metadata": {
        "colab": {
          "base_uri": "https://localhost:8080/"
        },
        "id": "I305NvW2ucyW",
        "outputId": "071f3b14-eca7-454d-b9b0-977a279c9d69"
      },
      "execution_count": 38,
      "outputs": [
        {
          "output_type": "execute_result",
          "data": {
            "text/plain": [
              "(4400,)"
            ]
          },
          "metadata": {},
          "execution_count": 38
        }
      ]
    },
    {
      "cell_type": "code",
      "source": [
        "input_shape = spectrogram.shape\n",
        "num_labels = len(labels_dict)\n",
        "model = keras.Sequential([layers.Input(shape=input_shape),\n",
        "                          layers.Resizing(32, 32),\n",
        "                          layers.Conv2D(32, 3, activation='relu'),\n",
        "                          layers.Conv2D(64, 3, activation='relu'),\n",
        "                          layers.MaxPooling2D(),\n",
        "                          layers.Dropout(0.25),\n",
        "                          layers.Flatten(),\n",
        "                          layers.Dense(128, activation='relu'),\n",
        "                          layers.Dropout(0.5),\n",
        "                          layers.Dense(num_labels, activation='softmax'),\n",
        "                          ])\n",
        "\n",
        "model.summary()"
      ],
      "metadata": {
        "colab": {
          "base_uri": "https://localhost:8080/"
        },
        "id": "YFkPwUqJtCT5",
        "outputId": "de2a8191-5991-4824-ad14-2ead41d3145b"
      },
      "execution_count": 45,
      "outputs": [
        {
          "output_type": "stream",
          "name": "stdout",
          "text": [
            "Model: \"sequential_2\"\n",
            "_________________________________________________________________\n",
            " Layer (type)                Output Shape              Param #   \n",
            "=================================================================\n",
            " resizing_2 (Resizing)       (None, 32, 32, 1)         0         \n",
            "                                                                 \n",
            " conv2d_4 (Conv2D)           (None, 30, 30, 32)        320       \n",
            "                                                                 \n",
            " conv2d_5 (Conv2D)           (None, 28, 28, 64)        18496     \n",
            "                                                                 \n",
            " max_pooling2d_2 (MaxPooling  (None, 14, 14, 64)       0         \n",
            " 2D)                                                             \n",
            "                                                                 \n",
            " dropout_4 (Dropout)         (None, 14, 14, 64)        0         \n",
            "                                                                 \n",
            " flatten_2 (Flatten)         (None, 12544)             0         \n",
            "                                                                 \n",
            " dense_4 (Dense)             (None, 128)               1605760   \n",
            "                                                                 \n",
            " dropout_5 (Dropout)         (None, 128)               0         \n",
            "                                                                 \n",
            " dense_5 (Dense)             (None, 12)                1548      \n",
            "                                                                 \n",
            "=================================================================\n",
            "Total params: 1,626,124\n",
            "Trainable params: 1,626,124\n",
            "Non-trainable params: 0\n",
            "_________________________________________________________________\n"
          ]
        }
      ]
    },
    {
      "cell_type": "code",
      "source": [
        "#tf.keras.losses.SparseCategoricalCrossentropy(from_logits=True)\n",
        "model.compile(loss=\"sparse_categorical_crossentropy\",\n",
        "              optimizer=\"adam\", metrics=['accuracy'])"
      ],
      "metadata": {
        "id": "TZSLLXvcugVp"
      },
      "execution_count": 46,
      "outputs": []
    },
    {
      "cell_type": "code",
      "source": [
        "callback = keras.callbacks.EarlyStopping(monitor='val_accuracy',\n",
        "                                         patience=3, restore_best_weights=True)\n",
        "\n",
        "model.fit(train_data_s, train_labels, epochs=60, batch_size=256,\n",
        "          validation_split=0.2, shuffle=True, callbacks = callback)"
      ],
      "metadata": {
        "colab": {
          "base_uri": "https://localhost:8080/"
        },
        "id": "sBOT0sGhvRKT",
        "outputId": "d18381be-b290-4ae4-ec33-fd88ae314cda"
      },
      "execution_count": 47,
      "outputs": [
        {
          "output_type": "stream",
          "name": "stdout",
          "text": [
            "Epoch 1/60\n",
            "14/14 [==============================] - 15s 1s/step - loss: 2.2832 - accuracy: 0.2412 - val_loss: 2.0391 - val_accuracy: 0.3659\n",
            "Epoch 2/60\n",
            "14/14 [==============================] - 12s 836ms/step - loss: 1.9357 - accuracy: 0.3716 - val_loss: 1.8200 - val_accuracy: 0.4602\n",
            "Epoch 3/60\n",
            "14/14 [==============================] - 12s 833ms/step - loss: 1.7672 - accuracy: 0.4261 - val_loss: 1.6381 - val_accuracy: 0.5352\n",
            "Epoch 4/60\n",
            "14/14 [==============================] - 12s 837ms/step - loss: 1.5750 - accuracy: 0.4943 - val_loss: 1.5352 - val_accuracy: 0.5511\n",
            "Epoch 5/60\n",
            "14/14 [==============================] - 12s 835ms/step - loss: 1.4176 - accuracy: 0.5344 - val_loss: 1.4323 - val_accuracy: 0.5682\n",
            "Epoch 6/60\n",
            "14/14 [==============================] - 12s 836ms/step - loss: 1.2813 - accuracy: 0.5838 - val_loss: 1.3144 - val_accuracy: 0.6114\n",
            "Epoch 7/60\n",
            "14/14 [==============================] - 12s 843ms/step - loss: 1.1580 - accuracy: 0.6196 - val_loss: 1.2256 - val_accuracy: 0.6364\n",
            "Epoch 8/60\n",
            "14/14 [==============================] - 12s 843ms/step - loss: 1.0585 - accuracy: 0.6577 - val_loss: 1.1637 - val_accuracy: 0.6591\n",
            "Epoch 9/60\n",
            "14/14 [==============================] - 12s 841ms/step - loss: 0.9692 - accuracy: 0.6955 - val_loss: 1.0962 - val_accuracy: 0.6852\n",
            "Epoch 10/60\n",
            "14/14 [==============================] - 12s 845ms/step - loss: 0.8873 - accuracy: 0.7085 - val_loss: 1.0664 - val_accuracy: 0.6773\n",
            "Epoch 11/60\n",
            "14/14 [==============================] - 12s 838ms/step - loss: 0.8400 - accuracy: 0.7267 - val_loss: 1.0322 - val_accuracy: 0.6875\n",
            "Epoch 12/60\n",
            "14/14 [==============================] - 12s 840ms/step - loss: 0.7412 - accuracy: 0.7514 - val_loss: 1.0040 - val_accuracy: 0.6920\n",
            "Epoch 13/60\n",
            "14/14 [==============================] - 12s 838ms/step - loss: 0.6883 - accuracy: 0.7707 - val_loss: 0.9767 - val_accuracy: 0.7227\n",
            "Epoch 14/60\n",
            "14/14 [==============================] - 12s 838ms/step - loss: 0.6670 - accuracy: 0.7869 - val_loss: 0.9674 - val_accuracy: 0.7091\n",
            "Epoch 15/60\n",
            "14/14 [==============================] - 12s 838ms/step - loss: 0.6418 - accuracy: 0.7926 - val_loss: 0.9824 - val_accuracy: 0.7227\n",
            "Epoch 16/60\n",
            "14/14 [==============================] - 12s 838ms/step - loss: 0.5764 - accuracy: 0.8122 - val_loss: 0.9530 - val_accuracy: 0.7352\n",
            "Epoch 17/60\n",
            "14/14 [==============================] - 12s 839ms/step - loss: 0.5714 - accuracy: 0.8082 - val_loss: 0.9097 - val_accuracy: 0.7443\n",
            "Epoch 18/60\n",
            "14/14 [==============================] - 12s 840ms/step - loss: 0.5094 - accuracy: 0.8338 - val_loss: 0.9286 - val_accuracy: 0.7455\n",
            "Epoch 19/60\n",
            "14/14 [==============================] - 12s 841ms/step - loss: 0.5001 - accuracy: 0.8327 - val_loss: 0.9198 - val_accuracy: 0.7489\n",
            "Epoch 20/60\n",
            "14/14 [==============================] - 12s 836ms/step - loss: 0.4594 - accuracy: 0.8477 - val_loss: 0.9015 - val_accuracy: 0.7568\n",
            "Epoch 21/60\n",
            "14/14 [==============================] - 12s 837ms/step - loss: 0.4339 - accuracy: 0.8631 - val_loss: 0.8722 - val_accuracy: 0.7693\n",
            "Epoch 22/60\n",
            "14/14 [==============================] - 12s 833ms/step - loss: 0.4208 - accuracy: 0.8659 - val_loss: 0.9241 - val_accuracy: 0.7659\n",
            "Epoch 23/60\n",
            "14/14 [==============================] - 12s 836ms/step - loss: 0.4015 - accuracy: 0.8656 - val_loss: 0.8776 - val_accuracy: 0.7545\n",
            "Epoch 24/60\n",
            "14/14 [==============================] - 12s 839ms/step - loss: 0.3657 - accuracy: 0.8821 - val_loss: 0.9027 - val_accuracy: 0.7693\n"
          ]
        },
        {
          "output_type": "execute_result",
          "data": {
            "text/plain": [
              "<keras.callbacks.History at 0x7fb0e82387d0>"
            ]
          },
          "metadata": {},
          "execution_count": 47
        }
      ]
    },
    {
      "cell_type": "code",
      "source": [
        "test_data_s = []\n",
        "for i in range(len(test_data)):\n",
        "    test_data_s.append(get_spectrogram(test_data[i]))\n",
        "\n",
        "test_data_s = np.array(test_data_s)\n",
        "test_data_s.shape"
      ],
      "metadata": {
        "colab": {
          "base_uri": "https://localhost:8080/"
        },
        "id": "pXSnpY2jJgzT",
        "outputId": "11f0d4f3-d963-4a1c-8a7e-1b035b06abd0"
      },
      "execution_count": 50,
      "outputs": [
        {
          "output_type": "execute_result",
          "data": {
            "text/plain": [
              "(490, 124, 129, 1)"
            ]
          },
          "metadata": {},
          "execution_count": 50
        }
      ]
    },
    {
      "cell_type": "code",
      "source": [
        "model.evaluate(test_data_s, test_labels)"
      ],
      "metadata": {
        "colab": {
          "base_uri": "https://localhost:8080/"
        },
        "id": "O__9dGP8KFuz",
        "outputId": "5d7e6332-3c45-43a3-f702-5e66a3cb6581"
      },
      "execution_count": 51,
      "outputs": [
        {
          "output_type": "stream",
          "name": "stdout",
          "text": [
            "16/16 [==============================] - 1s 41ms/step - loss: 1.0678 - accuracy: 0.7204\n"
          ]
        },
        {
          "output_type": "execute_result",
          "data": {
            "text/plain": [
              "[1.067779302597046, 0.7204081416130066]"
            ]
          },
          "metadata": {},
          "execution_count": 51
        }
      ]
    },
    {
      "cell_type": "markdown",
      "source": [
        "A model from scratch on ~4000 samples can achieve 70-75% accuracy which is not bad. Now let's see what we can do with a pretrained model."
      ],
      "metadata": {
        "id": "JTTb8LB-Kh7F"
      }
    },
    {
      "cell_type": "markdown",
      "source": [
        "## Load pretrained model\n",
        "\n",
        "We will use the YAMNet audio recognition model. YAMNet has not been trained as a speech recognition model, rather it was trained to classify sounds into classes such as 'shatter', 'laughter' and 'child speech'.\n",
        "\n",
        "As a model that has also listened to human speech during training, YAMNet has learned to extract features that should be quite suitable for speech recognition."
      ],
      "metadata": {
        "id": "XmNescFw4-_t"
      }
    },
    {
      "cell_type": "code",
      "source": [
        "yamnet_model_handle = 'https://tfhub.dev/google/yamnet/1'\n",
        "yamnet_model = hub.load(yamnet_model_handle)"
      ],
      "metadata": {
        "id": "b9kVyxgy5Cg3"
      },
      "execution_count": 53,
      "outputs": []
    },
    {
      "cell_type": "markdown",
      "source": [
        "### Test the model"
      ],
      "metadata": {
        "id": "jdF230K3-m18"
      }
    },
    {
      "cell_type": "markdown",
      "source": [
        "The model has 3 outputs the one of which is a classification with the following classes:"
      ],
      "metadata": {
        "id": "gBYLeDOZ_NXm"
      }
    },
    {
      "cell_type": "code",
      "source": [
        "class_map_path = yamnet_model.class_map_path().numpy().decode('utf-8')\n",
        "class_names =list(pd.read_csv(class_map_path)['display_name'])\n",
        "\n",
        "class_names[:20]"
      ],
      "metadata": {
        "colab": {
          "base_uri": "https://localhost:8080/"
        },
        "id": "nkWHx7ug-qOj",
        "outputId": "9e363d08-3ab6-48c0-e196-ecede8b9773f"
      },
      "execution_count": 57,
      "outputs": [
        {
          "output_type": "execute_result",
          "data": {
            "text/plain": [
              "['Speech',\n",
              " 'Child speech, kid speaking',\n",
              " 'Conversation',\n",
              " 'Narration, monologue',\n",
              " 'Babbling',\n",
              " 'Speech synthesizer',\n",
              " 'Shout',\n",
              " 'Bellow',\n",
              " 'Whoop',\n",
              " 'Yell',\n",
              " 'Children shouting',\n",
              " 'Screaming',\n",
              " 'Whispering',\n",
              " 'Laughter',\n",
              " 'Baby laughter',\n",
              " 'Giggle',\n",
              " 'Snicker',\n",
              " 'Belly laugh',\n",
              " 'Chuckle, chortle',\n",
              " 'Crying, sobbing']"
            ]
          },
          "metadata": {},
          "execution_count": 57
        }
      ]
    },
    {
      "cell_type": "markdown",
      "source": [
        "We can test this on our recorings of commands which should obviously be classified as speech!"
      ],
      "metadata": {
        "id": "C5aPzMHo_SpA"
      }
    },
    {
      "cell_type": "markdown",
      "source": [
        "## Transfer learning (indirect approach)\n",
        "\n",
        "YAMNet is a pretty heavy model. We will look at it in detail later but since the model outputs \"extracted features\" for us to use, we can directly use those features and train a new model to classify our new data."
      ],
      "metadata": {
        "id": "3iehCM51A9pg"
      }
    },
    {
      "cell_type": "code",
      "source": [
        "train_data_te = []\n",
        "train_data_ts = []\n",
        "for i in range(len(train_data)):\n",
        "    x = yamnet_model(train_data[i])[1:]\n",
        "    train_data_te.append(x[0])\n",
        "    train_data_ts.append(x[1])"
      ],
      "metadata": {
        "id": "UtsSaIetObWo"
      },
      "execution_count": 96,
      "outputs": []
    },
    {
      "cell_type": "code",
      "source": [
        "train_data_te = tf.convert_to_tensor(train_data_te)\n",
        "train_data_ts = tf.convert_to_tensor(train_data_ts)\n",
        "\n",
        "[train_data_te.shape, train_data_ts.shape]"
      ],
      "metadata": {
        "colab": {
          "base_uri": "https://localhost:8080/"
        },
        "id": "Kkf1nN0dSVIA",
        "outputId": "ad07b13e-b698-44f9-c56e-ecb1a9bedff3"
      },
      "execution_count": 98,
      "outputs": [
        {
          "output_type": "execute_result",
          "data": {
            "text/plain": [
              "[TensorShape([4400, 2, 1024]), TensorShape([4400, 144, 64])]"
            ]
          },
          "metadata": {},
          "execution_count": 98
        }
      ]
    },
    {
      "cell_type": "markdown",
      "source": [
        "### Using encodings\n",
        "\n",
        "The model extracts \"frames\" of 0.96s duration every 0.48s. For our 1s long data this is simply a shift in the waveform which nonetheless can be treated as a new sample."
      ],
      "metadata": {
        "id": "EoE5xa6GTwAW"
      }
    },
    {
      "cell_type": "code",
      "source": [
        "train_data_te = tf.reshape(train_data_te, (-1, 1024))\n",
        "train_labels_te = np.repeat(train_labels,2)"
      ],
      "metadata": {
        "id": "K9KX80wVm6im"
      },
      "execution_count": 102,
      "outputs": []
    },
    {
      "cell_type": "code",
      "source": [
        "num_classes = len(labels_dict)\n",
        "\n",
        "model_te = keras.Sequential([layers.Input(shape=(1024)),\n",
        "                             layers.Dense(256, activation='relu'),\n",
        "                             layers.Dense(num_classes, activation='softmax')\n",
        "                             ])\n",
        "\n",
        "model_te.summary()"
      ],
      "metadata": {
        "colab": {
          "base_uri": "https://localhost:8080/"
        },
        "id": "nZljl194YX9-",
        "outputId": "a8b8bdc1-b997-4944-c80f-49200348e758"
      },
      "execution_count": 99,
      "outputs": [
        {
          "output_type": "stream",
          "name": "stdout",
          "text": [
            "Model: \"sequential_3\"\n",
            "_________________________________________________________________\n",
            " Layer (type)                Output Shape              Param #   \n",
            "=================================================================\n",
            " dense_6 (Dense)             (None, 256)               262400    \n",
            "                                                                 \n",
            " dense_7 (Dense)             (None, 12)                3084      \n",
            "                                                                 \n",
            "=================================================================\n",
            "Total params: 265,484\n",
            "Trainable params: 265,484\n",
            "Non-trainable params: 0\n",
            "_________________________________________________________________\n"
          ]
        }
      ]
    },
    {
      "cell_type": "code",
      "source": [
        "model_te.compile(loss=\"sparse_categorical_crossentropy\",\n",
        "                 optimizer=\"adam\", metrics=['accuracy'])"
      ],
      "metadata": {
        "id": "HKB8_XkNZxEe"
      },
      "execution_count": 103,
      "outputs": []
    },
    {
      "cell_type": "code",
      "source": [
        "callback = keras.callbacks.EarlyStopping(monitor='val_accuracy',\n",
        "                                         patience=3, restore_best_weights=True)\n",
        "\n",
        "model_te.fit(train_data_te, train_labels_te, epochs=60, batch_size=256,\n",
        "             validation_split=0.2, shuffle=True, callbacks = callback)"
      ],
      "metadata": {
        "colab": {
          "base_uri": "https://localhost:8080/"
        },
        "id": "JPB_VHIEeFcl",
        "outputId": "da3f2c41-f36e-44cf-b048-6204eac30122"
      },
      "execution_count": 104,
      "outputs": [
        {
          "output_type": "stream",
          "name": "stdout",
          "text": [
            "Epoch 1/60\n",
            "28/28 [==============================] - 1s 27ms/step - loss: 2.2603 - accuracy: 0.2295 - val_loss: 2.1471 - val_accuracy: 0.2506\n",
            "Epoch 2/60\n",
            "28/28 [==============================] - 1s 19ms/step - loss: 2.0243 - accuracy: 0.3136 - val_loss: 2.0298 - val_accuracy: 0.2937\n",
            "Epoch 3/60\n",
            "28/28 [==============================] - 1s 18ms/step - loss: 1.9319 - accuracy: 0.3480 - val_loss: 1.9760 - val_accuracy: 0.3267\n",
            "Epoch 4/60\n",
            "28/28 [==============================] - 1s 18ms/step - loss: 1.8517 - accuracy: 0.3710 - val_loss: 1.9504 - val_accuracy: 0.3307\n",
            "Epoch 5/60\n",
            "28/28 [==============================] - 1s 18ms/step - loss: 1.7960 - accuracy: 0.3862 - val_loss: 1.9182 - val_accuracy: 0.3506\n",
            "Epoch 6/60\n",
            "28/28 [==============================] - 0s 17ms/step - loss: 1.7517 - accuracy: 0.4026 - val_loss: 1.8955 - val_accuracy: 0.3602\n",
            "Epoch 7/60\n",
            "28/28 [==============================] - 1s 19ms/step - loss: 1.7049 - accuracy: 0.4222 - val_loss: 1.8583 - val_accuracy: 0.3574\n",
            "Epoch 8/60\n",
            "28/28 [==============================] - 1s 19ms/step - loss: 1.6740 - accuracy: 0.4378 - val_loss: 1.8818 - val_accuracy: 0.3614\n",
            "Epoch 9/60\n",
            "28/28 [==============================] - 1s 20ms/step - loss: 1.6347 - accuracy: 0.4518 - val_loss: 1.8380 - val_accuracy: 0.3710\n",
            "Epoch 10/60\n",
            "28/28 [==============================] - 0s 17ms/step - loss: 1.6045 - accuracy: 0.4587 - val_loss: 1.8239 - val_accuracy: 0.3733\n",
            "Epoch 11/60\n",
            "28/28 [==============================] - 1s 19ms/step - loss: 1.5657 - accuracy: 0.4740 - val_loss: 1.8049 - val_accuracy: 0.3818\n",
            "Epoch 12/60\n",
            "28/28 [==============================] - 1s 18ms/step - loss: 1.5401 - accuracy: 0.4834 - val_loss: 1.7990 - val_accuracy: 0.3852\n",
            "Epoch 13/60\n",
            "28/28 [==============================] - 1s 20ms/step - loss: 1.5100 - accuracy: 0.4970 - val_loss: 1.7974 - val_accuracy: 0.3915\n",
            "Epoch 14/60\n",
            "28/28 [==============================] - 1s 20ms/step - loss: 1.4817 - accuracy: 0.5072 - val_loss: 1.7923 - val_accuracy: 0.3949\n",
            "Epoch 15/60\n",
            "28/28 [==============================] - 1s 19ms/step - loss: 1.4446 - accuracy: 0.5203 - val_loss: 1.8070 - val_accuracy: 0.3989\n",
            "Epoch 16/60\n",
            "28/28 [==============================] - 0s 17ms/step - loss: 1.4203 - accuracy: 0.5298 - val_loss: 1.7882 - val_accuracy: 0.3864\n",
            "Epoch 17/60\n",
            "28/28 [==============================] - 1s 19ms/step - loss: 1.3962 - accuracy: 0.5393 - val_loss: 1.7727 - val_accuracy: 0.4102\n",
            "Epoch 18/60\n",
            "28/28 [==============================] - 1s 19ms/step - loss: 1.3667 - accuracy: 0.5521 - val_loss: 1.7766 - val_accuracy: 0.4068\n",
            "Epoch 19/60\n",
            "28/28 [==============================] - 1s 19ms/step - loss: 1.3395 - accuracy: 0.5607 - val_loss: 1.7759 - val_accuracy: 0.4068\n",
            "Epoch 20/60\n",
            "28/28 [==============================] - 0s 17ms/step - loss: 1.3191 - accuracy: 0.5744 - val_loss: 1.7768 - val_accuracy: 0.4074\n"
          ]
        },
        {
          "output_type": "execute_result",
          "data": {
            "text/plain": [
              "<keras.callbacks.History at 0x7fb0df0a9b50>"
            ]
          },
          "metadata": {},
          "execution_count": 104
        }
      ]
    },
    {
      "cell_type": "code",
      "source": [
        "test_data_te=[]\n",
        "test_data_ts=[]\n",
        "for i in range(len(test_data)):\n",
        "    x = yamnet_model(test_data[i])[1:]\n",
        "    test_data_te.append( x[0] )\n",
        "    test_data_ts.append( x[1] )\n",
        "\n",
        "test_data_te = tf.reshape( test_data_te,(-1, 1024) )\n",
        "test_labels_te = np.repeat(test_labels,2)"
      ],
      "metadata": {
        "id": "y7ZaduWxf6y0"
      },
      "execution_count": 110,
      "outputs": []
    },
    {
      "cell_type": "code",
      "source": [
        "model_te.evaluate(test_data_te, test_labels_te)"
      ],
      "metadata": {
        "colab": {
          "base_uri": "https://localhost:8080/"
        },
        "id": "sWyXlX5poky8",
        "outputId": "22802392-113d-4729-fb77-4a267b7bcb3a"
      },
      "execution_count": 108,
      "outputs": [
        {
          "output_type": "stream",
          "name": "stdout",
          "text": [
            "31/31 [==============================] - 0s 3ms/step - loss: 1.8568 - accuracy: 0.3592\n"
          ]
        },
        {
          "output_type": "execute_result",
          "data": {
            "text/plain": [
              "[1.856785774230957, 0.359183669090271]"
            ]
          },
          "metadata": {},
          "execution_count": 108
        }
      ]
    },
    {
      "cell_type": "markdown",
      "source": [
        "Clearly you can do a lot better by training a model from scratch! That's generally true if you have enough data and ~5000 samples for 12 classes is enough to train a model reasonably well. "
      ],
      "metadata": {
        "id": "7nerV-yBwzGr"
      }
    },
    {
      "cell_type": "markdown",
      "source": [
        "### Using spectrograms"
      ],
      "metadata": {
        "id": "mB-Ai5q5XyCj"
      }
    },
    {
      "cell_type": "code",
      "source": [
        "train_data_ts = tf.reshape(train_data_ts, (4400, 144, 64, 1))"
      ],
      "metadata": {
        "id": "cVUCXNGtX7_k"
      },
      "execution_count": 114,
      "outputs": []
    },
    {
      "cell_type": "code",
      "source": [
        "num_labels = len(labels_dict)\n",
        "model_ts = keras.Sequential([layers.Input(shape=(144, 64, 1)),\n",
        "                             layers.Resizing(32, 32),\n",
        "                             layers.Conv2D(32, 3, activation='relu'),\n",
        "                             layers.Conv2D(32, 3, activation='relu'),\n",
        "                             layers.MaxPooling2D(),\n",
        "                             layers.Dropout(0.25),\n",
        "                             layers.Flatten(),\n",
        "                             layers.Dense(128, activation='relu'),\n",
        "                             layers.Dropout(0.5),\n",
        "                             layers.Dense(num_labels, activation='softmax'),\n",
        "                             ])\n",
        "\n",
        "model_ts.summary()"
      ],
      "metadata": {
        "colab": {
          "base_uri": "https://localhost:8080/"
        },
        "id": "K8CHjSexYD5i",
        "outputId": "9d892ad4-96ea-4488-f476-ccb2e93f5e57"
      },
      "execution_count": 126,
      "outputs": [
        {
          "output_type": "stream",
          "name": "stdout",
          "text": [
            "Model: \"sequential_7\"\n",
            "_________________________________________________________________\n",
            " Layer (type)                Output Shape              Param #   \n",
            "=================================================================\n",
            " resizing_6 (Resizing)       (None, 32, 32, 1)         0         \n",
            "                                                                 \n",
            " conv2d_11 (Conv2D)          (None, 30, 30, 32)        320       \n",
            "                                                                 \n",
            " conv2d_12 (Conv2D)          (None, 28, 28, 32)        9248      \n",
            "                                                                 \n",
            " max_pooling2d_6 (MaxPooling  (None, 14, 14, 32)       0         \n",
            " 2D)                                                             \n",
            "                                                                 \n",
            " dropout_12 (Dropout)        (None, 14, 14, 32)        0         \n",
            "                                                                 \n",
            " flatten_6 (Flatten)         (None, 6272)              0         \n",
            "                                                                 \n",
            " dense_14 (Dense)            (None, 128)               802944    \n",
            "                                                                 \n",
            " dropout_13 (Dropout)        (None, 128)               0         \n",
            "                                                                 \n",
            " dense_15 (Dense)            (None, 12)                1548      \n",
            "                                                                 \n",
            "=================================================================\n",
            "Total params: 814,060\n",
            "Trainable params: 814,060\n",
            "Non-trainable params: 0\n",
            "_________________________________________________________________\n"
          ]
        }
      ]
    },
    {
      "cell_type": "code",
      "source": [
        "model_ts.compile(loss=\"sparse_categorical_crossentropy\",\n",
        "                 optimizer=\"adam\", metrics=['accuracy'])"
      ],
      "metadata": {
        "id": "hAIHvsT3ZYN9"
      },
      "execution_count": 128,
      "outputs": []
    },
    {
      "cell_type": "code",
      "source": [
        "callback = keras.callbacks.EarlyStopping(monitor='val_accuracy',\n",
        "                                         patience=3, restore_best_weights=True)\n",
        "\n",
        "model_ts.fit(train_data_ts, train_labels, epochs=60, batch_size=256,\n",
        "             validation_split=0.2, callbacks = callback)"
      ],
      "metadata": {
        "colab": {
          "base_uri": "https://localhost:8080/"
        },
        "id": "7cE78D5IZd0k",
        "outputId": "ad277d3f-4239-437e-8c46-5f2f94c86cb9"
      },
      "execution_count": 129,
      "outputs": [
        {
          "output_type": "stream",
          "name": "stdout",
          "text": [
            "Epoch 1/60\n",
            "14/14 [==============================] - 13s 837ms/step - loss: 2.5456 - accuracy: 0.1361 - val_loss: 2.3548 - val_accuracy: 0.2102\n",
            "Epoch 2/60\n",
            "14/14 [==============================] - 9s 610ms/step - loss: 2.2550 - accuracy: 0.2273 - val_loss: 2.1143 - val_accuracy: 0.3136\n",
            "Epoch 3/60\n",
            "14/14 [==============================] - 8s 538ms/step - loss: 2.0498 - accuracy: 0.3080 - val_loss: 1.8600 - val_accuracy: 0.4398\n",
            "Epoch 4/60\n",
            "14/14 [==============================] - 8s 539ms/step - loss: 1.8210 - accuracy: 0.3935 - val_loss: 1.5988 - val_accuracy: 0.5068\n",
            "Epoch 5/60\n",
            "14/14 [==============================] - 8s 539ms/step - loss: 1.6168 - accuracy: 0.4622 - val_loss: 1.4047 - val_accuracy: 0.5568\n",
            "Epoch 6/60\n",
            "14/14 [==============================] - 8s 540ms/step - loss: 1.4738 - accuracy: 0.5068 - val_loss: 1.3175 - val_accuracy: 0.5784\n",
            "Epoch 7/60\n",
            "14/14 [==============================] - 8s 540ms/step - loss: 1.3577 - accuracy: 0.5452 - val_loss: 1.1765 - val_accuracy: 0.6318\n",
            "Epoch 8/60\n",
            "14/14 [==============================] - 8s 538ms/step - loss: 1.2460 - accuracy: 0.5810 - val_loss: 1.1037 - val_accuracy: 0.6545\n",
            "Epoch 9/60\n",
            "14/14 [==============================] - 8s 543ms/step - loss: 1.1557 - accuracy: 0.6111 - val_loss: 1.0326 - val_accuracy: 0.6841\n",
            "Epoch 10/60\n",
            "14/14 [==============================] - 8s 540ms/step - loss: 1.0563 - accuracy: 0.6358 - val_loss: 0.9447 - val_accuracy: 0.7068\n",
            "Epoch 11/60\n",
            "14/14 [==============================] - 8s 539ms/step - loss: 1.0064 - accuracy: 0.6690 - val_loss: 0.9004 - val_accuracy: 0.7057\n",
            "Epoch 12/60\n",
            "14/14 [==============================] - 8s 539ms/step - loss: 0.9454 - accuracy: 0.6935 - val_loss: 0.8642 - val_accuracy: 0.7227\n",
            "Epoch 13/60\n",
            "14/14 [==============================] - 7s 538ms/step - loss: 0.8754 - accuracy: 0.7043 - val_loss: 0.8199 - val_accuracy: 0.7307\n",
            "Epoch 14/60\n",
            "14/14 [==============================] - 8s 541ms/step - loss: 0.8159 - accuracy: 0.7136 - val_loss: 0.7805 - val_accuracy: 0.7386\n",
            "Epoch 15/60\n",
            "14/14 [==============================] - 8s 539ms/step - loss: 0.7650 - accuracy: 0.7378 - val_loss: 0.7385 - val_accuracy: 0.7477\n",
            "Epoch 16/60\n",
            "14/14 [==============================] - 7s 537ms/step - loss: 0.7366 - accuracy: 0.7528 - val_loss: 0.7381 - val_accuracy: 0.7591\n",
            "Epoch 17/60\n",
            "14/14 [==============================] - 8s 539ms/step - loss: 0.6866 - accuracy: 0.7653 - val_loss: 0.6764 - val_accuracy: 0.7693\n",
            "Epoch 18/60\n",
            "14/14 [==============================] - 8s 539ms/step - loss: 0.6435 - accuracy: 0.7798 - val_loss: 0.6791 - val_accuracy: 0.7841\n",
            "Epoch 19/60\n",
            "14/14 [==============================] - 7s 535ms/step - loss: 0.6129 - accuracy: 0.7892 - val_loss: 0.6496 - val_accuracy: 0.8000\n",
            "Epoch 20/60\n",
            "14/14 [==============================] - 8s 540ms/step - loss: 0.5570 - accuracy: 0.8062 - val_loss: 0.6504 - val_accuracy: 0.7841\n",
            "Epoch 21/60\n",
            "14/14 [==============================] - 8s 540ms/step - loss: 0.5131 - accuracy: 0.8236 - val_loss: 0.6054 - val_accuracy: 0.8057\n",
            "Epoch 22/60\n",
            "14/14 [==============================] - 8s 576ms/step - loss: 0.5043 - accuracy: 0.8213 - val_loss: 0.6281 - val_accuracy: 0.7966\n",
            "Epoch 23/60\n",
            "14/14 [==============================] - 7s 536ms/step - loss: 0.4838 - accuracy: 0.8327 - val_loss: 0.6082 - val_accuracy: 0.7943\n",
            "Epoch 24/60\n",
            "14/14 [==============================] - 8s 539ms/step - loss: 0.4459 - accuracy: 0.8401 - val_loss: 0.5764 - val_accuracy: 0.8080\n",
            "Epoch 25/60\n",
            "14/14 [==============================] - 8s 540ms/step - loss: 0.4171 - accuracy: 0.8574 - val_loss: 0.5741 - val_accuracy: 0.8227\n",
            "Epoch 26/60\n",
            "14/14 [==============================] - 7s 536ms/step - loss: 0.4008 - accuracy: 0.8699 - val_loss: 0.5521 - val_accuracy: 0.8239\n",
            "Epoch 27/60\n",
            "14/14 [==============================] - 8s 540ms/step - loss: 0.3753 - accuracy: 0.8670 - val_loss: 0.5395 - val_accuracy: 0.8205\n",
            "Epoch 28/60\n",
            "14/14 [==============================] - 8s 538ms/step - loss: 0.3560 - accuracy: 0.8767 - val_loss: 0.5407 - val_accuracy: 0.8114\n",
            "Epoch 29/60\n",
            "14/14 [==============================] - 8s 538ms/step - loss: 0.3616 - accuracy: 0.8761 - val_loss: 0.5346 - val_accuracy: 0.8193\n"
          ]
        },
        {
          "output_type": "execute_result",
          "data": {
            "text/plain": [
              "<keras.callbacks.History at 0x7fb0e25d8790>"
            ]
          },
          "metadata": {},
          "execution_count": 129
        }
      ]
    },
    {
      "cell_type": "code",
      "source": [
        "test_data_ts = tf.convert_to_tensor(test_data_ts)"
      ],
      "metadata": {
        "id": "Bm9n8Dyyb3mS"
      },
      "execution_count": 132,
      "outputs": []
    },
    {
      "cell_type": "code",
      "source": [
        "model_ts.evaluate(test_data_ts, test_labels)"
      ],
      "metadata": {
        "colab": {
          "base_uri": "https://localhost:8080/"
        },
        "id": "hBhsMhfIcNwm",
        "outputId": "da6a609d-a588-4f4b-e309-7c520a6b6238"
      },
      "execution_count": 133,
      "outputs": [
        {
          "output_type": "stream",
          "name": "stdout",
          "text": [
            "16/16 [==============================] - 1s 36ms/step - loss: 0.7403 - accuracy: 0.7531\n"
          ]
        },
        {
          "output_type": "execute_result",
          "data": {
            "text/plain": [
              "[0.7403245568275452, 0.7530612349510193]"
            ]
          },
          "metadata": {},
          "execution_count": 133
        }
      ]
    },
    {
      "cell_type": "markdown",
      "source": [
        "## What if you have fewer samples?"
      ],
      "metadata": {
        "id": "KOoZHVCfxRe6"
      }
    },
    {
      "cell_type": "code",
      "source": [
        "nums_train = 400\n",
        "nums_test = 40"
      ],
      "metadata": {
        "id": "8yYEmKcq0Qy8"
      },
      "execution_count": 134,
      "outputs": []
    },
    {
      "cell_type": "markdown",
      "source": [
        "### End to end"
      ],
      "metadata": {
        "id": "n3VyojaSjHJx"
      }
    },
    {
      "cell_type": "code",
      "source": [
        "input_shape = spectrogram.shape\n",
        "num_labels = len(labels_dict)\n",
        "model_2 = keras.Sequential([layers.Input(shape=input_shape),\n",
        "                            layers.Resizing(32, 32),\n",
        "                            layers.Conv2D(32, 3, activation='relu'),\n",
        "                            layers.Conv2D(64, 3, activation='relu'),\n",
        "                            layers.MaxPooling2D(),\n",
        "                            layers.Dropout(0.25),\n",
        "                            layers.Flatten(),\n",
        "                            layers.Dense(128, activation='relu'),\n",
        "                            layers.Dropout(0.5),\n",
        "                            layers.Dense(num_labels),\n",
        "                            ])\n",
        "\n",
        "model_2.summary()"
      ],
      "metadata": {
        "colab": {
          "base_uri": "https://localhost:8080/"
        },
        "id": "s-dxHDJX02Lv",
        "outputId": "3ed0be1c-7893-445c-900e-14421764d4b2"
      },
      "execution_count": 142,
      "outputs": [
        {
          "output_type": "stream",
          "name": "stdout",
          "text": [
            "Model: \"sequential_10\"\n",
            "_________________________________________________________________\n",
            " Layer (type)                Output Shape              Param #   \n",
            "=================================================================\n",
            " resizing_9 (Resizing)       (None, 32, 32, 1)         0         \n",
            "                                                                 \n",
            " conv2d_17 (Conv2D)          (None, 30, 30, 32)        320       \n",
            "                                                                 \n",
            " conv2d_18 (Conv2D)          (None, 28, 28, 64)        18496     \n",
            "                                                                 \n",
            " max_pooling2d_9 (MaxPooling  (None, 14, 14, 64)       0         \n",
            " 2D)                                                             \n",
            "                                                                 \n",
            " dropout_18 (Dropout)        (None, 14, 14, 64)        0         \n",
            "                                                                 \n",
            " flatten_9 (Flatten)         (None, 12544)             0         \n",
            "                                                                 \n",
            " dense_20 (Dense)            (None, 128)               1605760   \n",
            "                                                                 \n",
            " dropout_19 (Dropout)        (None, 128)               0         \n",
            "                                                                 \n",
            " dense_21 (Dense)            (None, 12)                1548      \n",
            "                                                                 \n",
            "=================================================================\n",
            "Total params: 1,626,124\n",
            "Trainable params: 1,626,124\n",
            "Non-trainable params: 0\n",
            "_________________________________________________________________\n"
          ]
        }
      ]
    },
    {
      "cell_type": "code",
      "source": [
        "model_2.compile(loss=tf.keras.losses.SparseCategoricalCrossentropy(from_logits=True),\n",
        "                optimizer=\"adam\", metrics=['accuracy'])"
      ],
      "metadata": {
        "id": "pdA58fpQ1lVS"
      },
      "execution_count": 143,
      "outputs": []
    },
    {
      "cell_type": "code",
      "source": [
        "callback = keras.callbacks.EarlyStopping(monitor='val_accuracy',\n",
        "                                         patience=5, restore_best_weights=True)\n",
        "\n",
        "model_2.fit(train_data_s[:nums_train], train_labels[:nums_train], epochs=60, batch_size=256,\n",
        "            validation_split=0.1, callbacks = callback)"
      ],
      "metadata": {
        "colab": {
          "base_uri": "https://localhost:8080/"
        },
        "id": "LxMnNPwo1xoI",
        "outputId": "e07b3896-f9c1-40a7-bb93-5e92d47a3171"
      },
      "execution_count": 144,
      "outputs": [
        {
          "output_type": "stream",
          "name": "stdout",
          "text": [
            "Epoch 1/60\n",
            "2/2 [==============================] - 3s 980ms/step - loss: 2.5076 - accuracy: 0.0806 - val_loss: 2.4024 - val_accuracy: 0.1250\n",
            "Epoch 2/60\n",
            "2/2 [==============================] - 2s 549ms/step - loss: 2.2939 - accuracy: 0.2167 - val_loss: 2.3818 - val_accuracy: 0.2000\n",
            "Epoch 3/60\n",
            "2/2 [==============================] - 2s 491ms/step - loss: 2.1520 - accuracy: 0.3000 - val_loss: 2.3920 - val_accuracy: 0.2000\n",
            "Epoch 4/60\n",
            "2/2 [==============================] - 2s 607ms/step - loss: 2.0468 - accuracy: 0.3139 - val_loss: 2.4005 - val_accuracy: 0.2750\n",
            "Epoch 5/60\n",
            "2/2 [==============================] - 2s 624ms/step - loss: 1.9753 - accuracy: 0.3639 - val_loss: 2.3803 - val_accuracy: 0.3250\n",
            "Epoch 6/60\n",
            "2/2 [==============================] - 2s 617ms/step - loss: 1.8620 - accuracy: 0.4194 - val_loss: 2.3067 - val_accuracy: 0.2250\n",
            "Epoch 7/60\n",
            "2/2 [==============================] - 2s 606ms/step - loss: 1.7866 - accuracy: 0.4278 - val_loss: 2.2221 - val_accuracy: 0.2750\n",
            "Epoch 8/60\n",
            "2/2 [==============================] - 2s 588ms/step - loss: 1.6636 - accuracy: 0.4528 - val_loss: 2.1427 - val_accuracy: 0.3000\n",
            "Epoch 9/60\n",
            "2/2 [==============================] - 2s 550ms/step - loss: 1.5724 - accuracy: 0.4972 - val_loss: 2.1234 - val_accuracy: 0.2750\n",
            "Epoch 10/60\n",
            "2/2 [==============================] - 2s 599ms/step - loss: 1.5702 - accuracy: 0.5139 - val_loss: 2.1075 - val_accuracy: 0.3250\n"
          ]
        },
        {
          "output_type": "execute_result",
          "data": {
            "text/plain": [
              "<keras.callbacks.History at 0x7fb0e07e2fd0>"
            ]
          },
          "metadata": {},
          "execution_count": 144
        }
      ]
    },
    {
      "cell_type": "code",
      "source": [
        "model_2.evaluate(test_data_s[:nums_test], test_labels[:nums_test])"
      ],
      "metadata": {
        "colab": {
          "base_uri": "https://localhost:8080/"
        },
        "id": "9axTgI8Selze",
        "outputId": "c4e5e647-0439-4957-bd8c-2169ca69b4ff"
      },
      "execution_count": 145,
      "outputs": [
        {
          "output_type": "stream",
          "name": "stdout",
          "text": [
            "2/2 [==============================] - 0s 20ms/step - loss: 2.1822 - accuracy: 0.2500\n"
          ]
        },
        {
          "output_type": "execute_result",
          "data": {
            "text/plain": [
              "[2.1822266578674316, 0.25]"
            ]
          },
          "metadata": {},
          "execution_count": 145
        }
      ]
    },
    {
      "cell_type": "markdown",
      "source": [
        "### Transfer learning"
      ],
      "metadata": {
        "id": "szo9upmmjVhL"
      }
    },
    {
      "cell_type": "code",
      "source": [
        "num_classes = len(labels_dict)\n",
        "\n",
        "model_te_2 = keras.Sequential([layers.Input(shape=(1024)),\n",
        "                               layers.Dense(256, activation='relu', \n",
        "                                            kernel_regularizer='l1_l2'),\n",
        "                               layers.Dropout(0.5),\n",
        "                               layers.Dense(num_classes, activation='softmax')\n",
        "                               ])\n",
        "\n",
        "model_te_2.summary()"
      ],
      "metadata": {
        "id": "7qDDS6Hyzzsg"
      },
      "execution_count": null,
      "outputs": []
    },
    {
      "cell_type": "code",
      "source": [
        "model_te_2.compile(loss=\"sparse_categorical_crossentropy\",\n",
        "                   optimizer=\"adam\", metrics=['accuracy'])"
      ],
      "metadata": {
        "id": "dtmb_lcz0Xuc"
      },
      "execution_count": 193,
      "outputs": []
    },
    {
      "cell_type": "code",
      "source": [
        "callback = keras.callbacks.EarlyStopping(monitor='val_accuracy',\n",
        "                                         patience=5, restore_best_weights=True)\n",
        "\n",
        "model_te_2.fit(train_data_te[:2*nums_train], train_labels[:2*nums_train],\n",
        "               epochs=60, batch_size=256, validation_split=0.1, \n",
        "               shuffle=True, callbacks = callback)"
      ],
      "metadata": {
        "id": "KErXn_4A0HIo"
      },
      "execution_count": null,
      "outputs": []
    },
    {
      "cell_type": "code",
      "source": [
        "num_labels = len(labels_dict)\n",
        "model_ts_2 = keras.Sequential([layers.Input(shape=(144, 64, 1)),\n",
        "                               layers.Resizing(32, 32),\n",
        "                               layers.Conv2D(32, 3, activation='relu'),\n",
        "                               layers.Conv2D(32, 3, activation='relu'),\n",
        "                               layers.MaxPooling2D(),\n",
        "                               layers.Dropout(0.25),\n",
        "                               layers.Flatten(),\n",
        "                               layers.Dense(128, activation='relu'),\n",
        "                               layers.Dropout(0.5),\n",
        "                               layers.Dense(num_labels, activation='softmax'),\n",
        "                               ])\n",
        "\n",
        "model_ts_2.summary()"
      ],
      "metadata": {
        "id": "p7O6uTT-jbJ0"
      },
      "execution_count": null,
      "outputs": []
    },
    {
      "cell_type": "code",
      "source": [
        "model_ts_2.compile(loss=\"sparse_categorical_crossentropy\",\n",
        "                   optimizer=\"adam\", metrics=['accuracy'])"
      ],
      "metadata": {
        "id": "M-L9gFv1j-HV"
      },
      "execution_count": 209,
      "outputs": []
    },
    {
      "cell_type": "code",
      "source": [
        "callback = keras.callbacks.EarlyStopping(monitor='val_accuracy',\n",
        "                                         patience=5, restore_best_weights=True)\n",
        "\n",
        "model_ts_2.fit(train_data_ts[:nums_train], train_labels[:nums_train], epochs=60, \n",
        "               batch_size=256, validation_split=0.1, callbacks = callback)"
      ],
      "metadata": {
        "id": "e2FkAIQWj-HW"
      },
      "execution_count": null,
      "outputs": []
    },
    {
      "cell_type": "code",
      "source": [
        "model_ts_2.evaluate(test_data_ts[:nums_test], test_labels[:nums_test])"
      ],
      "metadata": {
        "id": "dUkH8oGZkj7S"
      },
      "execution_count": null,
      "outputs": []
    },
    {
      "cell_type": "markdown",
      "source": [
        "## Transfer Learning (direct approach)\n",
        "\n",
        "Clearly YAMNet was not trained to recognize speech and some of the information is lost as data is passed through the model.\n",
        "\n",
        "We can potentially prevent this loss of information but replacing the later layers of the model."
      ],
      "metadata": {
        "id": "1i_Nvc5o5MUA"
      }
    },
    {
      "cell_type": "code",
      "source": [
        "# Install required packages.\n",
        "!pip install soundfile\n",
        "!git clone https://github.com/tensorflow/models.git\n",
        "%cd models/research/audioset/yamnet\n",
        "\n",
        "# Download YAMNet data\n",
        "!curl -O https://storage.googleapis.com/audioset/yamnet.h5"
      ],
      "metadata": {
        "colab": {
          "base_uri": "https://localhost:8080/"
        },
        "id": "znaWVqH21052",
        "outputId": "65499918-f15c-4f5c-968c-4c253ad34b54"
      },
      "execution_count": 215,
      "outputs": [
        {
          "output_type": "stream",
          "name": "stdout",
          "text": [
            "Requirement already satisfied: soundfile in /usr/local/lib/python3.7/dist-packages (0.10.3.post1)\n",
            "Requirement already satisfied: cffi>=1.0 in /usr/local/lib/python3.7/dist-packages (from soundfile) (1.15.0)\n",
            "Requirement already satisfied: pycparser in /usr/local/lib/python3.7/dist-packages (from cffi>=1.0->soundfile) (2.21)\n",
            "fatal: destination path 'models' already exists and is not an empty directory.\n",
            "/content/models/research/audioset/yamnet\n",
            "  % Total    % Received % Xferd  Average Speed   Time    Time     Time  Current\n",
            "                                 Dload  Upload   Total   Spent    Left  Speed\n",
            "100 14.5M  100 14.5M    0     0  40.7M      0 --:--:-- --:--:-- --:--:-- 40.6M\n"
          ]
        }
      ]
    },
    {
      "cell_type": "code",
      "source": [
        "import soundfile as sf\n",
        "import params as yamnet_params\n",
        "import yamnet as yamnet_model"
      ],
      "metadata": {
        "id": "Sbowivuc75rT"
      },
      "execution_count": 216,
      "outputs": []
    },
    {
      "cell_type": "code",
      "source": [
        "# Download audio for testing\n",
        "!curl -O https://storage.googleapis.com/audioset/speech_whistling2.wav\n",
        "\n",
        "# Read in the audio.\n",
        "wav_file_name = 'speech_whistling2.wav'\n",
        "wav_data, sr = sf.read(wav_file_name, dtype=np.int16)\n",
        "waveform = wav_data / 32768.0"
      ],
      "metadata": {
        "colab": {
          "base_uri": "https://localhost:8080/"
        },
        "id": "xP1pe3CM-Zcp",
        "outputId": "4febec47-59d7-460c-ed37-021ffd62775a"
      },
      "execution_count": 217,
      "outputs": [
        {
          "output_type": "stream",
          "name": "stdout",
          "text": [
            "  % Total    % Received % Xferd  Average Speed   Time    Time     Time  Current\n",
            "                                 Dload  Upload   Total   Spent    Left  Speed\n",
            "\r  0     0    0     0    0     0      0      0 --:--:-- --:--:-- --:--:--     0\r 13  153k   13 20533    0     0   106k      0  0:00:01 --:--:--  0:00:01  106k\r100  153k  100  153k    0     0   809k      0 --:--:-- --:--:-- --:--:--  805k\n"
          ]
        }
      ]
    },
    {
      "cell_type": "code",
      "source": [
        "# The graph is designed for a sampling rate of 16 kHz, but higher rates should work too.\n",
        "# We also generate scores at a 10 Hz frame rate.\n",
        "params = yamnet_params.Params(sample_rate=sr, patch_hop_seconds=0.1)\n",
        "print(\"Sample rate =\", params.sample_rate)"
      ],
      "metadata": {
        "colab": {
          "base_uri": "https://localhost:8080/"
        },
        "id": "zUUL0U5q-ptt",
        "outputId": "31d38edc-e3e4-49b3-92d6-accf416dfc22"
      },
      "execution_count": 218,
      "outputs": [
        {
          "output_type": "stream",
          "name": "stdout",
          "text": [
            "Sample rate = 16000\n"
          ]
        }
      ]
    },
    {
      "cell_type": "code",
      "source": [
        "# Set up the YAMNet model.\n",
        "class_names = yamnet_model.class_names('yamnet_class_map.csv')\n",
        "yamnet = yamnet_model.yamnet_frames_model(params)\n",
        "yamnet.load_weights('yamnet.h5')"
      ],
      "metadata": {
        "id": "eKyPLMwH6m5G"
      },
      "execution_count": 219,
      "outputs": []
    },
    {
      "cell_type": "code",
      "source": [
        "# Run the model.\n",
        "scores, embeddings, spectrogram = yamnet(waveform)\n",
        "scores = scores.numpy()\n",
        "spectrogram = spectrogram.numpy()"
      ],
      "metadata": {
        "id": "TOnRZdNg7VVN"
      },
      "execution_count": 220,
      "outputs": []
    },
    {
      "cell_type": "code",
      "source": [
        "spectrogram"
      ],
      "metadata": {
        "colab": {
          "base_uri": "https://localhost:8080/"
        },
        "id": "wuYAuwcu-wWo",
        "outputId": "f5b1d50e-b80c-475a-d4e6-b6a4b308f189"
      },
      "execution_count": 222,
      "outputs": [
        {
          "output_type": "execute_result",
          "data": {
            "text/plain": [
              "array([[-5.966911  , -5.9821906 , -6.012962  , ..., -5.2227764 ,\n",
              "        -5.3245063 , -6.2055817 ],\n",
              "       [-2.0070174 , -1.9400738 , -1.8753514 , ..., -2.9347801 ,\n",
              "        -2.5981402 , -4.248978  ],\n",
              "       [-0.9086907 , -1.2683843 , -0.42821464, ..., -3.363868  ,\n",
              "        -3.4155478 , -4.4742885 ],\n",
              "       ...,\n",
              "       [-6.9077554 , -6.9077554 , -6.9077554 , ..., -6.9077554 ,\n",
              "        -6.9077554 , -6.9077554 ],\n",
              "       [-6.9077554 , -6.9077554 , -6.9077554 , ..., -6.9077554 ,\n",
              "        -6.9077554 , -6.9077554 ],\n",
              "       [-6.9077554 , -6.9077554 , -6.9077554 , ..., -6.9077554 ,\n",
              "        -6.9077554 , -6.9077554 ]], dtype=float32)"
            ]
          },
          "metadata": {},
          "execution_count": 222
        }
      ]
    },
    {
      "cell_type": "code",
      "source": [
        "yamnet.summary()"
      ],
      "metadata": {
        "colab": {
          "base_uri": "https://localhost:8080/"
        },
        "id": "8uzpLGow-zbf",
        "outputId": "06fa9328-0b17-4113-8618-f2e27cf90f7c"
      },
      "execution_count": 309,
      "outputs": [
        {
          "output_type": "stream",
          "name": "stdout",
          "text": [
            "Model: \"yamnet_frames\"\n",
            "__________________________________________________________________________________________________\n",
            " Layer (type)                   Output Shape         Param #     Connected to                     \n",
            "==================================================================================================\n",
            " input_31 (InputLayer)          [(None,)]            0           []                               \n",
            "                                                                                                  \n",
            " tf.compat.v1.shape (TFOpLambda  (1,)                0           ['input_31[0][0]']               \n",
            " )                                                                                                \n",
            "                                                                                                  \n",
            " tf.__operators__.getitem (Slic  ()                  0           ['tf.compat.v1.shape[0][0]']     \n",
            " ingOpLambda)                                                                                     \n",
            "                                                                                                  \n",
            " tf.math.maximum_1 (TFOpLambda)  ()                  0           ['tf.__operators__.getitem[0][0]'\n",
            "                                                                 ]                                \n",
            "                                                                                                  \n",
            " tf.math.subtract_1 (TFOpLambda  ()                  0           ['tf.math.maximum_1[0][0]']      \n",
            " )                                                                                                \n",
            "                                                                                                  \n",
            " tf.cast (TFOpLambda)           ()                   0           ['tf.math.subtract_1[0][0]']     \n",
            "                                                                                                  \n",
            " tf.math.truediv (TFOpLambda)   ()                   0           ['tf.cast[0][0]']                \n",
            "                                                                                                  \n",
            " tf.math.ceil (TFOpLambda)      ()                   0           ['tf.math.truediv[0][0]']        \n",
            "                                                                                                  \n",
            " tf.cast_1 (TFOpLambda)         ()                   0           ['tf.math.ceil[0][0]']           \n",
            "                                                                                                  \n",
            " tf.math.subtract (TFOpLambda)  ()                   0           ['tf.__operators__.getitem[0][0]'\n",
            "                                                                 ]                                \n",
            "                                                                                                  \n",
            " tf.math.multiply (TFOpLambda)  ()                   0           ['tf.cast_1[0][0]']              \n",
            "                                                                                                  \n",
            " tf.math.maximum (TFOpLambda)   ()                   0           ['tf.math.subtract[0][0]']       \n",
            "                                                                                                  \n",
            " tf.math.subtract_2 (TFOpLambda  ()                  0           ['tf.math.multiply[0][0]',       \n",
            " )                                                                'tf.math.subtract_1[0][0]']     \n",
            "                                                                                                  \n",
            " tf.__operators__.add (TFOpLamb  ()                  0           ['tf.math.maximum[0][0]',        \n",
            " da)                                                              'tf.math.subtract_2[0][0]']     \n",
            "                                                                                                  \n",
            " tf.compat.v1.pad (TFOpLambda)  (None,)              0           ['input_31[0][0]',               \n",
            "                                                                  'tf.__operators__.add[0][0]']   \n",
            "                                                                                                  \n",
            " tf.signal.stft (TFOpLambda)    (None, 257)          0           ['tf.compat.v1.pad[0][0]']       \n",
            "                                                                                                  \n",
            " tf.math.abs (TFOpLambda)       (None, 257)          0           ['tf.signal.stft[0][0]']         \n",
            "                                                                                                  \n",
            " tf.linalg.matmul (TFOpLambda)  (None, 64)           0           ['tf.math.abs[0][0]']            \n",
            "                                                                                                  \n",
            " tf.__operators__.add_1 (TFOpLa  (None, 64)          0           ['tf.linalg.matmul[0][0]']       \n",
            " mbda)                                                                                            \n",
            "                                                                                                  \n",
            " tf.math.log (TFOpLambda)       (None, 64)           0           ['tf.__operators__.add_1[0][0]'] \n",
            "                                                                                                  \n",
            " tf.signal.frame (TFOpLambda)   (None, 96, 64)       0           ['tf.math.log[0][0]']            \n",
            "                                                                                                  \n",
            " reshape (Reshape)              (None, 96, 64, 1)    0           ['tf.signal.frame[0][0]']        \n",
            "                                                                                                  \n",
            " layer1/conv (Conv2D)           (None, 48, 32, 32)   288         ['reshape[0][0]']                \n",
            "                                                                                                  \n",
            " layer1/conv/bn (BatchNormaliza  (None, 48, 32, 32)  96          ['layer1/conv[0][0]']            \n",
            " tion)                                                                                            \n",
            "                                                                                                  \n",
            " layer1/relu (ReLU)             (None, 48, 32, 32)   0           ['layer1/conv/bn[0][0]']         \n",
            "                                                                                                  \n",
            " layer2/depthwise_conv (Depthwi  (None, 48, 32, 32)  288         ['layer1/relu[0][0]']            \n",
            " seConv2D)                                                                                        \n",
            "                                                                                                  \n",
            " layer2/depthwise_conv/bn (Batc  (None, 48, 32, 32)  96          ['layer2/depthwise_conv[0][0]']  \n",
            " hNormalization)                                                                                  \n",
            "                                                                                                  \n",
            " layer2/depthwise_conv/relu (Re  (None, 48, 32, 32)  0           ['layer2/depthwise_conv/bn[0][0]'\n",
            " LU)                                                             ]                                \n",
            "                                                                                                  \n",
            " layer2/pointwise_conv (Conv2D)  (None, 48, 32, 64)  2048        ['layer2/depthwise_conv/relu[0][0\n",
            "                                                                 ]']                              \n",
            "                                                                                                  \n",
            " layer2/pointwise_conv/bn (Batc  (None, 48, 32, 64)  192         ['layer2/pointwise_conv[0][0]']  \n",
            " hNormalization)                                                                                  \n",
            "                                                                                                  \n",
            " layer2/pointwise_conv/relu (Re  (None, 48, 32, 64)  0           ['layer2/pointwise_conv/bn[0][0]'\n",
            " LU)                                                             ]                                \n",
            "                                                                                                  \n",
            " layer3/depthwise_conv (Depthwi  (None, 24, 16, 64)  576         ['layer2/pointwise_conv/relu[0][0\n",
            " seConv2D)                                                       ]']                              \n",
            "                                                                                                  \n",
            " layer3/depthwise_conv/bn (Batc  (None, 24, 16, 64)  192         ['layer3/depthwise_conv[0][0]']  \n",
            " hNormalization)                                                                                  \n",
            "                                                                                                  \n",
            " layer3/depthwise_conv/relu (Re  (None, 24, 16, 64)  0           ['layer3/depthwise_conv/bn[0][0]'\n",
            " LU)                                                             ]                                \n",
            "                                                                                                  \n",
            " layer3/pointwise_conv (Conv2D)  (None, 24, 16, 128)  8192       ['layer3/depthwise_conv/relu[0][0\n",
            "                                                                 ]']                              \n",
            "                                                                                                  \n",
            " layer3/pointwise_conv/bn (Batc  (None, 24, 16, 128)  384        ['layer3/pointwise_conv[0][0]']  \n",
            " hNormalization)                                                                                  \n",
            "                                                                                                  \n",
            " layer3/pointwise_conv/relu (Re  (None, 24, 16, 128)  0          ['layer3/pointwise_conv/bn[0][0]'\n",
            " LU)                                                             ]                                \n",
            "                                                                                                  \n",
            " layer4/depthwise_conv (Depthwi  (None, 24, 16, 128)  1152       ['layer3/pointwise_conv/relu[0][0\n",
            " seConv2D)                                                       ]']                              \n",
            "                                                                                                  \n",
            " layer4/depthwise_conv/bn (Batc  (None, 24, 16, 128)  384        ['layer4/depthwise_conv[0][0]']  \n",
            " hNormalization)                                                                                  \n",
            "                                                                                                  \n",
            " layer4/depthwise_conv/relu (Re  (None, 24, 16, 128)  0          ['layer4/depthwise_conv/bn[0][0]'\n",
            " LU)                                                             ]                                \n",
            "                                                                                                  \n",
            " layer4/pointwise_conv (Conv2D)  (None, 24, 16, 128)  16384      ['layer4/depthwise_conv/relu[0][0\n",
            "                                                                 ]']                              \n",
            "                                                                                                  \n",
            " layer4/pointwise_conv/bn (Batc  (None, 24, 16, 128)  384        ['layer4/pointwise_conv[0][0]']  \n",
            " hNormalization)                                                                                  \n",
            "                                                                                                  \n",
            " layer4/pointwise_conv/relu (Re  (None, 24, 16, 128)  0          ['layer4/pointwise_conv/bn[0][0]'\n",
            " LU)                                                             ]                                \n",
            "                                                                                                  \n",
            " layer5/depthwise_conv (Depthwi  (None, 12, 8, 128)  1152        ['layer4/pointwise_conv/relu[0][0\n",
            " seConv2D)                                                       ]']                              \n",
            "                                                                                                  \n",
            " layer5/depthwise_conv/bn (Batc  (None, 12, 8, 128)  384         ['layer5/depthwise_conv[0][0]']  \n",
            " hNormalization)                                                                                  \n",
            "                                                                                                  \n",
            " layer5/depthwise_conv/relu (Re  (None, 12, 8, 128)  0           ['layer5/depthwise_conv/bn[0][0]'\n",
            " LU)                                                             ]                                \n",
            "                                                                                                  \n",
            " layer5/pointwise_conv (Conv2D)  (None, 12, 8, 256)  32768       ['layer5/depthwise_conv/relu[0][0\n",
            "                                                                 ]']                              \n",
            "                                                                                                  \n",
            " layer5/pointwise_conv/bn (Batc  (None, 12, 8, 256)  768         ['layer5/pointwise_conv[0][0]']  \n",
            " hNormalization)                                                                                  \n",
            "                                                                                                  \n",
            " layer5/pointwise_conv/relu (Re  (None, 12, 8, 256)  0           ['layer5/pointwise_conv/bn[0][0]'\n",
            " LU)                                                             ]                                \n",
            "                                                                                                  \n",
            " layer6/depthwise_conv (Depthwi  (None, 12, 8, 256)  2304        ['layer5/pointwise_conv/relu[0][0\n",
            " seConv2D)                                                       ]']                              \n",
            "                                                                                                  \n",
            " layer6/depthwise_conv/bn (Batc  (None, 12, 8, 256)  768         ['layer6/depthwise_conv[0][0]']  \n",
            " hNormalization)                                                                                  \n",
            "                                                                                                  \n",
            " layer6/depthwise_conv/relu (Re  (None, 12, 8, 256)  0           ['layer6/depthwise_conv/bn[0][0]'\n",
            " LU)                                                             ]                                \n",
            "                                                                                                  \n",
            " layer6/pointwise_conv (Conv2D)  (None, 12, 8, 256)  65536       ['layer6/depthwise_conv/relu[0][0\n",
            "                                                                 ]']                              \n",
            "                                                                                                  \n",
            " layer6/pointwise_conv/bn (Batc  (None, 12, 8, 256)  768         ['layer6/pointwise_conv[0][0]']  \n",
            " hNormalization)                                                                                  \n",
            "                                                                                                  \n",
            " layer6/pointwise_conv/relu (Re  (None, 12, 8, 256)  0           ['layer6/pointwise_conv/bn[0][0]'\n",
            " LU)                                                             ]                                \n",
            "                                                                                                  \n",
            " layer7/depthwise_conv (Depthwi  (None, 6, 4, 256)   2304        ['layer6/pointwise_conv/relu[0][0\n",
            " seConv2D)                                                       ]']                              \n",
            "                                                                                                  \n",
            " layer7/depthwise_conv/bn (Batc  (None, 6, 4, 256)   768         ['layer7/depthwise_conv[0][0]']  \n",
            " hNormalization)                                                                                  \n",
            "                                                                                                  \n",
            " layer7/depthwise_conv/relu (Re  (None, 6, 4, 256)   0           ['layer7/depthwise_conv/bn[0][0]'\n",
            " LU)                                                             ]                                \n",
            "                                                                                                  \n",
            " layer7/pointwise_conv (Conv2D)  (None, 6, 4, 512)   131072      ['layer7/depthwise_conv/relu[0][0\n",
            "                                                                 ]']                              \n",
            "                                                                                                  \n",
            " layer7/pointwise_conv/bn (Batc  (None, 6, 4, 512)   1536        ['layer7/pointwise_conv[0][0]']  \n",
            " hNormalization)                                                                                  \n",
            "                                                                                                  \n",
            " layer7/pointwise_conv/relu (Re  (None, 6, 4, 512)   0           ['layer7/pointwise_conv/bn[0][0]'\n",
            " LU)                                                             ]                                \n",
            "                                                                                                  \n",
            " layer8/depthwise_conv (Depthwi  (None, 6, 4, 512)   4608        ['layer7/pointwise_conv/relu[0][0\n",
            " seConv2D)                                                       ]']                              \n",
            "                                                                                                  \n",
            " layer8/depthwise_conv/bn (Batc  (None, 6, 4, 512)   1536        ['layer8/depthwise_conv[0][0]']  \n",
            " hNormalization)                                                                                  \n",
            "                                                                                                  \n",
            " layer8/depthwise_conv/relu (Re  (None, 6, 4, 512)   0           ['layer8/depthwise_conv/bn[0][0]'\n",
            " LU)                                                             ]                                \n",
            "                                                                                                  \n",
            " layer8/pointwise_conv (Conv2D)  (None, 6, 4, 512)   262144      ['layer8/depthwise_conv/relu[0][0\n",
            "                                                                 ]']                              \n",
            "                                                                                                  \n",
            " layer8/pointwise_conv/bn (Batc  (None, 6, 4, 512)   1536        ['layer8/pointwise_conv[0][0]']  \n",
            " hNormalization)                                                                                  \n",
            "                                                                                                  \n",
            " layer8/pointwise_conv/relu (Re  (None, 6, 4, 512)   0           ['layer8/pointwise_conv/bn[0][0]'\n",
            " LU)                                                             ]                                \n",
            "                                                                                                  \n",
            " layer9/depthwise_conv (Depthwi  (None, 6, 4, 512)   4608        ['layer8/pointwise_conv/relu[0][0\n",
            " seConv2D)                                                       ]']                              \n",
            "                                                                                                  \n",
            " layer9/depthwise_conv/bn (Batc  (None, 6, 4, 512)   1536        ['layer9/depthwise_conv[0][0]']  \n",
            " hNormalization)                                                                                  \n",
            "                                                                                                  \n",
            " layer9/depthwise_conv/relu (Re  (None, 6, 4, 512)   0           ['layer9/depthwise_conv/bn[0][0]'\n",
            " LU)                                                             ]                                \n",
            "                                                                                                  \n",
            " layer9/pointwise_conv (Conv2D)  (None, 6, 4, 512)   262144      ['layer9/depthwise_conv/relu[0][0\n",
            "                                                                 ]']                              \n",
            "                                                                                                  \n",
            " layer9/pointwise_conv/bn (Batc  (None, 6, 4, 512)   1536        ['layer9/pointwise_conv[0][0]']  \n",
            " hNormalization)                                                                                  \n",
            "                                                                                                  \n",
            " layer9/pointwise_conv/relu (Re  (None, 6, 4, 512)   0           ['layer9/pointwise_conv/bn[0][0]'\n",
            " LU)                                                             ]                                \n",
            "                                                                                                  \n",
            " layer10/depthwise_conv (Depthw  (None, 6, 4, 512)   4608        ['layer9/pointwise_conv/relu[0][0\n",
            " iseConv2D)                                                      ]']                              \n",
            "                                                                                                  \n",
            " layer10/depthwise_conv/bn (Bat  (None, 6, 4, 512)   1536        ['layer10/depthwise_conv[0][0]'] \n",
            " chNormalization)                                                                                 \n",
            "                                                                                                  \n",
            " layer10/depthwise_conv/relu (R  (None, 6, 4, 512)   0           ['layer10/depthwise_conv/bn[0][0]\n",
            " eLU)                                                            ']                               \n",
            "                                                                                                  \n",
            " layer10/pointwise_conv (Conv2D  (None, 6, 4, 512)   262144      ['layer10/depthwise_conv/relu[0][\n",
            " )                                                               0]']                             \n",
            "                                                                                                  \n",
            " layer10/pointwise_conv/bn (Bat  (None, 6, 4, 512)   1536        ['layer10/pointwise_conv[0][0]'] \n",
            " chNormalization)                                                                                 \n",
            "                                                                                                  \n",
            " layer10/pointwise_conv/relu (R  (None, 6, 4, 512)   0           ['layer10/pointwise_conv/bn[0][0]\n",
            " eLU)                                                            ']                               \n",
            "                                                                                                  \n",
            " layer11/depthwise_conv (Depthw  (None, 6, 4, 512)   4608        ['layer10/pointwise_conv/relu[0][\n",
            " iseConv2D)                                                      0]']                             \n",
            "                                                                                                  \n",
            " layer11/depthwise_conv/bn (Bat  (None, 6, 4, 512)   1536        ['layer11/depthwise_conv[0][0]'] \n",
            " chNormalization)                                                                                 \n",
            "                                                                                                  \n",
            " layer11/depthwise_conv/relu (R  (None, 6, 4, 512)   0           ['layer11/depthwise_conv/bn[0][0]\n",
            " eLU)                                                            ']                               \n",
            "                                                                                                  \n",
            " layer11/pointwise_conv (Conv2D  (None, 6, 4, 512)   262144      ['layer11/depthwise_conv/relu[0][\n",
            " )                                                               0]']                             \n",
            "                                                                                                  \n",
            " layer11/pointwise_conv/bn (Bat  (None, 6, 4, 512)   1536        ['layer11/pointwise_conv[0][0]'] \n",
            " chNormalization)                                                                                 \n",
            "                                                                                                  \n",
            " layer11/pointwise_conv/relu (R  (None, 6, 4, 512)   0           ['layer11/pointwise_conv/bn[0][0]\n",
            " eLU)                                                            ']                               \n",
            "                                                                                                  \n",
            " layer12/depthwise_conv (Depthw  (None, 6, 4, 512)   4608        ['layer11/pointwise_conv/relu[0][\n",
            " iseConv2D)                                                      0]']                             \n",
            "                                                                                                  \n",
            " layer12/depthwise_conv/bn (Bat  (None, 6, 4, 512)   1536        ['layer12/depthwise_conv[0][0]'] \n",
            " chNormalization)                                                                                 \n",
            "                                                                                                  \n",
            " layer12/depthwise_conv/relu (R  (None, 6, 4, 512)   0           ['layer12/depthwise_conv/bn[0][0]\n",
            " eLU)                                                            ']                               \n",
            "                                                                                                  \n",
            " layer12/pointwise_conv (Conv2D  (None, 6, 4, 512)   262144      ['layer12/depthwise_conv/relu[0][\n",
            " )                                                               0]']                             \n",
            "                                                                                                  \n",
            " layer12/pointwise_conv/bn (Bat  (None, 6, 4, 512)   1536        ['layer12/pointwise_conv[0][0]'] \n",
            " chNormalization)                                                                                 \n",
            "                                                                                                  \n",
            " layer12/pointwise_conv/relu (R  (None, 6, 4, 512)   0           ['layer12/pointwise_conv/bn[0][0]\n",
            " eLU)                                                            ']                               \n",
            "                                                                                                  \n",
            " layer13/depthwise_conv (Depthw  (None, 3, 2, 512)   4608        ['layer12/pointwise_conv/relu[0][\n",
            " iseConv2D)                                                      0]']                             \n",
            "                                                                                                  \n",
            " layer13/depthwise_conv/bn (Bat  (None, 3, 2, 512)   1536        ['layer13/depthwise_conv[0][0]'] \n",
            " chNormalization)                                                                                 \n",
            "                                                                                                  \n",
            " layer13/depthwise_conv/relu (R  (None, 3, 2, 512)   0           ['layer13/depthwise_conv/bn[0][0]\n",
            " eLU)                                                            ']                               \n",
            "                                                                                                  \n",
            " layer13/pointwise_conv (Conv2D  (None, 3, 2, 1024)  524288      ['layer13/depthwise_conv/relu[0][\n",
            " )                                                               0]']                             \n",
            "                                                                                                  \n",
            " layer13/pointwise_conv/bn (Bat  (None, 3, 2, 1024)  3072        ['layer13/pointwise_conv[0][0]'] \n",
            " chNormalization)                                                                                 \n",
            "                                                                                                  \n",
            " layer13/pointwise_conv/relu (R  (None, 3, 2, 1024)  0           ['layer13/pointwise_conv/bn[0][0]\n",
            " eLU)                                                            ']                               \n",
            "                                                                                                  \n",
            " layer14/depthwise_conv (Depthw  (None, 3, 2, 1024)  9216        ['layer13/pointwise_conv/relu[0][\n",
            " iseConv2D)                                                      0]']                             \n",
            "                                                                                                  \n",
            " layer14/depthwise_conv/bn (Bat  (None, 3, 2, 1024)  3072        ['layer14/depthwise_conv[0][0]'] \n",
            " chNormalization)                                                                                 \n",
            "                                                                                                  \n",
            " layer14/depthwise_conv/relu (R  (None, 3, 2, 1024)  0           ['layer14/depthwise_conv/bn[0][0]\n",
            " eLU)                                                            ']                               \n",
            "                                                                                                  \n",
            " layer14/pointwise_conv (Conv2D  (None, 3, 2, 1024)  1048576     ['layer14/depthwise_conv/relu[0][\n",
            " )                                                               0]']                             \n",
            "                                                                                                  \n",
            " layer14/pointwise_conv/bn (Bat  (None, 3, 2, 1024)  3072        ['layer14/pointwise_conv[0][0]'] \n",
            " chNormalization)                                                                                 \n",
            "                                                                                                  \n",
            " layer14/pointwise_conv/relu (R  (None, 3, 2, 1024)  0           ['layer14/pointwise_conv/bn[0][0]\n",
            " eLU)                                                            ']                               \n",
            "                                                                                                  \n",
            " global_average_pooling2d (Glob  (None, 1024)        0           ['layer14/pointwise_conv/relu[0][\n",
            " alAveragePooling2D)                                             0]']                             \n",
            "                                                                                                  \n",
            " dense_59 (Dense)               (None, 521)          534025      ['global_average_pooling2d[0][0]'\n",
            "                                                                 ]                                \n",
            "                                                                                                  \n",
            " activation (Activation)        (None, 521)          0           ['dense_59[0][0]']               \n",
            "                                                                                                  \n",
            "==================================================================================================\n",
            "Total params: 3,751,369\n",
            "Trainable params: 0\n",
            "Non-trainable params: 3,751,369\n",
            "__________________________________________________________________________________________________\n"
          ]
        }
      ]
    },
    {
      "cell_type": "code",
      "source": [
        "yamnet.outputs"
      ],
      "metadata": {
        "colab": {
          "base_uri": "https://localhost:8080/"
        },
        "id": "_TTkUkolAqYP",
        "outputId": "c7c0cbe6-b582-41d1-998f-65c71b8befdb"
      },
      "execution_count": 224,
      "outputs": [
        {
          "output_type": "execute_result",
          "data": {
            "text/plain": [
              "[<KerasTensor: shape=(None, 521) dtype=float32 (created by layer 'activation')>,\n",
              " <KerasTensor: shape=(None, 1024) dtype=float32 (created by layer 'global_average_pooling2d')>,\n",
              " <KerasTensor: shape=(None, 64) dtype=float32 (created by layer 'tf.math.log')>]"
            ]
          },
          "metadata": {},
          "execution_count": 224
        }
      ]
    },
    {
      "cell_type": "code",
      "source": [
        "yamnet.inputs"
      ],
      "metadata": {
        "colab": {
          "base_uri": "https://localhost:8080/"
        },
        "id": "29oRQkvFppgY",
        "outputId": "052e0845-3e87-423d-c0d9-daa83c6aa77e"
      },
      "execution_count": 239,
      "outputs": [
        {
          "output_type": "execute_result",
          "data": {
            "text/plain": [
              "[<KerasTensor: shape=(None,) dtype=float32 (created by layer 'input_31')>]"
            ]
          },
          "metadata": {},
          "execution_count": 239
        }
      ]
    },
    {
      "cell_type": "code",
      "source": [
        "len(yamnet.layers)"
      ],
      "metadata": {
        "colab": {
          "base_uri": "https://localhost:8080/"
        },
        "id": "1E3RRr9bBaFl",
        "outputId": "1fc8496b-be73-49b1-a010-201b0f917e12"
      },
      "execution_count": 227,
      "outputs": [
        {
          "output_type": "execute_result",
          "data": {
            "text/plain": [
              "106"
            ]
          },
          "metadata": {},
          "execution_count": 227
        }
      ]
    },
    {
      "cell_type": "code",
      "source": [
        "yamnet.layers[27], yamnet.layers[27].output_shape"
      ],
      "metadata": {
        "colab": {
          "base_uri": "https://localhost:8080/"
        },
        "id": "_kstzZ19od2X",
        "outputId": "7c938004-08e6-4f0b-e3c2-e791d56f8931"
      },
      "execution_count": 328,
      "outputs": [
        {
          "output_type": "execute_result",
          "data": {
            "text/plain": [
              "(<keras.layers.advanced_activations.ReLU at 0x7fb0ee3a1b90>,\n",
              " (None, 48, 32, 32))"
            ]
          },
          "metadata": {},
          "execution_count": 328
        }
      ]
    },
    {
      "cell_type": "code",
      "source": [
        "yamnet.layers[57], yamnet.layers[57].output_shape"
      ],
      "metadata": {
        "colab": {
          "base_uri": "https://localhost:8080/"
        },
        "id": "MiscYdzL-zbT",
        "outputId": "509055e2-3929-4188-b816-5526f900ebc6"
      },
      "execution_count": 361,
      "outputs": [
        {
          "output_type": "execute_result",
          "data": {
            "text/plain": [
              "(<keras.layers.advanced_activations.ReLU at 0x7fb0dfd74b90>, (None, 6, 4, 256))"
            ]
          },
          "metadata": {},
          "execution_count": 361
        }
      ]
    },
    {
      "cell_type": "markdown",
      "source": [
        "### Keeping only 27 layers"
      ],
      "metadata": {
        "id": "WSvTm61-zuqy"
      }
    },
    {
      "cell_type": "code",
      "source": [
        "yamnet_truncated = keras.Model(inputs = yamnet.inputs,\n",
        "                               outputs = yamnet.layers[27].output)"
      ],
      "metadata": {
        "id": "WNDIxlDNz1iQ"
      },
      "execution_count": 329,
      "outputs": []
    },
    {
      "cell_type": "code",
      "source": [
        "train_data_yamnet = []\n",
        "for i in range(len(train_data)):\n",
        "    train_data_yamnet.append(yamnet_truncated(train_data[i]))"
      ],
      "metadata": {
        "id": "7ODzWTZ80KhK"
      },
      "execution_count": 330,
      "outputs": []
    },
    {
      "cell_type": "code",
      "source": [
        "train_data_yamnet = tf.convert_to_tensor(train_data_yamnet)\n",
        "train_data_yamnet.shape"
      ],
      "metadata": {
        "colab": {
          "base_uri": "https://localhost:8080/"
        },
        "id": "nJpGsc1H1Awk",
        "outputId": "81c76178-c8bc-466e-9c5c-2e4b1dae9b00"
      },
      "execution_count": 331,
      "outputs": [
        {
          "output_type": "execute_result",
          "data": {
            "text/plain": [
              "TensorShape([4400, 2, 48, 32, 32])"
            ]
          },
          "metadata": {},
          "execution_count": 331
        }
      ]
    },
    {
      "cell_type": "code",
      "source": [
        "train_data_yamnet = tf.reshape(train_data_yamnet,(8800,48,32,32))"
      ],
      "metadata": {
        "id": "I2GIAu1w4yjE"
      },
      "execution_count": 345,
      "outputs": []
    },
    {
      "cell_type": "code",
      "source": [
        "# YAMNet Speach Recognition\n",
        "layer_input = keras.Input(shape=(48,32,32))\n",
        "# same shape as yamnet.layers[27].output\n",
        "layer_conv = layers.Conv2D(48,32)(layer_input)\n",
        "layer_pool = layers.GlobalAveragePooling2D()(layer_conv)\n",
        "layer_soft = layers.Dense(12, activation=\"softmax\")(layer_pool)\n",
        "yamnet_st = keras.Model(inputs = layer_input,\n",
        "                        outputs = layer_soft)"
      ],
      "metadata": {
        "id": "fT47DLE0m-zA"
      },
      "execution_count": 351,
      "outputs": []
    },
    {
      "cell_type": "code",
      "source": [
        "yamnet_st.summary()"
      ],
      "metadata": {
        "colab": {
          "base_uri": "https://localhost:8080/"
        },
        "id": "5YktA3nTqII2",
        "outputId": "da07dab1-fc30-4493-bd06-3b2ec3d4d1e4"
      },
      "execution_count": 352,
      "outputs": [
        {
          "output_type": "stream",
          "name": "stdout",
          "text": [
            "Model: \"model_7\"\n",
            "_________________________________________________________________\n",
            " Layer (type)                Output Shape              Param #   \n",
            "=================================================================\n",
            " input_43 (InputLayer)       [(None, 48, 32, 32)]      0         \n",
            "                                                                 \n",
            " conv2d_45 (Conv2D)          (None, 17, 1, 48)         1572912   \n",
            "                                                                 \n",
            " global_average_pooling2d_18  (None, 48)               0         \n",
            "  (GlobalAveragePooling2D)                                       \n",
            "                                                                 \n",
            " dense_66 (Dense)            (None, 12)                588       \n",
            "                                                                 \n",
            "=================================================================\n",
            "Total params: 1,573,500\n",
            "Trainable params: 1,573,500\n",
            "Non-trainable params: 0\n",
            "_________________________________________________________________\n"
          ]
        }
      ]
    },
    {
      "cell_type": "code",
      "source": [
        "yamnet_st.compile(loss=\"sparse_categorical_crossentropy\",\n",
        "                  optimizer=\"adam\", metrics=['accuracy'])"
      ],
      "metadata": {
        "id": "KJ0KXVG9tbZX"
      },
      "execution_count": 353,
      "outputs": []
    },
    {
      "cell_type": "code",
      "source": [
        "train_data_yamnet.shape, train_labels_te.shape"
      ],
      "metadata": {
        "colab": {
          "base_uri": "https://localhost:8080/"
        },
        "id": "r_qTH5cLutUE",
        "outputId": "ee7c6981-159d-4341-fbbc-96f0290a067f"
      },
      "execution_count": 354,
      "outputs": [
        {
          "output_type": "execute_result",
          "data": {
            "text/plain": [
              "(TensorShape([8800, 48, 32, 32]), (8800,))"
            ]
          },
          "metadata": {},
          "execution_count": 354
        }
      ]
    },
    {
      "cell_type": "code",
      "source": [
        "yamnet_st.fit(train_data_yamnet, train_labels_te, epochs=100,\n",
        "              batch_size=256, validation_split=0.2,\n",
        "              callbacks=callback)"
      ],
      "metadata": {
        "colab": {
          "base_uri": "https://localhost:8080/"
        },
        "id": "8NfmK8QAtpZC",
        "outputId": "a7eef095-4d6e-47a8-b05f-19f3f8b7bb58"
      },
      "execution_count": 355,
      "outputs": [
        {
          "output_type": "stream",
          "name": "stdout",
          "text": [
            "Epoch 1/100\n",
            "28/28 [==============================] - 31s 1s/step - loss: 21.7093 - accuracy: 0.1875 - val_loss: 7.9657 - val_accuracy: 0.2034\n",
            "Epoch 2/100\n",
            "28/28 [==============================] - 31s 1s/step - loss: 3.2164 - accuracy: 0.4550 - val_loss: 1.9114 - val_accuracy: 0.4955\n",
            "Epoch 3/100\n",
            "28/28 [==============================] - 31s 1s/step - loss: 1.2081 - accuracy: 0.6426 - val_loss: 1.3074 - val_accuracy: 0.6159\n",
            "Epoch 4/100\n",
            "28/28 [==============================] - 31s 1s/step - loss: 0.9343 - accuracy: 0.7040 - val_loss: 1.2190 - val_accuracy: 0.6170\n",
            "Epoch 5/100\n",
            "28/28 [==============================] - 31s 1s/step - loss: 0.7894 - accuracy: 0.7455 - val_loss: 1.3342 - val_accuracy: 0.5773\n",
            "Epoch 6/100\n",
            "28/28 [==============================] - 31s 1s/step - loss: 0.7060 - accuracy: 0.7827 - val_loss: 1.1103 - val_accuracy: 0.6642\n",
            "Epoch 7/100\n",
            "28/28 [==============================] - 31s 1s/step - loss: 0.8552 - accuracy: 0.7308 - val_loss: 1.4312 - val_accuracy: 0.5699\n",
            "Epoch 8/100\n",
            "28/28 [==============================] - 34s 1s/step - loss: 0.6109 - accuracy: 0.8058 - val_loss: 1.1759 - val_accuracy: 0.6517\n",
            "Epoch 9/100\n",
            "28/28 [==============================] - 31s 1s/step - loss: 0.6978 - accuracy: 0.7754 - val_loss: 2.2035 - val_accuracy: 0.6028\n",
            "Epoch 10/100\n",
            "28/28 [==============================] - 31s 1s/step - loss: 0.9184 - accuracy: 0.7442 - val_loss: 1.5215 - val_accuracy: 0.6528\n",
            "Epoch 11/100\n",
            "28/28 [==============================] - 33s 1s/step - loss: 0.7471 - accuracy: 0.7861 - val_loss: 1.3905 - val_accuracy: 0.6352\n"
          ]
        },
        {
          "output_type": "execute_result",
          "data": {
            "text/plain": [
              "<keras.callbacks.History at 0x7fb0dfe08450>"
            ]
          },
          "metadata": {},
          "execution_count": 355
        }
      ]
    },
    {
      "cell_type": "code",
      "source": [
        ""
      ],
      "metadata": {
        "id": "y8jVVFPA_N02"
      },
      "execution_count": null,
      "outputs": []
    },
    {
      "cell_type": "markdown",
      "source": [
        "### 57 layers"
      ],
      "metadata": {
        "id": "6bOGgFWb_rGa"
      }
    },
    {
      "cell_type": "code",
      "source": [
        "yamnet_truncated = keras.Model(inputs = yamnet.inputs,\n",
        "                               outputs = yamnet.layers[57].output)"
      ],
      "metadata": {
        "id": "RZE1yzMh_rGb"
      },
      "execution_count": 362,
      "outputs": []
    },
    {
      "cell_type": "code",
      "source": [
        "train_data_yamnet = []\n",
        "for i in range(len(train_data)):\n",
        "    train_data_yamnet.append(yamnet_truncated(train_data[i]))"
      ],
      "metadata": {
        "id": "_kYWFSpO_rGc"
      },
      "execution_count": 363,
      "outputs": []
    },
    {
      "cell_type": "code",
      "source": [
        "train_data_yamnet = tf.convert_to_tensor(train_data_yamnet)\n",
        "train_data_yamnet.shape"
      ],
      "metadata": {
        "colab": {
          "base_uri": "https://localhost:8080/"
        },
        "outputId": "0f683d10-31ab-4101-efdf-640bc19e2465",
        "id": "y4VvL1VK_rGc"
      },
      "execution_count": 364,
      "outputs": [
        {
          "output_type": "execute_result",
          "data": {
            "text/plain": [
              "TensorShape([4400, 2, 6, 4, 256])"
            ]
          },
          "metadata": {},
          "execution_count": 364
        }
      ]
    },
    {
      "cell_type": "code",
      "source": [
        "train_data_yamnet = tf.reshape(train_data_yamnet,(8800,6,4,256))"
      ],
      "metadata": {
        "id": "4RK_Bcts_rGd"
      },
      "execution_count": 371,
      "outputs": []
    },
    {
      "cell_type": "code",
      "source": [
        "# YAMNet Speach Recognition\n",
        "layer_input = keras.Input(shape=(6,4,256))\n",
        "# same shape as yamnet.layers[57].output\n",
        "layer_conv = layers.Conv2D(6,4,256)(layer_input)\n",
        "layer_pool = layers.GlobalAveragePooling2D()(layer_conv)\n",
        "layer_soft = layers.Dense(12, activation=\"softmax\")(layer_pool)\n",
        "yamnet_st = keras.Model(inputs = layer_input,\n",
        "                        outputs = layer_soft)"
      ],
      "metadata": {
        "id": "iPJ0hB6T_rGe"
      },
      "execution_count": 376,
      "outputs": []
    },
    {
      "cell_type": "code",
      "source": [
        "yamnet_st.summary()"
      ],
      "metadata": {
        "colab": {
          "base_uri": "https://localhost:8080/"
        },
        "outputId": "604c4477-7e30-42dd-a3f7-dee0f26f4179",
        "id": "a4sygaxI_rGe"
      },
      "execution_count": 377,
      "outputs": [
        {
          "output_type": "stream",
          "name": "stdout",
          "text": [
            "Model: \"model_12\"\n",
            "_________________________________________________________________\n",
            " Layer (type)                Output Shape              Param #   \n",
            "=================================================================\n",
            " input_48 (InputLayer)       [(None, 6, 4, 256)]       0         \n",
            "                                                                 \n",
            " conv2d_50 (Conv2D)          (None, 1, 1, 6)           24582     \n",
            "                                                                 \n",
            " global_average_pooling2d_22  (None, 6)                0         \n",
            "  (GlobalAveragePooling2D)                                       \n",
            "                                                                 \n",
            " dense_70 (Dense)            (None, 12)                84        \n",
            "                                                                 \n",
            "=================================================================\n",
            "Total params: 24,666\n",
            "Trainable params: 24,666\n",
            "Non-trainable params: 0\n",
            "_________________________________________________________________\n"
          ]
        }
      ]
    },
    {
      "cell_type": "code",
      "source": [
        "yamnet_st.compile(loss=\"sparse_categorical_crossentropy\",\n",
        "                  optimizer=\"adam\", metrics=['accuracy'])"
      ],
      "metadata": {
        "id": "iPi3DRy7_rGf"
      },
      "execution_count": 379,
      "outputs": []
    },
    {
      "cell_type": "code",
      "source": [
        "train_data_yamnet.shape, train_labels_te.shape"
      ],
      "metadata": {
        "colab": {
          "base_uri": "https://localhost:8080/"
        },
        "outputId": "d64cc4db-d7c1-40b1-c9d1-8ca407e271ec",
        "id": "Pi4YFvHW_rGf"
      },
      "execution_count": 380,
      "outputs": [
        {
          "output_type": "execute_result",
          "data": {
            "text/plain": [
              "(TensorShape([8800, 6, 4, 256]), (8800,))"
            ]
          },
          "metadata": {},
          "execution_count": 380
        }
      ]
    },
    {
      "cell_type": "code",
      "source": [
        "yamnet_st.fit(train_data_yamnet, train_labels_te, epochs=100,\n",
        "              batch_size=256, validation_split=0.2,\n",
        "              callbacks=callback)"
      ],
      "metadata": {
        "colab": {
          "base_uri": "https://localhost:8080/"
        },
        "outputId": "eb9a5cc9-f152-4347-9b92-bb0700d4b5a4",
        "id": "OYNsjF71_rGg"
      },
      "execution_count": 381,
      "outputs": [
        {
          "output_type": "stream",
          "name": "stdout",
          "text": [
            "Epoch 1/100\n",
            "28/28 [==============================] - 1s 19ms/step - loss: 2.1869 - accuracy: 0.2713 - val_loss: 1.8563 - val_accuracy: 0.3818\n",
            "Epoch 2/100\n",
            "28/28 [==============================] - 0s 14ms/step - loss: 1.5588 - accuracy: 0.5013 - val_loss: 1.5380 - val_accuracy: 0.5045\n",
            "Epoch 3/100\n",
            "28/28 [==============================] - 0s 13ms/step - loss: 1.2741 - accuracy: 0.6014 - val_loss: 1.3545 - val_accuracy: 0.5574\n",
            "Epoch 4/100\n",
            "28/28 [==============================] - 0s 13ms/step - loss: 1.0849 - accuracy: 0.6653 - val_loss: 1.1939 - val_accuracy: 0.6460\n",
            "Epoch 5/100\n",
            "28/28 [==============================] - 0s 13ms/step - loss: 0.9270 - accuracy: 0.7352 - val_loss: 1.1026 - val_accuracy: 0.6534\n",
            "Epoch 6/100\n",
            "28/28 [==============================] - 0s 14ms/step - loss: 0.8077 - accuracy: 0.7757 - val_loss: 1.0031 - val_accuracy: 0.6983\n",
            "Epoch 7/100\n",
            "28/28 [==============================] - 0s 15ms/step - loss: 0.7134 - accuracy: 0.8098 - val_loss: 0.9491 - val_accuracy: 0.7102\n",
            "Epoch 8/100\n",
            "28/28 [==============================] - 0s 13ms/step - loss: 0.6389 - accuracy: 0.8308 - val_loss: 0.8963 - val_accuracy: 0.7312\n",
            "Epoch 9/100\n",
            "28/28 [==============================] - 0s 14ms/step - loss: 0.5675 - accuracy: 0.8538 - val_loss: 0.8538 - val_accuracy: 0.7500\n",
            "Epoch 10/100\n",
            "28/28 [==============================] - 0s 14ms/step - loss: 0.5133 - accuracy: 0.8703 - val_loss: 0.8260 - val_accuracy: 0.7477\n",
            "Epoch 11/100\n",
            "28/28 [==============================] - 0s 14ms/step - loss: 0.4588 - accuracy: 0.8891 - val_loss: 0.8000 - val_accuracy: 0.7545\n",
            "Epoch 12/100\n",
            "28/28 [==============================] - 0s 14ms/step - loss: 0.4198 - accuracy: 0.8993 - val_loss: 0.7851 - val_accuracy: 0.7540\n",
            "Epoch 13/100\n",
            "28/28 [==============================] - 0s 13ms/step - loss: 0.3793 - accuracy: 0.9142 - val_loss: 0.7621 - val_accuracy: 0.7585\n",
            "Epoch 14/100\n",
            "28/28 [==============================] - 0s 14ms/step - loss: 0.3483 - accuracy: 0.9210 - val_loss: 0.7390 - val_accuracy: 0.7739\n",
            "Epoch 15/100\n",
            "28/28 [==============================] - 0s 14ms/step - loss: 0.3180 - accuracy: 0.9298 - val_loss: 0.7307 - val_accuracy: 0.7761\n",
            "Epoch 16/100\n",
            "28/28 [==============================] - 0s 13ms/step - loss: 0.2886 - accuracy: 0.9392 - val_loss: 0.7224 - val_accuracy: 0.7807\n",
            "Epoch 17/100\n",
            "28/28 [==============================] - 0s 14ms/step - loss: 0.2658 - accuracy: 0.9473 - val_loss: 0.7219 - val_accuracy: 0.7744\n",
            "Epoch 18/100\n",
            "28/28 [==============================] - 0s 14ms/step - loss: 0.2424 - accuracy: 0.9544 - val_loss: 0.7108 - val_accuracy: 0.7869\n",
            "Epoch 19/100\n",
            "28/28 [==============================] - 0s 15ms/step - loss: 0.2193 - accuracy: 0.9604 - val_loss: 0.7025 - val_accuracy: 0.7852\n",
            "Epoch 20/100\n",
            "28/28 [==============================] - 0s 14ms/step - loss: 0.2072 - accuracy: 0.9624 - val_loss: 0.7140 - val_accuracy: 0.7858\n",
            "Epoch 21/100\n",
            "28/28 [==============================] - 0s 13ms/step - loss: 0.1919 - accuracy: 0.9669 - val_loss: 0.7109 - val_accuracy: 0.7869\n",
            "Epoch 22/100\n",
            "28/28 [==============================] - 0s 13ms/step - loss: 0.1718 - accuracy: 0.9727 - val_loss: 0.7095 - val_accuracy: 0.7835\n",
            "Epoch 23/100\n",
            "28/28 [==============================] - 0s 14ms/step - loss: 0.1577 - accuracy: 0.9794 - val_loss: 0.7008 - val_accuracy: 0.7858\n"
          ]
        },
        {
          "output_type": "execute_result",
          "data": {
            "text/plain": [
              "<keras.callbacks.History at 0x7fb0dfff7fd0>"
            ]
          },
          "metadata": {},
          "execution_count": 381
        }
      ]
    },
    {
      "cell_type": "code",
      "source": [
        "test_data_yamnet = []\n",
        "for i in range(len(test_data)):\n",
        "    test_data_yamnet.append(yamnet_truncated(test_data[i]))"
      ],
      "metadata": {
        "id": "g_2SRzxsCdpe"
      },
      "execution_count": 382,
      "outputs": []
    },
    {
      "cell_type": "code",
      "source": [
        "test_data_yamnet = tf.convert_to_tensor(test_data_yamnet)\n",
        "test_data_yamnet = tf.reshape(test_data_yamnet,(-1,6,4,256))"
      ],
      "metadata": {
        "id": "spXmEK5dCpc6"
      },
      "execution_count": 386,
      "outputs": []
    },
    {
      "cell_type": "code",
      "source": [
        "test_data_yamnet.shape"
      ],
      "metadata": {
        "colab": {
          "base_uri": "https://localhost:8080/"
        },
        "id": "P5RdvyapC5ap",
        "outputId": "003ddcbc-3609-4866-eef6-b07919a9c841"
      },
      "execution_count": 387,
      "outputs": [
        {
          "output_type": "execute_result",
          "data": {
            "text/plain": [
              "TensorShape([980, 6, 4, 256])"
            ]
          },
          "metadata": {},
          "execution_count": 387
        }
      ]
    },
    {
      "cell_type": "code",
      "source": [
        "yamnet_st.evaluate(test_data_yamnet, test_labels_te)"
      ],
      "metadata": {
        "colab": {
          "base_uri": "https://localhost:8080/"
        },
        "id": "hqVClJxs_rGg",
        "outputId": "baff8cfd-1bd6-40da-9a37-e790bf9fe11f"
      },
      "execution_count": 388,
      "outputs": [
        {
          "output_type": "stream",
          "name": "stdout",
          "text": [
            "31/31 [==============================] - 0s 2ms/step - loss: 0.7998 - accuracy: 0.7592\n"
          ]
        },
        {
          "output_type": "execute_result",
          "data": {
            "text/plain": [
              "[0.7998358011245728, 0.7591836452484131]"
            ]
          },
          "metadata": {},
          "execution_count": 388
        }
      ]
    }
  ]
}