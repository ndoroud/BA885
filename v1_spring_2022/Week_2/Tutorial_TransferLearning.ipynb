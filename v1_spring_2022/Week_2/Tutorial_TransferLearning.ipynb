{
  "nbformat": 4,
  "nbformat_minor": 0,
  "metadata": {
    "colab": {
      "name": "Tutorial_TransferLearning.ipynb",
      "provenance": [],
      "collapsed_sections": []
    },
    "kernelspec": {
      "name": "python3",
      "display_name": "Python 3"
    },
    "language_info": {
      "name": "python"
    }
  },
  "cells": [
    {
      "cell_type": "markdown",
      "source": [
        "# Transfer learning tutorial\n",
        "\n",
        "In this tutorial you will utilize transfer learning to train a model that can tell different breeds of pets apart!\n",
        "\n",
        "We will be using [The Oxford-IIIT Pet Dataset](https://www.robots.ox.ac.uk/~vgg/data/pets/). This tutorial is adapted from a similar tutorial by Douwe Osinga.  [(link)](https://github.com/DOsinga/deep_learning_cookbook)"
      ],
      "metadata": {
        "id": "qkUogBPyFBpY"
      }
    },
    {
      "cell_type": "code",
      "execution_count": null,
      "metadata": {
        "id": "WzzgHtM0D26h"
      },
      "outputs": [],
      "source": [
        "import os\n",
        "import numpy as np\n",
        "import json\n",
        "import tarfile\n",
        "from collections import Counter\n",
        "\n",
        "import tensorflow as tf\n",
        "from tensorflow import keras\n",
        "from keras.applications.inception_v3 import InceptionV3\n",
        "from keras import layers\n",
        "from keras import preprocessing"
      ]
    },
    {
      "cell_type": "code",
      "source": [
        "_ = tf.keras.utils.get_file('pet_images',\n",
        "                        'http://www.robots.ox.ac.uk/~vgg/data/pets/data/images.tar.gz',\n",
        "                        cache_dir='./',\n",
        "                        cache_subdir='datasets',\n",
        "                        extract=True)"
      ],
      "metadata": {
        "id": "QU4cOpPYEhrp"
      },
      "execution_count": null,
      "outputs": []
    },
    {
      "cell_type": "code",
      "source": [
        "data = []\n",
        "for folder, subfolder, file in os.walk('./datasets/images'):\n",
        "    data.append(file)"
      ],
      "metadata": {
        "id": "DdP_shXqEtLX"
      },
      "execution_count": null,
      "outputs": []
    },
    {
      "cell_type": "code",
      "source": [
        "data = data[0]"
      ],
      "metadata": {
        "id": "nPqLJjB9Lcrt"
      },
      "execution_count": null,
      "outputs": []
    },
    {
      "cell_type": "code",
      "source": [
        "data = [x for x in data if x[-3:]=='jpg']"
      ],
      "metadata": {
        "id": "UVTYSTwtQKaa"
      },
      "execution_count": null,
      "outputs": []
    },
    {
      "cell_type": "code",
      "source": [
        "len(data)"
      ],
      "metadata": {
        "colab": {
          "base_uri": "https://localhost:8080/"
        },
        "id": "xzGrnyF5cVlp",
        "outputId": "515cf1c2-cfb6-43df-8aa5-3280869720dd"
      },
      "execution_count": null,
      "outputs": [
        {
          "output_type": "execute_result",
          "data": {
            "text/plain": [
              "7390"
            ]
          },
          "metadata": {},
          "execution_count": 7
        }
      ]
    },
    {
      "cell_type": "code",
      "source": [
        "labels = []\n",
        "labels_dict = {}\n",
        "labels_reverse_dict = {}\n",
        "i=0\n",
        "for image_name in data:\n",
        "    label, _ = image_name.rsplit('_', 1)\n",
        "    if not (label in labels_reverse_dict.keys()):\n",
        "        labels_reverse_dict[label] = i\n",
        "        labels_dict[i] = label\n",
        "        i+=1\n",
        "    labels.append(labels_reverse_dict[label])"
      ],
      "metadata": {
        "id": "SW6JIqqgLrRM"
      },
      "execution_count": null,
      "outputs": []
    },
    {
      "cell_type": "code",
      "source": [
        "def load_image(filename):\n",
        "    img = preprocessing.image.load_img('./datasets/images/' + filename, target_size=(299, 299))\n",
        "    return preprocessing.image.img_to_array(img)"
      ],
      "metadata": {
        "id": "Jyi10la1MHeu"
      },
      "execution_count": null,
      "outputs": []
    },
    {
      "cell_type": "code",
      "source": [
        "images = [load_image(file) for file in data[:4000]]"
      ],
      "metadata": {
        "id": "v-s2n17AMLAa"
      },
      "execution_count": null,
      "outputs": []
    },
    {
      "cell_type": "code",
      "source": [
        "images = tf.convert_to_tensor(images)"
      ],
      "metadata": {
        "id": "XVFMpQYpQxA0"
      },
      "execution_count": null,
      "outputs": []
    },
    {
      "cell_type": "code",
      "source": [
        "#Can also use vgg16\n",
        "model = InceptionV3(weights='imagenet', include_top=False, input_shape=(299, 299, 3))"
      ],
      "metadata": {
        "id": "xFofDhICZY5m"
      },
      "execution_count": null,
      "outputs": []
    }
  ]
}