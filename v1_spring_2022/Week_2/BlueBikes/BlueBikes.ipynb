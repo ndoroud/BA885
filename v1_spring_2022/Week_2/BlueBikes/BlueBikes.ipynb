{
  "cells": [
    {
      "cell_type": "markdown",
      "metadata": {
        "id": "xChPv3G4T406"
      },
      "source": [
        "# Data exploration and cleaning"
      ]
    },
    {
      "cell_type": "markdown",
      "metadata": {
        "id": "-Ynoj5CsUACI"
      },
      "source": [
        "Imagine you work at BlueBikes, the bike sharing company in charge of the blue bikes in and around Boston. You're developing an app and one of the functions is to estimate the travel time between two stations. How would you go about solving this problem?\n",
        "\n",
        "Data from [BlueBikes](https://www.bluebikes.com/system-data). We will look at the most recent trip histories (02/20220) [here](https://s3.amazonaws.com/hubway-data/202202-bluebikes-tripdata.zip)."
      ]
    },
    {
      "cell_type": "code",
      "execution_count": 1,
      "metadata": {
        "id": "hvAp6cQIT_I0"
      },
      "outputs": [],
      "source": [
        "import pandas as pd\n",
        "from sklearn.metrics.pairwise import haversine_distances\n",
        "from math import radians\n",
        "\n",
        "earth_radius = 6371.0\n",
        "\n",
        "pd.set_option('display.max_columns', None)"
      ]
    },
    {
      "cell_type": "code",
      "source": [
        "from google.colab import drive\n",
        "drive.mount('/content/drive')"
      ],
      "metadata": {
        "colab": {
          "base_uri": "https://localhost:8080/"
        },
        "id": "jMc68bEc3xzm",
        "outputId": "91c228d9-fe59-4642-8185-db5bc3ab0be5"
      },
      "execution_count": 2,
      "outputs": [
        {
          "output_type": "stream",
          "name": "stdout",
          "text": [
            "Drive already mounted at /content/drive; to attempt to forcibly remount, call drive.mount(\"/content/drive\", force_remount=True).\n"
          ]
        }
      ]
    },
    {
      "cell_type": "code",
      "execution_count": 3,
      "metadata": {
        "id": "I3kvKDuVU02h",
        "colab": {
          "base_uri": "https://localhost:8080/"
        },
        "outputId": "15fd93e3-c509-435a-ea0c-55c948bce582"
      },
      "outputs": [
        {
          "output_type": "execute_result",
          "data": {
            "text/plain": [
              "(110460, 14)"
            ]
          },
          "metadata": {},
          "execution_count": 3
        }
      ],
      "source": [
        "path_to_file = '/content/drive/MyDrive/BA885-2022/Week 2/BlueBikes/202202-bluebikes-tripdata.csv'\n",
        "trip_histories = pd.read_csv(path_to_file)\n",
        "\n",
        "trip_histories.shape"
      ]
    },
    {
      "cell_type": "code",
      "execution_count": 4,
      "metadata": {
        "colab": {
          "base_uri": "https://localhost:8080/",
          "height": 659
        },
        "id": "yRlyUXUfVd6i",
        "outputId": "02df2ebd-0b8f-4860-9bdb-6beb55562297"
      },
      "outputs": [
        {
          "output_type": "execute_result",
          "data": {
            "text/plain": [
              "        tripduration                 starttime                  stoptime  \\\n",
              "0                457  2022-02-01 00:01:22.5160  2022-02-01 00:09:00.2370   \n",
              "1                596  2022-02-01 00:01:39.3630  2022-02-01 00:11:35.5800   \n",
              "2                927  2022-02-01 00:02:41.5460  2022-02-01 00:18:08.8330   \n",
              "3               1541  2022-02-01 00:02:53.7400  2022-02-01 00:28:35.2070   \n",
              "4               1165  2022-02-01 00:03:14.9160  2022-02-01 00:22:40.2040   \n",
              "...              ...                       ...                       ...   \n",
              "110455           351  2022-02-28 23:59:14.2560  2022-03-01 00:05:06.0610   \n",
              "110456           220  2022-02-28 23:59:18.3290  2022-03-01 00:02:58.7550   \n",
              "110457           281  2022-02-28 23:59:18.7310  2022-03-01 00:04:00.6370   \n",
              "110458           225  2022-02-28 23:59:30.7720  2022-03-01 00:03:16.3230   \n",
              "110459          1443  2022-02-28 23:59:46.8630  2022-03-01 00:23:50.8470   \n",
              "\n",
              "        start station id                     start station name  \\\n",
              "0                    380                  Mass Ave at Albany St   \n",
              "1                     68  Central Square at Mass Ave / Essex St   \n",
              "2                    192                Purchase St at Pearl St   \n",
              "3                    380                  Mass Ave at Albany St   \n",
              "4                     55       Boylston St at Massachusetts Ave   \n",
              "...                  ...                                    ...   \n",
              "110455               378                          191 Beacon St   \n",
              "110456               177                        University Park   \n",
              "110457                67           MIT at Mass Ave / Amherst St   \n",
              "110458               190      Nashua Street at Red Auerbach Way   \n",
              "110459               520  Salem MBTA - Washington at Federal St   \n",
              "\n",
              "        start station latitude  start station longitude  end station id  \\\n",
              "0                    42.361358               -71.096703             116   \n",
              "1                    42.365070               -71.103100             544   \n",
              "2                    42.354659               -71.053181             327   \n",
              "3                    42.361358               -71.096703              73   \n",
              "4                    42.347406               -71.086784             331   \n",
              "...                        ...                      ...             ...   \n",
              "110455               42.380323               -71.108786              74   \n",
              "110456               42.362648               -71.100061             107   \n",
              "110457               42.358100               -71.093198             179   \n",
              "110458               42.365673               -71.064263             549   \n",
              "110459               42.523452               -70.896111             522   \n",
              "\n",
              "                                        end station name  \\\n",
              "0              359 Broadway - Broadway at Fayette Street   \n",
              "1                           Old Morse Park at Putnam Ave   \n",
              "2                                 Main St at Thompson Sq   \n",
              "3                Harvard Square at Brattle St / Eliot St   \n",
              "4                             Huntington Ave at Mass Art   \n",
              "...                                                  ...   \n",
              "110455               Harvard Square at Mass Ave/ Dunster   \n",
              "110456                                Ames St at Main St   \n",
              "110457                                     MIT Vassar St   \n",
              "110458                       Valenti Way at Haverhill St   \n",
              "110459  Salem State University - Bike Path at Loring Ave   \n",
              "\n",
              "        end station latitude  end station longitude  bikeid    usertype  \\\n",
              "0                  42.370803             -71.104412    6720  Subscriber   \n",
              "1                  42.357662             -71.108413    5148  Subscriber   \n",
              "2                  42.374878             -71.063835    5780  Subscriber   \n",
              "3                  42.373329             -71.120986    5957  Subscriber   \n",
              "4                  42.336586             -71.098870    2870  Subscriber   \n",
              "...                      ...                    ...     ...         ...   \n",
              "110455             42.373268             -71.118579    6620  Subscriber   \n",
              "110456             42.362500             -71.088220    5718  Subscriber   \n",
              "110457             42.355601             -71.103945    2768  Subscriber   \n",
              "110458             42.364739             -71.059349    3645  Subscriber   \n",
              "110459             42.501824             -70.894781    4986  Subscriber   \n",
              "\n",
              "       postal code  \n",
              "0            02139  \n",
              "1            02139  \n",
              "2            02129  \n",
              "3            02139  \n",
              "4            02215  \n",
              "...            ...  \n",
              "110455       02116  \n",
              "110456       02139  \n",
              "110457       02139  \n",
              "110458       02114  \n",
              "110459       02115  \n",
              "\n",
              "[110460 rows x 14 columns]"
            ],
            "text/html": [
              "\n",
              "  <div id=\"df-0d739a0a-2962-4502-94a7-72a55375f29e\">\n",
              "    <div class=\"colab-df-container\">\n",
              "      <div>\n",
              "<style scoped>\n",
              "    .dataframe tbody tr th:only-of-type {\n",
              "        vertical-align: middle;\n",
              "    }\n",
              "\n",
              "    .dataframe tbody tr th {\n",
              "        vertical-align: top;\n",
              "    }\n",
              "\n",
              "    .dataframe thead th {\n",
              "        text-align: right;\n",
              "    }\n",
              "</style>\n",
              "<table border=\"1\" class=\"dataframe\">\n",
              "  <thead>\n",
              "    <tr style=\"text-align: right;\">\n",
              "      <th></th>\n",
              "      <th>tripduration</th>\n",
              "      <th>starttime</th>\n",
              "      <th>stoptime</th>\n",
              "      <th>start station id</th>\n",
              "      <th>start station name</th>\n",
              "      <th>start station latitude</th>\n",
              "      <th>start station longitude</th>\n",
              "      <th>end station id</th>\n",
              "      <th>end station name</th>\n",
              "      <th>end station latitude</th>\n",
              "      <th>end station longitude</th>\n",
              "      <th>bikeid</th>\n",
              "      <th>usertype</th>\n",
              "      <th>postal code</th>\n",
              "    </tr>\n",
              "  </thead>\n",
              "  <tbody>\n",
              "    <tr>\n",
              "      <th>0</th>\n",
              "      <td>457</td>\n",
              "      <td>2022-02-01 00:01:22.5160</td>\n",
              "      <td>2022-02-01 00:09:00.2370</td>\n",
              "      <td>380</td>\n",
              "      <td>Mass Ave at Albany St</td>\n",
              "      <td>42.361358</td>\n",
              "      <td>-71.096703</td>\n",
              "      <td>116</td>\n",
              "      <td>359 Broadway - Broadway at Fayette Street</td>\n",
              "      <td>42.370803</td>\n",
              "      <td>-71.104412</td>\n",
              "      <td>6720</td>\n",
              "      <td>Subscriber</td>\n",
              "      <td>02139</td>\n",
              "    </tr>\n",
              "    <tr>\n",
              "      <th>1</th>\n",
              "      <td>596</td>\n",
              "      <td>2022-02-01 00:01:39.3630</td>\n",
              "      <td>2022-02-01 00:11:35.5800</td>\n",
              "      <td>68</td>\n",
              "      <td>Central Square at Mass Ave / Essex St</td>\n",
              "      <td>42.365070</td>\n",
              "      <td>-71.103100</td>\n",
              "      <td>544</td>\n",
              "      <td>Old Morse Park at Putnam Ave</td>\n",
              "      <td>42.357662</td>\n",
              "      <td>-71.108413</td>\n",
              "      <td>5148</td>\n",
              "      <td>Subscriber</td>\n",
              "      <td>02139</td>\n",
              "    </tr>\n",
              "    <tr>\n",
              "      <th>2</th>\n",
              "      <td>927</td>\n",
              "      <td>2022-02-01 00:02:41.5460</td>\n",
              "      <td>2022-02-01 00:18:08.8330</td>\n",
              "      <td>192</td>\n",
              "      <td>Purchase St at Pearl St</td>\n",
              "      <td>42.354659</td>\n",
              "      <td>-71.053181</td>\n",
              "      <td>327</td>\n",
              "      <td>Main St at Thompson Sq</td>\n",
              "      <td>42.374878</td>\n",
              "      <td>-71.063835</td>\n",
              "      <td>5780</td>\n",
              "      <td>Subscriber</td>\n",
              "      <td>02129</td>\n",
              "    </tr>\n",
              "    <tr>\n",
              "      <th>3</th>\n",
              "      <td>1541</td>\n",
              "      <td>2022-02-01 00:02:53.7400</td>\n",
              "      <td>2022-02-01 00:28:35.2070</td>\n",
              "      <td>380</td>\n",
              "      <td>Mass Ave at Albany St</td>\n",
              "      <td>42.361358</td>\n",
              "      <td>-71.096703</td>\n",
              "      <td>73</td>\n",
              "      <td>Harvard Square at Brattle St / Eliot St</td>\n",
              "      <td>42.373329</td>\n",
              "      <td>-71.120986</td>\n",
              "      <td>5957</td>\n",
              "      <td>Subscriber</td>\n",
              "      <td>02139</td>\n",
              "    </tr>\n",
              "    <tr>\n",
              "      <th>4</th>\n",
              "      <td>1165</td>\n",
              "      <td>2022-02-01 00:03:14.9160</td>\n",
              "      <td>2022-02-01 00:22:40.2040</td>\n",
              "      <td>55</td>\n",
              "      <td>Boylston St at Massachusetts Ave</td>\n",
              "      <td>42.347406</td>\n",
              "      <td>-71.086784</td>\n",
              "      <td>331</td>\n",
              "      <td>Huntington Ave at Mass Art</td>\n",
              "      <td>42.336586</td>\n",
              "      <td>-71.098870</td>\n",
              "      <td>2870</td>\n",
              "      <td>Subscriber</td>\n",
              "      <td>02215</td>\n",
              "    </tr>\n",
              "    <tr>\n",
              "      <th>...</th>\n",
              "      <td>...</td>\n",
              "      <td>...</td>\n",
              "      <td>...</td>\n",
              "      <td>...</td>\n",
              "      <td>...</td>\n",
              "      <td>...</td>\n",
              "      <td>...</td>\n",
              "      <td>...</td>\n",
              "      <td>...</td>\n",
              "      <td>...</td>\n",
              "      <td>...</td>\n",
              "      <td>...</td>\n",
              "      <td>...</td>\n",
              "      <td>...</td>\n",
              "    </tr>\n",
              "    <tr>\n",
              "      <th>110455</th>\n",
              "      <td>351</td>\n",
              "      <td>2022-02-28 23:59:14.2560</td>\n",
              "      <td>2022-03-01 00:05:06.0610</td>\n",
              "      <td>378</td>\n",
              "      <td>191 Beacon St</td>\n",
              "      <td>42.380323</td>\n",
              "      <td>-71.108786</td>\n",
              "      <td>74</td>\n",
              "      <td>Harvard Square at Mass Ave/ Dunster</td>\n",
              "      <td>42.373268</td>\n",
              "      <td>-71.118579</td>\n",
              "      <td>6620</td>\n",
              "      <td>Subscriber</td>\n",
              "      <td>02116</td>\n",
              "    </tr>\n",
              "    <tr>\n",
              "      <th>110456</th>\n",
              "      <td>220</td>\n",
              "      <td>2022-02-28 23:59:18.3290</td>\n",
              "      <td>2022-03-01 00:02:58.7550</td>\n",
              "      <td>177</td>\n",
              "      <td>University Park</td>\n",
              "      <td>42.362648</td>\n",
              "      <td>-71.100061</td>\n",
              "      <td>107</td>\n",
              "      <td>Ames St at Main St</td>\n",
              "      <td>42.362500</td>\n",
              "      <td>-71.088220</td>\n",
              "      <td>5718</td>\n",
              "      <td>Subscriber</td>\n",
              "      <td>02139</td>\n",
              "    </tr>\n",
              "    <tr>\n",
              "      <th>110457</th>\n",
              "      <td>281</td>\n",
              "      <td>2022-02-28 23:59:18.7310</td>\n",
              "      <td>2022-03-01 00:04:00.6370</td>\n",
              "      <td>67</td>\n",
              "      <td>MIT at Mass Ave / Amherst St</td>\n",
              "      <td>42.358100</td>\n",
              "      <td>-71.093198</td>\n",
              "      <td>179</td>\n",
              "      <td>MIT Vassar St</td>\n",
              "      <td>42.355601</td>\n",
              "      <td>-71.103945</td>\n",
              "      <td>2768</td>\n",
              "      <td>Subscriber</td>\n",
              "      <td>02139</td>\n",
              "    </tr>\n",
              "    <tr>\n",
              "      <th>110458</th>\n",
              "      <td>225</td>\n",
              "      <td>2022-02-28 23:59:30.7720</td>\n",
              "      <td>2022-03-01 00:03:16.3230</td>\n",
              "      <td>190</td>\n",
              "      <td>Nashua Street at Red Auerbach Way</td>\n",
              "      <td>42.365673</td>\n",
              "      <td>-71.064263</td>\n",
              "      <td>549</td>\n",
              "      <td>Valenti Way at Haverhill St</td>\n",
              "      <td>42.364739</td>\n",
              "      <td>-71.059349</td>\n",
              "      <td>3645</td>\n",
              "      <td>Subscriber</td>\n",
              "      <td>02114</td>\n",
              "    </tr>\n",
              "    <tr>\n",
              "      <th>110459</th>\n",
              "      <td>1443</td>\n",
              "      <td>2022-02-28 23:59:46.8630</td>\n",
              "      <td>2022-03-01 00:23:50.8470</td>\n",
              "      <td>520</td>\n",
              "      <td>Salem MBTA - Washington at Federal St</td>\n",
              "      <td>42.523452</td>\n",
              "      <td>-70.896111</td>\n",
              "      <td>522</td>\n",
              "      <td>Salem State University - Bike Path at Loring Ave</td>\n",
              "      <td>42.501824</td>\n",
              "      <td>-70.894781</td>\n",
              "      <td>4986</td>\n",
              "      <td>Subscriber</td>\n",
              "      <td>02115</td>\n",
              "    </tr>\n",
              "  </tbody>\n",
              "</table>\n",
              "<p>110460 rows × 14 columns</p>\n",
              "</div>\n",
              "      <button class=\"colab-df-convert\" onclick=\"convertToInteractive('df-0d739a0a-2962-4502-94a7-72a55375f29e')\"\n",
              "              title=\"Convert this dataframe to an interactive table.\"\n",
              "              style=\"display:none;\">\n",
              "        \n",
              "  <svg xmlns=\"http://www.w3.org/2000/svg\" height=\"24px\"viewBox=\"0 0 24 24\"\n",
              "       width=\"24px\">\n",
              "    <path d=\"M0 0h24v24H0V0z\" fill=\"none\"/>\n",
              "    <path d=\"M18.56 5.44l.94 2.06.94-2.06 2.06-.94-2.06-.94-.94-2.06-.94 2.06-2.06.94zm-11 1L8.5 8.5l.94-2.06 2.06-.94-2.06-.94L8.5 2.5l-.94 2.06-2.06.94zm10 10l.94 2.06.94-2.06 2.06-.94-2.06-.94-.94-2.06-.94 2.06-2.06.94z\"/><path d=\"M17.41 7.96l-1.37-1.37c-.4-.4-.92-.59-1.43-.59-.52 0-1.04.2-1.43.59L10.3 9.45l-7.72 7.72c-.78.78-.78 2.05 0 2.83L4 21.41c.39.39.9.59 1.41.59.51 0 1.02-.2 1.41-.59l7.78-7.78 2.81-2.81c.8-.78.8-2.07 0-2.86zM5.41 20L4 18.59l7.72-7.72 1.47 1.35L5.41 20z\"/>\n",
              "  </svg>\n",
              "      </button>\n",
              "      \n",
              "  <style>\n",
              "    .colab-df-container {\n",
              "      display:flex;\n",
              "      flex-wrap:wrap;\n",
              "      gap: 12px;\n",
              "    }\n",
              "\n",
              "    .colab-df-convert {\n",
              "      background-color: #E8F0FE;\n",
              "      border: none;\n",
              "      border-radius: 50%;\n",
              "      cursor: pointer;\n",
              "      display: none;\n",
              "      fill: #1967D2;\n",
              "      height: 32px;\n",
              "      padding: 0 0 0 0;\n",
              "      width: 32px;\n",
              "    }\n",
              "\n",
              "    .colab-df-convert:hover {\n",
              "      background-color: #E2EBFA;\n",
              "      box-shadow: 0px 1px 2px rgba(60, 64, 67, 0.3), 0px 1px 3px 1px rgba(60, 64, 67, 0.15);\n",
              "      fill: #174EA6;\n",
              "    }\n",
              "\n",
              "    [theme=dark] .colab-df-convert {\n",
              "      background-color: #3B4455;\n",
              "      fill: #D2E3FC;\n",
              "    }\n",
              "\n",
              "    [theme=dark] .colab-df-convert:hover {\n",
              "      background-color: #434B5C;\n",
              "      box-shadow: 0px 1px 3px 1px rgba(0, 0, 0, 0.15);\n",
              "      filter: drop-shadow(0px 1px 2px rgba(0, 0, 0, 0.3));\n",
              "      fill: #FFFFFF;\n",
              "    }\n",
              "  </style>\n",
              "\n",
              "      <script>\n",
              "        const buttonEl =\n",
              "          document.querySelector('#df-0d739a0a-2962-4502-94a7-72a55375f29e button.colab-df-convert');\n",
              "        buttonEl.style.display =\n",
              "          google.colab.kernel.accessAllowed ? 'block' : 'none';\n",
              "\n",
              "        async function convertToInteractive(key) {\n",
              "          const element = document.querySelector('#df-0d739a0a-2962-4502-94a7-72a55375f29e');\n",
              "          const dataTable =\n",
              "            await google.colab.kernel.invokeFunction('convertToInteractive',\n",
              "                                                     [key], {});\n",
              "          if (!dataTable) return;\n",
              "\n",
              "          const docLinkHtml = 'Like what you see? Visit the ' +\n",
              "            '<a target=\"_blank\" href=https://colab.research.google.com/notebooks/data_table.ipynb>data table notebook</a>'\n",
              "            + ' to learn more about interactive tables.';\n",
              "          element.innerHTML = '';\n",
              "          dataTable['output_type'] = 'display_data';\n",
              "          await google.colab.output.renderOutput(dataTable, element);\n",
              "          const docLink = document.createElement('div');\n",
              "          docLink.innerHTML = docLinkHtml;\n",
              "          element.appendChild(docLink);\n",
              "        }\n",
              "      </script>\n",
              "    </div>\n",
              "  </div>\n",
              "  "
            ]
          },
          "metadata": {},
          "execution_count": 4
        }
      ],
      "source": [
        "trip_histories"
      ]
    },
    {
      "cell_type": "markdown",
      "metadata": {
        "id": "_OJer1QVXhTf"
      },
      "source": [
        "## Explore the data\n",
        "\n",
        "First we have to understand what the data represents: what are the features or columns, what range of values to the features take. \n",
        "\n",
        "Next we have to check if there are missing value, duplicates, contradictory data and finally outliers."
      ]
    },
    {
      "cell_type": "code",
      "execution_count": 5,
      "metadata": {
        "colab": {
          "base_uri": "https://localhost:8080/"
        },
        "id": "p65xiBtwVvmg",
        "outputId": "c0592dc5-a66b-44c5-fb5e-f72248a500ba"
      },
      "outputs": [
        {
          "output_type": "execute_result",
          "data": {
            "text/plain": [
              "Index(['tripduration', 'starttime', 'stoptime', 'start station id',\n",
              "       'start station name', 'start station latitude',\n",
              "       'start station longitude', 'end station id', 'end station name',\n",
              "       'end station latitude', 'end station longitude', 'bikeid', 'usertype',\n",
              "       'postal code'],\n",
              "      dtype='object')"
            ]
          },
          "metadata": {},
          "execution_count": 5
        }
      ],
      "source": [
        "trip_histories.columns"
      ]
    },
    {
      "cell_type": "code",
      "execution_count": 6,
      "metadata": {
        "colab": {
          "base_uri": "https://localhost:8080/",
          "height": 300
        },
        "id": "5DtyULHqYguv",
        "outputId": "9094b221-c280-45d1-89c6-559ab2f9ee8e"
      },
      "outputs": [
        {
          "output_type": "execute_result",
          "data": {
            "text/plain": [
              "       tripduration  start station id  start station latitude  \\\n",
              "count  1.104600e+05     110460.000000           110460.000000   \n",
              "mean   1.104414e+03        197.280663               42.359398   \n",
              "std    1.076689e+04        163.036025                0.016449   \n",
              "min    6.100000e+01          3.000000               42.255600   \n",
              "25%    3.800000e+02         68.000000               42.349426   \n",
              "50%    6.010000e+02        131.000000               42.360793   \n",
              "75%    9.970000e+02        360.000000               42.368844   \n",
              "max    1.445015e+06        558.000000               42.523452   \n",
              "\n",
              "       start station longitude  end station id  end station latitude  \\\n",
              "count            110460.000000   110460.000000         110460.000000   \n",
              "mean                -71.094100      195.135750             42.359309   \n",
              "std                   0.024339      162.995789              0.016460   \n",
              "min                 -71.247759        1.000000             42.255600   \n",
              "25%                 -71.108687       67.000000             42.349244   \n",
              "50%                 -71.095315      118.000000             42.360793   \n",
              "75%                 -71.079468      360.000000             42.368605   \n",
              "max                 -70.889524      558.000000             42.523452   \n",
              "\n",
              "       end station longitude         bikeid  \n",
              "count          110460.000000  110460.000000  \n",
              "mean              -71.093542    4895.881912  \n",
              "std                 0.024411    1613.734469  \n",
              "min               -71.247759     218.000000  \n",
              "25%               -71.108413    3485.000000  \n",
              "50%               -71.095171    5030.000000  \n",
              "75%               -71.077828    6237.000000  \n",
              "max               -70.889524    7653.000000  "
            ],
            "text/html": [
              "\n",
              "  <div id=\"df-b1e076ff-bee3-49d3-8895-cd5f268c4900\">\n",
              "    <div class=\"colab-df-container\">\n",
              "      <div>\n",
              "<style scoped>\n",
              "    .dataframe tbody tr th:only-of-type {\n",
              "        vertical-align: middle;\n",
              "    }\n",
              "\n",
              "    .dataframe tbody tr th {\n",
              "        vertical-align: top;\n",
              "    }\n",
              "\n",
              "    .dataframe thead th {\n",
              "        text-align: right;\n",
              "    }\n",
              "</style>\n",
              "<table border=\"1\" class=\"dataframe\">\n",
              "  <thead>\n",
              "    <tr style=\"text-align: right;\">\n",
              "      <th></th>\n",
              "      <th>tripduration</th>\n",
              "      <th>start station id</th>\n",
              "      <th>start station latitude</th>\n",
              "      <th>start station longitude</th>\n",
              "      <th>end station id</th>\n",
              "      <th>end station latitude</th>\n",
              "      <th>end station longitude</th>\n",
              "      <th>bikeid</th>\n",
              "    </tr>\n",
              "  </thead>\n",
              "  <tbody>\n",
              "    <tr>\n",
              "      <th>count</th>\n",
              "      <td>1.104600e+05</td>\n",
              "      <td>110460.000000</td>\n",
              "      <td>110460.000000</td>\n",
              "      <td>110460.000000</td>\n",
              "      <td>110460.000000</td>\n",
              "      <td>110460.000000</td>\n",
              "      <td>110460.000000</td>\n",
              "      <td>110460.000000</td>\n",
              "    </tr>\n",
              "    <tr>\n",
              "      <th>mean</th>\n",
              "      <td>1.104414e+03</td>\n",
              "      <td>197.280663</td>\n",
              "      <td>42.359398</td>\n",
              "      <td>-71.094100</td>\n",
              "      <td>195.135750</td>\n",
              "      <td>42.359309</td>\n",
              "      <td>-71.093542</td>\n",
              "      <td>4895.881912</td>\n",
              "    </tr>\n",
              "    <tr>\n",
              "      <th>std</th>\n",
              "      <td>1.076689e+04</td>\n",
              "      <td>163.036025</td>\n",
              "      <td>0.016449</td>\n",
              "      <td>0.024339</td>\n",
              "      <td>162.995789</td>\n",
              "      <td>0.016460</td>\n",
              "      <td>0.024411</td>\n",
              "      <td>1613.734469</td>\n",
              "    </tr>\n",
              "    <tr>\n",
              "      <th>min</th>\n",
              "      <td>6.100000e+01</td>\n",
              "      <td>3.000000</td>\n",
              "      <td>42.255600</td>\n",
              "      <td>-71.247759</td>\n",
              "      <td>1.000000</td>\n",
              "      <td>42.255600</td>\n",
              "      <td>-71.247759</td>\n",
              "      <td>218.000000</td>\n",
              "    </tr>\n",
              "    <tr>\n",
              "      <th>25%</th>\n",
              "      <td>3.800000e+02</td>\n",
              "      <td>68.000000</td>\n",
              "      <td>42.349426</td>\n",
              "      <td>-71.108687</td>\n",
              "      <td>67.000000</td>\n",
              "      <td>42.349244</td>\n",
              "      <td>-71.108413</td>\n",
              "      <td>3485.000000</td>\n",
              "    </tr>\n",
              "    <tr>\n",
              "      <th>50%</th>\n",
              "      <td>6.010000e+02</td>\n",
              "      <td>131.000000</td>\n",
              "      <td>42.360793</td>\n",
              "      <td>-71.095315</td>\n",
              "      <td>118.000000</td>\n",
              "      <td>42.360793</td>\n",
              "      <td>-71.095171</td>\n",
              "      <td>5030.000000</td>\n",
              "    </tr>\n",
              "    <tr>\n",
              "      <th>75%</th>\n",
              "      <td>9.970000e+02</td>\n",
              "      <td>360.000000</td>\n",
              "      <td>42.368844</td>\n",
              "      <td>-71.079468</td>\n",
              "      <td>360.000000</td>\n",
              "      <td>42.368605</td>\n",
              "      <td>-71.077828</td>\n",
              "      <td>6237.000000</td>\n",
              "    </tr>\n",
              "    <tr>\n",
              "      <th>max</th>\n",
              "      <td>1.445015e+06</td>\n",
              "      <td>558.000000</td>\n",
              "      <td>42.523452</td>\n",
              "      <td>-70.889524</td>\n",
              "      <td>558.000000</td>\n",
              "      <td>42.523452</td>\n",
              "      <td>-70.889524</td>\n",
              "      <td>7653.000000</td>\n",
              "    </tr>\n",
              "  </tbody>\n",
              "</table>\n",
              "</div>\n",
              "      <button class=\"colab-df-convert\" onclick=\"convertToInteractive('df-b1e076ff-bee3-49d3-8895-cd5f268c4900')\"\n",
              "              title=\"Convert this dataframe to an interactive table.\"\n",
              "              style=\"display:none;\">\n",
              "        \n",
              "  <svg xmlns=\"http://www.w3.org/2000/svg\" height=\"24px\"viewBox=\"0 0 24 24\"\n",
              "       width=\"24px\">\n",
              "    <path d=\"M0 0h24v24H0V0z\" fill=\"none\"/>\n",
              "    <path d=\"M18.56 5.44l.94 2.06.94-2.06 2.06-.94-2.06-.94-.94-2.06-.94 2.06-2.06.94zm-11 1L8.5 8.5l.94-2.06 2.06-.94-2.06-.94L8.5 2.5l-.94 2.06-2.06.94zm10 10l.94 2.06.94-2.06 2.06-.94-2.06-.94-.94-2.06-.94 2.06-2.06.94z\"/><path d=\"M17.41 7.96l-1.37-1.37c-.4-.4-.92-.59-1.43-.59-.52 0-1.04.2-1.43.59L10.3 9.45l-7.72 7.72c-.78.78-.78 2.05 0 2.83L4 21.41c.39.39.9.59 1.41.59.51 0 1.02-.2 1.41-.59l7.78-7.78 2.81-2.81c.8-.78.8-2.07 0-2.86zM5.41 20L4 18.59l7.72-7.72 1.47 1.35L5.41 20z\"/>\n",
              "  </svg>\n",
              "      </button>\n",
              "      \n",
              "  <style>\n",
              "    .colab-df-container {\n",
              "      display:flex;\n",
              "      flex-wrap:wrap;\n",
              "      gap: 12px;\n",
              "    }\n",
              "\n",
              "    .colab-df-convert {\n",
              "      background-color: #E8F0FE;\n",
              "      border: none;\n",
              "      border-radius: 50%;\n",
              "      cursor: pointer;\n",
              "      display: none;\n",
              "      fill: #1967D2;\n",
              "      height: 32px;\n",
              "      padding: 0 0 0 0;\n",
              "      width: 32px;\n",
              "    }\n",
              "\n",
              "    .colab-df-convert:hover {\n",
              "      background-color: #E2EBFA;\n",
              "      box-shadow: 0px 1px 2px rgba(60, 64, 67, 0.3), 0px 1px 3px 1px rgba(60, 64, 67, 0.15);\n",
              "      fill: #174EA6;\n",
              "    }\n",
              "\n",
              "    [theme=dark] .colab-df-convert {\n",
              "      background-color: #3B4455;\n",
              "      fill: #D2E3FC;\n",
              "    }\n",
              "\n",
              "    [theme=dark] .colab-df-convert:hover {\n",
              "      background-color: #434B5C;\n",
              "      box-shadow: 0px 1px 3px 1px rgba(0, 0, 0, 0.15);\n",
              "      filter: drop-shadow(0px 1px 2px rgba(0, 0, 0, 0.3));\n",
              "      fill: #FFFFFF;\n",
              "    }\n",
              "  </style>\n",
              "\n",
              "      <script>\n",
              "        const buttonEl =\n",
              "          document.querySelector('#df-b1e076ff-bee3-49d3-8895-cd5f268c4900 button.colab-df-convert');\n",
              "        buttonEl.style.display =\n",
              "          google.colab.kernel.accessAllowed ? 'block' : 'none';\n",
              "\n",
              "        async function convertToInteractive(key) {\n",
              "          const element = document.querySelector('#df-b1e076ff-bee3-49d3-8895-cd5f268c4900');\n",
              "          const dataTable =\n",
              "            await google.colab.kernel.invokeFunction('convertToInteractive',\n",
              "                                                     [key], {});\n",
              "          if (!dataTable) return;\n",
              "\n",
              "          const docLinkHtml = 'Like what you see? Visit the ' +\n",
              "            '<a target=\"_blank\" href=https://colab.research.google.com/notebooks/data_table.ipynb>data table notebook</a>'\n",
              "            + ' to learn more about interactive tables.';\n",
              "          element.innerHTML = '';\n",
              "          dataTable['output_type'] = 'display_data';\n",
              "          await google.colab.output.renderOutput(dataTable, element);\n",
              "          const docLink = document.createElement('div');\n",
              "          docLink.innerHTML = docLinkHtml;\n",
              "          element.appendChild(docLink);\n",
              "        }\n",
              "      </script>\n",
              "    </div>\n",
              "  </div>\n",
              "  "
            ]
          },
          "metadata": {},
          "execution_count": 6
        }
      ],
      "source": [
        "trip_histories.describe()"
      ]
    },
    {
      "cell_type": "code",
      "execution_count": 7,
      "metadata": {
        "colab": {
          "base_uri": "https://localhost:8080/"
        },
        "id": "tZMWOKNqYL-M",
        "outputId": "306b2de2-b803-4a7c-c596-a591a5423386"
      },
      "outputs": [
        {
          "output_type": "execute_result",
          "data": {
            "text/plain": [
              "tripduration                 int64\n",
              "starttime                   object\n",
              "stoptime                    object\n",
              "start station id             int64\n",
              "start station name          object\n",
              "start station latitude     float64\n",
              "start station longitude    float64\n",
              "end station id               int64\n",
              "end station name            object\n",
              "end station latitude       float64\n",
              "end station longitude      float64\n",
              "bikeid                       int64\n",
              "usertype                    object\n",
              "postal code                 object\n",
              "dtype: object"
            ]
          },
          "metadata": {},
          "execution_count": 7
        }
      ],
      "source": [
        "trip_histories.dtypes"
      ]
    },
    {
      "cell_type": "code",
      "execution_count": 8,
      "metadata": {
        "colab": {
          "base_uri": "https://localhost:8080/",
          "height": 673
        },
        "id": "KoQB7tREZpG_",
        "outputId": "2d1770fd-e609-43a7-9de0-4e188be45326"
      },
      "outputs": [
        {
          "output_type": "execute_result",
          "data": {
            "text/plain": [
              "array([[<matplotlib.axes._subplots.AxesSubplot object at 0x7f401b1e97d0>,\n",
              "        <matplotlib.axes._subplots.AxesSubplot object at 0x7f401b144e50>,\n",
              "        <matplotlib.axes._subplots.AxesSubplot object at 0x7f401b10a490>],\n",
              "       [<matplotlib.axes._subplots.AxesSubplot object at 0x7f401b0c0a90>,\n",
              "        <matplotlib.axes._subplots.AxesSubplot object at 0x7f401b0850d0>,\n",
              "        <matplotlib.axes._subplots.AxesSubplot object at 0x7f401b0ba6d0>],\n",
              "       [<matplotlib.axes._subplots.AxesSubplot object at 0x7f401b070d50>,\n",
              "        <matplotlib.axes._subplots.AxesSubplot object at 0x7f401b0342d0>,\n",
              "        <matplotlib.axes._subplots.AxesSubplot object at 0x7f401b034310>]],\n",
              "      dtype=object)"
            ]
          },
          "metadata": {},
          "execution_count": 8
        },
        {
          "output_type": "display_data",
          "data": {
            "text/plain": [
              "<Figure size 720x576 with 9 Axes>"
            ],
            "image/png": "[encoded data removed]"
          },
          "metadata": {
            "needs_background": "light"
          }
        }
      ],
      "source": [
        "trip_histories.hist(bins=20, figsize=(10,8))"
      ]
    },
    {
      "cell_type": "code",
      "execution_count": 9,
      "metadata": {
        "id": "hmLw2fjPaeqk"
      },
      "outputs": [],
      "source": [
        "binned_duration = pd.cut(trip_histories['tripduration'], bins=[300*i for i in range(15)])"
      ]
    },
    {
      "cell_type": "code",
      "execution_count": 10,
      "metadata": {
        "colab": {
          "base_uri": "https://localhost:8080/",
          "height": 337
        },
        "id": "y9HycyzlgKKe",
        "outputId": "b54167e5-3181-4cb8-e19c-eee6620e9449"
      },
      "outputs": [
        {
          "output_type": "execute_result",
          "data": {
            "text/plain": [
              "<matplotlib.axes._subplots.AxesSubplot at 0x7f401a7892d0>"
            ]
          },
          "metadata": {},
          "execution_count": 10
        },
        {
          "output_type": "display_data",
          "data": {
            "text/plain": [
              "<Figure size 432x288 with 1 Axes>"
            ],
            "image/png": "[encoded data removed]"
          },
          "metadata": {
            "needs_background": "light"
          }
        }
      ],
      "source": [
        "pd.DataFrame(binned_duration.value_counts()).plot(kind='bar')"
      ]
    },
    {
      "cell_type": "code",
      "execution_count": 11,
      "metadata": {
        "colab": {
          "base_uri": "https://localhost:8080/"
        },
        "id": "sctj9zmMZeMl",
        "outputId": "d0461f62-7a20-4ef3-ca43-041b392ef32d",
        "scrolled": true
      },
      "outputs": [
        {
          "output_type": "execute_result",
          "data": {
            "text/plain": [
              "(355,)"
            ]
          },
          "metadata": {},
          "execution_count": 11
        }
      ],
      "source": [
        "trip_histories['start station name'].unique().shape"
      ]
    },
    {
      "cell_type": "code",
      "source": [
        "trip_histories['end station name'].unique().shape"
      ],
      "metadata": {
        "colab": {
          "base_uri": "https://localhost:8080/"
        },
        "id": "WPrlXi5o4YG6",
        "outputId": "5e66d4c0-46f4-4648-e79a-774c4a7e626a"
      },
      "execution_count": 12,
      "outputs": [
        {
          "output_type": "execute_result",
          "data": {
            "text/plain": [
              "(355,)"
            ]
          },
          "metadata": {},
          "execution_count": 12
        }
      ]
    },
    {
      "cell_type": "markdown",
      "metadata": {
        "id": "6lkAZ50-oPCz"
      },
      "source": [
        "## Data Cleaning and Preprocessing"
      ]
    },
    {
      "cell_type": "markdown",
      "metadata": {
        "id": "HNekK5MIoWfu"
      },
      "source": [
        "- Remove entries with too many missing values\n",
        "- Remove duplicates\n",
        "- Remove samples that are not relevant to the problem\n",
        "- Remove irrelevant features\n",
        "- Engineer better features\n",
        "- Assign numerical value to all features\n",
        "- Normalize the numerical values ~ mean=0 and std=1"
      ]
    },
    {
      "cell_type": "code",
      "execution_count": 13,
      "metadata": {
        "colab": {
          "base_uri": "https://localhost:8080/"
        },
        "id": "5YOsLuuwZTJI",
        "outputId": "87a6e030-9990-4ea6-e502-ab99934f7176"
      },
      "outputs": [
        {
          "output_type": "execute_result",
          "data": {
            "text/plain": [
              "tripduration                  0\n",
              "starttime                     0\n",
              "stoptime                      0\n",
              "start station id              0\n",
              "start station name            0\n",
              "start station latitude        0\n",
              "start station longitude       0\n",
              "end station id                0\n",
              "end station name              0\n",
              "end station latitude          0\n",
              "end station longitude         0\n",
              "bikeid                        0\n",
              "usertype                      0\n",
              "postal code                5090\n",
              "dtype: int64"
            ]
          },
          "metadata": {},
          "execution_count": 13
        }
      ],
      "source": [
        "# Check for missing data\n",
        "trip_histories.isna().sum()"
      ]
    },
    {
      "cell_type": "code",
      "execution_count": 14,
      "metadata": {
        "colab": {
          "base_uri": "https://localhost:8080/"
        },
        "id": "ir4NONtf3r80",
        "outputId": "db8ed5b0-534f-4eeb-9b3d-2bb515a1fd5a"
      },
      "outputs": [
        {
          "output_type": "execute_result",
          "data": {
            "text/plain": [
              "0"
            ]
          },
          "metadata": {},
          "execution_count": 14
        }
      ],
      "source": [
        "# Check for duplicates\n",
        "trip_histories.duplicated().sum()"
      ]
    },
    {
      "cell_type": "markdown",
      "metadata": {
        "id": "Z-Tk2xrN3r81"
      },
      "source": [
        "It's rare to catch duplicates so easily! Most often duplicates will have missing data or are recorded in a different format. Features that take float values are often the best features to focus on when looking for duplicates."
      ]
    },
    {
      "cell_type": "code",
      "execution_count": 15,
      "metadata": {
        "id": "RRcrH___hwqD",
        "scrolled": true,
        "colab": {
          "base_uri": "https://localhost:8080/"
        },
        "outputId": "a53b1e49-a0c8-4253-c8fb-8fe57d817fd2"
      },
      "outputs": [
        {
          "output_type": "execute_result",
          "data": {
            "text/plain": [
              "(110450,)"
            ]
          },
          "metadata": {},
          "execution_count": 15
        }
      ],
      "source": [
        "trip_histories['starttime'].unique().shape"
      ]
    },
    {
      "cell_type": "code",
      "execution_count": 16,
      "metadata": {
        "colab": {
          "base_uri": "https://localhost:8080/"
        },
        "id": "BXFioiJ03r81",
        "outputId": "6cab9b34-e240-498d-d79c-6d851a29af79"
      },
      "outputs": [
        {
          "output_type": "execute_result",
          "data": {
            "text/plain": [
              "(110457,)"
            ]
          },
          "metadata": {},
          "execution_count": 16
        }
      ],
      "source": [
        "trip_histories['stoptime'].unique().shape"
      ]
    },
    {
      "cell_type": "code",
      "execution_count": 17,
      "metadata": {
        "colab": {
          "base_uri": "https://localhost:8080/"
        },
        "id": "0SD13Ezs3r81",
        "outputId": "dc7ab0e1-1332-4b91-a226-02336fe7985e"
      },
      "outputs": [
        {
          "output_type": "execute_result",
          "data": {
            "text/plain": [
              "0"
            ]
          },
          "metadata": {},
          "execution_count": 17
        }
      ],
      "source": [
        "trip_histories[['starttime', 'stoptime']].duplicated().sum()"
      ]
    },
    {
      "cell_type": "markdown",
      "metadata": {
        "id": "khKuurgB3r82"
      },
      "source": [
        "We are interested in trip durations from A to B (A != B), thus roundtrips need to be removed."
      ]
    },
    {
      "cell_type": "code",
      "execution_count": 18,
      "metadata": {
        "scrolled": true,
        "colab": {
          "base_uri": "https://localhost:8080/"
        },
        "id": "vdE0UuDd3r82",
        "outputId": "259ff6e6-6ec1-4933-eaa3-4059d36d57bc"
      },
      "outputs": [
        {
          "output_type": "execute_result",
          "data": {
            "text/plain": [
              "3673"
            ]
          },
          "metadata": {},
          "execution_count": 18
        }
      ],
      "source": [
        "mask_rt = (trip_histories['start station id'] == trip_histories['end station id'])\n",
        "mask_rt.sum()"
      ]
    },
    {
      "cell_type": "code",
      "execution_count": 19,
      "metadata": {
        "scrolled": true,
        "colab": {
          "base_uri": "https://localhost:8080/"
        },
        "id": "woAieiWv3r82",
        "outputId": "0bc60fe4-9726-41f3-fbef-3c0841c2edae"
      },
      "outputs": [
        {
          "output_type": "execute_result",
          "data": {
            "text/plain": [
              "(110460, 14)"
            ]
          },
          "metadata": {},
          "execution_count": 19
        }
      ],
      "source": [
        "trip_histories.shape"
      ]
    },
    {
      "cell_type": "code",
      "execution_count": 20,
      "metadata": {
        "scrolled": true,
        "colab": {
          "base_uri": "https://localhost:8080/"
        },
        "id": "l355a4a53r82",
        "outputId": "a9f243aa-767c-4964-cf65-51c1e55162a5"
      },
      "outputs": [
        {
          "output_type": "execute_result",
          "data": {
            "text/plain": [
              "(106787, 14)"
            ]
          },
          "metadata": {},
          "execution_count": 20
        }
      ],
      "source": [
        "trip_histories = trip_histories.drop(trip_histories[mask_rt].index)\n",
        "trip_histories.shape"
      ]
    },
    {
      "cell_type": "markdown",
      "metadata": {
        "id": "jnbNKXJ-3r83"
      },
      "source": [
        "### Trips that are not simple commutes"
      ]
    },
    {
      "cell_type": "code",
      "execution_count": 21,
      "metadata": {
        "id": "WV5tugkm3r83"
      },
      "outputs": [],
      "source": [
        "trip_histories['distance'] = trip_histories.apply(lambda row: \n",
        "                                                  haversine_distances(\n",
        "                                                      [[radians(row['start station latitude']), \n",
        "                                                       radians(row['start station longitude'])],\n",
        "                                                      [radians(row['end station latitude']),\n",
        "                                                       radians(row['end station longitude'])]])[1,0]*earth_radius,\n",
        "                                                  axis=1)"
      ]
    },
    {
      "cell_type": "code",
      "execution_count": 22,
      "metadata": {
        "colab": {
          "base_uri": "https://localhost:8080/",
          "height": 296
        },
        "id": "jdaPNZ8Y3r83",
        "outputId": "552c4403-5f21-468b-89ae-1bdc5236cf17"
      },
      "outputs": [
        {
          "output_type": "execute_result",
          "data": {
            "text/plain": [
              "<matplotlib.axes._subplots.AxesSubplot at 0x7f401a70a310>"
            ]
          },
          "metadata": {},
          "execution_count": 22
        },
        {
          "output_type": "display_data",
          "data": {
            "text/plain": [
              "<Figure size 432x288 with 1 Axes>"
            ],
            "image/png": "[encoded data removed]"
          },
          "metadata": {
            "needs_background": "light"
          }
        }
      ],
      "source": [
        "trip_histories[['tripduration', 'distance']].plot(kind='scatter', x='tripduration', y='distance')"
      ]
    },
    {
      "cell_type": "code",
      "execution_count": 23,
      "metadata": {
        "colab": {
          "base_uri": "https://localhost:8080/"
        },
        "id": "i-t9R6Fz3r83",
        "outputId": "85ccaaf4-83e1-47af-d332-f91e8aef5d54"
      },
      "outputs": [
        {
          "output_type": "execute_result",
          "data": {
            "text/plain": [
              "244"
            ]
          },
          "metadata": {},
          "execution_count": 23
        }
      ],
      "source": [
        "mask_ld = trip_histories['tripduration'] > 10000\n",
        "mask_ld.sum()"
      ]
    },
    {
      "cell_type": "code",
      "execution_count": 24,
      "metadata": {
        "colab": {
          "base_uri": "https://localhost:8080/"
        },
        "id": "WTxl3Esw3r83",
        "outputId": "f8a67371-3e6f-4fcb-b181-dcc52768079b"
      },
      "outputs": [
        {
          "output_type": "execute_result",
          "data": {
            "text/plain": [
              "(106543, 15)"
            ]
          },
          "metadata": {},
          "execution_count": 24
        }
      ],
      "source": [
        "mask_ld = trip_histories['tripduration'] > 10000\n",
        "trip_histories = trip_histories.drop(trip_histories[mask_ld].index)\n",
        "trip_histories.shape"
      ]
    },
    {
      "cell_type": "code",
      "execution_count": 25,
      "metadata": {
        "colab": {
          "base_uri": "https://localhost:8080/",
          "height": 296
        },
        "id": "SHMKFdVM3r84",
        "outputId": "e05c746d-c64f-4afc-d90c-f8bdd379299f"
      },
      "outputs": [
        {
          "output_type": "execute_result",
          "data": {
            "text/plain": [
              "<matplotlib.axes._subplots.AxesSubplot at 0x7f4018f65c50>"
            ]
          },
          "metadata": {},
          "execution_count": 25
        },
        {
          "output_type": "display_data",
          "data": {
            "text/plain": [
              "<Figure size 432x288 with 1 Axes>"
            ],
            "image/png": "[encoded data removed]"
          },
          "metadata": {
            "needs_background": "light"
          }
        }
      ],
      "source": [
        "trip_histories[['tripduration', 'distance']].plot(kind='scatter', x='tripduration', y='distance')"
      ]
    },
    {
      "cell_type": "code",
      "execution_count": 26,
      "metadata": {
        "id": "7n56Nvl33r84"
      },
      "outputs": [],
      "source": [
        "trip_histories['binned duration'] = pd.cut(trip_histories['tripduration'], bins=[300*i for i in range(34)])"
      ]
    },
    {
      "cell_type": "code",
      "execution_count": 27,
      "metadata": {
        "colab": {
          "base_uri": "https://localhost:8080/"
        },
        "id": "LauzYIhz3r84",
        "outputId": "be7c99b4-30fe-41f1-fe3d-ca9f1e9e4ce3"
      },
      "outputs": [
        {
          "output_type": "execute_result",
          "data": {
            "text/plain": [
              "True"
            ]
          },
          "metadata": {},
          "execution_count": 27
        }
      ],
      "source": [
        "trip_histories['binned duration'][0] == pd.Interval(300,600,closed='right')"
      ]
    },
    {
      "cell_type": "code",
      "execution_count": 28,
      "metadata": {
        "id": "V314Iyrk3r84"
      },
      "outputs": [],
      "source": [
        "duration_bins = {i: pd.Interval(i*300, (i+1)*300, closed='right') for i in range(34)}\n",
        "duration_bins_r = {y: x for x, y in duration_bins.items()}"
      ]
    },
    {
      "cell_type": "code",
      "execution_count": 29,
      "metadata": {
        "id": "tf4MN04-3r84"
      },
      "outputs": [],
      "source": [
        "trip_histories['binned duration'] = trip_histories['binned duration'].map(duration_bins_r)"
      ]
    },
    {
      "cell_type": "code",
      "execution_count": 30,
      "metadata": {
        "colab": {
          "base_uri": "https://localhost:8080/",
          "height": 296
        },
        "id": "Pi9k0jRy3r84",
        "outputId": "30ff8983-ac92-4e14-d0cc-e755fb3590c9"
      },
      "outputs": [
        {
          "output_type": "execute_result",
          "data": {
            "text/plain": [
              "<matplotlib.axes._subplots.AxesSubplot at 0x7f4019140ed0>"
            ]
          },
          "metadata": {},
          "execution_count": 30
        },
        {
          "output_type": "display_data",
          "data": {
            "text/plain": [
              "<Figure size 432x288 with 1 Axes>"
            ],
            "image/png": "[encoded data removed]"
          },
          "metadata": {
            "needs_background": "light"
          }
        }
      ],
      "source": [
        "pd.DataFrame(\n",
        "    [[i, trip_histories[trip_histories['binned duration'] == i]['distance'].mean()] for i in range(34)],\n",
        "    columns = ['duration', 'distance']\n",
        ").plot(kind='scatter', x='duration', y='distance')"
      ]
    },
    {
      "cell_type": "code",
      "execution_count": 31,
      "metadata": {
        "colab": {
          "base_uri": "https://localhost:8080/"
        },
        "id": "NV2Z8i3Z3r85",
        "outputId": "74c8ee19-203d-431c-95d0-4018a039a5d2"
      },
      "outputs": [
        {
          "output_type": "execute_result",
          "data": {
            "text/plain": [
              "102162"
            ]
          },
          "metadata": {},
          "execution_count": 31
        }
      ],
      "source": [
        "(trip_histories['binned duration'] < 7).sum()"
      ]
    },
    {
      "cell_type": "markdown",
      "metadata": {
        "id": "j7xeq0bh3r85"
      },
      "source": [
        "This looks like something we can work with. Note that in our units, duration > 7 translates over 35 minutes. It is reasonable to assume that the data beyond this point is skewed and a significant number of such trips are not commutes. If we limit only use trips that took less that 35' a simple linear regression can estimate travel time pretty well."
      ]
    },
    {
      "cell_type": "code",
      "source": [
        "trip_histories = trip_histories[trip_histories['binned duration'] < 7]"
      ],
      "metadata": {
        "id": "4ykhHhfv5DG0"
      },
      "execution_count": 32,
      "outputs": []
    },
    {
      "cell_type": "markdown",
      "metadata": {
        "id": "ljcnc6heoRQ8"
      },
      "source": [
        "### Irrelevant features"
      ]
    },
    {
      "cell_type": "code",
      "execution_count": 33,
      "metadata": {
        "colab": {
          "base_uri": "https://localhost:8080/"
        },
        "id": "hlPqzfGY3r85",
        "outputId": "71166832-349d-400a-cd7b-6e490c2d7b25"
      },
      "outputs": [
        {
          "output_type": "execute_result",
          "data": {
            "text/plain": [
              "Index(['tripduration', 'starttime', 'stoptime', 'start station id',\n",
              "       'start station name', 'start station latitude',\n",
              "       'start station longitude', 'end station id', 'end station name',\n",
              "       'end station latitude', 'end station longitude', 'bikeid', 'usertype',\n",
              "       'postal code', 'distance', 'binned duration'],\n",
              "      dtype='object')"
            ]
          },
          "metadata": {},
          "execution_count": 33
        }
      ],
      "source": [
        "trip_histories.columns"
      ]
    },
    {
      "cell_type": "code",
      "execution_count": 34,
      "metadata": {
        "colab": {
          "base_uri": "https://localhost:8080/"
        },
        "id": "gDlVUIxs3r85",
        "outputId": "b5903871-480e-4c6a-a660-047ccd694892"
      },
      "outputs": [
        {
          "output_type": "execute_result",
          "data": {
            "text/plain": [
              "0         False\n",
              "1         False\n",
              "2         False\n",
              "3          True\n",
              "4         False\n",
              "          ...  \n",
              "110455     True\n",
              "110456     True\n",
              "110457     True\n",
              "110458     True\n",
              "110459     True\n",
              "Length: 102162, dtype: bool"
            ]
          },
          "metadata": {},
          "execution_count": 34
        }
      ],
      "source": [
        "trip_histories[['start station id', 'start station latitude', 'start station longitude']].duplicated()"
      ]
    },
    {
      "cell_type": "code",
      "execution_count": 36,
      "metadata": {
        "id": "LaLB8G4J3r85"
      },
      "outputs": [],
      "source": [
        "trip_histories = trip_histories.drop(labels = ['stoptime',\n",
        "                                               'start station id',\n",
        "                                               'start station name',\n",
        "                                               'end station id',\n",
        "                                               'end station name',\n",
        "                                               'bikeid',\n",
        "                                               'usertype',\n",
        "                                               'postal code'], axis=1)"
      ]
    },
    {
      "cell_type": "code",
      "execution_count": 37,
      "metadata": {
        "colab": {
          "base_uri": "https://localhost:8080/",
          "height": 424
        },
        "id": "seOblZw63r85",
        "outputId": "5a47e765-48ea-4bd4-ebde-78f628c25aca"
      },
      "outputs": [
        {
          "output_type": "execute_result",
          "data": {
            "text/plain": [
              "        tripduration                 starttime  start station latitude  \\\n",
              "0                457  2022-02-01 00:01:22.5160               42.361358   \n",
              "1                596  2022-02-01 00:01:39.3630               42.365070   \n",
              "2                927  2022-02-01 00:02:41.5460               42.354659   \n",
              "3               1541  2022-02-01 00:02:53.7400               42.361358   \n",
              "4               1165  2022-02-01 00:03:14.9160               42.347406   \n",
              "...              ...                       ...                     ...   \n",
              "110455           351  2022-02-28 23:59:14.2560               42.380323   \n",
              "110456           220  2022-02-28 23:59:18.3290               42.362648   \n",
              "110457           281  2022-02-28 23:59:18.7310               42.358100   \n",
              "110458           225  2022-02-28 23:59:30.7720               42.365673   \n",
              "110459          1443  2022-02-28 23:59:46.8630               42.523452   \n",
              "\n",
              "        start station longitude  end station latitude  end station longitude  \\\n",
              "0                    -71.096703             42.370803             -71.104412   \n",
              "1                    -71.103100             42.357662             -71.108413   \n",
              "2                    -71.053181             42.374878             -71.063835   \n",
              "3                    -71.096703             42.373329             -71.120986   \n",
              "4                    -71.086784             42.336586             -71.098870   \n",
              "...                         ...                   ...                    ...   \n",
              "110455               -71.108786             42.373268             -71.118579   \n",
              "110456               -71.100061             42.362500             -71.088220   \n",
              "110457               -71.093198             42.355601             -71.103945   \n",
              "110458               -71.064263             42.364739             -71.059349   \n",
              "110459               -70.896111             42.501824             -70.894781   \n",
              "\n",
              "        distance binned duration  \n",
              "0       1.226403               1  \n",
              "1       0.932218               1  \n",
              "2       2.412683               3  \n",
              "3       2.398272               5  \n",
              "4       1.560245               3  \n",
              "...          ...             ...  \n",
              "110455  1.123634               1  \n",
              "110456  0.973008               0  \n",
              "110457  0.925733               0  \n",
              "110458  0.416867               0  \n",
              "110459  2.407440               4  \n",
              "\n",
              "[102162 rows x 8 columns]"
            ],
            "text/html": [
              "\n",
              "  <div id=\"df-8ca4b0dd-43b6-4f44-b41a-c671fd1a8d50\">\n",
              "    <div class=\"colab-df-container\">\n",
              "      <div>\n",
              "<style scoped>\n",
              "    .dataframe tbody tr th:only-of-type {\n",
              "        vertical-align: middle;\n",
              "    }\n",
              "\n",
              "    .dataframe tbody tr th {\n",
              "        vertical-align: top;\n",
              "    }\n",
              "\n",
              "    .dataframe thead th {\n",
              "        text-align: right;\n",
              "    }\n",
              "</style>\n",
              "<table border=\"1\" class=\"dataframe\">\n",
              "  <thead>\n",
              "    <tr style=\"text-align: right;\">\n",
              "      <th></th>\n",
              "      <th>tripduration</th>\n",
              "      <th>starttime</th>\n",
              "      <th>start station latitude</th>\n",
              "      <th>start station longitude</th>\n",
              "      <th>end station latitude</th>\n",
              "      <th>end station longitude</th>\n",
              "      <th>distance</th>\n",
              "      <th>binned duration</th>\n",
              "    </tr>\n",
              "  </thead>\n",
              "  <tbody>\n",
              "    <tr>\n",
              "      <th>0</th>\n",
              "      <td>457</td>\n",
              "      <td>2022-02-01 00:01:22.5160</td>\n",
              "      <td>42.361358</td>\n",
              "      <td>-71.096703</td>\n",
              "      <td>42.370803</td>\n",
              "      <td>-71.104412</td>\n",
              "      <td>1.226403</td>\n",
              "      <td>1</td>\n",
              "    </tr>\n",
              "    <tr>\n",
              "      <th>1</th>\n",
              "      <td>596</td>\n",
              "      <td>2022-02-01 00:01:39.3630</td>\n",
              "      <td>42.365070</td>\n",
              "      <td>-71.103100</td>\n",
              "      <td>42.357662</td>\n",
              "      <td>-71.108413</td>\n",
              "      <td>0.932218</td>\n",
              "      <td>1</td>\n",
              "    </tr>\n",
              "    <tr>\n",
              "      <th>2</th>\n",
              "      <td>927</td>\n",
              "      <td>2022-02-01 00:02:41.5460</td>\n",
              "      <td>42.354659</td>\n",
              "      <td>-71.053181</td>\n",
              "      <td>42.374878</td>\n",
              "      <td>-71.063835</td>\n",
              "      <td>2.412683</td>\n",
              "      <td>3</td>\n",
              "    </tr>\n",
              "    <tr>\n",
              "      <th>3</th>\n",
              "      <td>1541</td>\n",
              "      <td>2022-02-01 00:02:53.7400</td>\n",
              "      <td>42.361358</td>\n",
              "      <td>-71.096703</td>\n",
              "      <td>42.373329</td>\n",
              "      <td>-71.120986</td>\n",
              "      <td>2.398272</td>\n",
              "      <td>5</td>\n",
              "    </tr>\n",
              "    <tr>\n",
              "      <th>4</th>\n",
              "      <td>1165</td>\n",
              "      <td>2022-02-01 00:03:14.9160</td>\n",
              "      <td>42.347406</td>\n",
              "      <td>-71.086784</td>\n",
              "      <td>42.336586</td>\n",
              "      <td>-71.098870</td>\n",
              "      <td>1.560245</td>\n",
              "      <td>3</td>\n",
              "    </tr>\n",
              "    <tr>\n",
              "      <th>...</th>\n",
              "      <td>...</td>\n",
              "      <td>...</td>\n",
              "      <td>...</td>\n",
              "      <td>...</td>\n",
              "      <td>...</td>\n",
              "      <td>...</td>\n",
              "      <td>...</td>\n",
              "      <td>...</td>\n",
              "    </tr>\n",
              "    <tr>\n",
              "      <th>110455</th>\n",
              "      <td>351</td>\n",
              "      <td>2022-02-28 23:59:14.2560</td>\n",
              "      <td>42.380323</td>\n",
              "      <td>-71.108786</td>\n",
              "      <td>42.373268</td>\n",
              "      <td>-71.118579</td>\n",
              "      <td>1.123634</td>\n",
              "      <td>1</td>\n",
              "    </tr>\n",
              "    <tr>\n",
              "      <th>110456</th>\n",
              "      <td>220</td>\n",
              "      <td>2022-02-28 23:59:18.3290</td>\n",
              "      <td>42.362648</td>\n",
              "      <td>-71.100061</td>\n",
              "      <td>42.362500</td>\n",
              "      <td>-71.088220</td>\n",
              "      <td>0.973008</td>\n",
              "      <td>0</td>\n",
              "    </tr>\n",
              "    <tr>\n",
              "      <th>110457</th>\n",
              "      <td>281</td>\n",
              "      <td>2022-02-28 23:59:18.7310</td>\n",
              "      <td>42.358100</td>\n",
              "      <td>-71.093198</td>\n",
              "      <td>42.355601</td>\n",
              "      <td>-71.103945</td>\n",
              "      <td>0.925733</td>\n",
              "      <td>0</td>\n",
              "    </tr>\n",
              "    <tr>\n",
              "      <th>110458</th>\n",
              "      <td>225</td>\n",
              "      <td>2022-02-28 23:59:30.7720</td>\n",
              "      <td>42.365673</td>\n",
              "      <td>-71.064263</td>\n",
              "      <td>42.364739</td>\n",
              "      <td>-71.059349</td>\n",
              "      <td>0.416867</td>\n",
              "      <td>0</td>\n",
              "    </tr>\n",
              "    <tr>\n",
              "      <th>110459</th>\n",
              "      <td>1443</td>\n",
              "      <td>2022-02-28 23:59:46.8630</td>\n",
              "      <td>42.523452</td>\n",
              "      <td>-70.896111</td>\n",
              "      <td>42.501824</td>\n",
              "      <td>-70.894781</td>\n",
              "      <td>2.407440</td>\n",
              "      <td>4</td>\n",
              "    </tr>\n",
              "  </tbody>\n",
              "</table>\n",
              "<p>102162 rows × 8 columns</p>\n",
              "</div>\n",
              "      <button class=\"colab-df-convert\" onclick=\"convertToInteractive('df-8ca4b0dd-43b6-4f44-b41a-c671fd1a8d50')\"\n",
              "              title=\"Convert this dataframe to an interactive table.\"\n",
              "              style=\"display:none;\">\n",
              "        \n",
              "  <svg xmlns=\"http://www.w3.org/2000/svg\" height=\"24px\"viewBox=\"0 0 24 24\"\n",
              "       width=\"24px\">\n",
              "    <path d=\"M0 0h24v24H0V0z\" fill=\"none\"/>\n",
              "    <path d=\"M18.56 5.44l.94 2.06.94-2.06 2.06-.94-2.06-.94-.94-2.06-.94 2.06-2.06.94zm-11 1L8.5 8.5l.94-2.06 2.06-.94-2.06-.94L8.5 2.5l-.94 2.06-2.06.94zm10 10l.94 2.06.94-2.06 2.06-.94-2.06-.94-.94-2.06-.94 2.06-2.06.94z\"/><path d=\"M17.41 7.96l-1.37-1.37c-.4-.4-.92-.59-1.43-.59-.52 0-1.04.2-1.43.59L10.3 9.45l-7.72 7.72c-.78.78-.78 2.05 0 2.83L4 21.41c.39.39.9.59 1.41.59.51 0 1.02-.2 1.41-.59l7.78-7.78 2.81-2.81c.8-.78.8-2.07 0-2.86zM5.41 20L4 18.59l7.72-7.72 1.47 1.35L5.41 20z\"/>\n",
              "  </svg>\n",
              "      </button>\n",
              "      \n",
              "  <style>\n",
              "    .colab-df-container {\n",
              "      display:flex;\n",
              "      flex-wrap:wrap;\n",
              "      gap: 12px;\n",
              "    }\n",
              "\n",
              "    .colab-df-convert {\n",
              "      background-color: #E8F0FE;\n",
              "      border: none;\n",
              "      border-radius: 50%;\n",
              "      cursor: pointer;\n",
              "      display: none;\n",
              "      fill: #1967D2;\n",
              "      height: 32px;\n",
              "      padding: 0 0 0 0;\n",
              "      width: 32px;\n",
              "    }\n",
              "\n",
              "    .colab-df-convert:hover {\n",
              "      background-color: #E2EBFA;\n",
              "      box-shadow: 0px 1px 2px rgba(60, 64, 67, 0.3), 0px 1px 3px 1px rgba(60, 64, 67, 0.15);\n",
              "      fill: #174EA6;\n",
              "    }\n",
              "\n",
              "    [theme=dark] .colab-df-convert {\n",
              "      background-color: #3B4455;\n",
              "      fill: #D2E3FC;\n",
              "    }\n",
              "\n",
              "    [theme=dark] .colab-df-convert:hover {\n",
              "      background-color: #434B5C;\n",
              "      box-shadow: 0px 1px 3px 1px rgba(0, 0, 0, 0.15);\n",
              "      filter: drop-shadow(0px 1px 2px rgba(0, 0, 0, 0.3));\n",
              "      fill: #FFFFFF;\n",
              "    }\n",
              "  </style>\n",
              "\n",
              "      <script>\n",
              "        const buttonEl =\n",
              "          document.querySelector('#df-8ca4b0dd-43b6-4f44-b41a-c671fd1a8d50 button.colab-df-convert');\n",
              "        buttonEl.style.display =\n",
              "          google.colab.kernel.accessAllowed ? 'block' : 'none';\n",
              "\n",
              "        async function convertToInteractive(key) {\n",
              "          const element = document.querySelector('#df-8ca4b0dd-43b6-4f44-b41a-c671fd1a8d50');\n",
              "          const dataTable =\n",
              "            await google.colab.kernel.invokeFunction('convertToInteractive',\n",
              "                                                     [key], {});\n",
              "          if (!dataTable) return;\n",
              "\n",
              "          const docLinkHtml = 'Like what you see? Visit the ' +\n",
              "            '<a target=\"_blank\" href=https://colab.research.google.com/notebooks/data_table.ipynb>data table notebook</a>'\n",
              "            + ' to learn more about interactive tables.';\n",
              "          element.innerHTML = '';\n",
              "          dataTable['output_type'] = 'display_data';\n",
              "          await google.colab.output.renderOutput(dataTable, element);\n",
              "          const docLink = document.createElement('div');\n",
              "          docLink.innerHTML = docLinkHtml;\n",
              "          element.appendChild(docLink);\n",
              "        }\n",
              "      </script>\n",
              "    </div>\n",
              "  </div>\n",
              "  "
            ]
          },
          "metadata": {},
          "execution_count": 37
        }
      ],
      "source": [
        "trip_histories"
      ]
    },
    {
      "cell_type": "code",
      "execution_count": 38,
      "metadata": {
        "id": "sfAali8O3r86"
      },
      "outputs": [],
      "source": [
        "for feature in ['start station latitude', 'start station longitude', 'end station latitude', 'end station longitude']:\n",
        "    trip_histories[feature] = trip_histories.apply(lambda row: radians(row[feature]), axis=1)"
      ]
    },
    {
      "cell_type": "code",
      "source": [
        "trip_histories"
      ],
      "metadata": {
        "colab": {
          "base_uri": "https://localhost:8080/",
          "height": 424
        },
        "id": "4vV8nlHp7X9r",
        "outputId": "584349e5-3e0a-4a9b-def6-9768c52ec195"
      },
      "execution_count": 39,
      "outputs": [
        {
          "output_type": "execute_result",
          "data": {
            "text/plain": [
              "        tripduration                 starttime  start station latitude  \\\n",
              "0                457  2022-02-01 00:01:22.5160                0.739345   \n",
              "1                596  2022-02-01 00:01:39.3630                0.739410   \n",
              "2                927  2022-02-01 00:02:41.5460                0.739228   \n",
              "3               1541  2022-02-01 00:02:53.7400                0.739345   \n",
              "4               1165  2022-02-01 00:03:14.9160                0.739102   \n",
              "...              ...                       ...                     ...   \n",
              "110455           351  2022-02-28 23:59:14.2560                0.739676   \n",
              "110456           220  2022-02-28 23:59:18.3290                0.739368   \n",
              "110457           281  2022-02-28 23:59:18.7310                0.739288   \n",
              "110458           225  2022-02-28 23:59:30.7720                0.739420   \n",
              "110459          1443  2022-02-28 23:59:46.8630                0.742174   \n",
              "\n",
              "        start station longitude  end station latitude  end station longitude  \\\n",
              "0                     -1.240872              0.739510              -1.241006   \n",
              "1                     -1.240983              0.739281              -1.241076   \n",
              "2                     -1.240112              0.739581              -1.240298   \n",
              "3                     -1.240872              0.739554              -1.241295   \n",
              "4                     -1.240698              0.738913              -1.240909   \n",
              "...                         ...                   ...                    ...   \n",
              "110455                -1.241082              0.739553              -1.241253   \n",
              "110456                -1.240930              0.739365              -1.240723   \n",
              "110457                -1.240810              0.739245              -1.240998   \n",
              "110458                -1.240305              0.739404              -1.240220   \n",
              "110459                -1.237371              0.741797              -1.237347   \n",
              "\n",
              "        distance binned duration  \n",
              "0       1.226403               1  \n",
              "1       0.932218               1  \n",
              "2       2.412683               3  \n",
              "3       2.398272               5  \n",
              "4       1.560245               3  \n",
              "...          ...             ...  \n",
              "110455  1.123634               1  \n",
              "110456  0.973008               0  \n",
              "110457  0.925733               0  \n",
              "110458  0.416867               0  \n",
              "110459  2.407440               4  \n",
              "\n",
              "[102162 rows x 8 columns]"
            ],
            "text/html": [
              "\n",
              "  <div id=\"df-95adf4c8-5428-45f9-92f6-1e32156915e9\">\n",
              "    <div class=\"colab-df-container\">\n",
              "      <div>\n",
              "<style scoped>\n",
              "    .dataframe tbody tr th:only-of-type {\n",
              "        vertical-align: middle;\n",
              "    }\n",
              "\n",
              "    .dataframe tbody tr th {\n",
              "        vertical-align: top;\n",
              "    }\n",
              "\n",
              "    .dataframe thead th {\n",
              "        text-align: right;\n",
              "    }\n",
              "</style>\n",
              "<table border=\"1\" class=\"dataframe\">\n",
              "  <thead>\n",
              "    <tr style=\"text-align: right;\">\n",
              "      <th></th>\n",
              "      <th>tripduration</th>\n",
              "      <th>starttime</th>\n",
              "      <th>start station latitude</th>\n",
              "      <th>start station longitude</th>\n",
              "      <th>end station latitude</th>\n",
              "      <th>end station longitude</th>\n",
              "      <th>distance</th>\n",
              "      <th>binned duration</th>\n",
              "    </tr>\n",
              "  </thead>\n",
              "  <tbody>\n",
              "    <tr>\n",
              "      <th>0</th>\n",
              "      <td>457</td>\n",
              "      <td>2022-02-01 00:01:22.5160</td>\n",
              "      <td>0.739345</td>\n",
              "      <td>-1.240872</td>\n",
              "      <td>0.739510</td>\n",
              "      <td>-1.241006</td>\n",
              "      <td>1.226403</td>\n",
              "      <td>1</td>\n",
              "    </tr>\n",
              "    <tr>\n",
              "      <th>1</th>\n",
              "      <td>596</td>\n",
              "      <td>2022-02-01 00:01:39.3630</td>\n",
              "      <td>0.739410</td>\n",
              "      <td>-1.240983</td>\n",
              "      <td>0.739281</td>\n",
              "      <td>-1.241076</td>\n",
              "      <td>0.932218</td>\n",
              "      <td>1</td>\n",
              "    </tr>\n",
              "    <tr>\n",
              "      <th>2</th>\n",
              "      <td>927</td>\n",
              "      <td>2022-02-01 00:02:41.5460</td>\n",
              "      <td>0.739228</td>\n",
              "      <td>-1.240112</td>\n",
              "      <td>0.739581</td>\n",
              "      <td>-1.240298</td>\n",
              "      <td>2.412683</td>\n",
              "      <td>3</td>\n",
              "    </tr>\n",
              "    <tr>\n",
              "      <th>3</th>\n",
              "      <td>1541</td>\n",
              "      <td>2022-02-01 00:02:53.7400</td>\n",
              "      <td>0.739345</td>\n",
              "      <td>-1.240872</td>\n",
              "      <td>0.739554</td>\n",
              "      <td>-1.241295</td>\n",
              "      <td>2.398272</td>\n",
              "      <td>5</td>\n",
              "    </tr>\n",
              "    <tr>\n",
              "      <th>4</th>\n",
              "      <td>1165</td>\n",
              "      <td>2022-02-01 00:03:14.9160</td>\n",
              "      <td>0.739102</td>\n",
              "      <td>-1.240698</td>\n",
              "      <td>0.738913</td>\n",
              "      <td>-1.240909</td>\n",
              "      <td>1.560245</td>\n",
              "      <td>3</td>\n",
              "    </tr>\n",
              "    <tr>\n",
              "      <th>...</th>\n",
              "      <td>...</td>\n",
              "      <td>...</td>\n",
              "      <td>...</td>\n",
              "      <td>...</td>\n",
              "      <td>...</td>\n",
              "      <td>...</td>\n",
              "      <td>...</td>\n",
              "      <td>...</td>\n",
              "    </tr>\n",
              "    <tr>\n",
              "      <th>110455</th>\n",
              "      <td>351</td>\n",
              "      <td>2022-02-28 23:59:14.2560</td>\n",
              "      <td>0.739676</td>\n",
              "      <td>-1.241082</td>\n",
              "      <td>0.739553</td>\n",
              "      <td>-1.241253</td>\n",
              "      <td>1.123634</td>\n",
              "      <td>1</td>\n",
              "    </tr>\n",
              "    <tr>\n",
              "      <th>110456</th>\n",
              "      <td>220</td>\n",
              "      <td>2022-02-28 23:59:18.3290</td>\n",
              "      <td>0.739368</td>\n",
              "      <td>-1.240930</td>\n",
              "      <td>0.739365</td>\n",
              "      <td>-1.240723</td>\n",
              "      <td>0.973008</td>\n",
              "      <td>0</td>\n",
              "    </tr>\n",
              "    <tr>\n",
              "      <th>110457</th>\n",
              "      <td>281</td>\n",
              "      <td>2022-02-28 23:59:18.7310</td>\n",
              "      <td>0.739288</td>\n",
              "      <td>-1.240810</td>\n",
              "      <td>0.739245</td>\n",
              "      <td>-1.240998</td>\n",
              "      <td>0.925733</td>\n",
              "      <td>0</td>\n",
              "    </tr>\n",
              "    <tr>\n",
              "      <th>110458</th>\n",
              "      <td>225</td>\n",
              "      <td>2022-02-28 23:59:30.7720</td>\n",
              "      <td>0.739420</td>\n",
              "      <td>-1.240305</td>\n",
              "      <td>0.739404</td>\n",
              "      <td>-1.240220</td>\n",
              "      <td>0.416867</td>\n",
              "      <td>0</td>\n",
              "    </tr>\n",
              "    <tr>\n",
              "      <th>110459</th>\n",
              "      <td>1443</td>\n",
              "      <td>2022-02-28 23:59:46.8630</td>\n",
              "      <td>0.742174</td>\n",
              "      <td>-1.237371</td>\n",
              "      <td>0.741797</td>\n",
              "      <td>-1.237347</td>\n",
              "      <td>2.407440</td>\n",
              "      <td>4</td>\n",
              "    </tr>\n",
              "  </tbody>\n",
              "</table>\n",
              "<p>102162 rows × 8 columns</p>\n",
              "</div>\n",
              "      <button class=\"colab-df-convert\" onclick=\"convertToInteractive('df-95adf4c8-5428-45f9-92f6-1e32156915e9')\"\n",
              "              title=\"Convert this dataframe to an interactive table.\"\n",
              "              style=\"display:none;\">\n",
              "        \n",
              "  <svg xmlns=\"http://www.w3.org/2000/svg\" height=\"24px\"viewBox=\"0 0 24 24\"\n",
              "       width=\"24px\">\n",
              "    <path d=\"M0 0h24v24H0V0z\" fill=\"none\"/>\n",
              "    <path d=\"M18.56 5.44l.94 2.06.94-2.06 2.06-.94-2.06-.94-.94-2.06-.94 2.06-2.06.94zm-11 1L8.5 8.5l.94-2.06 2.06-.94-2.06-.94L8.5 2.5l-.94 2.06-2.06.94zm10 10l.94 2.06.94-2.06 2.06-.94-2.06-.94-.94-2.06-.94 2.06-2.06.94z\"/><path d=\"M17.41 7.96l-1.37-1.37c-.4-.4-.92-.59-1.43-.59-.52 0-1.04.2-1.43.59L10.3 9.45l-7.72 7.72c-.78.78-.78 2.05 0 2.83L4 21.41c.39.39.9.59 1.41.59.51 0 1.02-.2 1.41-.59l7.78-7.78 2.81-2.81c.8-.78.8-2.07 0-2.86zM5.41 20L4 18.59l7.72-7.72 1.47 1.35L5.41 20z\"/>\n",
              "  </svg>\n",
              "      </button>\n",
              "      \n",
              "  <style>\n",
              "    .colab-df-container {\n",
              "      display:flex;\n",
              "      flex-wrap:wrap;\n",
              "      gap: 12px;\n",
              "    }\n",
              "\n",
              "    .colab-df-convert {\n",
              "      background-color: #E8F0FE;\n",
              "      border: none;\n",
              "      border-radius: 50%;\n",
              "      cursor: pointer;\n",
              "      display: none;\n",
              "      fill: #1967D2;\n",
              "      height: 32px;\n",
              "      padding: 0 0 0 0;\n",
              "      width: 32px;\n",
              "    }\n",
              "\n",
              "    .colab-df-convert:hover {\n",
              "      background-color: #E2EBFA;\n",
              "      box-shadow: 0px 1px 2px rgba(60, 64, 67, 0.3), 0px 1px 3px 1px rgba(60, 64, 67, 0.15);\n",
              "      fill: #174EA6;\n",
              "    }\n",
              "\n",
              "    [theme=dark] .colab-df-convert {\n",
              "      background-color: #3B4455;\n",
              "      fill: #D2E3FC;\n",
              "    }\n",
              "\n",
              "    [theme=dark] .colab-df-convert:hover {\n",
              "      background-color: #434B5C;\n",
              "      box-shadow: 0px 1px 3px 1px rgba(0, 0, 0, 0.15);\n",
              "      filter: drop-shadow(0px 1px 2px rgba(0, 0, 0, 0.3));\n",
              "      fill: #FFFFFF;\n",
              "    }\n",
              "  </style>\n",
              "\n",
              "      <script>\n",
              "        const buttonEl =\n",
              "          document.querySelector('#df-95adf4c8-5428-45f9-92f6-1e32156915e9 button.colab-df-convert');\n",
              "        buttonEl.style.display =\n",
              "          google.colab.kernel.accessAllowed ? 'block' : 'none';\n",
              "\n",
              "        async function convertToInteractive(key) {\n",
              "          const element = document.querySelector('#df-95adf4c8-5428-45f9-92f6-1e32156915e9');\n",
              "          const dataTable =\n",
              "            await google.colab.kernel.invokeFunction('convertToInteractive',\n",
              "                                                     [key], {});\n",
              "          if (!dataTable) return;\n",
              "\n",
              "          const docLinkHtml = 'Like what you see? Visit the ' +\n",
              "            '<a target=\"_blank\" href=https://colab.research.google.com/notebooks/data_table.ipynb>data table notebook</a>'\n",
              "            + ' to learn more about interactive tables.';\n",
              "          element.innerHTML = '';\n",
              "          dataTable['output_type'] = 'display_data';\n",
              "          await google.colab.output.renderOutput(dataTable, element);\n",
              "          const docLink = document.createElement('div');\n",
              "          docLink.innerHTML = docLinkHtml;\n",
              "          element.appendChild(docLink);\n",
              "        }\n",
              "      </script>\n",
              "    </div>\n",
              "  </div>\n",
              "  "
            ]
          },
          "metadata": {},
          "execution_count": 39
        }
      ]
    },
    {
      "cell_type": "code",
      "source": [
        "trip_histories['starttime'] = pd.to_datetime(trip_histories['starttime']).dt.time"
      ],
      "metadata": {
        "id": "vP1g3MKy7bT5"
      },
      "execution_count": 40,
      "outputs": []
    },
    {
      "cell_type": "code",
      "source": [
        "trip_histories"
      ],
      "metadata": {
        "colab": {
          "base_uri": "https://localhost:8080/",
          "height": 424
        },
        "id": "T5T9uGSR7n7Z",
        "outputId": "9edc406e-40e4-433f-aad8-0bb4bd46ecfd"
      },
      "execution_count": 41,
      "outputs": [
        {
          "output_type": "execute_result",
          "data": {
            "text/plain": [
              "        tripduration        starttime  start station latitude  \\\n",
              "0                457  00:01:22.516000                0.739345   \n",
              "1                596  00:01:39.363000                0.739410   \n",
              "2                927  00:02:41.546000                0.739228   \n",
              "3               1541  00:02:53.740000                0.739345   \n",
              "4               1165  00:03:14.916000                0.739102   \n",
              "...              ...              ...                     ...   \n",
              "110455           351  23:59:14.256000                0.739676   \n",
              "110456           220  23:59:18.329000                0.739368   \n",
              "110457           281  23:59:18.731000                0.739288   \n",
              "110458           225  23:59:30.772000                0.739420   \n",
              "110459          1443  23:59:46.863000                0.742174   \n",
              "\n",
              "        start station longitude  end station latitude  end station longitude  \\\n",
              "0                     -1.240872              0.739510              -1.241006   \n",
              "1                     -1.240983              0.739281              -1.241076   \n",
              "2                     -1.240112              0.739581              -1.240298   \n",
              "3                     -1.240872              0.739554              -1.241295   \n",
              "4                     -1.240698              0.738913              -1.240909   \n",
              "...                         ...                   ...                    ...   \n",
              "110455                -1.241082              0.739553              -1.241253   \n",
              "110456                -1.240930              0.739365              -1.240723   \n",
              "110457                -1.240810              0.739245              -1.240998   \n",
              "110458                -1.240305              0.739404              -1.240220   \n",
              "110459                -1.237371              0.741797              -1.237347   \n",
              "\n",
              "        distance binned duration  \n",
              "0       1.226403               1  \n",
              "1       0.932218               1  \n",
              "2       2.412683               3  \n",
              "3       2.398272               5  \n",
              "4       1.560245               3  \n",
              "...          ...             ...  \n",
              "110455  1.123634               1  \n",
              "110456  0.973008               0  \n",
              "110457  0.925733               0  \n",
              "110458  0.416867               0  \n",
              "110459  2.407440               4  \n",
              "\n",
              "[102162 rows x 8 columns]"
            ],
            "text/html": [
              "\n",
              "  <div id=\"df-499cf8dc-9e94-45dd-894d-20ca8f34a59a\">\n",
              "    <div class=\"colab-df-container\">\n",
              "      <div>\n",
              "<style scoped>\n",
              "    .dataframe tbody tr th:only-of-type {\n",
              "        vertical-align: middle;\n",
              "    }\n",
              "\n",
              "    .dataframe tbody tr th {\n",
              "        vertical-align: top;\n",
              "    }\n",
              "\n",
              "    .dataframe thead th {\n",
              "        text-align: right;\n",
              "    }\n",
              "</style>\n",
              "<table border=\"1\" class=\"dataframe\">\n",
              "  <thead>\n",
              "    <tr style=\"text-align: right;\">\n",
              "      <th></th>\n",
              "      <th>tripduration</th>\n",
              "      <th>starttime</th>\n",
              "      <th>start station latitude</th>\n",
              "      <th>start station longitude</th>\n",
              "      <th>end station latitude</th>\n",
              "      <th>end station longitude</th>\n",
              "      <th>distance</th>\n",
              "      <th>binned duration</th>\n",
              "    </tr>\n",
              "  </thead>\n",
              "  <tbody>\n",
              "    <tr>\n",
              "      <th>0</th>\n",
              "      <td>457</td>\n",
              "      <td>00:01:22.516000</td>\n",
              "      <td>0.739345</td>\n",
              "      <td>-1.240872</td>\n",
              "      <td>0.739510</td>\n",
              "      <td>-1.241006</td>\n",
              "      <td>1.226403</td>\n",
              "      <td>1</td>\n",
              "    </tr>\n",
              "    <tr>\n",
              "      <th>1</th>\n",
              "      <td>596</td>\n",
              "      <td>00:01:39.363000</td>\n",
              "      <td>0.739410</td>\n",
              "      <td>-1.240983</td>\n",
              "      <td>0.739281</td>\n",
              "      <td>-1.241076</td>\n",
              "      <td>0.932218</td>\n",
              "      <td>1</td>\n",
              "    </tr>\n",
              "    <tr>\n",
              "      <th>2</th>\n",
              "      <td>927</td>\n",
              "      <td>00:02:41.546000</td>\n",
              "      <td>0.739228</td>\n",
              "      <td>-1.240112</td>\n",
              "      <td>0.739581</td>\n",
              "      <td>-1.240298</td>\n",
              "      <td>2.412683</td>\n",
              "      <td>3</td>\n",
              "    </tr>\n",
              "    <tr>\n",
              "      <th>3</th>\n",
              "      <td>1541</td>\n",
              "      <td>00:02:53.740000</td>\n",
              "      <td>0.739345</td>\n",
              "      <td>-1.240872</td>\n",
              "      <td>0.739554</td>\n",
              "      <td>-1.241295</td>\n",
              "      <td>2.398272</td>\n",
              "      <td>5</td>\n",
              "    </tr>\n",
              "    <tr>\n",
              "      <th>4</th>\n",
              "      <td>1165</td>\n",
              "      <td>00:03:14.916000</td>\n",
              "      <td>0.739102</td>\n",
              "      <td>-1.240698</td>\n",
              "      <td>0.738913</td>\n",
              "      <td>-1.240909</td>\n",
              "      <td>1.560245</td>\n",
              "      <td>3</td>\n",
              "    </tr>\n",
              "    <tr>\n",
              "      <th>...</th>\n",
              "      <td>...</td>\n",
              "      <td>...</td>\n",
              "      <td>...</td>\n",
              "      <td>...</td>\n",
              "      <td>...</td>\n",
              "      <td>...</td>\n",
              "      <td>...</td>\n",
              "      <td>...</td>\n",
              "    </tr>\n",
              "    <tr>\n",
              "      <th>110455</th>\n",
              "      <td>351</td>\n",
              "      <td>23:59:14.256000</td>\n",
              "      <td>0.739676</td>\n",
              "      <td>-1.241082</td>\n",
              "      <td>0.739553</td>\n",
              "      <td>-1.241253</td>\n",
              "      <td>1.123634</td>\n",
              "      <td>1</td>\n",
              "    </tr>\n",
              "    <tr>\n",
              "      <th>110456</th>\n",
              "      <td>220</td>\n",
              "      <td>23:59:18.329000</td>\n",
              "      <td>0.739368</td>\n",
              "      <td>-1.240930</td>\n",
              "      <td>0.739365</td>\n",
              "      <td>-1.240723</td>\n",
              "      <td>0.973008</td>\n",
              "      <td>0</td>\n",
              "    </tr>\n",
              "    <tr>\n",
              "      <th>110457</th>\n",
              "      <td>281</td>\n",
              "      <td>23:59:18.731000</td>\n",
              "      <td>0.739288</td>\n",
              "      <td>-1.240810</td>\n",
              "      <td>0.739245</td>\n",
              "      <td>-1.240998</td>\n",
              "      <td>0.925733</td>\n",
              "      <td>0</td>\n",
              "    </tr>\n",
              "    <tr>\n",
              "      <th>110458</th>\n",
              "      <td>225</td>\n",
              "      <td>23:59:30.772000</td>\n",
              "      <td>0.739420</td>\n",
              "      <td>-1.240305</td>\n",
              "      <td>0.739404</td>\n",
              "      <td>-1.240220</td>\n",
              "      <td>0.416867</td>\n",
              "      <td>0</td>\n",
              "    </tr>\n",
              "    <tr>\n",
              "      <th>110459</th>\n",
              "      <td>1443</td>\n",
              "      <td>23:59:46.863000</td>\n",
              "      <td>0.742174</td>\n",
              "      <td>-1.237371</td>\n",
              "      <td>0.741797</td>\n",
              "      <td>-1.237347</td>\n",
              "      <td>2.407440</td>\n",
              "      <td>4</td>\n",
              "    </tr>\n",
              "  </tbody>\n",
              "</table>\n",
              "<p>102162 rows × 8 columns</p>\n",
              "</div>\n",
              "      <button class=\"colab-df-convert\" onclick=\"convertToInteractive('df-499cf8dc-9e94-45dd-894d-20ca8f34a59a')\"\n",
              "              title=\"Convert this dataframe to an interactive table.\"\n",
              "              style=\"display:none;\">\n",
              "        \n",
              "  <svg xmlns=\"http://www.w3.org/2000/svg\" height=\"24px\"viewBox=\"0 0 24 24\"\n",
              "       width=\"24px\">\n",
              "    <path d=\"M0 0h24v24H0V0z\" fill=\"none\"/>\n",
              "    <path d=\"M18.56 5.44l.94 2.06.94-2.06 2.06-.94-2.06-.94-.94-2.06-.94 2.06-2.06.94zm-11 1L8.5 8.5l.94-2.06 2.06-.94-2.06-.94L8.5 2.5l-.94 2.06-2.06.94zm10 10l.94 2.06.94-2.06 2.06-.94-2.06-.94-.94-2.06-.94 2.06-2.06.94z\"/><path d=\"M17.41 7.96l-1.37-1.37c-.4-.4-.92-.59-1.43-.59-.52 0-1.04.2-1.43.59L10.3 9.45l-7.72 7.72c-.78.78-.78 2.05 0 2.83L4 21.41c.39.39.9.59 1.41.59.51 0 1.02-.2 1.41-.59l7.78-7.78 2.81-2.81c.8-.78.8-2.07 0-2.86zM5.41 20L4 18.59l7.72-7.72 1.47 1.35L5.41 20z\"/>\n",
              "  </svg>\n",
              "      </button>\n",
              "      \n",
              "  <style>\n",
              "    .colab-df-container {\n",
              "      display:flex;\n",
              "      flex-wrap:wrap;\n",
              "      gap: 12px;\n",
              "    }\n",
              "\n",
              "    .colab-df-convert {\n",
              "      background-color: #E8F0FE;\n",
              "      border: none;\n",
              "      border-radius: 50%;\n",
              "      cursor: pointer;\n",
              "      display: none;\n",
              "      fill: #1967D2;\n",
              "      height: 32px;\n",
              "      padding: 0 0 0 0;\n",
              "      width: 32px;\n",
              "    }\n",
              "\n",
              "    .colab-df-convert:hover {\n",
              "      background-color: #E2EBFA;\n",
              "      box-shadow: 0px 1px 2px rgba(60, 64, 67, 0.3), 0px 1px 3px 1px rgba(60, 64, 67, 0.15);\n",
              "      fill: #174EA6;\n",
              "    }\n",
              "\n",
              "    [theme=dark] .colab-df-convert {\n",
              "      background-color: #3B4455;\n",
              "      fill: #D2E3FC;\n",
              "    }\n",
              "\n",
              "    [theme=dark] .colab-df-convert:hover {\n",
              "      background-color: #434B5C;\n",
              "      box-shadow: 0px 1px 3px 1px rgba(0, 0, 0, 0.15);\n",
              "      filter: drop-shadow(0px 1px 2px rgba(0, 0, 0, 0.3));\n",
              "      fill: #FFFFFF;\n",
              "    }\n",
              "  </style>\n",
              "\n",
              "      <script>\n",
              "        const buttonEl =\n",
              "          document.querySelector('#df-499cf8dc-9e94-45dd-894d-20ca8f34a59a button.colab-df-convert');\n",
              "        buttonEl.style.display =\n",
              "          google.colab.kernel.accessAllowed ? 'block' : 'none';\n",
              "\n",
              "        async function convertToInteractive(key) {\n",
              "          const element = document.querySelector('#df-499cf8dc-9e94-45dd-894d-20ca8f34a59a');\n",
              "          const dataTable =\n",
              "            await google.colab.kernel.invokeFunction('convertToInteractive',\n",
              "                                                     [key], {});\n",
              "          if (!dataTable) return;\n",
              "\n",
              "          const docLinkHtml = 'Like what you see? Visit the ' +\n",
              "            '<a target=\"_blank\" href=https://colab.research.google.com/notebooks/data_table.ipynb>data table notebook</a>'\n",
              "            + ' to learn more about interactive tables.';\n",
              "          element.innerHTML = '';\n",
              "          dataTable['output_type'] = 'display_data';\n",
              "          await google.colab.output.renderOutput(dataTable, element);\n",
              "          const docLink = document.createElement('div');\n",
              "          docLink.innerHTML = docLinkHtml;\n",
              "          element.appendChild(docLink);\n",
              "        }\n",
              "      </script>\n",
              "    </div>\n",
              "  </div>\n",
              "  "
            ]
          },
          "metadata": {},
          "execution_count": 41
        }
      ]
    },
    {
      "cell_type": "code",
      "source": [
        "trip_histories['starttime'] = trip_histories.apply(lambda row: int(str(row['starttime'])[0:2]), axis=1)"
      ],
      "metadata": {
        "id": "4bSgF6lh8MOr"
      },
      "execution_count": 42,
      "outputs": []
    },
    {
      "cell_type": "code",
      "source": [
        "trip_histories"
      ],
      "metadata": {
        "colab": {
          "base_uri": "https://localhost:8080/",
          "height": 424
        },
        "id": "FJF4s6x398YH",
        "outputId": "061a2b6c-2ad5-4923-9994-8753efb7f239"
      },
      "execution_count": 43,
      "outputs": [
        {
          "output_type": "execute_result",
          "data": {
            "text/plain": [
              "        tripduration  starttime  start station latitude  \\\n",
              "0                457          0                0.739345   \n",
              "1                596          0                0.739410   \n",
              "2                927          0                0.739228   \n",
              "3               1541          0                0.739345   \n",
              "4               1165          0                0.739102   \n",
              "...              ...        ...                     ...   \n",
              "110455           351         23                0.739676   \n",
              "110456           220         23                0.739368   \n",
              "110457           281         23                0.739288   \n",
              "110458           225         23                0.739420   \n",
              "110459          1443         23                0.742174   \n",
              "\n",
              "        start station longitude  end station latitude  end station longitude  \\\n",
              "0                     -1.240872              0.739510              -1.241006   \n",
              "1                     -1.240983              0.739281              -1.241076   \n",
              "2                     -1.240112              0.739581              -1.240298   \n",
              "3                     -1.240872              0.739554              -1.241295   \n",
              "4                     -1.240698              0.738913              -1.240909   \n",
              "...                         ...                   ...                    ...   \n",
              "110455                -1.241082              0.739553              -1.241253   \n",
              "110456                -1.240930              0.739365              -1.240723   \n",
              "110457                -1.240810              0.739245              -1.240998   \n",
              "110458                -1.240305              0.739404              -1.240220   \n",
              "110459                -1.237371              0.741797              -1.237347   \n",
              "\n",
              "        distance binned duration  \n",
              "0       1.226403               1  \n",
              "1       0.932218               1  \n",
              "2       2.412683               3  \n",
              "3       2.398272               5  \n",
              "4       1.560245               3  \n",
              "...          ...             ...  \n",
              "110455  1.123634               1  \n",
              "110456  0.973008               0  \n",
              "110457  0.925733               0  \n",
              "110458  0.416867               0  \n",
              "110459  2.407440               4  \n",
              "\n",
              "[102162 rows x 8 columns]"
            ],
            "text/html": [
              "\n",
              "  <div id=\"df-beb46f98-e908-46fe-9f2b-6cc48307cbe4\">\n",
              "    <div class=\"colab-df-container\">\n",
              "      <div>\n",
              "<style scoped>\n",
              "    .dataframe tbody tr th:only-of-type {\n",
              "        vertical-align: middle;\n",
              "    }\n",
              "\n",
              "    .dataframe tbody tr th {\n",
              "        vertical-align: top;\n",
              "    }\n",
              "\n",
              "    .dataframe thead th {\n",
              "        text-align: right;\n",
              "    }\n",
              "</style>\n",
              "<table border=\"1\" class=\"dataframe\">\n",
              "  <thead>\n",
              "    <tr style=\"text-align: right;\">\n",
              "      <th></th>\n",
              "      <th>tripduration</th>\n",
              "      <th>starttime</th>\n",
              "      <th>start station latitude</th>\n",
              "      <th>start station longitude</th>\n",
              "      <th>end station latitude</th>\n",
              "      <th>end station longitude</th>\n",
              "      <th>distance</th>\n",
              "      <th>binned duration</th>\n",
              "    </tr>\n",
              "  </thead>\n",
              "  <tbody>\n",
              "    <tr>\n",
              "      <th>0</th>\n",
              "      <td>457</td>\n",
              "      <td>0</td>\n",
              "      <td>0.739345</td>\n",
              "      <td>-1.240872</td>\n",
              "      <td>0.739510</td>\n",
              "      <td>-1.241006</td>\n",
              "      <td>1.226403</td>\n",
              "      <td>1</td>\n",
              "    </tr>\n",
              "    <tr>\n",
              "      <th>1</th>\n",
              "      <td>596</td>\n",
              "      <td>0</td>\n",
              "      <td>0.739410</td>\n",
              "      <td>-1.240983</td>\n",
              "      <td>0.739281</td>\n",
              "      <td>-1.241076</td>\n",
              "      <td>0.932218</td>\n",
              "      <td>1</td>\n",
              "    </tr>\n",
              "    <tr>\n",
              "      <th>2</th>\n",
              "      <td>927</td>\n",
              "      <td>0</td>\n",
              "      <td>0.739228</td>\n",
              "      <td>-1.240112</td>\n",
              "      <td>0.739581</td>\n",
              "      <td>-1.240298</td>\n",
              "      <td>2.412683</td>\n",
              "      <td>3</td>\n",
              "    </tr>\n",
              "    <tr>\n",
              "      <th>3</th>\n",
              "      <td>1541</td>\n",
              "      <td>0</td>\n",
              "      <td>0.739345</td>\n",
              "      <td>-1.240872</td>\n",
              "      <td>0.739554</td>\n",
              "      <td>-1.241295</td>\n",
              "      <td>2.398272</td>\n",
              "      <td>5</td>\n",
              "    </tr>\n",
              "    <tr>\n",
              "      <th>4</th>\n",
              "      <td>1165</td>\n",
              "      <td>0</td>\n",
              "      <td>0.739102</td>\n",
              "      <td>-1.240698</td>\n",
              "      <td>0.738913</td>\n",
              "      <td>-1.240909</td>\n",
              "      <td>1.560245</td>\n",
              "      <td>3</td>\n",
              "    </tr>\n",
              "    <tr>\n",
              "      <th>...</th>\n",
              "      <td>...</td>\n",
              "      <td>...</td>\n",
              "      <td>...</td>\n",
              "      <td>...</td>\n",
              "      <td>...</td>\n",
              "      <td>...</td>\n",
              "      <td>...</td>\n",
              "      <td>...</td>\n",
              "    </tr>\n",
              "    <tr>\n",
              "      <th>110455</th>\n",
              "      <td>351</td>\n",
              "      <td>23</td>\n",
              "      <td>0.739676</td>\n",
              "      <td>-1.241082</td>\n",
              "      <td>0.739553</td>\n",
              "      <td>-1.241253</td>\n",
              "      <td>1.123634</td>\n",
              "      <td>1</td>\n",
              "    </tr>\n",
              "    <tr>\n",
              "      <th>110456</th>\n",
              "      <td>220</td>\n",
              "      <td>23</td>\n",
              "      <td>0.739368</td>\n",
              "      <td>-1.240930</td>\n",
              "      <td>0.739365</td>\n",
              "      <td>-1.240723</td>\n",
              "      <td>0.973008</td>\n",
              "      <td>0</td>\n",
              "    </tr>\n",
              "    <tr>\n",
              "      <th>110457</th>\n",
              "      <td>281</td>\n",
              "      <td>23</td>\n",
              "      <td>0.739288</td>\n",
              "      <td>-1.240810</td>\n",
              "      <td>0.739245</td>\n",
              "      <td>-1.240998</td>\n",
              "      <td>0.925733</td>\n",
              "      <td>0</td>\n",
              "    </tr>\n",
              "    <tr>\n",
              "      <th>110458</th>\n",
              "      <td>225</td>\n",
              "      <td>23</td>\n",
              "      <td>0.739420</td>\n",
              "      <td>-1.240305</td>\n",
              "      <td>0.739404</td>\n",
              "      <td>-1.240220</td>\n",
              "      <td>0.416867</td>\n",
              "      <td>0</td>\n",
              "    </tr>\n",
              "    <tr>\n",
              "      <th>110459</th>\n",
              "      <td>1443</td>\n",
              "      <td>23</td>\n",
              "      <td>0.742174</td>\n",
              "      <td>-1.237371</td>\n",
              "      <td>0.741797</td>\n",
              "      <td>-1.237347</td>\n",
              "      <td>2.407440</td>\n",
              "      <td>4</td>\n",
              "    </tr>\n",
              "  </tbody>\n",
              "</table>\n",
              "<p>102162 rows × 8 columns</p>\n",
              "</div>\n",
              "      <button class=\"colab-df-convert\" onclick=\"convertToInteractive('df-beb46f98-e908-46fe-9f2b-6cc48307cbe4')\"\n",
              "              title=\"Convert this dataframe to an interactive table.\"\n",
              "              style=\"display:none;\">\n",
              "        \n",
              "  <svg xmlns=\"http://www.w3.org/2000/svg\" height=\"24px\"viewBox=\"0 0 24 24\"\n",
              "       width=\"24px\">\n",
              "    <path d=\"M0 0h24v24H0V0z\" fill=\"none\"/>\n",
              "    <path d=\"M18.56 5.44l.94 2.06.94-2.06 2.06-.94-2.06-.94-.94-2.06-.94 2.06-2.06.94zm-11 1L8.5 8.5l.94-2.06 2.06-.94-2.06-.94L8.5 2.5l-.94 2.06-2.06.94zm10 10l.94 2.06.94-2.06 2.06-.94-2.06-.94-.94-2.06-.94 2.06-2.06.94z\"/><path d=\"M17.41 7.96l-1.37-1.37c-.4-.4-.92-.59-1.43-.59-.52 0-1.04.2-1.43.59L10.3 9.45l-7.72 7.72c-.78.78-.78 2.05 0 2.83L4 21.41c.39.39.9.59 1.41.59.51 0 1.02-.2 1.41-.59l7.78-7.78 2.81-2.81c.8-.78.8-2.07 0-2.86zM5.41 20L4 18.59l7.72-7.72 1.47 1.35L5.41 20z\"/>\n",
              "  </svg>\n",
              "      </button>\n",
              "      \n",
              "  <style>\n",
              "    .colab-df-container {\n",
              "      display:flex;\n",
              "      flex-wrap:wrap;\n",
              "      gap: 12px;\n",
              "    }\n",
              "\n",
              "    .colab-df-convert {\n",
              "      background-color: #E8F0FE;\n",
              "      border: none;\n",
              "      border-radius: 50%;\n",
              "      cursor: pointer;\n",
              "      display: none;\n",
              "      fill: #1967D2;\n",
              "      height: 32px;\n",
              "      padding: 0 0 0 0;\n",
              "      width: 32px;\n",
              "    }\n",
              "\n",
              "    .colab-df-convert:hover {\n",
              "      background-color: #E2EBFA;\n",
              "      box-shadow: 0px 1px 2px rgba(60, 64, 67, 0.3), 0px 1px 3px 1px rgba(60, 64, 67, 0.15);\n",
              "      fill: #174EA6;\n",
              "    }\n",
              "\n",
              "    [theme=dark] .colab-df-convert {\n",
              "      background-color: #3B4455;\n",
              "      fill: #D2E3FC;\n",
              "    }\n",
              "\n",
              "    [theme=dark] .colab-df-convert:hover {\n",
              "      background-color: #434B5C;\n",
              "      box-shadow: 0px 1px 3px 1px rgba(0, 0, 0, 0.15);\n",
              "      filter: drop-shadow(0px 1px 2px rgba(0, 0, 0, 0.3));\n",
              "      fill: #FFFFFF;\n",
              "    }\n",
              "  </style>\n",
              "\n",
              "      <script>\n",
              "        const buttonEl =\n",
              "          document.querySelector('#df-beb46f98-e908-46fe-9f2b-6cc48307cbe4 button.colab-df-convert');\n",
              "        buttonEl.style.display =\n",
              "          google.colab.kernel.accessAllowed ? 'block' : 'none';\n",
              "\n",
              "        async function convertToInteractive(key) {\n",
              "          const element = document.querySelector('#df-beb46f98-e908-46fe-9f2b-6cc48307cbe4');\n",
              "          const dataTable =\n",
              "            await google.colab.kernel.invokeFunction('convertToInteractive',\n",
              "                                                     [key], {});\n",
              "          if (!dataTable) return;\n",
              "\n",
              "          const docLinkHtml = 'Like what you see? Visit the ' +\n",
              "            '<a target=\"_blank\" href=https://colab.research.google.com/notebooks/data_table.ipynb>data table notebook</a>'\n",
              "            + ' to learn more about interactive tables.';\n",
              "          element.innerHTML = '';\n",
              "          dataTable['output_type'] = 'display_data';\n",
              "          await google.colab.output.renderOutput(dataTable, element);\n",
              "          const docLink = document.createElement('div');\n",
              "          docLink.innerHTML = docLinkHtml;\n",
              "          element.appendChild(docLink);\n",
              "        }\n",
              "      </script>\n",
              "    </div>\n",
              "  </div>\n",
              "  "
            ]
          },
          "metadata": {},
          "execution_count": 43
        }
      ]
    }
  ],
  "metadata": {
    "colab": {
      "name": "BlueBikes.ipynb",
      "provenance": [],
      "collapsed_sections": []
    },
    "kernelspec": {
      "display_name": "Python 3",
      "name": "python3"
    },
    "language_info": {
      "name": "python"
    }
  },
  "nbformat": 4,
  "nbformat_minor": 0
}