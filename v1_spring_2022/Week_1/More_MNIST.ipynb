{
 "cells": [
  {
   "cell_type": "code",
   "execution_count": 7,
   "id": "54f79f47",
   "metadata": {
    "id": "54f79f47"
   },
   "outputs": [],
   "source": [
    "import math\n",
    "import numpy as np\n",
    "import matplotlib.pyplot as plt\n",
    "import tensorflow as tf\n",
    "from tensorflow import keras\n",
    "from tensorflow.keras import layers\n",
    "from tensorflow.keras.datasets import mnist\n",
    "from sklearn.utils import shuffle"
   ]
  },
  {
   "cell_type": "markdown",
   "id": "8c5610a6",
   "metadata": {
    "id": "8c5610a6"
   },
   "source": [
    "# Crooked coin toss"
   ]
  },
  {
   "cell_type": "code",
   "execution_count": 8,
   "id": "4220d8f8",
   "metadata": {
    "id": "4220d8f8"
   },
   "outputs": [],
   "source": [
    "def crooked_coin_toss(crooked_param = 0.0, num_tosses=10000):\n",
    "    rng = np.random.default_rng()\n",
    "    p_heads = 0.5 - crooked_param\n",
    "    p_tails = 0.5 + crooked_param\n",
    "    return rng.choice(2, 10000, p=[p_heads,p_tails])"
   ]
  },
  {
   "cell_type": "code",
   "execution_count": 9,
   "id": "27fd689e",
   "metadata": {
    "colab": {
     "base_uri": "https://localhost:8080/",
     "height": 300
    },
    "id": "27fd689e",
    "outputId": "e4a6f682-159c-4830-eac0-87d8715402f5"
   },
   "outputs": [
    {
     "name": "stdout",
     "output_type": "stream",
     "text": [
      "0.904\n"
     ]
    },
    {
     "data": {
      "text/plain": [
       "[<matplotlib.lines.Line2D at 0x7fca7b279210>]"
      ]
     },
     "execution_count": 9,
     "metadata": {},
     "output_type": "execute_result"
    },
    {
     "data": {
      "image/png": "[encoded data removed]",
      "text/plain": [
       "<Figure size 432x288 with 1 Axes>"
      ]
     },
     "metadata": {
      "needs_background": "light"
     },
     "output_type": "display_data"
    }
   ],
   "source": [
    "crooked = -0.4\n",
    "sample_size = 10000\n",
    "\n",
    "samples = crooked_coin_toss(crooked, sample_size)\n",
    "x_s = np.arange(201)/200 - 0.5\n",
    "y_s = []\n",
    "for x in x_s:\n",
    "    y_s.append(np.average( samples == crooked_coin_toss(x, sample_size)))\n",
    "\n",
    "print(max(y_s))\n",
    "plt.plot(x_s, y_s, 'bo')"
   ]
  },
  {
   "cell_type": "markdown",
   "id": "1e2d0b77",
   "metadata": {
    "id": "1e2d0b77"
   },
   "source": [
    "## Uneven distribution of classes"
   ]
  },
  {
   "cell_type": "code",
   "execution_count": 10,
   "id": "dc7844dd",
   "metadata": {
    "id": "dc7844dd"
   },
   "outputs": [],
   "source": [
    "def uneven_dist(p, num_classes = 10, num_samples=10000):\n",
    "    rng = np.random.default_rng()\n",
    "    return rng.choice(num_classes, num_samples, p)"
   ]
  },
  {
   "cell_type": "code",
   "execution_count": 11,
   "id": "5b2e3c37",
   "metadata": {
    "colab": {
     "base_uri": "https://localhost:8080/"
    },
    "id": "5b2e3c37",
    "outputId": "4de1a977-ef54-43aa-9fbc-d861ff98564f"
   },
   "outputs": [
    {
     "data": {
      "text/plain": [
       "0.0995"
      ]
     },
     "execution_count": 11,
     "metadata": {},
     "output_type": "execute_result"
    }
   ],
   "source": [
    "p_s = np.random.randint(100, size = 10)\n",
    "p_s = list(p_s / p_s.sum())\n",
    "\n",
    "samples = uneven_dist(p_s, 10, 10000)\n",
    "np.average( samples == uneven_dist(p_s, 10, 10000))"
   ]
  },
  {
   "cell_type": "markdown",
   "id": "a390d1a1",
   "metadata": {
    "id": "a390d1a1"
   },
   "source": [
    "# Subclassing"
   ]
  },
  {
   "cell_type": "markdown",
   "id": "ATkYp9spFHM6",
   "metadata": {
    "id": "ATkYp9spFHM6"
   },
   "source": [
    "Let us revisit the toy example we discussed earlier, namely binary classification with manual feature selection."
   ]
  },
  {
   "cell_type": "code",
   "execution_count": 12,
   "id": "506a1959",
   "metadata": {
    "colab": {
     "base_uri": "https://localhost:8080/"
    },
    "id": "506a1959",
    "outputId": "ac79a327-27d1-4c3a-959d-8d1fcb88a8cd"
   },
   "outputs": [
    {
     "name": "stdout",
     "output_type": "stream",
     "text": [
      "Downloading data from https://storage.googleapis.com/tensorflow/tf-keras-datasets/mnist.npz\n",
      "11493376/11490434 [==============================] - 0s 0us/step\n",
      "11501568/11490434 [==============================] - 0s 0us/step\n"
     ]
    }
   ],
   "source": [
    "(train_images, train_labels), (test_images, test_labels) = mnist.load_data()\n",
    "\n",
    "def digit_indices(digit, labels = train_labels):\n",
    "    return np.where(labels==digit)\n",
    "\n",
    "def average_digit_image(digit, images = train_images, labels = train_labels):\n",
    "    return np.average(images[digit_indices(labels, digit)],axis=0)\n",
    "\n",
    "average_digits = np.array([average_digit_image(i) for i in range(10)]).reshape((10,28*28))\n",
    "average_digits = average_digits.astype(\"float32\") / 255\n",
    "train_images = train_images.reshape((60000, 28 * 28))\n",
    "train_images = train_images.astype(\"float32\") / 255\n",
    "test_images = test_images.reshape((10000, 28 * 28))\n",
    "test_images = test_images.astype(\"float32\") / 255"
   ]
  },
  {
   "cell_type": "code",
   "execution_count": 13,
   "id": "kihGKVAPo25P",
   "metadata": {
    "colab": {
     "base_uri": "https://localhost:8080/",
     "height": 369
    },
    "id": "kihGKVAPo25P",
    "outputId": "50a4a0e6-bf11-4d8c-c5cb-6a11ff470c92"
   },
   "outputs": [
    {
     "data": {
      "image/png": "[encoded data removed]",
      "text/plain": [
       "<IPython.core.display.Image object>"
      ]
     },
     "execution_count": 13,
     "metadata": {},
     "output_type": "execute_result"
    }
   ],
   "source": [
    "is9_input = layers.Input(shape=28*28)\n",
    "is9_layer_ze = layers.Dense(1, trainable=False)(is9_input)\n",
    "is9_layer_bt = layers.Dense(1, trainable=False)(is9_input)\n",
    "is9_layer_at = layers.Dense(1, trainable=False)(is9_input)\n",
    "is9_layer_cc = layers.Concatenate(axis=1)([is9_layer_ze, is9_layer_bt, is9_layer_at])\n",
    "is9_output = layers.Dense(1, activation=\"sigmoid\")(is9_layer_cc)\n",
    "\n",
    "is9_model = keras.Model(inputs = is9_input,\n",
    "                        outputs = is9_output,\n",
    "                        name=\"is9\")\n",
    "\n",
    "is9_model.compile(optimizer=\"rmsprop\",\n",
    "              loss=\"binary_crossentropy\",\n",
    "              metrics=[\"binary_accuracy\"])\n",
    "\n",
    "keras.utils.plot_model(is9_model, \"MNIST_with_binary_classifiers9.png\")"
   ]
  },
  {
   "cell_type": "code",
   "execution_count": 14,
   "id": "ekvAPFjy4Ln7",
   "metadata": {
    "id": "ekvAPFjy4Ln7"
   },
   "outputs": [],
   "source": [
    "mask9 = np.zeros((28*28, 3), dtype=\"float32\")\n",
    "\n",
    "for i in range(28*28):\n",
    "    if average_digits[9, i] == 0:\n",
    "        mask9[i, 0] += 1\n",
    "    elif average_digits[9, i] <= 0.5:\n",
    "        mask9[i, 1] += 1\n",
    "    else:\n",
    "        mask9[i, 2] += 1\n",
    "\n",
    "for i in range(3):\n",
    "    is9_model.layers[i+1].set_weights([mask9[:,i].reshape((-1,1)), \n",
    "                                       np.zeros(shape=(1,), dtype=\"float32\")])\n",
    "\n",
    "#is9_model.save_weights('is9_model_weights.h5')"
   ]
  },
  {
   "cell_type": "code",
   "execution_count": 15,
   "id": "qVXIztnN240c",
   "metadata": {
    "colab": {
     "base_uri": "https://localhost:8080/"
    },
    "id": "qVXIztnN240c",
    "outputId": "9d9570df-b636-469e-aba3-148c4c0c0c04"
   },
   "outputs": [
    {
     "name": "stdout",
     "output_type": "stream",
     "text": [
      "Epoch 1/20\n",
      "375/375 [==============================] - 2s 3ms/step - loss: 81.8773 - binary_accuracy: 0.1000 - val_loss: 63.9858 - val_binary_accuracy: 0.0956\n",
      "Epoch 2/20\n",
      "375/375 [==============================] - 1s 3ms/step - loss: 46.6812 - binary_accuracy: 0.1000 - val_loss: 28.9205 - val_binary_accuracy: 0.0956\n",
      "Epoch 3/20\n",
      "375/375 [==============================] - 1s 2ms/step - loss: 12.1915 - binary_accuracy: 0.2325 - val_loss: 0.3129 - val_binary_accuracy: 0.9044\n",
      "Epoch 4/20\n",
      "375/375 [==============================] - 1s 2ms/step - loss: 0.2348 - binary_accuracy: 0.9112 - val_loss: 0.2137 - val_binary_accuracy: 0.9209\n",
      "Epoch 5/20\n",
      "375/375 [==============================] - 1s 2ms/step - loss: 0.2155 - binary_accuracy: 0.9191 - val_loss: 0.2084 - val_binary_accuracy: 0.9224\n",
      "Epoch 6/20\n",
      "375/375 [==============================] - 1s 2ms/step - loss: 0.2134 - binary_accuracy: 0.9193 - val_loss: 0.2069 - val_binary_accuracy: 0.9227\n",
      "Epoch 7/20\n",
      "375/375 [==============================] - 1s 2ms/step - loss: 0.2116 - binary_accuracy: 0.9204 - val_loss: 0.2055 - val_binary_accuracy: 0.9237\n",
      "Epoch 8/20\n",
      "375/375 [==============================] - 1s 2ms/step - loss: 0.2101 - binary_accuracy: 0.9211 - val_loss: 0.2036 - val_binary_accuracy: 0.9240\n",
      "Epoch 9/20\n",
      "375/375 [==============================] - 1s 2ms/step - loss: 0.2087 - binary_accuracy: 0.9215 - val_loss: 0.2052 - val_binary_accuracy: 0.9229\n",
      "Epoch 10/20\n",
      "375/375 [==============================] - 1s 2ms/step - loss: 0.2074 - binary_accuracy: 0.9212 - val_loss: 0.2011 - val_binary_accuracy: 0.9262\n",
      "Epoch 11/20\n",
      "375/375 [==============================] - 1s 2ms/step - loss: 0.2065 - binary_accuracy: 0.9221 - val_loss: 0.2019 - val_binary_accuracy: 0.9242\n",
      "Epoch 12/20\n",
      "375/375 [==============================] - 1s 2ms/step - loss: 0.2054 - binary_accuracy: 0.9212 - val_loss: 0.1994 - val_binary_accuracy: 0.9262\n",
      "Epoch 13/20\n",
      "375/375 [==============================] - 1s 2ms/step - loss: 0.2047 - binary_accuracy: 0.9220 - val_loss: 0.1985 - val_binary_accuracy: 0.9266\n",
      "Epoch 14/20\n",
      "375/375 [==============================] - 1s 2ms/step - loss: 0.2039 - binary_accuracy: 0.9225 - val_loss: 0.1978 - val_binary_accuracy: 0.9268\n",
      "Epoch 15/20\n",
      "375/375 [==============================] - 1s 2ms/step - loss: 0.2033 - binary_accuracy: 0.9226 - val_loss: 0.1987 - val_binary_accuracy: 0.9265\n",
      "Epoch 16/20\n",
      "375/375 [==============================] - 1s 3ms/step - loss: 0.2028 - binary_accuracy: 0.9230 - val_loss: 0.1998 - val_binary_accuracy: 0.9247\n",
      "Epoch 17/20\n",
      "375/375 [==============================] - 1s 2ms/step - loss: 0.2024 - binary_accuracy: 0.9227 - val_loss: 0.1978 - val_binary_accuracy: 0.9263\n",
      "Epoch 18/20\n",
      "375/375 [==============================] - 1s 2ms/step - loss: 0.2021 - binary_accuracy: 0.9233 - val_loss: 0.1966 - val_binary_accuracy: 0.9269\n",
      "Epoch 19/20\n",
      "375/375 [==============================] - 1s 2ms/step - loss: 0.2016 - binary_accuracy: 0.9237 - val_loss: 0.1956 - val_binary_accuracy: 0.9277\n",
      "Epoch 20/20\n",
      "375/375 [==============================] - 1s 2ms/step - loss: 0.2014 - binary_accuracy: 0.9229 - val_loss: 0.1952 - val_binary_accuracy: 0.9276\n"
     ]
    },
    {
     "data": {
      "text/plain": [
       "<keras.callbacks.History at 0x7fca76760c10>"
      ]
     },
     "execution_count": 15,
     "metadata": {},
     "output_type": "execute_result"
    }
   ],
   "source": [
    "train_labels_9 = np.logical_not((train_labels - 9).astype(\"bool\")).astype(\"float32\")\n",
    "is9_model.fit(train_images, train_labels_9, \n",
    "                        validation_split=0.2, \n",
    "                        epochs=20, batch_size=128)"
   ]
  },
  {
   "cell_type": "markdown",
   "id": "hGG3QRG5FszC",
   "metadata": {
    "id": "hGG3QRG5FszC"
   },
   "source": [
    "This model does a terrible job at identifying the digit 9. But remember that the model only has 4 trainable parameters! Perhaps introducing a few more would help improve the performance.\n",
    "\n",
    "Before we move on I'd like to discuss whether there's a cleaner way to implement this model."
   ]
  },
  {
   "cell_type": "markdown",
   "id": "iOx1fbDrCrD3",
   "metadata": {
    "id": "iOx1fbDrCrD3"
   },
   "source": [
    "## Subclassing models"
   ]
  },
  {
   "cell_type": "code",
   "execution_count": 16,
   "id": "dIXWedkTC25Z",
   "metadata": {
    "id": "dIXWedkTC25Z"
   },
   "outputs": [],
   "source": [
    "class masked_binary_classifier(keras.Model):\n",
    "    def __init__(self, mask):\n",
    "        super().__init__()\n",
    "        self.ze_layer = layers.Dense(1, trainable=False)\n",
    "        self.bt_layer = layers.Dense(1, trainable=False)\n",
    "        self.at_layer = layers.Dense(1, trainable=False)\n",
    "        self.concat_layer = layers.Concatenate(axis=1)\n",
    "        self.output_layer = layers.Dense(1, activation=\"sigmoid\")\n",
    "        self.mask = mask\n",
    "        self.ze_layer.build(input_shape = (None, 784))\n",
    "        self.bt_layer.build(input_shape = (None, 784))\n",
    "        self.at_layer.build(input_shape = (None, 784))\n",
    "        self.ze_layer.set_weights([self.mask[:,0].reshape((-1,1)),\n",
    "                                   np.zeros(shape=(1,), dtype=\"float32\")])\n",
    "        self.bt_layer.set_weights([self.mask[:,1].reshape((-1,1)),\n",
    "                                   np.zeros(shape=(1,), dtype=\"float32\")])\n",
    "        self.at_layer.set_weights([self.mask[:,2].reshape((-1,1)),\n",
    "                                   np.zeros(shape=(1,), dtype=\"float32\")])\n",
    "\n",
    "    def call(self, inputs):\n",
    "        output = [self.ze_layer(inputs), \n",
    "                  self.bt_layer(inputs),\n",
    "                  self.at_layer(inputs)]\n",
    "        output = self.concat_layer(output)\n",
    "        output = self.output_layer(output)\n",
    "        return output"
   ]
  },
  {
   "cell_type": "code",
   "execution_count": 17,
   "id": "t_hCUtGWNB9T",
   "metadata": {
    "colab": {
     "base_uri": "https://localhost:8080/",
     "height": 77
    },
    "id": "t_hCUtGWNB9T",
    "outputId": "17fe3206-cfe8-4cf8-ac2d-5245162678c8"
   },
   "outputs": [
    {
     "data": {
      "image/png": "[encoded data removed]",
      "text/plain": [
       "<IPython.core.display.Image object>"
      ]
     },
     "execution_count": 17,
     "metadata": {},
     "output_type": "execute_result"
    }
   ],
   "source": [
    "is9_sc_model = masked_binary_classifier(mask9)\n",
    "is9_sc_model.build(input_shape = (None,784))\n",
    "#is9_sc_model.load_weights('is9_model_weights.h5')\n",
    "is9_sc_model.compile(optimizer=\"rmsprop\",\n",
    "              loss=\"binary_crossentropy\",\n",
    "              metrics=[\"binary_accuracy\"])\n",
    "\n",
    "keras.utils.plot_model(is9_sc_model, \"MNIST_with_binary_classifiers_sc9.png\")"
   ]
  },
  {
   "cell_type": "code",
   "execution_count": 18,
   "id": "gyTjq6u0PZOv",
   "metadata": {
    "colab": {
     "base_uri": "https://localhost:8080/"
    },
    "id": "gyTjq6u0PZOv",
    "outputId": "d16e3dfe-75a4-428b-9da0-902b92e520af"
   },
   "outputs": [
    {
     "name": "stdout",
     "output_type": "stream",
     "text": [
      "Model: \"masked_binary_classifier\"\n",
      "_________________________________________________________________\n",
      " Layer (type)                Output Shape              Param #   \n",
      "=================================================================\n",
      " dense_4 (Dense)             multiple                  785       \n",
      "                                                                 \n",
      " dense_5 (Dense)             multiple                  785       \n",
      "                                                                 \n",
      " dense_6 (Dense)             multiple                  785       \n",
      "                                                                 \n",
      " concatenate_1 (Concatenate)  multiple                 0         \n",
      "                                                                 \n",
      " dense_7 (Dense)             multiple                  4         \n",
      "                                                                 \n",
      "=================================================================\n",
      "Total params: 2,359\n",
      "Trainable params: 4\n",
      "Non-trainable params: 2,355\n",
      "_________________________________________________________________\n"
     ]
    }
   ],
   "source": [
    "is9_sc_model.summary()"
   ]
  },
  {
   "cell_type": "code",
   "execution_count": 19,
   "id": "U6M8w9HKP3yS",
   "metadata": {
    "colab": {
     "base_uri": "https://localhost:8080/"
    },
    "id": "U6M8w9HKP3yS",
    "outputId": "92553ca9-bc5a-4b7b-8297-60065d2e7d8a"
   },
   "outputs": [
    {
     "data": {
      "text/plain": [
       "True"
      ]
     },
     "execution_count": 19,
     "metadata": {},
     "output_type": "execute_result"
    }
   ],
   "source": [
    "(is9_sc_model.layers[1].get_weights()[0] == mask9[:,1].reshape(-1,1)).all()"
   ]
  },
  {
   "cell_type": "code",
   "execution_count": 20,
   "id": "V6fmQAEFQ0Ss",
   "metadata": {
    "colab": {
     "base_uri": "https://localhost:8080/"
    },
    "id": "V6fmQAEFQ0Ss",
    "outputId": "c5ce9014-99c9-4a37-f3a2-1fb226ca8b04"
   },
   "outputs": [
    {
     "name": "stdout",
     "output_type": "stream",
     "text": [
      "Epoch 1/20\n",
      "375/375 [==============================] - 2s 3ms/step - loss: 0.3193 - binary_accuracy: 0.8835 - val_loss: 0.2300 - val_binary_accuracy: 0.9121\n",
      "Epoch 2/20\n",
      "375/375 [==============================] - 1s 2ms/step - loss: 0.2313 - binary_accuracy: 0.9115 - val_loss: 0.2230 - val_binary_accuracy: 0.9164\n",
      "Epoch 3/20\n",
      "375/375 [==============================] - 1s 2ms/step - loss: 0.2263 - binary_accuracy: 0.9138 - val_loss: 0.2178 - val_binary_accuracy: 0.9183\n",
      "Epoch 4/20\n",
      "375/375 [==============================] - 1s 2ms/step - loss: 0.2228 - binary_accuracy: 0.9150 - val_loss: 0.2166 - val_binary_accuracy: 0.9185\n",
      "Epoch 5/20\n",
      "375/375 [==============================] - 1s 2ms/step - loss: 0.2201 - binary_accuracy: 0.9164 - val_loss: 0.2121 - val_binary_accuracy: 0.9210\n",
      "Epoch 6/20\n",
      "375/375 [==============================] - 1s 2ms/step - loss: 0.2174 - binary_accuracy: 0.9170 - val_loss: 0.2101 - val_binary_accuracy: 0.9220\n",
      "Epoch 7/20\n",
      "375/375 [==============================] - 1s 2ms/step - loss: 0.2149 - binary_accuracy: 0.9184 - val_loss: 0.2101 - val_binary_accuracy: 0.9214\n",
      "Epoch 8/20\n",
      "375/375 [==============================] - 1s 2ms/step - loss: 0.2133 - binary_accuracy: 0.9193 - val_loss: 0.2076 - val_binary_accuracy: 0.9231\n",
      "Epoch 9/20\n",
      "375/375 [==============================] - 1s 3ms/step - loss: 0.2114 - binary_accuracy: 0.9196 - val_loss: 0.2046 - val_binary_accuracy: 0.9240\n",
      "Epoch 10/20\n",
      "375/375 [==============================] - 1s 2ms/step - loss: 0.2098 - binary_accuracy: 0.9202 - val_loss: 0.2031 - val_binary_accuracy: 0.9252\n",
      "Epoch 11/20\n",
      "375/375 [==============================] - 1s 2ms/step - loss: 0.2085 - binary_accuracy: 0.9213 - val_loss: 0.2022 - val_binary_accuracy: 0.9257\n",
      "Epoch 12/20\n",
      "375/375 [==============================] - 1s 2ms/step - loss: 0.2074 - binary_accuracy: 0.9219 - val_loss: 0.2008 - val_binary_accuracy: 0.9262\n",
      "Epoch 13/20\n",
      "375/375 [==============================] - 1s 2ms/step - loss: 0.2062 - binary_accuracy: 0.9221 - val_loss: 0.1999 - val_binary_accuracy: 0.9258\n",
      "Epoch 14/20\n",
      "375/375 [==============================] - 1s 2ms/step - loss: 0.2053 - binary_accuracy: 0.9223 - val_loss: 0.1994 - val_binary_accuracy: 0.9261\n",
      "Epoch 15/20\n",
      "375/375 [==============================] - 1s 2ms/step - loss: 0.2046 - binary_accuracy: 0.9224 - val_loss: 0.1988 - val_binary_accuracy: 0.9264\n",
      "Epoch 16/20\n",
      "375/375 [==============================] - 1s 2ms/step - loss: 0.2038 - binary_accuracy: 0.9230 - val_loss: 0.1992 - val_binary_accuracy: 0.9255\n",
      "Epoch 17/20\n",
      "375/375 [==============================] - 1s 2ms/step - loss: 0.2033 - binary_accuracy: 0.9228 - val_loss: 0.1977 - val_binary_accuracy: 0.9267\n",
      "Epoch 18/20\n",
      "375/375 [==============================] - 1s 2ms/step - loss: 0.2028 - binary_accuracy: 0.9233 - val_loss: 0.1965 - val_binary_accuracy: 0.9269\n",
      "Epoch 19/20\n",
      "375/375 [==============================] - 1s 2ms/step - loss: 0.2024 - binary_accuracy: 0.9231 - val_loss: 0.1962 - val_binary_accuracy: 0.9273\n",
      "Epoch 20/20\n",
      "375/375 [==============================] - 1s 2ms/step - loss: 0.2020 - binary_accuracy: 0.9231 - val_loss: 0.1960 - val_binary_accuracy: 0.9275\n"
     ]
    },
    {
     "data": {
      "text/plain": [
       "<keras.callbacks.History at 0x7fca7b1e9e50>"
      ]
     },
     "execution_count": 20,
     "metadata": {},
     "output_type": "execute_result"
    }
   ],
   "source": [
    "train_labels_9 = np.logical_not((train_labels - 9).astype(\"bool\")).astype(\"float32\")\n",
    "is9_sc_model.fit(train_images, train_labels_9, \n",
    "                        validation_split=0.2, \n",
    "                        epochs=20, batch_size=128)"
   ]
  },
  {
   "cell_type": "markdown",
   "id": "Jt2ePlZBA2t2",
   "metadata": {
    "id": "Jt2ePlZBA2t2"
   },
   "source": [
    "## Subclassing layers"
   ]
  },
  {
   "cell_type": "code",
   "execution_count": 21,
   "id": "cd000189",
   "metadata": {
    "id": "cd000189"
   },
   "outputs": [],
   "source": [
    "class digit_masking(keras.layers.Layer):\n",
    "    def __init__(self, digit_mask):\n",
    "        super().__init__()\n",
    "        self.units = 1\n",
    "        self.activation = tf.nn.sigmoid\n",
    "        self.digit_mask = digit_mask\n",
    "\n",
    "    def build(self, input_shape):\n",
    "        input_dim = input_shape[-1]\n",
    "        self.W = self.add_weight(shape = (3,1),\n",
    "                                 initializer=\"random_normal\")\n",
    "        self.b = self.add_weight(shape = (1,), \n",
    "                                 initializer=\"zeros\")\n",
    "        \n",
    "    def call(self, inputs):\n",
    "        y = tf.matmul(inputs, self.digit_mask)\n",
    "        y = tf.matmul(y, self.W) + self.b\n",
    "        y = self.activation(y)\n",
    "        return y"
   ]
  },
  {
   "cell_type": "code",
   "execution_count": 22,
   "id": "xZ3MAEXNrYNl",
   "metadata": {
    "colab": {
     "base_uri": "https://localhost:8080/"
    },
    "id": "xZ3MAEXNrYNl",
    "outputId": "808e3386-f043-41d3-fdd9-45436881bf61"
   },
   "outputs": [
    {
     "data": {
      "text/plain": [
       "(784, 3)"
      ]
     },
     "execution_count": 22,
     "metadata": {},
     "output_type": "execute_result"
    }
   ],
   "source": [
    "mask9 = np.zeros((28*28, 3), dtype=\"float32\")\n",
    "\n",
    "for i in range(28*28):\n",
    "    if average_digits[9, i] == 0:\n",
    "        mask9[i, 0] += 1\n",
    "    elif average_digits[9, i] <= 0.5:\n",
    "        mask9[i, 1] += 1\n",
    "    else:\n",
    "        mask9[i, 2] += 1\n",
    "\n",
    "mask9.shape"
   ]
  },
  {
   "cell_type": "code",
   "execution_count": 23,
   "id": "Nu362PAjrAoa",
   "metadata": {
    "colab": {
     "base_uri": "https://localhost:8080/",
     "height": 174
    },
    "id": "Nu362PAjrAoa",
    "outputId": "0d0aaa9b-9f13-4c5f-e703-8932593f0149"
   },
   "outputs": [
    {
     "data": {
      "image/png": "[encoded data removed]",
      "text/plain": [
       "<IPython.core.display.Image object>"
      ]
     },
     "execution_count": 23,
     "metadata": {},
     "output_type": "execute_result"
    }
   ],
   "source": [
    "is9_input = layers.Input(shape=28*28)\n",
    "mask_layer = digit_masking(mask9)(is9_input)\n",
    "\n",
    "is9_model = keras.Model(inputs = is9_input,\n",
    "                        outputs = mask_layer,\n",
    "                        name=\"is9\")\n",
    "\n",
    "is9_model.compile(optimizer=\"rmsprop\",\n",
    "              loss=\"binary_crossentropy\",\n",
    "              metrics=[\"binary_accuracy\"])\n",
    "\n",
    "keras.utils.plot_model(is9_model, \"MNIST_with_binary_classifiers9.png\")"
   ]
  },
  {
   "cell_type": "code",
   "execution_count": 24,
   "id": "7Hr1IR7Ww9Aw",
   "metadata": {
    "colab": {
     "base_uri": "https://localhost:8080/"
    },
    "id": "7Hr1IR7Ww9Aw",
    "outputId": "f63f7c07-7927-47dc-c8c5-37966409d659"
   },
   "outputs": [
    {
     "name": "stdout",
     "output_type": "stream",
     "text": [
      "Model: \"is9\"\n",
      "_________________________________________________________________\n",
      " Layer (type)                Output Shape              Param #   \n",
      "=================================================================\n",
      " input_2 (InputLayer)        [(None, 784)]             0         \n",
      "                                                                 \n",
      " digit_masking (digit_maskin  (None, 1)                4         \n",
      " g)                                                              \n",
      "                                                                 \n",
      "=================================================================\n",
      "Total params: 4\n",
      "Trainable params: 4\n",
      "Non-trainable params: 0\n",
      "_________________________________________________________________\n"
     ]
    }
   ],
   "source": [
    "is9_model.summary()"
   ]
  },
  {
   "cell_type": "code",
   "execution_count": 25,
   "id": "wqIXlfJbxFLt",
   "metadata": {
    "colab": {
     "base_uri": "https://localhost:8080/"
    },
    "id": "wqIXlfJbxFLt",
    "outputId": "cb04c18c-721a-4677-f2db-00648771fbfe"
   },
   "outputs": [
    {
     "name": "stdout",
     "output_type": "stream",
     "text": [
      "Epoch 1/20\n",
      "375/375 [==============================] - 1s 3ms/step - loss: 0.4371 - binary_accuracy: 0.8315 - val_loss: 0.2300 - val_binary_accuracy: 0.9158\n",
      "Epoch 2/20\n",
      "375/375 [==============================] - 1s 2ms/step - loss: 0.2338 - binary_accuracy: 0.9121 - val_loss: 0.2240 - val_binary_accuracy: 0.9170\n",
      "Epoch 3/20\n",
      "375/375 [==============================] - 1s 2ms/step - loss: 0.2286 - binary_accuracy: 0.9132 - val_loss: 0.2196 - val_binary_accuracy: 0.9190\n",
      "Epoch 4/20\n",
      "375/375 [==============================] - 1s 3ms/step - loss: 0.2246 - binary_accuracy: 0.9154 - val_loss: 0.2201 - val_binary_accuracy: 0.9178\n",
      "Epoch 5/20\n",
      "375/375 [==============================] - 1s 2ms/step - loss: 0.2211 - binary_accuracy: 0.9168 - val_loss: 0.2133 - val_binary_accuracy: 0.9207\n",
      "Epoch 6/20\n",
      "375/375 [==============================] - 1s 2ms/step - loss: 0.2184 - binary_accuracy: 0.9173 - val_loss: 0.2113 - val_binary_accuracy: 0.9214\n",
      "Epoch 7/20\n",
      "375/375 [==============================] - 1s 2ms/step - loss: 0.2158 - binary_accuracy: 0.9189 - val_loss: 0.2093 - val_binary_accuracy: 0.9223\n",
      "Epoch 8/20\n",
      "375/375 [==============================] - 1s 2ms/step - loss: 0.2135 - binary_accuracy: 0.9189 - val_loss: 0.2065 - val_binary_accuracy: 0.9235\n",
      "Epoch 9/20\n",
      "375/375 [==============================] - 1s 2ms/step - loss: 0.2117 - binary_accuracy: 0.9206 - val_loss: 0.2049 - val_binary_accuracy: 0.9243\n",
      "Epoch 10/20\n",
      "375/375 [==============================] - 1s 2ms/step - loss: 0.2102 - binary_accuracy: 0.9203 - val_loss: 0.2060 - val_binary_accuracy: 0.9232\n",
      "Epoch 11/20\n",
      "375/375 [==============================] - 1s 2ms/step - loss: 0.2089 - binary_accuracy: 0.9207 - val_loss: 0.2035 - val_binary_accuracy: 0.9237\n",
      "Epoch 12/20\n",
      "375/375 [==============================] - 1s 2ms/step - loss: 0.2078 - binary_accuracy: 0.9214 - val_loss: 0.2015 - val_binary_accuracy: 0.9254\n",
      "Epoch 13/20\n",
      "375/375 [==============================] - 1s 2ms/step - loss: 0.2067 - binary_accuracy: 0.9220 - val_loss: 0.2008 - val_binary_accuracy: 0.9260\n",
      "Epoch 14/20\n",
      "375/375 [==============================] - 1s 2ms/step - loss: 0.2058 - binary_accuracy: 0.9215 - val_loss: 0.2003 - val_binary_accuracy: 0.9253\n",
      "Epoch 15/20\n",
      "375/375 [==============================] - 1s 2ms/step - loss: 0.2050 - binary_accuracy: 0.9223 - val_loss: 0.1991 - val_binary_accuracy: 0.9262\n",
      "Epoch 16/20\n",
      "375/375 [==============================] - 1s 2ms/step - loss: 0.2042 - binary_accuracy: 0.9227 - val_loss: 0.1992 - val_binary_accuracy: 0.9261\n",
      "Epoch 17/20\n",
      "375/375 [==============================] - 1s 2ms/step - loss: 0.2035 - binary_accuracy: 0.9232 - val_loss: 0.1975 - val_binary_accuracy: 0.9268\n",
      "Epoch 18/20\n",
      "375/375 [==============================] - 1s 2ms/step - loss: 0.2032 - binary_accuracy: 0.9227 - val_loss: 0.1970 - val_binary_accuracy: 0.9271\n",
      "Epoch 19/20\n",
      "375/375 [==============================] - 1s 2ms/step - loss: 0.2024 - binary_accuracy: 0.9230 - val_loss: 0.1970 - val_binary_accuracy: 0.9269\n",
      "Epoch 20/20\n",
      "375/375 [==============================] - 1s 2ms/step - loss: 0.2021 - binary_accuracy: 0.9233 - val_loss: 0.1975 - val_binary_accuracy: 0.9265\n"
     ]
    },
    {
     "data": {
      "text/plain": [
       "<keras.callbacks.History at 0x7fcafdad8a10>"
      ]
     },
     "execution_count": 25,
     "metadata": {},
     "output_type": "execute_result"
    }
   ],
   "source": [
    "train_labels_9 = np.logical_not((train_labels - 9).astype(\"bool\")).astype(\"float32\")\n",
    "is9_model.fit(train_images, train_labels_9, \n",
    "                        validation_split=0.2, \n",
    "                        epochs=20, batch_size=128)"
   ]
  },
  {
   "cell_type": "markdown",
   "id": "EMO6nyJPsdjk",
   "metadata": {
    "id": "EMO6nyJPsdjk"
   },
   "source": [
    "#Exercise"
   ]
  },
  {
   "cell_type": "markdown",
   "id": "8MzMLvk0so33",
   "metadata": {
    "id": "8MzMLvk0so33"
   },
   "source": [
    "Construct a classifying model such that a feedforward would randomly seperate the input data into 2 disjoint sets, pass them through 2 separate hidden nodes before combining their outputs and feeding it to the model's output layer. (Hint: You can utilize dropout and subtract layers.)"
   ]
  },
  {
   "cell_type": "markdown",
   "id": "B0dB_PHXttZI",
   "metadata": {
    "id": "B0dB_PHXttZI"
   },
   "source": [
    "##Solution"
   ]
  },
  {
   "cell_type": "code",
   "execution_count": 26,
   "id": "quXtMZUetwsm",
   "metadata": {
    "colab": {
     "base_uri": "https://localhost:8080/",
     "height": 564
    },
    "id": "quXtMZUetwsm",
    "outputId": "11ac2940-31a3-4a45-a2ec-a252bb607e03"
   },
   "outputs": [
    {
     "data": {
      "image/png": "[encoded data removed]",
      "text/plain": [
       "<IPython.core.display.Image object>"
      ]
     },
     "execution_count": 26,
     "metadata": {},
     "output_type": "execute_result"
    }
   ],
   "source": [
    "split_model_input = layers.Input(shape=28*28)\n",
    "split_model_b1 = layers.Dropout(0.5)(split_model_input)\n",
    "split_model_b2 = layers.Subtract()([split_model_input, split_model_b1])\n",
    "split_model_relu1 = layers.Dense(256, activation='relu')(split_model_b1)\n",
    "split_model_relu2 = layers.Dense(256, activation='relu')(split_model_b2)\n",
    "split_model_concat = layers.Concatenate(axis=1)([split_model_relu1,\n",
    "                                                 split_model_relu2])\n",
    "split_model_output = layers.Dense(10, activation='softmax')(split_model_concat)\n",
    "\n",
    "\n",
    "split_model = keras.Model(inputs = split_model_input,\n",
    "                          outputs = split_model_output,\n",
    "                          name = \"split_model\")\n",
    "\n",
    "split_model.compile(optimizer=\"rmsprop\",\n",
    "                    loss=\"sparse_categorical_crossentropy\",\n",
    "                    metrics=[\"accuracy\"])\n",
    "\n",
    "keras.utils.plot_model(split_model, \"MNIST_split.png\")"
   ]
  },
  {
   "cell_type": "code",
   "execution_count": 27,
   "id": "r9yfxXEaz47x",
   "metadata": {
    "colab": {
     "base_uri": "https://localhost:8080/"
    },
    "id": "r9yfxXEaz47x",
    "outputId": "1fb40c16-a39d-4949-eb7a-bc5f44a2c005"
   },
   "outputs": [
    {
     "name": "stdout",
     "output_type": "stream",
     "text": [
      "Epoch 1/40\n",
      "375/375 [==============================] - 6s 14ms/step - loss: 0.4805 - accuracy: 0.8583 - val_loss: 0.2214 - val_accuracy: 0.9379\n",
      "Epoch 2/40\n",
      "375/375 [==============================] - 5s 13ms/step - loss: 0.2464 - accuracy: 0.9270 - val_loss: 0.1587 - val_accuracy: 0.9542\n",
      "Epoch 3/40\n",
      "375/375 [==============================] - 5s 13ms/step - loss: 0.1863 - accuracy: 0.9431 - val_loss: 0.1290 - val_accuracy: 0.9611\n",
      "Epoch 4/40\n",
      "375/375 [==============================] - 5s 13ms/step - loss: 0.1553 - accuracy: 0.9531 - val_loss: 0.1139 - val_accuracy: 0.9666\n",
      "Epoch 5/40\n",
      "375/375 [==============================] - 5s 13ms/step - loss: 0.1403 - accuracy: 0.9567 - val_loss: 0.1078 - val_accuracy: 0.9678\n",
      "Epoch 6/40\n",
      "375/375 [==============================] - 5s 13ms/step - loss: 0.1264 - accuracy: 0.9619 - val_loss: 0.1026 - val_accuracy: 0.9701\n",
      "Epoch 7/40\n",
      "375/375 [==============================] - 5s 13ms/step - loss: 0.1212 - accuracy: 0.9622 - val_loss: 0.0952 - val_accuracy: 0.9706\n",
      "Epoch 8/40\n",
      "375/375 [==============================] - 5s 13ms/step - loss: 0.1142 - accuracy: 0.9655 - val_loss: 0.0931 - val_accuracy: 0.9727\n",
      "Epoch 9/40\n",
      "375/375 [==============================] - 5s 13ms/step - loss: 0.1069 - accuracy: 0.9672 - val_loss: 0.0940 - val_accuracy: 0.9719\n",
      "Epoch 10/40\n",
      "375/375 [==============================] - 5s 13ms/step - loss: 0.1000 - accuracy: 0.9694 - val_loss: 0.0877 - val_accuracy: 0.9747\n",
      "Epoch 11/40\n",
      "375/375 [==============================] - 5s 13ms/step - loss: 0.0987 - accuracy: 0.9699 - val_loss: 0.0856 - val_accuracy: 0.9761\n",
      "Epoch 12/40\n",
      "375/375 [==============================] - 5s 13ms/step - loss: 0.0918 - accuracy: 0.9709 - val_loss: 0.0847 - val_accuracy: 0.9770\n",
      "Epoch 13/40\n",
      "375/375 [==============================] - 5s 13ms/step - loss: 0.0889 - accuracy: 0.9723 - val_loss: 0.0824 - val_accuracy: 0.9778\n",
      "Epoch 14/40\n",
      "375/375 [==============================] - 5s 13ms/step - loss: 0.0876 - accuracy: 0.9731 - val_loss: 0.0853 - val_accuracy: 0.9773\n",
      "Epoch 15/40\n",
      "375/375 [==============================] - 5s 13ms/step - loss: 0.0832 - accuracy: 0.9740 - val_loss: 0.0859 - val_accuracy: 0.9772\n",
      "Epoch 16/40\n",
      "375/375 [==============================] - 5s 13ms/step - loss: 0.0846 - accuracy: 0.9744 - val_loss: 0.0825 - val_accuracy: 0.9779\n",
      "Epoch 17/40\n",
      "375/375 [==============================] - 5s 13ms/step - loss: 0.0808 - accuracy: 0.9750 - val_loss: 0.0818 - val_accuracy: 0.9782\n",
      "Epoch 18/40\n",
      "375/375 [==============================] - 5s 13ms/step - loss: 0.0769 - accuracy: 0.9761 - val_loss: 0.0804 - val_accuracy: 0.9788\n",
      "Epoch 19/40\n",
      "375/375 [==============================] - 5s 13ms/step - loss: 0.0772 - accuracy: 0.9762 - val_loss: 0.0799 - val_accuracy: 0.9788\n",
      "Epoch 20/40\n",
      "375/375 [==============================] - 5s 13ms/step - loss: 0.0715 - accuracy: 0.9778 - val_loss: 0.0806 - val_accuracy: 0.9789\n",
      "Epoch 21/40\n",
      "375/375 [==============================] - 5s 13ms/step - loss: 0.0721 - accuracy: 0.9778 - val_loss: 0.0824 - val_accuracy: 0.9786\n",
      "Epoch 22/40\n",
      "375/375 [==============================] - 5s 13ms/step - loss: 0.0697 - accuracy: 0.9780 - val_loss: 0.0793 - val_accuracy: 0.9792\n",
      "Epoch 23/40\n",
      "375/375 [==============================] - 5s 13ms/step - loss: 0.0698 - accuracy: 0.9786 - val_loss: 0.0778 - val_accuracy: 0.9799\n",
      "Epoch 24/40\n",
      "375/375 [==============================] - 5s 13ms/step - loss: 0.0681 - accuracy: 0.9789 - val_loss: 0.0797 - val_accuracy: 0.9808\n",
      "Epoch 25/40\n",
      "375/375 [==============================] - 5s 13ms/step - loss: 0.0684 - accuracy: 0.9787 - val_loss: 0.0779 - val_accuracy: 0.9797\n",
      "Epoch 26/40\n",
      "375/375 [==============================] - 5s 13ms/step - loss: 0.0667 - accuracy: 0.9791 - val_loss: 0.0758 - val_accuracy: 0.9801\n",
      "Epoch 27/40\n",
      "375/375 [==============================] - 5s 13ms/step - loss: 0.0667 - accuracy: 0.9796 - val_loss: 0.0772 - val_accuracy: 0.9808\n",
      "Epoch 28/40\n",
      "375/375 [==============================] - 5s 13ms/step - loss: 0.0662 - accuracy: 0.9794 - val_loss: 0.0748 - val_accuracy: 0.9797\n",
      "Epoch 29/40\n",
      "375/375 [==============================] - 5s 13ms/step - loss: 0.0640 - accuracy: 0.9797 - val_loss: 0.0778 - val_accuracy: 0.9797\n",
      "Epoch 30/40\n",
      "375/375 [==============================] - 5s 14ms/step - loss: 0.0594 - accuracy: 0.9813 - val_loss: 0.0757 - val_accuracy: 0.9797\n",
      "Epoch 31/40\n",
      "375/375 [==============================] - 5s 13ms/step - loss: 0.0604 - accuracy: 0.9815 - val_loss: 0.0769 - val_accuracy: 0.9801\n",
      "Epoch 32/40\n",
      "375/375 [==============================] - 5s 13ms/step - loss: 0.0615 - accuracy: 0.9810 - val_loss: 0.0791 - val_accuracy: 0.9799\n",
      "Epoch 33/40\n",
      "375/375 [==============================] - 5s 13ms/step - loss: 0.0596 - accuracy: 0.9812 - val_loss: 0.0852 - val_accuracy: 0.9787\n",
      "Epoch 34/40\n",
      "375/375 [==============================] - 5s 13ms/step - loss: 0.0594 - accuracy: 0.9815 - val_loss: 0.0857 - val_accuracy: 0.9801\n",
      "Epoch 35/40\n",
      "375/375 [==============================] - 5s 13ms/step - loss: 0.0597 - accuracy: 0.9815 - val_loss: 0.0797 - val_accuracy: 0.9799\n",
      "Epoch 36/40\n",
      "375/375 [==============================] - 5s 13ms/step - loss: 0.0601 - accuracy: 0.9814 - val_loss: 0.0813 - val_accuracy: 0.9793\n",
      "Epoch 37/40\n",
      "375/375 [==============================] - 5s 13ms/step - loss: 0.0593 - accuracy: 0.9812 - val_loss: 0.0789 - val_accuracy: 0.9809\n",
      "Epoch 38/40\n",
      "375/375 [==============================] - 5s 13ms/step - loss: 0.0585 - accuracy: 0.9820 - val_loss: 0.0834 - val_accuracy: 0.9801\n",
      "Epoch 39/40\n",
      "375/375 [==============================] - 5s 13ms/step - loss: 0.0560 - accuracy: 0.9822 - val_loss: 0.0789 - val_accuracy: 0.9808\n",
      "Epoch 40/40\n",
      "375/375 [==============================] - 5s 13ms/step - loss: 0.0558 - accuracy: 0.9825 - val_loss: 0.0834 - val_accuracy: 0.9808\n"
     ]
    },
    {
     "data": {
      "text/plain": [
       "<keras.callbacks.History at 0x7fca72c0fed0>"
      ]
     },
     "execution_count": 27,
     "metadata": {},
     "output_type": "execute_result"
    }
   ],
   "source": [
    "split_model.fit(train_images, train_labels, \n",
    "                validation_split= 0.2, \n",
    "                epochs=40, \n",
    "                batch_size=128)"
   ]
  },
  {
   "cell_type": "markdown",
   "id": "4d8te45eU11p",
   "metadata": {
    "id": "4d8te45eU11p"
   },
   "source": [
    "# Overfitting"
   ]
  },
  {
   "cell_type": "markdown",
   "id": "w2IjbKjF_HJO",
   "metadata": {
    "id": "w2IjbKjF_HJO"
   },
   "source": [
    "Lets do something you should never do and must always be wary of:\n",
    "\n",
    "we are going to mark our data and track the effect during training."
   ]
  },
  {
   "cell_type": "code",
   "execution_count": 8,
   "id": "zFBlA_X6_yPO",
   "metadata": {
    "id": "zFBlA_X6_yPO"
   },
   "outputs": [],
   "source": [
    "(train_images, train_labels), (test_images, test_labels) = mnist.load_data()\n",
    "\n",
    "def digit_indices(digit, labels = train_labels):\n",
    "    return np.where(labels==digit)\n",
    "\n",
    "def average_digit_image(digit, images = train_images, labels = train_labels):\n",
    "    return np.average(images[digit_indices(labels, digit)],axis=0)\n",
    "\n",
    "average_digits = np.array([average_digit_image(i) for i in range(10)]).reshape((10,28*28))\n",
    "average_digits = average_digits.astype(\"float32\") / 255\n",
    "train_images = train_images.reshape((60000, 28 * 28))\n",
    "train_images = train_images.astype(\"float32\") / 255\n",
    "test_images = test_images.reshape((10000, 28 * 28))\n",
    "test_images = test_images.astype(\"float32\") / 255"
   ]
  },
  {
   "cell_type": "code",
   "execution_count": 28,
   "id": "NPp31Pez_26c",
   "metadata": {
    "id": "NPp31Pez_26c"
   },
   "outputs": [],
   "source": [
    "for i in digit_indices(0):\n",
    "    train_images[i, 783] += 1"
   ]
  },
  {
   "cell_type": "code",
   "execution_count": 29,
   "id": "8zLYLdHZm9fi",
   "metadata": {
    "id": "8zLYLdHZm9fi"
   },
   "outputs": [],
   "source": [
    "is0_input = layers.Input(shape=28*28)\n",
    "is0_output = layers.Dense(1, activation='sigmoid')(is0_input)\n",
    "\n",
    "is0_model = keras.Model(inputs = is0_input,\n",
    "                        outputs = is0_output,\n",
    "                        name=\"is0\")\n",
    "\n",
    "is0_model.compile(optimizer=\"rmsprop\",\n",
    "              loss=\"binary_crossentropy\",\n",
    "              metrics=[\"binary_accuracy\"])\n",
    "\n",
    "weight_783 = []\n",
    "pixel_callback = keras.callbacks.LambdaCallback(\n",
    "    on_epoch_end = lambda batch, logs: weight_783.append(is0_model.layers[1].get_weights()[0][783,0]))"
   ]
  },
  {
   "cell_type": "code",
   "execution_count": 30,
   "id": "WzTFJAcQ4A6g",
   "metadata": {
    "id": "WzTFJAcQ4A6g"
   },
   "outputs": [],
   "source": [
    "num_epochs = 40\n",
    "weight_783 = []\n",
    "train_labels_0 = np.logical_not((train_labels - 0).astype(\"bool\")).astype(\"float32\")\n",
    "history = is0_model.fit(train_images, train_labels_0, \n",
    "                        validation_split=0.2, \n",
    "                        epochs=num_epochs, \n",
    "                        batch_size=128,\n",
    "                        callbacks=[pixel_callback],\n",
    "                        verbose=0)"
   ]
  },
  {
   "cell_type": "code",
   "execution_count": 31,
   "id": "-HtNc1675Jre",
   "metadata": {
    "colab": {
     "base_uri": "https://localhost:8080/",
     "height": 314
    },
    "id": "-HtNc1675Jre",
    "outputId": "00f22de9-e1fb-44a9-9cf9-5f22e60ebbbd"
   },
   "outputs": [
    {
     "data": {
      "text/plain": [
       "[<matplotlib.lines.Line2D at 0x7fca73182990>]"
      ]
     },
     "execution_count": 31,
     "metadata": {},
     "output_type": "execute_result"
    },
    {
     "data": {
      "image/png": "[encoded data removed]",
      "text/plain": [
       "<Figure size 432x288 with 2 Axes>"
      ]
     },
     "metadata": {
      "needs_background": "light"
     },
     "output_type": "display_data"
    }
   ],
   "source": [
    "history_dict = history.history\n",
    "loss_values = history_dict[\"loss\"]\n",
    "\n",
    "fig, axs = plt.subplots(2, sharex=True, tight_layout=True)\n",
    "\n",
    "start = 1\n",
    "val_loss_values = history_dict[\"val_loss\"]\n",
    "epochs = range(start, len(loss_values) + 1)\n",
    "\n",
    "axs[0].plot(epochs, val_loss_values)\n",
    "axs[1].plot(epochs, weight_783)"
   ]
  },
  {
   "cell_type": "markdown",
   "id": "RZY0ETg7GNxu",
   "metadata": {
    "id": "RZY0ETg7GNxu"
   },
   "source": [
    "### Weight regularization"
   ]
  },
  {
   "cell_type": "code",
   "execution_count": 32,
   "id": "x7TcMgjbGXY4",
   "metadata": {
    "id": "x7TcMgjbGXY4"
   },
   "outputs": [],
   "source": [
    "from tensorflow.keras import regularizers\n",
    "is0_input = layers.Input(shape=28*28)\n",
    "is0_output = layers.Dense(1, \n",
    "                          kernel_regularizer = regularizers.l1_l2(l1 = 1e-4, l2 = 1e-3),\n",
    "                          activation='sigmoid')(is0_input)\n",
    "\n",
    "is0_model = keras.Model(inputs = is0_input,\n",
    "                        outputs = is0_output,\n",
    "                        name=\"is0\")\n",
    "\n",
    "is0_model.compile(optimizer=\"rmsprop\",\n",
    "              loss=\"binary_crossentropy\",\n",
    "              metrics=[\"binary_accuracy\"])\n",
    "\n",
    "weight_783 = []\n",
    "pixel_callback = keras.callbacks.LambdaCallback(\n",
    "    on_epoch_end = lambda batch, logs: weight_783.append(is0_model.layers[1].get_weights()[0][783,0]))"
   ]
  },
  {
   "cell_type": "code",
   "execution_count": 33,
   "id": "ixGXdn71GXY5",
   "metadata": {
    "id": "ixGXdn71GXY5"
   },
   "outputs": [],
   "source": [
    "num_epochs = 40\n",
    "weight_783 = []\n",
    "train_labels_0 = np.logical_not((train_labels - 0).astype(\"bool\")).astype(\"float32\")\n",
    "history = is0_model.fit(train_images, train_labels_0, \n",
    "                        validation_split=0.2, \n",
    "                        epochs=num_epochs, \n",
    "                        batch_size=128,\n",
    "                        callbacks=[pixel_callback],\n",
    "                        verbose=0)"
   ]
  },
  {
   "cell_type": "code",
   "execution_count": 34,
   "id": "EixvkVgZGXY6",
   "metadata": {
    "colab": {
     "base_uri": "https://localhost:8080/",
     "height": 314
    },
    "id": "EixvkVgZGXY6",
    "outputId": "562bdd66-a04c-462b-dfbe-7f136712fd36"
   },
   "outputs": [
    {
     "data": {
      "text/plain": [
       "[<matplotlib.lines.Line2D at 0x7fca72f0e7d0>]"
      ]
     },
     "execution_count": 34,
     "metadata": {},
     "output_type": "execute_result"
    },
    {
     "data": {
      "image/png": "[encoded data removed]",
      "text/plain": [
       "<Figure size 432x288 with 2 Axes>"
      ]
     },
     "metadata": {
      "needs_background": "light"
     },
     "output_type": "display_data"
    }
   ],
   "source": [
    "history_dict = history.history\n",
    "loss_values = history_dict[\"loss\"]\n",
    "\n",
    "fig, axs = plt.subplots(2, sharex=True, tight_layout=True)\n",
    "\n",
    "start = 1\n",
    "val_loss_values = history_dict[\"val_loss\"]\n",
    "epochs = range(start, len(loss_values) + 1)\n",
    "\n",
    "axs[0].plot(epochs, val_loss_values)\n",
    "axs[1].plot(epochs, weight_783)"
   ]
  },
  {
   "cell_type": "markdown",
   "id": "LBptua-IHSZm",
   "metadata": {
    "id": "LBptua-IHSZm"
   },
   "source": [
    "What would the effect of a dropout layer be?"
   ]
  },
  {
   "cell_type": "code",
   "execution_count": 35,
   "id": "Fd0-ESRVU20S",
   "metadata": {
    "colab": {
     "base_uri": "https://localhost:8080/"
    },
    "id": "Fd0-ESRVU20S",
    "outputId": "791595d2-82b5-4057-e2e6-e7f198cc58b8"
   },
   "outputs": [
    {
     "data": {
      "text/plain": [
       "array([[0., 0., 0., ..., 0., 0., 0.],\n",
       "       [0., 0., 0., ..., 0., 0., 0.],\n",
       "       [0., 0., 0., ..., 0., 0., 0.],\n",
       "       ...,\n",
       "       [0., 0., 0., ..., 0., 0., 0.],\n",
       "       [0., 0., 0., ..., 0., 0., 0.],\n",
       "       [0., 0., 0., ..., 0., 0., 0.]], dtype=float32)"
      ]
     },
     "execution_count": 35,
     "metadata": {},
     "output_type": "execute_result"
    }
   ],
   "source": [
    "average_digits"
   ]
  },
  {
   "cell_type": "code",
   "execution_count": 36,
   "id": "xLOa4LhugPWf",
   "metadata": {
    "id": "xLOa4LhugPWf"
   },
   "outputs": [],
   "source": [
    "identifying_features = []\n",
    "for i in range(784):\n",
    "    if (average_digits[:,i] > 0.6).sum() == 1:\n",
    "        identifying_features.append(i)"
   ]
  },
  {
   "cell_type": "code",
   "execution_count": 37,
   "id": "y7WJcEC-hbqv",
   "metadata": {
    "colab": {
     "base_uri": "https://localhost:8080/"
    },
    "id": "y7WJcEC-hbqv",
    "outputId": "210b2501-1831-41d7-c04d-7c5a89c2fbb9"
   },
   "outputs": [
    {
     "name": "stdout",
     "output_type": "stream",
     "text": [
      "357 6516\n",
      "385 6363\n",
      "413 6768\n"
     ]
    }
   ],
   "source": [
    "for feature in identifying_features:\n",
    "    x = (train_images[:,feature] > 0.8).sum()\n",
    "    if x < 7000:\n",
    "        print(feature, x)"
   ]
  },
  {
   "cell_type": "code",
   "execution_count": 38,
   "id": "mr6L8pQEklCp",
   "metadata": {
    "colab": {
     "base_uri": "https://localhost:8080/"
    },
    "id": "mr6L8pQEklCp",
    "outputId": "c68c367e-1b74-42cf-962d-a3f64df47665"
   },
   "outputs": [
    {
     "data": {
      "text/plain": [
       "3031"
      ]
     },
     "execution_count": 38,
     "metadata": {},
     "output_type": "execute_result"
    }
   ],
   "source": [
    "labels_385 = []\n",
    "for i in range(60000):\n",
    "    if train_images[i, 385] > 0.8:\n",
    "        labels_385.append(i)\n",
    "(train_labels[labels_385] == 0).sum()"
   ]
  },
  {
   "cell_type": "markdown",
   "id": "qp4zdx0X0bOq",
   "metadata": {
    "id": "qp4zdx0X0bOq"
   },
   "source": [
    "The above analysis implies that a single pixel can tell us if an image is a 0 or not with ~95% accuracy!"
   ]
  },
  {
   "cell_type": "markdown",
   "id": "pKBQlrKsH32-",
   "metadata": {
    "id": "pKBQlrKsH32-"
   },
   "source": [
    "#Mimicing a decision tree with Neural Networks"
   ]
  },
  {
   "cell_type": "code",
   "execution_count": 39,
   "id": "rTVJw8giIDPx",
   "metadata": {
    "id": "rTVJw8giIDPx"
   },
   "outputs": [],
   "source": [
    "(train_images, train_labels), (test_images, test_labels) = mnist.load_data()\n",
    "\n",
    "def digit_indices(digit, labels = train_labels):\n",
    "    return np.where(labels==digit)\n",
    "\n",
    "def average_digit_image(digit, images = train_images, labels = train_labels):\n",
    "    return np.average(images[digit_indices(labels, digit)],axis=0)\n",
    "\n",
    "average_digits = np.array([average_digit_image(i) for i in range(10)]).reshape((10,28*28))\n",
    "average_digits = average_digits.astype(\"float32\") / 255\n",
    "train_images = train_images.reshape((60000, 28 * 28))\n",
    "train_images = train_images.astype(\"float32\") / 255\n",
    "test_images = test_images.reshape((10000, 28 * 28))\n",
    "test_images = test_images.astype(\"float32\") / 255"
   ]
  },
  {
   "cell_type": "code",
   "execution_count": 41,
   "id": "yScx2yKuIK3y",
   "metadata": {
    "id": "yScx2yKuIK3y"
   },
   "outputs": [],
   "source": [
    "def digit_overlaps(image1, image2):\n",
    "    return np.abs(image1 - image2).sum()/(image1 + image2).sum()"
   ]
  },
  {
   "cell_type": "code",
   "execution_count": 42,
   "id": "b4Ai9r6AIQPA",
   "metadata": {
    "id": "b4Ai9r6AIQPA"
   },
   "outputs": [],
   "source": [
    "overlaps = [ [digit_overlaps(average_digits[i], average_digits[j]) for i in range(10)] for j in range(10)]"
   ]
  },
  {
   "cell_type": "code",
   "execution_count": 43,
   "id": "dw9HeW6_I4Q9",
   "metadata": {
    "id": "dw9HeW6_I4Q9"
   },
   "outputs": [],
   "source": [
    "max_overlaps = []\n",
    "for i in range(10):\n",
    "    x = sorted(overlaps[i], reverse=True)\n",
    "    max_overlaps.append([overlaps[i].index(y) for y in x])"
   ]
  },
  {
   "cell_type": "code",
   "execution_count": 44,
   "id": "9-0keyWrJQIi",
   "metadata": {
    "colab": {
     "base_uri": "https://localhost:8080/"
    },
    "id": "9-0keyWrJQIi",
    "outputId": "d77433dd-1675-42d4-d7a1-98bb946f9fd1"
   },
   "outputs": [
    {
     "data": {
      "text/plain": [
       "[[1, 7, 9, 4, 6, 2, 3, 8, 5, 0],\n",
       " [0, 4, 6, 7, 9, 2, 3, 5, 8, 1],\n",
       " [1, 7, 9, 0, 4, 5, 6, 3, 8, 2],\n",
       " [1, 7, 4, 6, 9, 0, 2, 8, 5, 3],\n",
       " [1, 0, 3, 2, 6, 5, 7, 8, 9, 4],\n",
       " [1, 7, 2, 6, 4, 9, 0, 3, 8, 5],\n",
       " [1, 7, 3, 0, 9, 4, 8, 5, 2, 6],\n",
       " [1, 6, 0, 2, 3, 5, 8, 4, 9, 7],\n",
       " [1, 7, 6, 0, 4, 9, 2, 3, 5, 8],\n",
       " [1, 0, 3, 2, 6, 5, 8, 7, 4, 9]]"
      ]
     },
     "execution_count": 44,
     "metadata": {},
     "output_type": "execute_result"
    }
   ],
   "source": [
    "max_overlaps"
   ]
  },
  {
   "cell_type": "markdown",
   "id": "dl3Ke798OMP6",
   "metadata": {
    "id": "dl3Ke798OMP6"
   },
   "source": [
    "Lets pair the last leaves as follows:\n",
    "\n",
    "(0,1) , (2,7) , (3,4) , (5,6) , (8,9)"
   ]
  },
  {
   "cell_type": "code",
   "execution_count": 45,
   "id": "1vCM9DhMo5q-",
   "metadata": {
    "id": "1vCM9DhMo5q-"
   },
   "outputs": [],
   "source": [
    "def decision_labels(labels, d0, d1, other=[]):\n",
    "    if other:\n",
    "        x = 3\n",
    "    else:\n",
    "        x = 2\n",
    "    num_samples = labels.shape[0]\n",
    "    new_labels = np.zeros(shape=(num_samples, x))\n",
    "    for i in range(num_samples):\n",
    "        if labels[i] in d0:\n",
    "            new_labels[i, 0] += 1\n",
    "        elif labels[i] in d1:\n",
    "            new_labels[i, 1] += 1\n",
    "        else:\n",
    "            new_labels[i, 2] += 1\n",
    "    return new_labels\n",
    "\n",
    "model_input = layers.Input(shape=28*28)"
   ]
  },
  {
   "cell_type": "code",
   "execution_count": 46,
   "id": "kr04i2Lkvsm1",
   "metadata": {
    "id": "kr04i2Lkvsm1"
   },
   "outputs": [],
   "source": [
    "class tree_branch(keras.Model):\n",
    "    def __init__(self, mask):\n",
    "        super().__init__()\n",
    "        self.cc = layers.Concatenate(axis=1)\n",
    "        self.hl = layers.Dense(512, activation='relu')\n",
    "        self.out = layers.Dense(3, activation='softmax')\n",
    "\n",
    "    def call(self, inputs):\n",
    "        output = self.cc(inputs)\n",
    "        output = self.hl(output)\n",
    "        output = self.out(output)\n",
    "        return output"
   ]
  },
  {
   "cell_type": "code",
   "execution_count": 47,
   "id": "KgsbE6B9j-L0",
   "metadata": {
    "colab": {
     "base_uri": "https://localhost:8080/"
    },
    "id": "KgsbE6B9j-L0",
    "outputId": "45afbfc9-965d-4b36-bab8-f8ae0d07b527"
   },
   "outputs": [
    {
     "name": "stdout",
     "output_type": "stream",
     "text": [
      "Epoch 1/10\n",
      "375/375 [==============================] - 4s 10ms/step - loss: 0.1580 - binary_accuracy: 0.9414 - val_loss: 0.0813 - val_binary_accuracy: 0.9718\n",
      "Epoch 2/10\n",
      "375/375 [==============================] - 3s 9ms/step - loss: 0.0705 - binary_accuracy: 0.9757 - val_loss: 0.0689 - val_binary_accuracy: 0.9772\n",
      "Epoch 3/10\n",
      "375/375 [==============================] - 3s 9ms/step - loss: 0.0474 - binary_accuracy: 0.9843 - val_loss: 0.0639 - val_binary_accuracy: 0.9782\n",
      "Epoch 4/10\n",
      "375/375 [==============================] - 3s 9ms/step - loss: 0.0341 - binary_accuracy: 0.9887 - val_loss: 0.0578 - val_binary_accuracy: 0.9808\n",
      "Epoch 5/10\n",
      "375/375 [==============================] - 3s 9ms/step - loss: 0.0241 - binary_accuracy: 0.9924 - val_loss: 0.0453 - val_binary_accuracy: 0.9840\n",
      "Epoch 6/10\n",
      "375/375 [==============================] - 3s 9ms/step - loss: 0.0173 - binary_accuracy: 0.9951 - val_loss: 0.0480 - val_binary_accuracy: 0.9838\n",
      "Epoch 7/10\n",
      "375/375 [==============================] - 3s 9ms/step - loss: 0.0128 - binary_accuracy: 0.9965 - val_loss: 0.0448 - val_binary_accuracy: 0.9857\n",
      "Epoch 8/10\n",
      "375/375 [==============================] - 3s 9ms/step - loss: 0.0085 - binary_accuracy: 0.9981 - val_loss: 0.0490 - val_binary_accuracy: 0.9858\n",
      "Epoch 9/10\n",
      "375/375 [==============================] - 3s 9ms/step - loss: 0.0060 - binary_accuracy: 0.9989 - val_loss: 0.0543 - val_binary_accuracy: 0.9839\n",
      "Epoch 10/10\n",
      "375/375 [==============================] - 3s 9ms/step - loss: 0.0048 - binary_accuracy: 0.9991 - val_loss: 0.0481 - val_binary_accuracy: 0.9861\n"
     ]
    },
    {
     "data": {
      "text/plain": [
       "<keras.callbacks.History at 0x7fca72dd3350>"
      ]
     },
     "execution_count": 47,
     "metadata": {},
     "output_type": "execute_result"
    }
   ],
   "source": [
    "# Decision0 0-9 --> 012789, 3456\n",
    "train_labels_d0 = decision_labels(train_labels, [0,1,2,7,8,9], [3,4,5,6])\n",
    "hl_d0 = layers.Dense(512, activation='relu')(model_input)\n",
    "out_d0 = layers.Dense(2, activation='softmax')(hl_d0)\n",
    "\n",
    "model_d0 = keras.Model(inputs = model_input,\n",
    "                       outputs = out_d0,\n",
    "                       name=\"D0\")\n",
    "\n",
    "model_d0.compile(optimizer=\"adam\",\n",
    "                 loss=\"binary_crossentropy\",\n",
    "                 metrics=[\"binary_accuracy\"])\n",
    "\n",
    "model_d0.fit(train_images, train_labels_d0,\n",
    "             validation_split=0.2,\n",
    "             epochs=10,\n",
    "             batch_size=128)"
   ]
  },
  {
   "cell_type": "code",
   "execution_count": 48,
   "id": "heSEdyoU0giN",
   "metadata": {
    "id": "heSEdyoU0giN"
   },
   "outputs": [],
   "source": [
    "# Decision00 012789 --> 0127, 89\n",
    "train_labels_d00 = decision_labels(train_labels, [0,1,2,7], [8,9], [3,4,5,6])\n",
    "d0 = keras.Input(shape=(2,))\n",
    "model_d00 = tree_branch([model_input, d0])\n",
    "\n",
    "model_d00.compile(optimizer=\"adam\",\n",
    "                  loss=\"categorical_crossentropy\",\n",
    "                  metrics=[\"accuracy\"])"
   ]
  },
  {
   "cell_type": "code",
   "execution_count": 49,
   "id": "cKsbIgAZ1pRm",
   "metadata": {
    "colab": {
     "base_uri": "https://localhost:8080/"
    },
    "id": "cKsbIgAZ1pRm",
    "outputId": "95798d73-b4ce-4b54-9064-278c0dee0cb9"
   },
   "outputs": [
    {
     "name": "stdout",
     "output_type": "stream",
     "text": [
      "Epoch 1/10\n",
      "469/469 [==============================] - 4s 8ms/step - loss: 0.0968 - accuracy: 0.9684\n",
      "Epoch 2/10\n",
      "469/469 [==============================] - 4s 8ms/step - loss: 0.0245 - accuracy: 0.9918\n",
      "Epoch 3/10\n",
      "469/469 [==============================] - 4s 8ms/step - loss: 0.0155 - accuracy: 0.9951\n",
      "Epoch 4/10\n",
      "469/469 [==============================] - 4s 8ms/step - loss: 0.0112 - accuracy: 0.9964\n",
      "Epoch 5/10\n",
      "469/469 [==============================] - 4s 8ms/step - loss: 0.0085 - accuracy: 0.9973\n",
      "Epoch 6/10\n",
      "469/469 [==============================] - 4s 8ms/step - loss: 0.0064 - accuracy: 0.9981\n",
      "Epoch 7/10\n",
      "469/469 [==============================] - 4s 8ms/step - loss: 0.0050 - accuracy: 0.9982\n",
      "Epoch 8/10\n",
      "469/469 [==============================] - 4s 8ms/step - loss: 0.0040 - accuracy: 0.9987\n",
      "Epoch 9/10\n",
      "469/469 [==============================] - 4s 8ms/step - loss: 0.0024 - accuracy: 0.9994\n",
      "Epoch 10/10\n",
      "469/469 [==============================] - 4s 8ms/step - loss: 0.0018 - accuracy: 0.9995\n"
     ]
    },
    {
     "data": {
      "text/plain": [
       "<keras.callbacks.History at 0x7fca72cb1390>"
      ]
     },
     "execution_count": 49,
     "metadata": {},
     "output_type": "execute_result"
    }
   ],
   "source": [
    "model_d00.fit([train_images, train_labels_d0], train_labels_d00,\n",
    "              epochs=10,\n",
    "              batch_size=128)"
   ]
  },
  {
   "cell_type": "markdown",
   "id": "PV3p7gdj7RdF",
   "metadata": {
    "id": "PV3p7gdj7RdF"
   },
   "source": [
    "### Putting d0 and d00 together"
   ]
  },
  {
   "cell_type": "code",
   "execution_count": 50,
   "id": "MoOZdckL9g_i",
   "metadata": {
    "colab": {
     "base_uri": "https://localhost:8080/"
    },
    "id": "MoOZdckL9g_i",
    "outputId": "2ad01d26-9102-461a-a595-f1f2d4b50541"
   },
   "outputs": [
    {
     "name": "stdout",
     "output_type": "stream",
     "text": [
      "Model: \"D0\"\n",
      "_________________________________________________________________\n",
      " Layer (type)                Output Shape              Param #   \n",
      "=================================================================\n",
      " input_6 (InputLayer)        [(None, 784)]             0         \n",
      "                                                                 \n",
      " dense_13 (Dense)            (None, 512)               401920    \n",
      "                                                                 \n",
      " dense_14 (Dense)            (None, 2)                 1026      \n",
      "                                                                 \n",
      "=================================================================\n",
      "Total params: 402,946\n",
      "Trainable params: 402,946\n",
      "Non-trainable params: 0\n",
      "_________________________________________________________________\n"
     ]
    }
   ],
   "source": [
    "model_d0.summary()"
   ]
  },
  {
   "cell_type": "code",
   "execution_count": 51,
   "id": "hdLYeRrlAjwE",
   "metadata": {
    "colab": {
     "base_uri": "https://localhost:8080/"
    },
    "id": "hdLYeRrlAjwE",
    "outputId": "3844b2f8-13f3-463c-c263-da4e4a830094"
   },
   "outputs": [
    {
     "name": "stdout",
     "output_type": "stream",
     "text": [
      "Model: \"tree_branch\"\n",
      "_________________________________________________________________\n",
      " Layer (type)                Output Shape              Param #   \n",
      "=================================================================\n",
      " concatenate_3 (Concatenate)  multiple                 0         \n",
      "                                                                 \n",
      " dense_15 (Dense)            multiple                  402944    \n",
      "                                                                 \n",
      " dense_16 (Dense)            multiple                  1539      \n",
      "                                                                 \n",
      "=================================================================\n",
      "Total params: 404,483\n",
      "Trainable params: 404,483\n",
      "Non-trainable params: 0\n",
      "_________________________________________________________________\n"
     ]
    }
   ],
   "source": [
    "model_d00.summary()"
   ]
  },
  {
   "cell_type": "code",
   "execution_count": 52,
   "id": "a9GuDO5U_oj6",
   "metadata": {
    "id": "a9GuDO5U_oj6"
   },
   "outputs": [],
   "source": [
    "d0_weights = [model_d0.layers[1].get_weights(), model_d0.layers[2].get_weights()]\n",
    "d00_weights = [model_d00.layers[1].get_weights(), model_d00.layers[2].get_weights()]"
   ]
  },
  {
   "cell_type": "code",
   "execution_count": 53,
   "id": "YEFIvHGr_RME",
   "metadata": {
    "colab": {
     "base_uri": "https://localhost:8080/"
    },
    "id": "YEFIvHGr_RME",
    "outputId": "0e094c79-dc04-4400-a3c9-3ea15ffe0569"
   },
   "outputs": [
    {
     "name": "stdout",
     "output_type": "stream",
     "text": [
      "Model: \"model\"\n",
      "__________________________________________________________________________________________________\n",
      " Layer (type)                   Output Shape         Param #     Connected to                     \n",
      "==================================================================================================\n",
      " input_6 (InputLayer)           [(None, 784)]        0           []                               \n",
      "                                                                                                  \n",
      " dense_17 (Dense)               (None, 512)          401920      ['input_6[0][0]']                \n",
      "                                                                                                  \n",
      " dense_18 (Dense)               (None, 2)            1026        ['dense_17[0][0]']               \n",
      "                                                                                                  \n",
      " concatenate_4 (Concatenate)    (None, 786)          0           ['input_6[0][0]',                \n",
      "                                                                  'dense_18[0][0]']               \n",
      "                                                                                                  \n",
      " dense_19 (Dense)               (None, 512)          402944      ['concatenate_4[0][0]']          \n",
      "                                                                                                  \n",
      " dense_20 (Dense)               (None, 3)            1539        ['dense_19[0][0]']               \n",
      "                                                                                                  \n",
      "==================================================================================================\n",
      "Total params: 807,429\n",
      "Trainable params: 0\n",
      "Non-trainable params: 807,429\n",
      "__________________________________________________________________________________________________\n"
     ]
    }
   ],
   "source": [
    "hl1_d0d00 = layers.Dense(512, activation='relu', trainable=False)(model_input)\n",
    "d0_d0d00 = layers.Dense(2, activation='softmax', trainable=False)(hl1_d0d00)\n",
    "cc_d0d00 = layers.Concatenate(axis=1)([model_input, d0_d0d00])\n",
    "hl2_d0d00 = layers.Dense(512, activation='relu', trainable=False)(cc_d0d00)\n",
    "out_d0d00 = layers.Dense(3, activation='softmax', trainable=False)(hl2_d0d00)\n",
    "model_d0d00 = keras.Model(inputs = model_input, outputs = out_d0d00)\n",
    "\n",
    "model_d0d00.build(input_shape=(784,))\n",
    "\n",
    "model_d0d00.summary()"
   ]
  },
  {
   "cell_type": "code",
   "execution_count": 54,
   "id": "yIIpOX6S_Vf7",
   "metadata": {
    "id": "yIIpOX6S_Vf7"
   },
   "outputs": [],
   "source": [
    "model_d0d00.layers[1].set_weights(d0_weights[0])\n",
    "model_d0d00.layers[2].set_weights(d0_weights[1])\n",
    "model_d0d00.layers[4].set_weights(d00_weights[0])\n",
    "model_d0d00.layers[5].set_weights(d00_weights[1])"
   ]
  },
  {
   "cell_type": "code",
   "execution_count": 56,
   "id": "ItR_8JNICiS7",
   "metadata": {
    "colab": {
     "base_uri": "https://localhost:8080/"
    },
    "id": "ItR_8JNICiS7",
    "outputId": "5e439b87-fd4f-4248-d312-13bfc640b287"
   },
   "outputs": [
    {
     "name": "stdout",
     "output_type": "stream",
     "text": [
      "313/313 [==============================] - 3s 7ms/step - loss: 0.1362 - accuracy: 0.9830\n"
     ]
    },
    {
     "data": {
      "text/plain": [
       "[0.1362091600894928, 0.9829999804496765]"
      ]
     },
     "execution_count": 56,
     "metadata": {},
     "output_type": "execute_result"
    }
   ],
   "source": [
    "model_d0d00.compile(optimizer=\"adam\",\n",
    "                    loss=\"categorical_crossentropy\",\n",
    "                    metrics=[\"accuracy\"])\n",
    "\n",
    "test_labels_d00 = decision_labels(test_labels, [0,1,2,7], [8,9], [3,4,5,6])\n",
    "model_d0d00.evaluate(test_images, test_labels_d00)"
   ]
  },
  {
   "cell_type": "code",
   "execution_count": null,
   "id": "znsMF4nUCr3I",
   "metadata": {
    "id": "znsMF4nUCr3I"
   },
   "outputs": [],
   "source": []
  }
 ],
 "metadata": {
  "colab": {
   "collapsed_sections": [
    "Jt2ePlZBA2t2",
    "B0dB_PHXttZI"
   ],
   "name": "More_MNIST.ipynb",
   "provenance": []
  },
  "kernelspec": {
   "display_name": "Python 3 (ipykernel)",
   "language": "python",
   "name": "python3"
  },
  "language_info": {
   "codemirror_mode": {
    "name": "ipython",
    "version": 3
   },
   "file_extension": ".py",
   "mimetype": "text/x-python",
   "name": "python",
   "nbconvert_exporter": "python",
   "pygments_lexer": "ipython3",
   "version": "3.9.7"
  }
 },
 "nbformat": 4,
 "nbformat_minor": 5
}
