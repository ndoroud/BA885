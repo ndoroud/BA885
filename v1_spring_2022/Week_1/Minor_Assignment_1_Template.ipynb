{
 "cells": [
  {
   "cell_type": "markdown",
   "metadata": {
    "id": "qKF7BJzwk83O"
   },
   "source": [
    "# Minor Assignment 1"
   ]
  },
  {
   "cell_type": "markdown",
   "metadata": {
    "id": "qISYemY7lDrZ"
   },
   "source": [
    "The goal of the first two lectures was to familiarize you with manipulating and modifying the building blocks of Neural Networks in Keras to suit your needs.\n",
    "\n",
    "\n",
    "In this assignment, use what you have learned to build a decision tree type neural net with 3 leaves or output nodes.\n",
    "\n",
    "\n",
    "You can use a reduced version of the MNIST dataset with only 4 digits [0,1,2,7] and the model should first decide whether the image represents a [0 or 1] or [2 or 7] before further distinguishing between 0 and 1.\n",
    "\n",
    "\n",
    "If you feel extra motivated you expand the model to also separate 2s from 7s."
   ]
  },
  {
   "cell_type": "code",
   "execution_count": 2,
   "metadata": {
    "id": "_WVbP14ekgh1"
   },
   "outputs": [],
   "source": [
    "import math\n",
    "import numpy as np\n",
    "import matplotlib.pyplot as plt\n",
    "import tensorflow as tf\n",
    "from tensorflow import keras\n",
    "from tensorflow.keras import layers\n",
    "from tensorflow.keras.datasets import mnist\n",
    "from sklearn.utils import shuffle"
   ]
  },
  {
   "cell_type": "code",
   "execution_count": null,
   "metadata": {
    "id": "TYN2_1HPk6qG"
   },
   "outputs": [],
   "source": [
    "# Load the MNIST dataset\n",
    "(train_images, train_labels), (test_images, test_labels) = mnist.load_data()\n",
    "\n",
    "# Use this function to extract the indices of a certain digit from the labels.\n",
    "def digit_indices(digit, labels = train_labels):\n",
    "    return np.where(labels==digit)\n",
    "\n",
    "# Reshape and normalize the imag\n",
    "train_images = train_images.reshape((60000, 28 * 28))\n",
    "train_images = train_images.astype(\"float32\") / 255\n",
    "test_images = test_images.reshape((10000, 28 * 28))\n",
    "test_images = test_images.astype(\"float32\") / 255"
   ]
  },
  {
   "cell_type": "markdown",
   "metadata": {
    "id": "Ryhr4z3Ssd4f"
   },
   "source": [
    "### Model Building"
   ]
  },
  {
   "cell_type": "markdown",
   "metadata": {
    "id": "4UuqUs5WsrpM"
   },
   "source": [
    "Build a model that consists of 2 connected binary classifiers. The first classifier should take MNIST images of the digits in [0,1,2,7] ((784,)-shaped tensors) as input and make the first classification ([0,1] or [2,7])\n",
    "\n",
    "The second classifier should take MNIST images and the result of the previous classification to further distinguish between 0s and 1s.\n",
    "\n",
    "For extra credit you can add a 3rd classifier, similar to the 2nd one, to further distinguish 2s from 7s.\n",
    "\n",
    "- You can use model subclassing to define a binary classifier model class.\n",
    "- You can use layer subclassing to reduce the concat and relu/sigmoid layer combination into one custom layer.\n",
    "- You can train the binary classifiers in stages or in conjunction.\n",
    "\n",
    "Plese add a short paragraph explaining the model building decisions you make."
   ]
  },
  {
   "cell_type": "code",
   "execution_count": null,
   "metadata": {
    "id": "Y78RkldMw_0w"
   },
   "outputs": [],
   "source": []
  }
 ],
 "metadata": {
  "colab": {
   "name": "Minor_Assignment_1_Template.ipynb",
   "provenance": []
  },
  "kernelspec": {
   "display_name": "Python 3 (ipykernel)",
   "language": "python",
   "name": "python3"
  },
  "language_info": {
   "codemirror_mode": {
    "name": "ipython",
    "version": 3
   },
   "file_extension": ".py",
   "mimetype": "text/x-python",
   "name": "python",
   "nbconvert_exporter": "python",
   "pygments_lexer": "ipython3",
   "version": "3.9.7"
  }
 },
 "nbformat": 4,
 "nbformat_minor": 1
}
