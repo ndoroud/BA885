{
 "cells": [
  {
   "cell_type": "code",
   "execution_count": 1,
   "id": "2b2c97ad",
   "metadata": {},
   "outputs": [],
   "source": [
    "import math\n",
    "import numpy as np\n",
    "import matplotlib.pyplot as plt\n",
    "import tensorflow as tf\n",
    "from tensorflow import keras\n",
    "from tensorflow.keras import layers\n",
    "from tensorflow.keras.datasets import mnist\n",
    "from sklearn.utils import shuffle\n",
    "\n",
    "TF_ENABLE_ONEDNN_OPTS=1"
   ]
  },
  {
   "cell_type": "code",
   "execution_count": 2,
   "id": "14fab996",
   "metadata": {},
   "outputs": [],
   "source": [
    "(train_images, train_labels), (test_images, test_labels) = mnist.load_data()\n",
    "\n",
    "def digit_indices(digit, labels = train_labels):\n",
    "    return np.where(labels==digit)\n",
    "\n",
    "def average_digit_image(digit, images = train_images, labels = train_labels):\n",
    "    return np.average(images[digit_indices(labels, digit)],axis=0)\n",
    "\n",
    "average_digits = np.array([average_digit_image(i) for i in range(10)]).reshape((10,28*28))\n",
    "average_digits = average_digits.astype(\"float32\") / 255\n",
    "train_images = train_images.reshape((60000, 28 * 28))\n",
    "train_images = train_images.astype(\"float32\") / 255\n",
    "test_images = test_images.reshape((10000, 28 * 28))\n",
    "test_images = test_images.astype(\"float32\") / 255"
   ]
  },
  {
   "cell_type": "code",
   "execution_count": 33,
   "id": "54639384",
   "metadata": {},
   "outputs": [],
   "source": [
    "def split_features(thresholds = [0.5]*10):\n",
    "    masks = np.zeros((10, 3, 28*28, 1), dtype=\"float32\")\n",
    "    for digit in range(10):\n",
    "        for i in range(28*28):\n",
    "            if average_digits[digit, i] == 0:\n",
    "                masks[digit, 0, i] += 1\n",
    "            elif average_digits[digit, i] <= thresholds[digit]:\n",
    "                masks[digit, 1, i] += 1\n",
    "            else:\n",
    "                masks[digit, 2, i] += 1\n",
    "    return masks"
   ]
  },
  {
   "cell_type": "code",
   "execution_count": 12,
   "id": "a2848a45",
   "metadata": {},
   "outputs": [],
   "source": [
    "model_input = layers.Input(shape=28*28)\n",
    "mask_layers = []\n",
    "concat_layers = []\n",
    "hidden_layers = []\n",
    "for digit in range(10):\n",
    "    mask_layers.append([\n",
    "        layers.Dense(1, trainable=False, name=\"{}_{}\".format(digit,i))(model_input)\n",
    "        for i in range(3)])\n",
    "    concat_layers.append(\n",
    "        layers.Concatenate(axis=1, name=\"concat{}\".format(digit))(mask_layers[digit])\n",
    "    )\n",
    "    hidden_layers.append(\n",
    "        layers.Dense(1, activation=\"sigmoid\", name=\"sigmoid{}\".format(digit))(concat_layers[digit])\n",
    "    )\n",
    "pre_output_layer = layers.Concatenate(axis=1, name=\"pre_output_concat\")(hidden_layers)\n",
    "model_output = layers.Softmax()(pre_output_layer)"
   ]
  },
  {
   "cell_type": "code",
   "execution_count": 34,
   "id": "932bb85c",
   "metadata": {},
   "outputs": [],
   "source": [
    "masks = split_features(thresholds = [0.4, 0.8, 0.3, 0.3, 0.5, 0.4, 0.2, 0.1, 0.5, 0.5])\n",
    "new_bias = np.zeros(shape=(1,), dtype=\"float32\")\n",
    "\n",
    "for digit in range(10):\n",
    "    for i in range(3):\n",
    "        model.get_layer('{}_{}'.format(digit, i)).set_weights([masks[digit, i], new_bias])"
   ]
  },
  {
   "cell_type": "code",
   "execution_count": 20,
   "id": "7b30cbb7",
   "metadata": {},
   "outputs": [],
   "source": [
    "sub_models = [\n",
    "    keras.Model(inputs = model_input,\n",
    "               outputs = hidden_layers[digit],\n",
    "               name = \"is{}_model\".format(digit))\n",
    "    for digit in range(10)\n",
    "]\n",
    "\n",
    "for digit in range(10):\n",
    "    sub_models[digit].compile(optimizer = \"rmsprop\",\n",
    "                              loss = \"binary_crossentropy\",\n",
    "                              metrics = [\"binary_accuracy\"])\n",
    " "
   ]
  },
  {
   "cell_type": "code",
   "execution_count": 32,
   "id": "d03ec7a2",
   "metadata": {},
   "outputs": [
    {
     "name": "stdout",
     "output_type": "stream",
     "text": [
      "Epoch 1/20\n",
      "469/469 [==============================] - 1s 2ms/step - loss: 0.3681 - binary_accuracy: 0.8802\n",
      "Epoch 2/20\n",
      "469/469 [==============================] - 1s 3ms/step - loss: 0.2868 - binary_accuracy: 0.8861\n",
      "Epoch 3/20\n",
      "469/469 [==============================] - 1s 2ms/step - loss: 0.2724 - binary_accuracy: 0.8860\n",
      "Epoch 4/20\n",
      "469/469 [==============================] - 2s 3ms/step - loss: 0.2593 - binary_accuracy: 0.8861\n",
      "Epoch 5/20\n",
      "469/469 [==============================] - 5s 11ms/step - loss: 0.2475 - binary_accuracy: 0.8864\n",
      "Epoch 6/20\n",
      "469/469 [==============================] - 5s 10ms/step - loss: 0.2365 - binary_accuracy: 0.8862\n",
      "Epoch 7/20\n",
      "469/469 [==============================] - 5s 11ms/step - loss: 0.2269 - binary_accuracy: 0.8862\n",
      "Epoch 8/20\n",
      "469/469 [==============================] - 5s 10ms/step - loss: 0.2185 - binary_accuracy: 0.8856\n",
      "Epoch 9/20\n",
      "469/469 [==============================] - 4s 9ms/step - loss: 0.2113 - binary_accuracy: 0.8854\n",
      "Epoch 10/20\n",
      "469/469 [==============================] - 5s 10ms/step - loss: 0.2050 - binary_accuracy: 0.8874\n",
      "Epoch 11/20\n",
      "469/469 [==============================] - 5s 10ms/step - loss: 0.1993 - binary_accuracy: 0.8917\n",
      "Epoch 12/20\n",
      "469/469 [==============================] - 5s 10ms/step - loss: 0.1945 - binary_accuracy: 0.8975\n",
      "Epoch 13/20\n",
      "469/469 [==============================] - 6s 12ms/step - loss: 0.1906 - binary_accuracy: 0.9023\n",
      "Epoch 14/20\n",
      "469/469 [==============================] - 5s 11ms/step - loss: 0.1872 - binary_accuracy: 0.9072\n",
      "Epoch 15/20\n",
      "469/469 [==============================] - 5s 11ms/step - loss: 0.1841 - binary_accuracy: 0.9115\n",
      "Epoch 16/20\n",
      "469/469 [==============================] - 6s 14ms/step - loss: 0.1818 - binary_accuracy: 0.9143\n",
      "Epoch 17/20\n",
      "469/469 [==============================] - 5s 11ms/step - loss: 0.1799 - binary_accuracy: 0.9169\n",
      "Epoch 18/20\n",
      "469/469 [==============================] - 6s 12ms/step - loss: 0.1781 - binary_accuracy: 0.9186\n",
      "Epoch 19/20\n",
      "469/469 [==============================] - 6s 12ms/step - loss: 0.1766 - binary_accuracy: 0.9198\n",
      "Epoch 20/20\n",
      "469/469 [==============================] - 5s 10ms/step - loss: 0.1754 - binary_accuracy: 0.9209: 0s - loss: 0.1756 - binary_accuracy:\n"
     ]
    },
    {
     "data": {
      "text/plain": [
       "<tensorflow.python.keras.callbacks.History at 0x7fed4ccf5e20>"
      ]
     },
     "execution_count": 32,
     "metadata": {},
     "output_type": "execute_result"
    }
   ],
   "source": [
    "train_labels_b = np.logical_not((train_labels - 1).astype(\"bool\")).astype(\"float32\")\n",
    "sub_models[0].fit(train_images, train_labels_b, epochs=20, batch_size=128)"
   ]
  },
  {
   "cell_type": "code",
   "execution_count": null,
   "id": "5b228fdf",
   "metadata": {
    "scrolled": true
   },
   "outputs": [],
   "source": [
    "for digit in range(10):\n",
    "    train_labels_b = np.logical_not((train_labels - digit).astype(\"bool\")).astype(\"float32\")\n",
    "    sub_models[digit].fit(train_images, train_labels, epochs=20, batch_size=128)"
   ]
  },
  {
   "cell_type": "code",
   "execution_count": 13,
   "id": "51f4ccfa",
   "metadata": {
    "scrolled": true
   },
   "outputs": [
    {
     "name": "stdout",
     "output_type": "stream",
     "text": [
      "Model: \"single_digit_model\"\n",
      "__________________________________________________________________________________________________\n",
      "Layer (type)                    Output Shape         Param #     Connected to                     \n",
      "==================================================================================================\n",
      "input_3 (InputLayer)            [(None, 784)]        0                                            \n",
      "__________________________________________________________________________________________________\n",
      "0_0 (Dense)                     (None, 1)            785         input_3[0][0]                    \n",
      "__________________________________________________________________________________________________\n",
      "0_1 (Dense)                     (None, 1)            785         input_3[0][0]                    \n",
      "__________________________________________________________________________________________________\n",
      "0_2 (Dense)                     (None, 1)            785         input_3[0][0]                    \n",
      "__________________________________________________________________________________________________\n",
      "1_0 (Dense)                     (None, 1)            785         input_3[0][0]                    \n",
      "__________________________________________________________________________________________________\n",
      "1_1 (Dense)                     (None, 1)            785         input_3[0][0]                    \n",
      "__________________________________________________________________________________________________\n",
      "1_2 (Dense)                     (None, 1)            785         input_3[0][0]                    \n",
      "__________________________________________________________________________________________________\n",
      "2_0 (Dense)                     (None, 1)            785         input_3[0][0]                    \n",
      "__________________________________________________________________________________________________\n",
      "2_1 (Dense)                     (None, 1)            785         input_3[0][0]                    \n",
      "__________________________________________________________________________________________________\n",
      "2_2 (Dense)                     (None, 1)            785         input_3[0][0]                    \n",
      "__________________________________________________________________________________________________\n",
      "3_0 (Dense)                     (None, 1)            785         input_3[0][0]                    \n",
      "__________________________________________________________________________________________________\n",
      "3_1 (Dense)                     (None, 1)            785         input_3[0][0]                    \n",
      "__________________________________________________________________________________________________\n",
      "3_2 (Dense)                     (None, 1)            785         input_3[0][0]                    \n",
      "__________________________________________________________________________________________________\n",
      "4_0 (Dense)                     (None, 1)            785         input_3[0][0]                    \n",
      "__________________________________________________________________________________________________\n",
      "4_1 (Dense)                     (None, 1)            785         input_3[0][0]                    \n",
      "__________________________________________________________________________________________________\n",
      "4_2 (Dense)                     (None, 1)            785         input_3[0][0]                    \n",
      "__________________________________________________________________________________________________\n",
      "5_0 (Dense)                     (None, 1)            785         input_3[0][0]                    \n",
      "__________________________________________________________________________________________________\n",
      "5_1 (Dense)                     (None, 1)            785         input_3[0][0]                    \n",
      "__________________________________________________________________________________________________\n",
      "5_2 (Dense)                     (None, 1)            785         input_3[0][0]                    \n",
      "__________________________________________________________________________________________________\n",
      "6_0 (Dense)                     (None, 1)            785         input_3[0][0]                    \n",
      "__________________________________________________________________________________________________\n",
      "6_1 (Dense)                     (None, 1)            785         input_3[0][0]                    \n",
      "__________________________________________________________________________________________________\n",
      "6_2 (Dense)                     (None, 1)            785         input_3[0][0]                    \n",
      "__________________________________________________________________________________________________\n",
      "7_0 (Dense)                     (None, 1)            785         input_3[0][0]                    \n",
      "__________________________________________________________________________________________________\n",
      "7_1 (Dense)                     (None, 1)            785         input_3[0][0]                    \n",
      "__________________________________________________________________________________________________\n",
      "7_2 (Dense)                     (None, 1)            785         input_3[0][0]                    \n",
      "__________________________________________________________________________________________________\n",
      "8_0 (Dense)                     (None, 1)            785         input_3[0][0]                    \n",
      "__________________________________________________________________________________________________\n",
      "8_1 (Dense)                     (None, 1)            785         input_3[0][0]                    \n",
      "__________________________________________________________________________________________________\n",
      "8_2 (Dense)                     (None, 1)            785         input_3[0][0]                    \n",
      "__________________________________________________________________________________________________\n",
      "9_0 (Dense)                     (None, 1)            785         input_3[0][0]                    \n",
      "__________________________________________________________________________________________________\n",
      "9_1 (Dense)                     (None, 1)            785         input_3[0][0]                    \n",
      "__________________________________________________________________________________________________\n",
      "9_2 (Dense)                     (None, 1)            785         input_3[0][0]                    \n",
      "__________________________________________________________________________________________________\n",
      "concat0 (Concatenate)           (None, 3)            0           0_0[0][0]                        \n",
      "                                                                 0_1[0][0]                        \n",
      "                                                                 0_2[0][0]                        \n",
      "__________________________________________________________________________________________________\n",
      "concat1 (Concatenate)           (None, 3)            0           1_0[0][0]                        \n",
      "                                                                 1_1[0][0]                        \n",
      "                                                                 1_2[0][0]                        \n",
      "__________________________________________________________________________________________________\n",
      "concat2 (Concatenate)           (None, 3)            0           2_0[0][0]                        \n",
      "                                                                 2_1[0][0]                        \n",
      "                                                                 2_2[0][0]                        \n",
      "__________________________________________________________________________________________________\n",
      "concat3 (Concatenate)           (None, 3)            0           3_0[0][0]                        \n",
      "                                                                 3_1[0][0]                        \n",
      "                                                                 3_2[0][0]                        \n",
      "__________________________________________________________________________________________________\n",
      "concat4 (Concatenate)           (None, 3)            0           4_0[0][0]                        \n",
      "                                                                 4_1[0][0]                        \n",
      "                                                                 4_2[0][0]                        \n",
      "__________________________________________________________________________________________________\n",
      "concat5 (Concatenate)           (None, 3)            0           5_0[0][0]                        \n",
      "                                                                 5_1[0][0]                        \n",
      "                                                                 5_2[0][0]                        \n",
      "__________________________________________________________________________________________________\n",
      "concat6 (Concatenate)           (None, 3)            0           6_0[0][0]                        \n",
      "                                                                 6_1[0][0]                        \n",
      "                                                                 6_2[0][0]                        \n",
      "__________________________________________________________________________________________________\n",
      "concat7 (Concatenate)           (None, 3)            0           7_0[0][0]                        \n",
      "                                                                 7_1[0][0]                        \n",
      "                                                                 7_2[0][0]                        \n",
      "__________________________________________________________________________________________________\n",
      "concat8 (Concatenate)           (None, 3)            0           8_0[0][0]                        \n",
      "                                                                 8_1[0][0]                        \n",
      "                                                                 8_2[0][0]                        \n",
      "__________________________________________________________________________________________________\n",
      "concat9 (Concatenate)           (None, 3)            0           9_0[0][0]                        \n",
      "                                                                 9_1[0][0]                        \n",
      "                                                                 9_2[0][0]                        \n",
      "__________________________________________________________________________________________________\n",
      "sigmoid0 (Dense)                (None, 1)            4           concat0[0][0]                    \n",
      "__________________________________________________________________________________________________\n",
      "sigmoid1 (Dense)                (None, 1)            4           concat1[0][0]                    \n",
      "__________________________________________________________________________________________________\n",
      "sigmoid2 (Dense)                (None, 1)            4           concat2[0][0]                    \n",
      "__________________________________________________________________________________________________\n",
      "sigmoid3 (Dense)                (None, 1)            4           concat3[0][0]                    \n",
      "__________________________________________________________________________________________________\n",
      "sigmoid4 (Dense)                (None, 1)            4           concat4[0][0]                    \n",
      "__________________________________________________________________________________________________\n",
      "sigmoid5 (Dense)                (None, 1)            4           concat5[0][0]                    \n",
      "__________________________________________________________________________________________________\n",
      "sigmoid6 (Dense)                (None, 1)            4           concat6[0][0]                    \n",
      "__________________________________________________________________________________________________\n",
      "sigmoid7 (Dense)                (None, 1)            4           concat7[0][0]                    \n",
      "__________________________________________________________________________________________________\n",
      "sigmoid8 (Dense)                (None, 1)            4           concat8[0][0]                    \n",
      "__________________________________________________________________________________________________\n",
      "sigmoid9 (Dense)                (None, 1)            4           concat9[0][0]                    \n",
      "__________________________________________________________________________________________________\n",
      "pre_output_concat (Concatenate) (None, 10)           0           sigmoid0[0][0]                   \n",
      "                                                                 sigmoid1[0][0]                   \n",
      "                                                                 sigmoid2[0][0]                   \n",
      "                                                                 sigmoid3[0][0]                   \n",
      "                                                                 sigmoid4[0][0]                   \n",
      "                                                                 sigmoid5[0][0]                   \n",
      "                                                                 sigmoid6[0][0]                   \n",
      "                                                                 sigmoid7[0][0]                   \n",
      "                                                                 sigmoid8[0][0]                   \n",
      "                                                                 sigmoid9[0][0]                   \n",
      "__________________________________________________________________________________________________\n",
      "softmax_2 (Softmax)             (None, 10)           0           pre_output_concat[0][0]          \n",
      "==================================================================================================\n",
      "Total params: 23,590\n",
      "Trainable params: 40\n",
      "Non-trainable params: 23,550\n",
      "__________________________________________________________________________________________________\n"
     ]
    }
   ],
   "source": [
    "model = keras.Model(inputs = model_input,\n",
    "                    outputs = model_output,\n",
    "                    name = \"single_digit_model\")\n",
    "\n",
    "model.compile(optimizer = \"rmsprop\",\n",
    "              loss = \"sparse_categorical_crossentropy\",\n",
    "              metrics = [\"accuracy\"])\n",
    "\n",
    "model.summary()"
   ]
  },
  {
   "cell_type": "code",
   "execution_count": 9,
   "id": "dc03ea4f",
   "metadata": {},
   "outputs": [
    {
     "name": "stdout",
     "output_type": "stream",
     "text": [
      "Epoch 1/10\n",
      "375/375 [==============================] - 4s 6ms/step - loss: 2.3373 - accuracy: 0.1476 - val_loss: 2.3368 - val_accuracy: 0.1482\n",
      "Epoch 2/10\n",
      "375/375 [==============================] - 2s 5ms/step - loss: 2.3297 - accuracy: 0.1457 - val_loss: 2.3127 - val_accuracy: 0.1488\n",
      "Epoch 3/10\n",
      "375/375 [==============================] - 4s 10ms/step - loss: 2.3049 - accuracy: 0.1463 - val_loss: 2.2938 - val_accuracy: 0.1501\n",
      "Epoch 4/10\n",
      "375/375 [==============================] - 6s 15ms/step - loss: 2.2974 - accuracy: 0.1473 - val_loss: 2.2927 - val_accuracy: 0.1584\n",
      "Epoch 5/10\n",
      "375/375 [==============================] - 7s 19ms/step - loss: 2.2709 - accuracy: 0.1801 - val_loss: 2.2380 - val_accuracy: 0.1862\n",
      "Epoch 6/10\n",
      "375/375 [==============================] - 5s 14ms/step - loss: 2.2410 - accuracy: 0.1816 - val_loss: 2.2347 - val_accuracy: 0.1866\n",
      "Epoch 7/10\n",
      "375/375 [==============================] - 6s 16ms/step - loss: 2.2392 - accuracy: 0.1816 - val_loss: 2.2337 - val_accuracy: 0.1907\n",
      "Epoch 8/10\n",
      "375/375 [==============================] - 6s 16ms/step - loss: 2.2382 - accuracy: 0.1835 - val_loss: 2.2327 - val_accuracy: 0.1840\n",
      "Epoch 9/10\n",
      "375/375 [==============================] - 6s 15ms/step - loss: 2.2077 - accuracy: 0.1803 - val_loss: 2.1592 - val_accuracy: 0.1840\n",
      "Epoch 10/10\n",
      "375/375 [==============================] - 6s 16ms/step - loss: 2.1522 - accuracy: 0.1812 - val_loss: 2.1488 - val_accuracy: 0.1873\n"
     ]
    },
    {
     "data": {
      "text/plain": [
       "<tensorflow.python.keras.callbacks.History at 0x7fedec7e5a90>"
      ]
     },
     "execution_count": 9,
     "metadata": {},
     "output_type": "execute_result"
    }
   ],
   "source": [
    "model.fit(train_images, train_labels, validation_split=0.2, epochs=10, batch_size=128)"
   ]
  },
  {
   "cell_type": "code",
   "execution_count": 10,
   "id": "bcb2fd86",
   "metadata": {},
   "outputs": [
    {
     "name": "stdout",
     "output_type": "stream",
     "text": [
      "313/313 [==============================] - 1s 3ms/step - loss: 2.1447 - accuracy: 0.1849\n"
     ]
    },
    {
     "data": {
      "text/plain": [
       "[2.144726037979126, 0.18490000069141388]"
      ]
     },
     "execution_count": 10,
     "metadata": {},
     "output_type": "execute_result"
    }
   ],
   "source": [
    "model.evaluate(test_images, test_labels)"
   ]
  },
  {
   "cell_type": "code",
   "execution_count": null,
   "id": "244c70df",
   "metadata": {},
   "outputs": [],
   "source": []
  }
 ],
 "metadata": {
  "kernelspec": {
   "display_name": "Python [conda env:tf]",
   "language": "python",
   "name": "conda-env-tf-py"
  },
  "language_info": {
   "codemirror_mode": {
    "name": "ipython",
    "version": 3
   },
   "file_extension": ".py",
   "mimetype": "text/x-python",
   "name": "python",
   "nbconvert_exporter": "python",
   "pygments_lexer": "ipython3",
   "version": "3.10.9"
  }
 },
 "nbformat": 4,
 "nbformat_minor": 5
}
