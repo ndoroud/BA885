{
 "cells": [
  {
   "cell_type": "code",
   "execution_count": 1,
   "id": "73c196df",
   "metadata": {
    "id": "73c196df"
   },
   "outputs": [],
   "source": [
    "import math\n",
    "import numpy as np\n",
    "import matplotlib.pyplot as plt\n",
    "import tensorflow as tf\n",
    "from tensorflow import keras\n",
    "from tensorflow.keras import layers\n",
    "from tensorflow.keras.datasets import mnist\n",
    "from sklearn.utils import shuffle\n",
    "\n",
    "TF_ENABLE_ONEDNN_OPTS=1"
   ]
  },
  {
   "cell_type": "markdown",
   "id": "1e79f5d1",
   "metadata": {
    "id": "1e79f5d1"
   },
   "source": [
    "# Training a simple binary classification model"
   ]
  },
  {
   "cell_type": "code",
   "execution_count": 2,
   "id": "58d1f7fc",
   "metadata": {
    "colab": {
     "base_uri": "https://localhost:8080/"
    },
    "id": "58d1f7fc",
    "outputId": "1d0913ee-ef5a-4204-c608-a2cdd2b615e7"
   },
   "outputs": [
    {
     "name": "stdout",
     "output_type": "stream",
     "text": [
      "Downloading data from https://storage.googleapis.com/tensorflow/tf-keras-datasets/mnist.npz\n",
      "11493376/11490434 [==============================] - 0s 0us/step\n",
      "11501568/11490434 [==============================] - 0s 0us/step\n"
     ]
    }
   ],
   "source": [
    "(train_images, train_labels), (test_images, test_labels) = mnist.load_data()\n",
    "\n",
    "train_images = train_images.reshape((60000, 28 * 28))\n",
    "train_images = train_images.astype(\"float32\") / 255\n",
    "test_images = test_images.reshape((10000, 28 * 28))\n",
    "test_images = test_images.astype(\"float32\") / 255\n",
    "\n",
    "train_labels_is0 = []\n",
    "for label in train_labels:\n",
    "    train_labels_is0.append(int(not(bool(label))))\n",
    "train_labels_is0 = np.array(train_labels_is0, dtype=\"float32\")\n",
    "\n",
    "test_labels_is0 = []\n",
    "for label in test_labels:\n",
    "    test_labels_is0.append(int(not(bool(label))))\n",
    "test_labels_is0 = np.array(test_labels_is0, dtype=\"float32\")"
   ]
  },
  {
   "cell_type": "code",
   "execution_count": null,
   "id": "51c07e02",
   "metadata": {
    "id": "51c07e02"
   },
   "outputs": [],
   "source": [
    "is0_input = layers.Input(shape=28*28)\n",
    "is0_layer1 = layers.Dense(1, activation=\"sigmoid\")\n",
    "is0_output = is0_layer1(is0_input)\n",
    "\n",
    "is0_model = keras.Model(inputs = is0_input,\n",
    "                        outputs = is0_output,\n",
    "                        name=\"is0\")"
   ]
  },
  {
   "cell_type": "code",
   "execution_count": null,
   "id": "6f163b29",
   "metadata": {
    "id": "6f163b29"
   },
   "outputs": [],
   "source": [
    "is0_model.compile(optimizer=\"rmsprop\",\n",
    "              loss=\"binary_crossentropy\",\n",
    "              metrics=[\"binary_accuracy\"])"
   ]
  },
  {
   "cell_type": "code",
   "execution_count": null,
   "id": "17db3b7a",
   "metadata": {
    "id": "17db3b7a",
    "scrolled": true
   },
   "outputs": [],
   "source": [
    "history = is0_model.fit(train_images, train_labels_is0, \n",
    "                        validation_split=0.2, \n",
    "                        epochs=50, batch_size=128)"
   ]
  },
  {
   "cell_type": "code",
   "execution_count": null,
   "id": "8edfcd29",
   "metadata": {
    "colab": {
     "base_uri": "https://localhost:8080/"
    },
    "id": "8edfcd29",
    "outputId": "11790f36-a463-405f-b95c-1565f8a563ed"
   },
   "outputs": [
    {
     "data": {
      "text/plain": [
       "dict_keys(['loss', 'binary_accuracy', 'val_loss', 'val_binary_accuracy'])"
      ]
     },
     "execution_count": 6,
     "metadata": {},
     "output_type": "execute_result"
    }
   ],
   "source": [
    "history_dict = history.history\n",
    "history_dict.keys()"
   ]
  },
  {
   "cell_type": "code",
   "execution_count": null,
   "id": "6b5eb80d",
   "metadata": {
    "colab": {
     "base_uri": "https://localhost:8080/",
     "height": 295
    },
    "id": "6b5eb80d",
    "outputId": "34c96b9d-ec6d-4abc-c71e-482dcd702733"
   },
   "outputs": [
    {
     "data": {
      "image/png": "[encoded data removed]",
      "text/plain": [
       "<Figure size 432x288 with 1 Axes>"
      ]
     },
     "metadata": {
      "needs_background": "light"
     },
     "output_type": "display_data"
    }
   ],
   "source": [
    "history_dict = history.history\n",
    "loss_values = history_dict[\"loss\"]\n",
    "start = 5\n",
    "val_loss_values = history_dict[\"val_loss\"]\n",
    "epochs = range(start, len(loss_values) + 1)\n",
    "plt.plot(epochs, loss_values[start-1:], \"bo\", label=\"Training loss\")\n",
    "plt.plot(epochs, val_loss_values[start-1:], \"b\", label=\"Validation loss\")\n",
    "plt.title(\"Training and validation loss\")\n",
    "plt.xlabel(\"Epochs\")\n",
    "plt.ylabel(\"Loss\")\n",
    "plt.legend()\n",
    "plt.show()"
   ]
  },
  {
   "cell_type": "markdown",
   "id": "cbeb4888",
   "metadata": {
    "id": "cbeb4888"
   },
   "source": [
    "You can draw 2 conclusions from this plot:\n",
    "\n",
    "1_ The model performance plateaus after ~25 epochs\n",
    "\n",
    "2_ The model is too restricted to significantly overfit to our training data\n",
    "\n",
    "Now let us check how the model performs on our test data."
   ]
  },
  {
   "cell_type": "code",
   "execution_count": null,
   "id": "39e89328",
   "metadata": {
    "colab": {
     "base_uri": "https://localhost:8080/"
    },
    "id": "39e89328",
    "outputId": "b16da123-188f-4119-f40e-d49710fa5ae9"
   },
   "outputs": [
    {
     "name": "stdout",
     "output_type": "stream",
     "text": [
      "313/313 [==============================] - 1s 3ms/step - loss: 0.0242 - binary_accuracy: 0.9930\n"
     ]
    },
    {
     "data": {
      "text/plain": [
       "[0.02422448806464672, 0.9929999709129333]"
      ]
     },
     "execution_count": 8,
     "metadata": {},
     "output_type": "execute_result"
    }
   ],
   "source": [
    "is0_model.evaluate(test_images, test_labels_is0)"
   ]
  },
  {
   "cell_type": "code",
   "execution_count": null,
   "id": "8040383c",
   "metadata": {
    "id": "8040383c"
   },
   "outputs": [],
   "source": [
    "weights = is0_model.layers[1].get_weights()[0]\n",
    "weights = weights + abs(weights.min())\n",
    "weights = weights.reshape(28,28)"
   ]
  },
  {
   "cell_type": "code",
   "execution_count": null,
   "id": "6380a193",
   "metadata": {
    "colab": {
     "base_uri": "https://localhost:8080/",
     "height": 265
    },
    "id": "6380a193",
    "outputId": "9506c704-c9df-4f77-fe36-7e47dfbb1959"
   },
   "outputs": [
    {
     "data": {
      "image/png": "[encoded data removed]",
      "text/plain": [
       "<Figure size 432x288 with 1 Axes>"
      ]
     },
     "metadata": {
      "needs_background": "light"
     },
     "output_type": "display_data"
    }
   ],
   "source": [
    "plt.imshow(weights, cmap=plt.cm.binary)\n",
    "plt.show()"
   ]
  },
  {
   "cell_type": "markdown",
   "id": "ffa53431",
   "metadata": {
    "id": "ffa53431"
   },
   "source": [
    "# Manual feature selection"
   ]
  },
  {
   "cell_type": "code",
   "execution_count": 4,
   "id": "82062895",
   "metadata": {
    "colab": {
     "base_uri": "https://localhost:8080/",
     "height": 265
    },
    "id": "82062895",
    "outputId": "3c68fa03-9f5c-4fdf-824f-3a0707510a5d"
   },
   "outputs": [
    {
     "data": {
      "image/png": "[encoded data removed]",
      "text/plain": [
       "<Figure size 432x288 with 1 Axes>"
      ]
     },
     "metadata": {
      "needs_background": "light"
     },
     "output_type": "display_data"
    }
   ],
   "source": [
    "(train_images, train_labels), (test_images, test_labels) = mnist.load_data()\n",
    "\n",
    "zero_indices = np.where(train_labels==0)\n",
    "average_zero_image = np.average(train_images[zero_indices],axis=0)\n",
    "\n",
    "digit = average_zero_image\n",
    "plt.imshow(digit, cmap=plt.cm.binary)\n",
    "plt.show()"
   ]
  },
  {
   "cell_type": "code",
   "execution_count": 5,
   "id": "953eade7",
   "metadata": {
    "id": "953eade7"
   },
   "outputs": [],
   "source": [
    "train_images = train_images.reshape((60000, 28 * 28))\n",
    "train_images = train_images.astype(\"float32\") / 255\n",
    "test_images = test_images.reshape((10000, 28 * 28))\n",
    "test_images = test_images.astype(\"float32\") / 255\n",
    "average_zero_image = average_zero_image.reshape((28 * 28,))\n",
    "average_zero_image = average_zero_image.astype(\"float32\") / 255"
   ]
  },
  {
   "cell_type": "code",
   "execution_count": 6,
   "id": "0440a3f8",
   "metadata": {
    "id": "0440a3f8"
   },
   "outputs": [],
   "source": [
    "train_labels_is0 = []\n",
    "for label in train_labels:\n",
    "    train_labels_is0.append(int(not(bool(label))))\n",
    "train_labels_is0 = np.array(train_labels_is0, dtype=\"float32\")\n",
    "\n",
    "test_labels_is0 = []\n",
    "for label in test_labels:\n",
    "    test_labels_is0.append(int(not(bool(label))))\n",
    "test_labels_is0 = np.array(test_labels_is0, dtype=\"float32\")"
   ]
  },
  {
   "cell_type": "markdown",
   "id": "l-UXmXCNKV2v",
   "metadata": {
    "id": "l-UXmXCNKV2v"
   },
   "source": [
    "To assign weights to our features based on average_zero_image we need 3 new hyper parameters: \n",
    "\n",
    "1_ threshold : the shade of gray above which the corresponding weight is positive\n",
    "\n",
    "2_ bt_weight : the weight associated with gray pixels below threshold\n",
    "\n",
    "3_ zero_weight : the weight associated with the white pixels\n"
   ]
  },
  {
   "cell_type": "code",
   "execution_count": 7,
   "id": "cB0o5d4wGM6u",
   "metadata": {
    "id": "cB0o5d4wGM6u"
   },
   "outputs": [],
   "source": [
    "threshold = 0.3\n",
    "bt_weight = -1\n",
    "zero_weight = -5\n",
    "\n",
    "av_zero_zeros = []\n",
    "av_zero_at = []\n",
    "av_zero_bt = []\n",
    "\n",
    "for i in range(28*28):\n",
    "    if average_zero_image[i] == 0:\n",
    "        av_zero_zeros.append(i)\n",
    "    elif average_zero_image[i] >= threshold:\n",
    "        av_zero_at.append(i)\n",
    "    else:\n",
    "        av_zero_bt.append(i)"
   ]
  },
  {
   "cell_type": "code",
   "execution_count": 8,
   "id": "_Ux16683TAq7",
   "metadata": {
    "id": "_Ux16683TAq7"
   },
   "outputs": [],
   "source": [
    "new_weights_weights = np.copy(average_zero_image)\n",
    "new_weights_weights[av_zero_zeros] += zero_weight\n",
    "new_weights_weights[av_zero_at] = np.ones(len(av_zero_at),dtype=\"float32\")\n",
    "new_weights_weights[av_zero_bt] = bt_weight*np.ones(len(av_zero_bt),dtype=\"float32\")"
   ]
  },
  {
   "cell_type": "code",
   "execution_count": 9,
   "id": "AxRHbfnKRclY",
   "metadata": {
    "colab": {
     "base_uri": "https://localhost:8080/",
     "height": 265
    },
    "id": "AxRHbfnKRclY",
    "outputId": "10433eaa-b10c-4c9b-988f-93e1853c0663"
   },
   "outputs": [
    {
     "data": {
      "image/png": "[encoded data removed]",
      "text/plain": [
       "<Figure size 432x288 with 1 Axes>"
      ]
     },
     "metadata": {
      "needs_background": "light"
     },
     "output_type": "display_data"
    }
   ],
   "source": [
    "plt.imshow((new_weights_weights - zero_weight).reshape(28,28), cmap=plt.cm.binary)\n",
    "plt.show()"
   ]
  },
  {
   "cell_type": "code",
   "execution_count": null,
   "id": "264905d1",
   "metadata": {
    "id": "264905d1"
   },
   "outputs": [],
   "source": [
    "weightdotinput = []\n",
    "for image in train_images:\n",
    "    weightdotinput.append(np.dot(new_weights_weights, image))\n",
    "weightdotinput = np.array(weightdotinput)\n",
    "\n",
    "nonzero_indices = np.delete(np.arange(train_labels.shape[0]),zero_indices)\n",
    "dist0 = weightdotinput[zero_indices].astype(int)\n",
    "dist1 = weightdotinput[nonzero_indices].astype(int)\n",
    "\n",
    "n_bins0 = dist0.max() - dist0.min()\n",
    "n_bins1 = dist1.max() - dist1.min()"
   ]
  },
  {
   "cell_type": "code",
   "execution_count": null,
   "id": "yuF549n8UfRI",
   "metadata": {
    "colab": {
     "base_uri": "https://localhost:8080/",
     "height": 1000
    },
    "id": "yuF549n8UfRI",
    "outputId": "95e2b3a8-96be-42d3-b2a8-daf19f56099d"
   },
   "outputs": [
    {
     "data": {
      "text/plain": [
       "(array([1.000e+00, 2.000e+00, 0.000e+00, 0.000e+00, 1.000e+00, 1.000e+00,\n",
       "        3.000e+00, 1.000e+00, 3.000e+00, 1.000e+00, 0.000e+00, 2.000e+00,\n",
       "        3.000e+00, 1.000e+00, 4.000e+00, 4.000e+00, 5.000e+00, 8.000e+00,\n",
       "        8.000e+00, 1.200e+01, 1.000e+01, 1.300e+01, 1.700e+01, 2.800e+01,\n",
       "        3.100e+01, 2.500e+01, 3.900e+01, 3.900e+01, 4.000e+01, 4.100e+01,\n",
       "        7.400e+01, 7.600e+01, 9.000e+01, 8.800e+01, 1.320e+02, 1.390e+02,\n",
       "        1.960e+02, 2.020e+02, 2.170e+02, 2.930e+02, 3.330e+02, 3.830e+02,\n",
       "        4.670e+02, 5.820e+02, 7.000e+02, 7.850e+02, 8.770e+02, 9.240e+02,\n",
       "        1.020e+03, 9.650e+02, 2.049e+03, 1.110e+03, 1.104e+03, 1.220e+03,\n",
       "        1.073e+03, 1.100e+03, 9.960e+02, 1.010e+03, 1.023e+03, 9.550e+02,\n",
       "        9.100e+02, 9.360e+02, 9.570e+02, 9.670e+02, 9.740e+02, 9.480e+02,\n",
       "        9.410e+02, 9.180e+02, 9.630e+02, 9.640e+02, 9.550e+02, 8.910e+02,\n",
       "        9.280e+02, 9.200e+02, 8.950e+02, 8.350e+02, 8.980e+02, 8.430e+02,\n",
       "        7.610e+02, 7.710e+02, 7.810e+02, 7.700e+02, 7.790e+02, 7.000e+02,\n",
       "        6.450e+02, 6.560e+02, 6.270e+02, 5.980e+02, 5.850e+02, 5.460e+02,\n",
       "        5.350e+02, 5.090e+02, 4.830e+02, 4.670e+02, 4.370e+02, 4.130e+02,\n",
       "        4.280e+02, 3.630e+02, 3.790e+02, 3.290e+02, 3.140e+02, 3.020e+02,\n",
       "        2.940e+02, 2.550e+02, 2.190e+02, 2.350e+02, 1.840e+02, 1.920e+02,\n",
       "        2.020e+02, 1.710e+02, 1.940e+02, 1.630e+02, 1.470e+02, 1.360e+02,\n",
       "        1.190e+02, 1.070e+02, 9.500e+01, 1.090e+02, 9.600e+01, 8.400e+01,\n",
       "        8.400e+01, 6.800e+01, 5.800e+01, 5.600e+01, 4.200e+01, 4.400e+01,\n",
       "        3.800e+01, 3.700e+01, 3.900e+01, 3.000e+01, 2.400e+01, 2.300e+01,\n",
       "        1.700e+01, 1.900e+01, 2.300e+01, 1.100e+01, 1.800e+01, 1.500e+01,\n",
       "        1.100e+01, 7.000e+00, 9.000e+00, 8.000e+00, 6.000e+00, 8.000e+00,\n",
       "        6.000e+00, 2.000e+00, 4.000e+00, 4.000e+00, 1.000e+00, 2.000e+00,\n",
       "        2.000e+00, 2.000e+00, 1.000e+00, 2.000e+00, 0.000e+00, 1.000e+00,\n",
       "        0.000e+00, 0.000e+00, 0.000e+00, 1.000e+00, 0.000e+00, 1.000e+00,\n",
       "        1.000e+00, 0.000e+00, 0.000e+00, 0.000e+00, 0.000e+00, 1.000e+00,\n",
       "        0.000e+00, 2.000e+00]),\n",
       " array([-50., -49., -48., -47., -46., -45., -44., -43., -42., -41., -40.,\n",
       "        -39., -38., -37., -36., -35., -34., -33., -32., -31., -30., -29.,\n",
       "        -28., -27., -26., -25., -24., -23., -22., -21., -20., -19., -18.,\n",
       "        -17., -16., -15., -14., -13., -12., -11., -10.,  -9.,  -8.,  -7.,\n",
       "         -6.,  -5.,  -4.,  -3.,  -2.,  -1.,   0.,   1.,   2.,   3.,   4.,\n",
       "          5.,   6.,   7.,   8.,   9.,  10.,  11.,  12.,  13.,  14.,  15.,\n",
       "         16.,  17.,  18.,  19.,  20.,  21.,  22.,  23.,  24.,  25.,  26.,\n",
       "         27.,  28.,  29.,  30.,  31.,  32.,  33.,  34.,  35.,  36.,  37.,\n",
       "         38.,  39.,  40.,  41.,  42.,  43.,  44.,  45.,  46.,  47.,  48.,\n",
       "         49.,  50.,  51.,  52.,  53.,  54.,  55.,  56.,  57.,  58.,  59.,\n",
       "         60.,  61.,  62.,  63.,  64.,  65.,  66.,  67.,  68.,  69.,  70.,\n",
       "         71.,  72.,  73.,  74.,  75.,  76.,  77.,  78.,  79.,  80.,  81.,\n",
       "         82.,  83.,  84.,  85.,  86.,  87.,  88.,  89.,  90.,  91.,  92.,\n",
       "         93.,  94.,  95.,  96.,  97.,  98.,  99., 100., 101., 102., 103.,\n",
       "        104., 105., 106., 107., 108., 109., 110., 111., 112., 113., 114.,\n",
       "        115., 116., 117., 118., 119., 120.]),\n",
       " <a list of 170 Patch objects>)"
      ]
     },
     "execution_count": 12,
     "metadata": {},
     "output_type": "execute_result"
    },
    {
     "data": {
      "image/png": "[encoded data removed]",
      "text/plain": [
       "<Figure size 432x288 with 2 Axes>"
      ]
     },
     "metadata": {
      "needs_background": "light"
     },
     "output_type": "display_data"
    }
   ],
   "source": [
    "fig, axs = plt.subplots(2,sharex=True, tight_layout=True)\n",
    "axs[0].hist(dist0, bins=n_bins0)\n",
    "axs[1].hist(dist1, bins=n_bins1)"
   ]
  },
  {
   "cell_type": "code",
   "execution_count": null,
   "id": "5c44ae50",
   "metadata": {
    "id": "5c44ae50",
    "scrolled": true
   },
   "outputs": [],
   "source": [
    "b = 0"
   ]
  },
  {
   "cell_type": "code",
   "execution_count": null,
   "id": "75c2f8a4",
   "metadata": {
    "id": "75c2f8a4"
   },
   "outputs": [],
   "source": [
    "is0_input = layers.Input(shape=28*28)\n",
    "is0_train_layer = layers.Dense(1)\n",
    "is0_output_layer = layers.Dense(1, activation=\"sigmoid\")\n",
    "is0_output = is0_output_layer(is0_train_layer(is0_input))\n",
    "\n",
    "is0_model = keras.Model(inputs = is0_input,\n",
    "                        outputs = is0_output,\n",
    "                        name=\"is0\")\n",
    "\n",
    "is0_model.compile(optimizer=\"rmsprop\",\n",
    "              loss=\"binary_crossentropy\",\n",
    "              metrics=[\"binary_accuracy\"])"
   ]
  },
  {
   "cell_type": "code",
   "execution_count": null,
   "id": "225d8263",
   "metadata": {
    "colab": {
     "base_uri": "https://localhost:8080/"
    },
    "id": "225d8263",
    "outputId": "af20305f-3738-4406-fac8-dfcd7f92171d"
   },
   "outputs": [
    {
     "name": "stdout",
     "output_type": "stream",
     "text": [
      "Model: \"is0\"\n",
      "_________________________________________________________________\n",
      " Layer (type)                Output Shape              Param #   \n",
      "=================================================================\n",
      " input_1 (InputLayer)        [(None, 784)]             0         \n",
      "                                                                 \n",
      " dense (Dense)               (None, 1)                 785       \n",
      "                                                                 \n",
      " dense_1 (Dense)             (None, 1)                 2         \n",
      "                                                                 \n",
      "=================================================================\n",
      "Total params: 787\n",
      "Trainable params: 2\n",
      "Non-trainable params: 785\n",
      "_________________________________________________________________\n"
     ]
    }
   ],
   "source": [
    "is0_model.layers[1].trainable=False\n",
    "is0_model.summary()"
   ]
  },
  {
   "cell_type": "code",
   "execution_count": null,
   "id": "e0f18535",
   "metadata": {
    "id": "e0f18535"
   },
   "outputs": [],
   "source": [
    "is0_model.layers[1].get_weights()"
   ]
  },
  {
   "cell_type": "code",
   "execution_count": null,
   "id": "8f4aea6b",
   "metadata": {
    "id": "8f4aea6b"
   },
   "outputs": [],
   "source": [
    "new_weights_weights = new_weights_weights.reshape(784,1)\n",
    "new_weights = [new_weights_weights,\n",
    "               np.array(-b, dtype=\"float32\").reshape(1,)]"
   ]
  },
  {
   "cell_type": "code",
   "execution_count": null,
   "id": "746dd2f4",
   "metadata": {
    "id": "746dd2f4"
   },
   "outputs": [],
   "source": [
    "is0_model.layers[1].set_weights(new_weights)"
   ]
  },
  {
   "cell_type": "code",
   "execution_count": null,
   "id": "-Rkb6qU7VZBS",
   "metadata": {
    "colab": {
     "base_uri": "https://localhost:8080/"
    },
    "id": "-Rkb6qU7VZBS",
    "outputId": "2df2985d-128e-4d89-d533-5b23038addcb"
   },
   "outputs": [
    {
     "name": "stdout",
     "output_type": "stream",
     "text": [
      "Epoch 1/25\n",
      "375/375 [==============================] - 5s 6ms/step - loss: 2.6552 - binary_accuracy: 0.9047 - val_loss: 0.2773 - val_binary_accuracy: 0.9128\n",
      "Epoch 2/25\n",
      "375/375 [==============================] - 1s 4ms/step - loss: 0.2538 - binary_accuracy: 0.9143 - val_loss: 0.2297 - val_binary_accuracy: 0.9226\n",
      "Epoch 3/25\n",
      "375/375 [==============================] - 2s 5ms/step - loss: 0.2176 - binary_accuracy: 0.9267 - val_loss: 0.1911 - val_binary_accuracy: 0.9369\n",
      "Epoch 4/25\n",
      "375/375 [==============================] - 1s 4ms/step - loss: 0.1779 - binary_accuracy: 0.9417 - val_loss: 0.1537 - val_binary_accuracy: 0.9521\n",
      "Epoch 5/25\n",
      "375/375 [==============================] - 1s 4ms/step - loss: 0.1428 - binary_accuracy: 0.9546 - val_loss: 0.1252 - val_binary_accuracy: 0.9608\n",
      "Epoch 6/25\n",
      "375/375 [==============================] - 1s 4ms/step - loss: 0.1171 - binary_accuracy: 0.9631 - val_loss: 0.1073 - val_binary_accuracy: 0.9663\n",
      "Epoch 7/25\n",
      "375/375 [==============================] - 2s 4ms/step - loss: 0.1010 - binary_accuracy: 0.9677 - val_loss: 0.0955 - val_binary_accuracy: 0.9703\n",
      "Epoch 8/25\n",
      "375/375 [==============================] - 2s 4ms/step - loss: 0.0899 - binary_accuracy: 0.9712 - val_loss: 0.0864 - val_binary_accuracy: 0.9723\n",
      "Epoch 9/25\n",
      "375/375 [==============================] - 2s 4ms/step - loss: 0.0816 - binary_accuracy: 0.9740 - val_loss: 0.0789 - val_binary_accuracy: 0.9753\n",
      "Epoch 10/25\n",
      "375/375 [==============================] - 1s 4ms/step - loss: 0.0750 - binary_accuracy: 0.9762 - val_loss: 0.0732 - val_binary_accuracy: 0.9766\n",
      "Epoch 11/25\n",
      "375/375 [==============================] - 1s 4ms/step - loss: 0.0699 - binary_accuracy: 0.9784 - val_loss: 0.0686 - val_binary_accuracy: 0.9783\n",
      "Epoch 12/25\n",
      "375/375 [==============================] - 1s 4ms/step - loss: 0.0656 - binary_accuracy: 0.9799 - val_loss: 0.0648 - val_binary_accuracy: 0.9799\n",
      "Epoch 13/25\n",
      "375/375 [==============================] - 1s 4ms/step - loss: 0.0622 - binary_accuracy: 0.9814 - val_loss: 0.0616 - val_binary_accuracy: 0.9810\n",
      "Epoch 14/25\n",
      "375/375 [==============================] - 1s 4ms/step - loss: 0.0592 - binary_accuracy: 0.9821 - val_loss: 0.0588 - val_binary_accuracy: 0.9813\n",
      "Epoch 15/25\n",
      "375/375 [==============================] - 2s 4ms/step - loss: 0.0567 - binary_accuracy: 0.9830 - val_loss: 0.0566 - val_binary_accuracy: 0.9822\n",
      "Epoch 16/25\n",
      "375/375 [==============================] - 1s 4ms/step - loss: 0.0546 - binary_accuracy: 0.9836 - val_loss: 0.0546 - val_binary_accuracy: 0.9826\n",
      "Epoch 17/25\n",
      "375/375 [==============================] - 1s 4ms/step - loss: 0.0526 - binary_accuracy: 0.9843 - val_loss: 0.0525 - val_binary_accuracy: 0.9831\n",
      "Epoch 18/25\n",
      "375/375 [==============================] - 1s 4ms/step - loss: 0.0508 - binary_accuracy: 0.9849 - val_loss: 0.0509 - val_binary_accuracy: 0.9840\n",
      "Epoch 19/25\n",
      "375/375 [==============================] - 2s 4ms/step - loss: 0.0492 - binary_accuracy: 0.9852 - val_loss: 0.0494 - val_binary_accuracy: 0.9843\n",
      "Epoch 20/25\n",
      "375/375 [==============================] - 1s 4ms/step - loss: 0.0478 - binary_accuracy: 0.9858 - val_loss: 0.0479 - val_binary_accuracy: 0.9847\n",
      "Epoch 21/25\n",
      "375/375 [==============================] - 2s 4ms/step - loss: 0.0465 - binary_accuracy: 0.9862 - val_loss: 0.0470 - val_binary_accuracy: 0.9852\n",
      "Epoch 22/25\n",
      "375/375 [==============================] - 2s 4ms/step - loss: 0.0453 - binary_accuracy: 0.9866 - val_loss: 0.0456 - val_binary_accuracy: 0.9856\n",
      "Epoch 23/25\n",
      "375/375 [==============================] - 2s 5ms/step - loss: 0.0441 - binary_accuracy: 0.9867 - val_loss: 0.0450 - val_binary_accuracy: 0.9860\n",
      "Epoch 24/25\n",
      "375/375 [==============================] - 2s 6ms/step - loss: 0.0431 - binary_accuracy: 0.9871 - val_loss: 0.0441 - val_binary_accuracy: 0.9863\n",
      "Epoch 25/25\n",
      "375/375 [==============================] - 2s 5ms/step - loss: 0.0422 - binary_accuracy: 0.9874 - val_loss: 0.0424 - val_binary_accuracy: 0.9863\n"
     ]
    },
    {
     "data": {
      "text/plain": [
       "<keras.callbacks.History at 0x7fc6c4a41ed0>"
      ]
     },
     "execution_count": 28,
     "metadata": {},
     "output_type": "execute_result"
    }
   ],
   "source": [
    "threshold = 0.5\n",
    "bt_weight = -5\n",
    "zero_weight = -25\n",
    "\n",
    "av_zero_zeros = []\n",
    "av_zero_at = []\n",
    "av_zero_bt = []\n",
    "\n",
    "for i in range(28*28):\n",
    "    if average_zero_image[i] == 0:\n",
    "        av_zero_zeros.append(i)\n",
    "    elif average_zero_image[i] >= threshold:\n",
    "        av_zero_at.append(i)\n",
    "    else:\n",
    "        av_zero_bt.append(i)\n",
    "\n",
    "new_weights_weights = copy(average_zero_image)\n",
    "new_weights_weights[av_zero_zeros] += zero_weight\n",
    "new_weights_weights[av_zero_at] = np.ones(len(av_zero_at),dtype=\"float32\")\n",
    "new_weights_weights[av_zero_bt] = bt_weight*np.ones(len(av_zero_bt),dtype=\"float32\")\n",
    "\n",
    "new_weights_weights = new_weights_weights.reshape(784,1)\n",
    "new_weights = [new_weights_weights,\n",
    "               np.array(-b, dtype=\"float32\").reshape(1,)]\n",
    "\n",
    "is0_model.layers[1].set_weights(new_weights)\n",
    "\n",
    "is0_model.fit(train_images, train_labels_is0, \n",
    "                        validation_split=0.2, \n",
    "                        epochs=25, batch_size=128)"
   ]
  },
  {
   "cell_type": "code",
   "execution_count": null,
   "id": "81e94ba4",
   "metadata": {
    "colab": {
     "base_uri": "https://localhost:8080/"
    },
    "id": "81e94ba4",
    "outputId": "9931c6ce-60e3-489e-cfd4-17cc48f4cbec"
   },
   "outputs": [
    {
     "name": "stdout",
     "output_type": "stream",
     "text": [
      "313/313 [==============================] - 1s 3ms/step - loss: 0.0325 - binary_accuracy: 0.9877\n"
     ]
    },
    {
     "data": {
      "text/plain": [
       "[0.0325467586517334, 0.9876999855041504]"
      ]
     },
     "execution_count": 26,
     "metadata": {},
     "output_type": "execute_result"
    }
   ],
   "source": [
    "is0_model.evaluate(test_images,test_labels_is0)"
   ]
  },
  {
   "cell_type": "code",
   "execution_count": null,
   "id": "5c3e8da4",
   "metadata": {
    "colab": {
     "base_uri": "https://localhost:8080/"
    },
    "id": "5c3e8da4",
    "outputId": "3a4d6c7e-4783-40ec-8d2d-b78c0a405dba"
   },
   "outputs": [
    {
     "data": {
      "text/plain": [
       "[array([[0.05867779]], dtype=float32), array([-0.35429698], dtype=float32)]"
      ]
     },
     "execution_count": 27,
     "metadata": {},
     "output_type": "execute_result"
    }
   ],
   "source": [
    "is0_model.layers[2].get_weights()"
   ]
  },
  {
   "cell_type": "markdown",
   "id": "ltL6e_p668fc",
   "metadata": {
    "id": "ltL6e_p668fc"
   },
   "source": [
    "## Optimizing the new hyperparameters"
   ]
  },
  {
   "cell_type": "code",
   "execution_count": 5,
   "id": "bLqE437PKMoS",
   "metadata": {
    "id": "bLqE437PKMoS"
   },
   "outputs": [],
   "source": [
    "def split_features(threshold = 0.0):\n",
    "    av_zero_ze = np.zeros((28*28,1), dtype=\"float32\")\n",
    "    av_zero_at = np.zeros((28*28,1), dtype=\"float32\")\n",
    "    av_zero_bt = np.zeros((28*28,1), dtype=\"float32\")\n",
    "    for i in range(28*28):\n",
    "        if average_zero_image[i] == 0:\n",
    "            av_zero_ze[i] += 1\n",
    "        elif average_zero_image[i] >= threshold:\n",
    "            av_zero_at[i] += 1\n",
    "        else:\n",
    "            av_zero_bt[i] += 1\n",
    "    return (av_zero_ze, av_zero_bt, av_zero_at)"
   ]
  },
  {
   "cell_type": "code",
   "execution_count": 6,
   "id": "jw4DfmUS8nak",
   "metadata": {
    "id": "jw4DfmUS8nak"
   },
   "outputs": [
    {
     "name": "stderr",
     "output_type": "stream",
     "text": [
      "2022-03-19 17:21:38.419839: I tensorflow/compiler/jit/xla_cpu_device.cc:41] Not creating XLA devices, tf_xla_enable_xla_devices not set\n",
      "2022-03-19 17:21:38.420227: I tensorflow/core/platform/cpu_feature_guard.cc:142] This TensorFlow binary is optimized with oneAPI Deep Neural Network Library (oneDNN) to use the following CPU instructions in performance-critical operations:  SSE4.1 SSE4.2 AVX AVX2 FMA\n",
      "To enable them in other operations, rebuild TensorFlow with the appropriate compiler flags.\n",
      "2022-03-19 17:21:38.420817: I tensorflow/core/common_runtime/process_util.cc:146] Creating new thread pool with default inter op setting: 2. Tune using inter_op_parallelism_threads for best performance.\n"
     ]
    }
   ],
   "source": [
    "is0_input = layers.Input(shape=28*28)\n",
    "is0_layer_ze = layers.Dense(1)(is0_input)\n",
    "is0_layer_bt = layers.Dense(1)(is0_input)\n",
    "is0_layer_at = layers.Dense(1)(is0_input)\n",
    "is0_layer_cc = layers.Concatenate(axis=1)([is0_layer_ze, is0_layer_bt, is0_layer_at])\n",
    "is0_output = layers.Dense(1, activation=\"sigmoid\")(is0_layer_cc)\n",
    "\n",
    "is0_model = keras.Model(inputs = is0_input,\n",
    "                        outputs = is0_output,\n",
    "                        name=\"is0\")\n",
    "\n",
    "is0_model.compile(optimizer=\"rmsprop\",\n",
    "              loss=\"binary_crossentropy\",\n",
    "              metrics=[\"binary_accuracy\"])\n",
    "\n",
    "is0_model.layers[1].trainable=False\n",
    "is0_model.layers[2].trainable=False\n",
    "is0_model.layers[3].trainable=False"
   ]
  },
  {
   "cell_type": "code",
   "execution_count": 7,
   "id": "zK3VJWnb9JOc",
   "metadata": {
    "colab": {
     "base_uri": "https://localhost:8080/"
    },
    "id": "zK3VJWnb9JOc",
    "outputId": "82d758cf-1760-4632-de5e-e278f866d2f5"
   },
   "outputs": [
    {
     "name": "stdout",
     "output_type": "stream",
     "text": [
      "Model: \"is0\"\n",
      "__________________________________________________________________________________________________\n",
      "Layer (type)                    Output Shape         Param #     Connected to                     \n",
      "==================================================================================================\n",
      "input_1 (InputLayer)            [(None, 784)]        0                                            \n",
      "__________________________________________________________________________________________________\n",
      "dense (Dense)                   (None, 1)            785         input_1[0][0]                    \n",
      "__________________________________________________________________________________________________\n",
      "dense_1 (Dense)                 (None, 1)            785         input_1[0][0]                    \n",
      "__________________________________________________________________________________________________\n",
      "dense_2 (Dense)                 (None, 1)            785         input_1[0][0]                    \n",
      "__________________________________________________________________________________________________\n",
      "concatenate (Concatenate)       (None, 3)            0           dense[0][0]                      \n",
      "                                                                 dense_1[0][0]                    \n",
      "                                                                 dense_2[0][0]                    \n",
      "__________________________________________________________________________________________________\n",
      "dense_3 (Dense)                 (None, 1)            4           concatenate[0][0]                \n",
      "==================================================================================================\n",
      "Total params: 2,359\n",
      "Trainable params: 4\n",
      "Non-trainable params: 2,355\n",
      "__________________________________________________________________________________________________\n"
     ]
    }
   ],
   "source": [
    "is0_model.summary()"
   ]
  },
  {
   "cell_type": "code",
   "execution_count": 8,
   "id": "V5bFKTOE-iPp",
   "metadata": {
    "id": "V5bFKTOE-iPp"
   },
   "outputs": [],
   "source": [
    "thresh = 0.5\n",
    "av_zero_ze, av_zero_bt, av_zero_at = split_features(thresh)\n",
    "\n",
    "weights_ze = [av_zero_ze.reshape((-1,1)), np.zeros(shape=(1,), dtype=\"float32\") ]\n",
    "weights_bt = [av_zero_bt.reshape((-1,1)), np.zeros(shape=(1,), dtype=\"float32\") ]\n",
    "weights_at = [av_zero_at.reshape((-1,1)), np.zeros(shape=(1,), dtype=\"float32\") ]\n",
    "\n",
    "is0_model.layers[1].set_weights(weights_ze)\n",
    "is0_model.layers[2].set_weights(weights_bt)\n",
    "is0_model.layers[3].set_weights(weights_at)"
   ]
  },
  {
   "cell_type": "code",
   "execution_count": 9,
   "id": "k4l40MD2AhXN",
   "metadata": {
    "colab": {
     "base_uri": "https://localhost:8080/"
    },
    "id": "k4l40MD2AhXN",
    "outputId": "d796a3c3-69f2-4e31-a743-ed0796c863f4"
   },
   "outputs": [
    {
     "name": "stderr",
     "output_type": "stream",
     "text": [
      "2022-03-19 17:22:22.925163: I tensorflow/compiler/mlir/mlir_graph_optimization_pass.cc:116] None of the MLIR optimization passes are enabled (registered 2)\n",
      "2022-03-19 17:22:22.946817: I tensorflow/core/platform/profile_utils/cpu_utils.cc:112] CPU Frequency: 1599960000 Hz\n"
     ]
    },
    {
     "name": "stdout",
     "output_type": "stream",
     "text": [
      "Epoch 1/20\n",
      "375/375 [==============================] - 2s 4ms/step - loss: 8.5979 - binary_accuracy: 0.9038 - val_loss: 0.0822 - val_binary_accuracy: 0.9734\n",
      "Epoch 2/20\n",
      "375/375 [==============================] - 1s 2ms/step - loss: 0.0564 - binary_accuracy: 0.9835 - val_loss: 0.0338 - val_binary_accuracy: 0.9899\n",
      "Epoch 3/20\n",
      "375/375 [==============================] - 1s 3ms/step - loss: 0.0330 - binary_accuracy: 0.9898 - val_loss: 0.0337 - val_binary_accuracy: 0.9902\n",
      "Epoch 4/20\n",
      "375/375 [==============================] - 1s 3ms/step - loss: 0.0318 - binary_accuracy: 0.9906 - val_loss: 0.0285 - val_binary_accuracy: 0.9915\n",
      "Epoch 5/20\n",
      "375/375 [==============================] - 1s 3ms/step - loss: 0.0263 - binary_accuracy: 0.9921 - val_loss: 0.0274 - val_binary_accuracy: 0.9912\n",
      "Epoch 6/20\n",
      "375/375 [==============================] - 1s 3ms/step - loss: 0.0271 - binary_accuracy: 0.9916 - val_loss: 0.0277 - val_binary_accuracy: 0.9913\n",
      "Epoch 7/20\n",
      "375/375 [==============================] - 1s 2ms/step - loss: 0.0284 - binary_accuracy: 0.9921 - val_loss: 0.0271 - val_binary_accuracy: 0.9912\n",
      "Epoch 8/20\n",
      "375/375 [==============================] - 1s 2ms/step - loss: 0.0276 - binary_accuracy: 0.9919 - val_loss: 0.0262 - val_binary_accuracy: 0.9921\n",
      "Epoch 9/20\n",
      "375/375 [==============================] - 2s 4ms/step - loss: 0.0260 - binary_accuracy: 0.9925 - val_loss: 0.0263 - val_binary_accuracy: 0.9918\n",
      "Epoch 10/20\n",
      "375/375 [==============================] - 2s 7ms/step - loss: 0.0248 - binary_accuracy: 0.9928 - val_loss: 0.0256 - val_binary_accuracy: 0.9922\n",
      "Epoch 11/20\n",
      "375/375 [==============================] - 2s 6ms/step - loss: 0.0255 - binary_accuracy: 0.9924 - val_loss: 0.0259 - val_binary_accuracy: 0.9918\n",
      "Epoch 12/20\n",
      "375/375 [==============================] - 2s 6ms/step - loss: 0.0227 - binary_accuracy: 0.9938 - val_loss: 0.0251 - val_binary_accuracy: 0.9927\n",
      "Epoch 13/20\n",
      "375/375 [==============================] - 2s 6ms/step - loss: 0.0268 - binary_accuracy: 0.9921 - val_loss: 0.0258 - val_binary_accuracy: 0.9927\n",
      "Epoch 14/20\n",
      "375/375 [==============================] - 4s 10ms/step - loss: 0.0233 - binary_accuracy: 0.9927 - val_loss: 0.0260 - val_binary_accuracy: 0.9927\n",
      "Epoch 15/20\n",
      "375/375 [==============================] - 4s 12ms/step - loss: 0.0249 - binary_accuracy: 0.9928 - val_loss: 0.0249 - val_binary_accuracy: 0.9925\n",
      "Epoch 16/20\n",
      "375/375 [==============================] - 5s 13ms/step - loss: 0.0232 - binary_accuracy: 0.9934 - val_loss: 0.0249 - val_binary_accuracy: 0.9921\n",
      "Epoch 17/20\n",
      "375/375 [==============================] - 4s 12ms/step - loss: 0.0242 - binary_accuracy: 0.9925 - val_loss: 0.0248 - val_binary_accuracy: 0.9927\n",
      "Epoch 18/20\n",
      "375/375 [==============================] - 4s 12ms/step - loss: 0.0262 - binary_accuracy: 0.9925 - val_loss: 0.0255 - val_binary_accuracy: 0.9929\n",
      "Epoch 19/20\n",
      "375/375 [==============================] - 5s 12ms/step - loss: 0.0261 - binary_accuracy: 0.9932 - val_loss: 0.0252 - val_binary_accuracy: 0.9928\n",
      "Epoch 20/20\n",
      "375/375 [==============================] - 5s 12ms/step - loss: 0.0231 - binary_accuracy: 0.9934 - val_loss: 0.0252 - val_binary_accuracy: 0.9927\n"
     ]
    },
    {
     "data": {
      "text/plain": [
       "<tensorflow.python.keras.callbacks.History at 0x7f5a80026880>"
      ]
     },
     "execution_count": 9,
     "metadata": {},
     "output_type": "execute_result"
    }
   ],
   "source": [
    "is0_model.fit(train_images, train_labels_is0, \n",
    "                        validation_split=0.2, \n",
    "                        epochs=20, batch_size=128)"
   ]
  },
  {
   "cell_type": "code",
   "execution_count": 10,
   "id": "rh5vc9pIAqpK",
   "metadata": {
    "id": "rh5vc9pIAqpK"
   },
   "outputs": [
    {
     "name": "stdout",
     "output_type": "stream",
     "text": [
      "313/313 [==============================] - 0s 953us/step - loss: 0.0246 - binary_accuracy: 0.9927\n"
     ]
    },
    {
     "data": {
      "text/plain": [
       "[0.024645311757922173, 0.9926999807357788]"
      ]
     },
     "execution_count": 10,
     "metadata": {},
     "output_type": "execute_result"
    }
   ],
   "source": [
    "is0_model.evaluate(test_images, test_labels_is0)"
   ]
  },
  {
   "cell_type": "code",
   "execution_count": null,
   "id": "b908244b",
   "metadata": {},
   "outputs": [],
   "source": []
  }
 ],
 "metadata": {
  "accelerator": "GPU",
  "colab": {
   "collapsed_sections": [],
   "name": "Feature_Engineering_MNIST.ipynb",
   "provenance": []
  },
  "kernelspec": {
   "display_name": "Python [conda env:tf]",
   "language": "python",
   "name": "conda-env-tf-py"
  },
  "language_info": {
   "codemirror_mode": {
    "name": "ipython",
    "version": 3
   },
   "file_extension": ".py",
   "mimetype": "text/x-python",
   "name": "python",
   "nbconvert_exporter": "python",
   "pygments_lexer": "ipython3",
   "version": "3.9.7"
  }
 },
 "nbformat": 4,
 "nbformat_minor": 5
}
