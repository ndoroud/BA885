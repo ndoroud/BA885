{
  "cells": [
    {
      "cell_type": "code",
      "source": [
        "!pip install numpy\n",
        "!pip install pandas\n",
        "!pip install psycopg2-binary\n",
        "!pip install sqlalchemy\n",
        "!pip install tensorflow\n",
        "!pip install tensorflow-io"
      ],
      "metadata": {
        "id": "lg-RwUTeZX2B"
      },
      "id": "lg-RwUTeZX2B",
      "execution_count": null,
      "outputs": []
    },
    {
      "cell_type": "markdown",
      "id": "45f4d1a5",
      "metadata": {
        "id": "45f4d1a5"
      },
      "source": [
        "# Interacting with Postgres/SQL"
      ]
    },
    {
      "cell_type": "code",
      "execution_count": null,
      "id": "45176894",
      "metadata": {
        "id": "45176894",
        "colab": {
          "base_uri": "https://localhost:8080/"
        },
        "outputId": "4d83e317-4e3e-4cb7-dfbb-6dfa7583a6c9"
      },
      "outputs": [
        {
          "output_type": "stream",
          "name": "stderr",
          "text": [
            "/usr/local/lib/python3.7/dist-packages/psycopg2/__init__.py:144: UserWarning: The psycopg2 wheel package will be renamed from release 2.8; in order to keep installing from binary please use \"pip install psycopg2-binary\" instead. For details see: <http://initd.org/psycopg/docs/install.html#binary-install-from-pypi>.\n",
            "  \"\"\")\n"
          ]
        }
      ],
      "source": [
        "import os\n",
        "import pandas as pd\n",
        "import psycopg2\n",
        "from sqlalchemy import create_engine"
      ]
    },
    {
      "cell_type": "markdown",
      "id": "bee65d79",
      "metadata": {
        "id": "bee65d79"
      },
      "source": [
        "## Setting up a connection to Postgres"
      ]
    },
    {
      "cell_type": "code",
      "execution_count": null,
      "id": "7ba8d40b",
      "metadata": {
        "id": "7ba8d40b"
      },
      "outputs": [],
      "source": [
        "# Import Postgres settings from file\n",
        "with open('psql_settings') as file:\n",
        "    for line in file:\n",
        "        psql_settings = line[:-1]\n",
        "        break\n",
        "# The imported parameters are host address, user and password\n",
        "psql_h = psql_settings.split(' ')[0].split('=')[1]\n",
        "psql_u = psql_settings.split(' ')[1].split('=')[1]\n",
        "psql_p = psql_settings.split(' ')[2].split('=')[1]"
      ]
    },
    {
      "cell_type": "code",
      "source": [
        "# Create a new database\n",
        "conn = psycopg2.connect('dbname=postgres '+psql_settings)\n",
        "conn.set_isolation_level(psycopg2.extensions.ISOLATION_LEVEL_AUTOCOMMIT)\n",
        "cur = conn.cursor()\n",
        "cur.execute('create database \"bluebikes\";')\n",
        "conn.commit()\n",
        "cur.close()\n",
        "conn.close()"
      ],
      "metadata": {
        "id": "jYRDt0exd9OF"
      },
      "id": "jYRDt0exd9OF",
      "execution_count": null,
      "outputs": []
    },
    {
      "cell_type": "code",
      "execution_count": null,
      "id": "dbf19aba",
      "metadata": {
        "scrolled": true,
        "id": "dbf19aba"
      },
      "outputs": [],
      "source": [
        "# Create a connection to the bluebikes database and create a test table.\n",
        "conn = psycopg2.connect('dbname=bluebikes '+psql_settings)\n",
        "cur = conn.cursor()\n",
        "cur.execute('create table test (id integer primary key, name varchar);')\n",
        "conn.commit()\n",
        "cur.close()\n",
        "conn.close()"
      ]
    },
    {
      "cell_type": "code",
      "source": [
        "# Download data from BlueBikes\n",
        "!mkdir datasets\n",
        "!wget https://s3.amazonaws.com/hubway-data/202202-bluebikes-tripdata.zip\n",
        "!wget https://s3.amazonaws.com/hubway-data/202203-bluebikes-tripdata.zip\n",
        "!wget https://s3.amazonaws.com/hubway-data/current_bluebikes_stations.csv\n",
        "!unzip ./202202-bluebikes-tripdata.zip -d ./datasets\n",
        "!unzip ./202203-bluebikes-tripdata.zip -d ./datasets\n",
        "!mv current_bluebikes_stations.csv ./datasets\n",
        "!rm 202202-bluebikes-tripdata.zip\n",
        "!rm 202203-bluebikes-tripdata.zip"
      ],
      "metadata": {
        "id": "nPLR9bytLj65"
      },
      "id": "nPLR9bytLj65",
      "execution_count": null,
      "outputs": []
    },
    {
      "cell_type": "code",
      "execution_count": 10,
      "id": "36bb0dd4",
      "metadata": {
        "id": "36bb0dd4"
      },
      "outputs": [],
      "source": [
        "# Import bluebikes data as pandas dataframes\n",
        "paths = ['./datasets/202202-bluebikes-tripdata.csv',\n",
        "         './datasets/202203-bluebikes-tripdata.csv',\n",
        "         './datasets/current_bluebikes_stations.csv']\n",
        "trips_02 = pd.read_csv(paths[0])\n",
        "trips_03 = pd.read_csv(paths[1])\n",
        "stations = pd.read_csv(paths[2], header=1)"
      ]
    },
    {
      "cell_type": "code",
      "execution_count": null,
      "id": "2846b4c6",
      "metadata": {
        "id": "2846b4c6"
      },
      "outputs": [],
      "source": [
        "# Pandas can communicate with Postgres via sqlalchemy\n",
        "psql_engine = create_engine('postgresql://{}:{}@{}/bluebikes'.format(\n",
        "psql_u, psql_p, psql_h))"
      ]
    },
    {
      "cell_type": "markdown",
      "id": "fbea522f",
      "metadata": {
        "id": "fbea522f"
      },
      "source": [
        "## Pandas and Postgres"
      ]
    },
    {
      "cell_type": "markdown",
      "id": "c7dd6acc",
      "metadata": {
        "id": "c7dd6acc"
      },
      "source": [
        "### DataFrame to Postgres"
      ]
    },
    {
      "cell_type": "code",
      "execution_count": null,
      "id": "d51e8342",
      "metadata": {
        "id": "d51e8342",
        "outputId": "7cef330e-d9cc-410d-92ec-4cf993f1c0f8"
      },
      "outputs": [
        {
          "data": {
            "text/plain": [
              "460"
            ]
          },
          "execution_count": 6,
          "metadata": {},
          "output_type": "execute_result"
        }
      ],
      "source": [
        "trips_02.to_sql('trips_02', psql_engine)"
      ]
    },
    {
      "cell_type": "code",
      "execution_count": null,
      "id": "6474b146",
      "metadata": {
        "id": "6474b146",
        "outputId": "747f7b83-097b-4b1f-bd8b-b33e23b88bee"
      },
      "outputs": [
        {
          "data": {
            "text/plain": [
              "421"
            ]
          },
          "execution_count": 7,
          "metadata": {},
          "output_type": "execute_result"
        }
      ],
      "source": [
        "trips_03.to_sql('trips_03', psql_engine)"
      ]
    },
    {
      "cell_type": "code",
      "execution_count": null,
      "id": "de0cfc77",
      "metadata": {
        "id": "de0cfc77",
        "outputId": "5ac86df9-7b32-4186-c7e5-16f8af3f5fdd"
      },
      "outputs": [
        {
          "data": {
            "text/plain": [
              "423"
            ]
          },
          "execution_count": 33,
          "metadata": {},
          "output_type": "execute_result"
        }
      ],
      "source": [
        "stations.to_sql('stations', psql_engine)"
      ]
    },
    {
      "cell_type": "markdown",
      "id": "f055017e",
      "metadata": {
        "id": "f055017e"
      },
      "source": [
        "### DataFrame from Postgres"
      ]
    },
    {
      "cell_type": "code",
      "execution_count": null,
      "id": "da8ee89d",
      "metadata": {
        "id": "da8ee89d"
      },
      "outputs": [],
      "source": [
        "df = pd.read_sql(\"select * from stations\", psql_engine, index_col='index')"
      ]
    },
    {
      "cell_type": "code",
      "execution_count": null,
      "id": "dad86921",
      "metadata": {
        "id": "dad86921",
        "outputId": "8fca39f2-170b-4fe7-c54f-8a32589d5eed"
      },
      "outputs": [
        {
          "data": {
            "text/html": [
              "<div>\n",
              "<style scoped>\n",
              "    .dataframe tbody tr th:only-of-type {\n",
              "        vertical-align: middle;\n",
              "    }\n",
              "\n",
              "    .dataframe tbody tr th {\n",
              "        vertical-align: top;\n",
              "    }\n",
              "\n",
              "    .dataframe thead th {\n",
              "        text-align: right;\n",
              "    }\n",
              "</style>\n",
              "<table border=\"1\" class=\"dataframe\">\n",
              "  <thead>\n",
              "    <tr style=\"text-align: right;\">\n",
              "      <th></th>\n",
              "      <th>Number</th>\n",
              "      <th>Name</th>\n",
              "      <th>Latitude</th>\n",
              "      <th>Longitude</th>\n",
              "      <th>District</th>\n",
              "      <th>Public</th>\n",
              "      <th>Total docks</th>\n",
              "      <th>Deployment Year</th>\n",
              "    </tr>\n",
              "    <tr>\n",
              "      <th>index</th>\n",
              "      <th></th>\n",
              "      <th></th>\n",
              "      <th></th>\n",
              "      <th></th>\n",
              "      <th></th>\n",
              "      <th></th>\n",
              "      <th></th>\n",
              "      <th></th>\n",
              "    </tr>\n",
              "  </thead>\n",
              "  <tbody>\n",
              "    <tr>\n",
              "      <th>0</th>\n",
              "      <td>K32015</td>\n",
              "      <td>1200 Beacon St</td>\n",
              "      <td>42.344149</td>\n",
              "      <td>-71.114674</td>\n",
              "      <td>Brookline</td>\n",
              "      <td>Yes</td>\n",
              "      <td>15</td>\n",
              "      <td>2021.0</td>\n",
              "    </tr>\n",
              "    <tr>\n",
              "      <th>1</th>\n",
              "      <td>W32006</td>\n",
              "      <td>160 Arsenal</td>\n",
              "      <td>42.364664</td>\n",
              "      <td>-71.175694</td>\n",
              "      <td>Watertown</td>\n",
              "      <td>Yes</td>\n",
              "      <td>11</td>\n",
              "      <td>2021.0</td>\n",
              "    </tr>\n",
              "    <tr>\n",
              "      <th>2</th>\n",
              "      <td>A32019</td>\n",
              "      <td>175 N Harvard St</td>\n",
              "      <td>42.363796</td>\n",
              "      <td>-71.129164</td>\n",
              "      <td>Boston</td>\n",
              "      <td>Yes</td>\n",
              "      <td>18</td>\n",
              "      <td>2014.0</td>\n",
              "    </tr>\n",
              "    <tr>\n",
              "      <th>3</th>\n",
              "      <td>S32035</td>\n",
              "      <td>191 Beacon St</td>\n",
              "      <td>42.380323</td>\n",
              "      <td>-71.108786</td>\n",
              "      <td>Somerville</td>\n",
              "      <td>Yes</td>\n",
              "      <td>19</td>\n",
              "      <td>2018.0</td>\n",
              "    </tr>\n",
              "    <tr>\n",
              "      <th>4</th>\n",
              "      <td>C32094</td>\n",
              "      <td>2 Hummingbird Lane at Olmsted Green</td>\n",
              "      <td>42.288870</td>\n",
              "      <td>-71.095003</td>\n",
              "      <td>Boston</td>\n",
              "      <td>Yes</td>\n",
              "      <td>17</td>\n",
              "      <td>2020.0</td>\n",
              "    </tr>\n",
              "  </tbody>\n",
              "</table>\n",
              "</div>"
            ],
            "text/plain": [
              "       Number                                 Name   Latitude  Longitude  \\\n",
              "index                                                                      \n",
              "0      K32015                       1200 Beacon St  42.344149 -71.114674   \n",
              "1      W32006                          160 Arsenal  42.364664 -71.175694   \n",
              "2      A32019                     175 N Harvard St  42.363796 -71.129164   \n",
              "3      S32035                        191 Beacon St  42.380323 -71.108786   \n",
              "4      C32094  2 Hummingbird Lane at Olmsted Green  42.288870 -71.095003   \n",
              "\n",
              "         District Public  Total docks  Deployment Year  \n",
              "index                                                   \n",
              "0       Brookline    Yes           15           2021.0  \n",
              "1       Watertown    Yes           11           2021.0  \n",
              "2          Boston    Yes           18           2014.0  \n",
              "3      Somerville    Yes           19           2018.0  \n",
              "4          Boston    Yes           17           2020.0  "
            ]
          },
          "execution_count": 40,
          "metadata": {},
          "output_type": "execute_result"
        }
      ],
      "source": [
        "df.head()"
      ]
    },
    {
      "cell_type": "code",
      "execution_count": null,
      "id": "6e3b36bf",
      "metadata": {
        "id": "6e3b36bf",
        "outputId": "3b55ad74-00ca-49de-c46d-eb443f4e84f5"
      },
      "outputs": [
        {
          "data": {
            "text/html": [
              "<div>\n",
              "<style scoped>\n",
              "    .dataframe tbody tr th:only-of-type {\n",
              "        vertical-align: middle;\n",
              "    }\n",
              "\n",
              "    .dataframe tbody tr th {\n",
              "        vertical-align: top;\n",
              "    }\n",
              "\n",
              "    .dataframe thead th {\n",
              "        text-align: right;\n",
              "    }\n",
              "</style>\n",
              "<table border=\"1\" class=\"dataframe\">\n",
              "  <thead>\n",
              "    <tr style=\"text-align: right;\">\n",
              "      <th></th>\n",
              "      <th>Number</th>\n",
              "      <th>Name</th>\n",
              "      <th>Latitude</th>\n",
              "      <th>Longitude</th>\n",
              "      <th>District</th>\n",
              "      <th>Public</th>\n",
              "      <th>Total docks</th>\n",
              "      <th>Deployment Year</th>\n",
              "    </tr>\n",
              "  </thead>\n",
              "  <tbody>\n",
              "    <tr>\n",
              "      <th>0</th>\n",
              "      <td>K32015</td>\n",
              "      <td>1200 Beacon St</td>\n",
              "      <td>42.344149</td>\n",
              "      <td>-71.114674</td>\n",
              "      <td>Brookline</td>\n",
              "      <td>Yes</td>\n",
              "      <td>15</td>\n",
              "      <td>2021.0</td>\n",
              "    </tr>\n",
              "    <tr>\n",
              "      <th>1</th>\n",
              "      <td>W32006</td>\n",
              "      <td>160 Arsenal</td>\n",
              "      <td>42.364664</td>\n",
              "      <td>-71.175694</td>\n",
              "      <td>Watertown</td>\n",
              "      <td>Yes</td>\n",
              "      <td>11</td>\n",
              "      <td>2021.0</td>\n",
              "    </tr>\n",
              "    <tr>\n",
              "      <th>2</th>\n",
              "      <td>A32019</td>\n",
              "      <td>175 N Harvard St</td>\n",
              "      <td>42.363796</td>\n",
              "      <td>-71.129164</td>\n",
              "      <td>Boston</td>\n",
              "      <td>Yes</td>\n",
              "      <td>18</td>\n",
              "      <td>2014.0</td>\n",
              "    </tr>\n",
              "    <tr>\n",
              "      <th>3</th>\n",
              "      <td>S32035</td>\n",
              "      <td>191 Beacon St</td>\n",
              "      <td>42.380323</td>\n",
              "      <td>-71.108786</td>\n",
              "      <td>Somerville</td>\n",
              "      <td>Yes</td>\n",
              "      <td>19</td>\n",
              "      <td>2018.0</td>\n",
              "    </tr>\n",
              "    <tr>\n",
              "      <th>4</th>\n",
              "      <td>C32094</td>\n",
              "      <td>2 Hummingbird Lane at Olmsted Green</td>\n",
              "      <td>42.288870</td>\n",
              "      <td>-71.095003</td>\n",
              "      <td>Boston</td>\n",
              "      <td>Yes</td>\n",
              "      <td>17</td>\n",
              "      <td>2020.0</td>\n",
              "    </tr>\n",
              "  </tbody>\n",
              "</table>\n",
              "</div>"
            ],
            "text/plain": [
              "   Number                                 Name   Latitude  Longitude  \\\n",
              "0  K32015                       1200 Beacon St  42.344149 -71.114674   \n",
              "1  W32006                          160 Arsenal  42.364664 -71.175694   \n",
              "2  A32019                     175 N Harvard St  42.363796 -71.129164   \n",
              "3  S32035                        191 Beacon St  42.380323 -71.108786   \n",
              "4  C32094  2 Hummingbird Lane at Olmsted Green  42.288870 -71.095003   \n",
              "\n",
              "     District Public  Total docks  Deployment Year  \n",
              "0   Brookline    Yes           15           2021.0  \n",
              "1   Watertown    Yes           11           2021.0  \n",
              "2      Boston    Yes           18           2014.0  \n",
              "3  Somerville    Yes           19           2018.0  \n",
              "4      Boston    Yes           17           2020.0  "
            ]
          },
          "execution_count": 36,
          "metadata": {},
          "output_type": "execute_result"
        }
      ],
      "source": [
        "stations.head()"
      ]
    },
    {
      "cell_type": "markdown",
      "id": "7ad0fb1a",
      "metadata": {
        "id": "7ad0fb1a"
      },
      "source": [
        "## Order of SQL commands\n",
        "\n",
        "SELECT\n",
        "-    FROM\n",
        "-    JOIN (ON)\n",
        "-    WHERE\n",
        "-    GROUP BY\n",
        "-    HAVING\n",
        "\n",
        "UNION\n",
        "-    ORDER BY"
      ]
    },
    {
      "cell_type": "markdown",
      "id": "29f99b07",
      "metadata": {
        "id": "29f99b07"
      },
      "source": [
        "### SELECT FROM"
      ]
    },
    {
      "cell_type": "code",
      "execution_count": null,
      "id": "bc9455ef",
      "metadata": {
        "id": "bc9455ef"
      },
      "outputs": [],
      "source": [
        "# SQL: SELECT columns FROM table LIMIT n;\n",
        "df1 = pd.read_sql('select \"Name\", \"District\" from stations limit 3', psql_engine)\n",
        "# Pandas equivalent\n",
        "df2 = stations[['Name', 'District']][0:3]"
      ]
    },
    {
      "cell_type": "code",
      "execution_count": null,
      "id": "43c9bf24",
      "metadata": {
        "id": "43c9bf24",
        "outputId": "70e3d853-04d8-4f57-d54e-7fdd5bd59162"
      },
      "outputs": [
        {
          "data": {
            "text/html": [
              "<div>\n",
              "<style scoped>\n",
              "    .dataframe tbody tr th:only-of-type {\n",
              "        vertical-align: middle;\n",
              "    }\n",
              "\n",
              "    .dataframe tbody tr th {\n",
              "        vertical-align: top;\n",
              "    }\n",
              "\n",
              "    .dataframe thead th {\n",
              "        text-align: right;\n",
              "    }\n",
              "</style>\n",
              "<table border=\"1\" class=\"dataframe\">\n",
              "  <thead>\n",
              "    <tr style=\"text-align: right;\">\n",
              "      <th></th>\n",
              "      <th>Name</th>\n",
              "      <th>District</th>\n",
              "    </tr>\n",
              "  </thead>\n",
              "  <tbody>\n",
              "    <tr>\n",
              "      <th>0</th>\n",
              "      <td>1200 Beacon St</td>\n",
              "      <td>Brookline</td>\n",
              "    </tr>\n",
              "    <tr>\n",
              "      <th>1</th>\n",
              "      <td>160 Arsenal</td>\n",
              "      <td>Watertown</td>\n",
              "    </tr>\n",
              "    <tr>\n",
              "      <th>2</th>\n",
              "      <td>175 N Harvard St</td>\n",
              "      <td>Boston</td>\n",
              "    </tr>\n",
              "  </tbody>\n",
              "</table>\n",
              "</div>"
            ],
            "text/plain": [
              "               Name   District\n",
              "0    1200 Beacon St  Brookline\n",
              "1       160 Arsenal  Watertown\n",
              "2  175 N Harvard St     Boston"
            ]
          },
          "execution_count": 72,
          "metadata": {},
          "output_type": "execute_result"
        }
      ],
      "source": [
        "df1"
      ]
    },
    {
      "cell_type": "code",
      "execution_count": null,
      "id": "a349e3a6",
      "metadata": {
        "id": "a349e3a6",
        "outputId": "aa025f23-753a-4466-93f9-79f6760f8de3"
      },
      "outputs": [
        {
          "data": {
            "text/html": [
              "<div>\n",
              "<style scoped>\n",
              "    .dataframe tbody tr th:only-of-type {\n",
              "        vertical-align: middle;\n",
              "    }\n",
              "\n",
              "    .dataframe tbody tr th {\n",
              "        vertical-align: top;\n",
              "    }\n",
              "\n",
              "    .dataframe thead th {\n",
              "        text-align: right;\n",
              "    }\n",
              "</style>\n",
              "<table border=\"1\" class=\"dataframe\">\n",
              "  <thead>\n",
              "    <tr style=\"text-align: right;\">\n",
              "      <th></th>\n",
              "      <th>Name</th>\n",
              "      <th>District</th>\n",
              "    </tr>\n",
              "  </thead>\n",
              "  <tbody>\n",
              "    <tr>\n",
              "      <th>0</th>\n",
              "      <td>1200 Beacon St</td>\n",
              "      <td>Brookline</td>\n",
              "    </tr>\n",
              "    <tr>\n",
              "      <th>1</th>\n",
              "      <td>160 Arsenal</td>\n",
              "      <td>Watertown</td>\n",
              "    </tr>\n",
              "    <tr>\n",
              "      <th>2</th>\n",
              "      <td>175 N Harvard St</td>\n",
              "      <td>Boston</td>\n",
              "    </tr>\n",
              "  </tbody>\n",
              "</table>\n",
              "</div>"
            ],
            "text/plain": [
              "               Name   District\n",
              "0    1200 Beacon St  Brookline\n",
              "1       160 Arsenal  Watertown\n",
              "2  175 N Harvard St     Boston"
            ]
          },
          "execution_count": 73,
          "metadata": {},
          "output_type": "execute_result"
        }
      ],
      "source": [
        "df2"
      ]
    },
    {
      "cell_type": "markdown",
      "id": "2159e80c",
      "metadata": {
        "id": "2159e80c"
      },
      "source": [
        "### JOIN ON"
      ]
    },
    {
      "cell_type": "code",
      "execution_count": null,
      "id": "70e12438",
      "metadata": {
        "id": "70e12438"
      },
      "outputs": [],
      "source": [
        "conn = psycopg2.connect('dbname=bluebikes '+psql_settings)\n",
        "cur = conn.cursor()\n",
        "cur.execute('create table new_0 as select \"index\", \"starttime\", \"stoptime\" from trips_02 limit 3;')\n",
        "cur.execute('create table new_1 as select \"index\", \"start station latitude\" from trips_02 limit 4;')\n",
        "conn.commit()\n",
        "cur.close()\n",
        "conn.close()"
      ]
    },
    {
      "cell_type": "code",
      "execution_count": null,
      "id": "3540e334",
      "metadata": {
        "id": "3540e334"
      },
      "outputs": [],
      "source": [
        "# SQL: SELECT * FROM t1 FULL OUTER JOIN t2 ON t1.column = t2.column;\n",
        "# t1.column and t2.column need to be present in the final table.\n",
        "df1 = pd.read_sql('select * from new_0 as t1 join new_1 as t2 on t1.index=t2.index;', psql_engine)\n",
        "# Pandas equivalent\n",
        "df2 = pd.concat([trips_02[[\"starttime\",\"stoptime\"]][0:3],\n",
        "                trips_02[[\"start station latitude\"]][0:4]], axis=1, join=\"inner\")"
      ]
    },
    {
      "cell_type": "code",
      "execution_count": null,
      "id": "a0716510",
      "metadata": {
        "id": "a0716510",
        "outputId": "95b5a2e5-d60b-4478-a86f-204b69139064"
      },
      "outputs": [
        {
          "data": {
            "text/html": [
              "<div>\n",
              "<style scoped>\n",
              "    .dataframe tbody tr th:only-of-type {\n",
              "        vertical-align: middle;\n",
              "    }\n",
              "\n",
              "    .dataframe tbody tr th {\n",
              "        vertical-align: top;\n",
              "    }\n",
              "\n",
              "    .dataframe thead th {\n",
              "        text-align: right;\n",
              "    }\n",
              "</style>\n",
              "<table border=\"1\" class=\"dataframe\">\n",
              "  <thead>\n",
              "    <tr style=\"text-align: right;\">\n",
              "      <th></th>\n",
              "      <th>index</th>\n",
              "      <th>starttime</th>\n",
              "      <th>stoptime</th>\n",
              "      <th>index</th>\n",
              "      <th>start station latitude</th>\n",
              "    </tr>\n",
              "  </thead>\n",
              "  <tbody>\n",
              "    <tr>\n",
              "      <th>0</th>\n",
              "      <td>0</td>\n",
              "      <td>2022-02-01 00:01:22.5160</td>\n",
              "      <td>2022-02-01 00:09:00.2370</td>\n",
              "      <td>0</td>\n",
              "      <td>42.361358</td>\n",
              "    </tr>\n",
              "    <tr>\n",
              "      <th>1</th>\n",
              "      <td>1</td>\n",
              "      <td>2022-02-01 00:01:39.3630</td>\n",
              "      <td>2022-02-01 00:11:35.5800</td>\n",
              "      <td>1</td>\n",
              "      <td>42.365070</td>\n",
              "    </tr>\n",
              "    <tr>\n",
              "      <th>2</th>\n",
              "      <td>2</td>\n",
              "      <td>2022-02-01 00:02:41.5460</td>\n",
              "      <td>2022-02-01 00:18:08.8330</td>\n",
              "      <td>2</td>\n",
              "      <td>42.354659</td>\n",
              "    </tr>\n",
              "  </tbody>\n",
              "</table>\n",
              "</div>"
            ],
            "text/plain": [
              "   index                 starttime                  stoptime  index  \\\n",
              "0      0  2022-02-01 00:01:22.5160  2022-02-01 00:09:00.2370      0   \n",
              "1      1  2022-02-01 00:01:39.3630  2022-02-01 00:11:35.5800      1   \n",
              "2      2  2022-02-01 00:02:41.5460  2022-02-01 00:18:08.8330      2   \n",
              "\n",
              "   start station latitude  \n",
              "0               42.361358  \n",
              "1               42.365070  \n",
              "2               42.354659  "
            ]
          },
          "execution_count": 102,
          "metadata": {},
          "output_type": "execute_result"
        }
      ],
      "source": [
        "df1"
      ]
    },
    {
      "cell_type": "code",
      "execution_count": null,
      "id": "95bfdc76",
      "metadata": {
        "id": "95bfdc76",
        "outputId": "8acce492-324f-4fcb-cc7e-7ca9aff52810"
      },
      "outputs": [
        {
          "data": {
            "text/html": [
              "<div>\n",
              "<style scoped>\n",
              "    .dataframe tbody tr th:only-of-type {\n",
              "        vertical-align: middle;\n",
              "    }\n",
              "\n",
              "    .dataframe tbody tr th {\n",
              "        vertical-align: top;\n",
              "    }\n",
              "\n",
              "    .dataframe thead th {\n",
              "        text-align: right;\n",
              "    }\n",
              "</style>\n",
              "<table border=\"1\" class=\"dataframe\">\n",
              "  <thead>\n",
              "    <tr style=\"text-align: right;\">\n",
              "      <th></th>\n",
              "      <th>starttime</th>\n",
              "      <th>stoptime</th>\n",
              "      <th>start station latitude</th>\n",
              "    </tr>\n",
              "  </thead>\n",
              "  <tbody>\n",
              "    <tr>\n",
              "      <th>0</th>\n",
              "      <td>2022-02-01 00:01:22.5160</td>\n",
              "      <td>2022-02-01 00:09:00.2370</td>\n",
              "      <td>42.361358</td>\n",
              "    </tr>\n",
              "    <tr>\n",
              "      <th>1</th>\n",
              "      <td>2022-02-01 00:01:39.3630</td>\n",
              "      <td>2022-02-01 00:11:35.5800</td>\n",
              "      <td>42.365070</td>\n",
              "    </tr>\n",
              "    <tr>\n",
              "      <th>2</th>\n",
              "      <td>2022-02-01 00:02:41.5460</td>\n",
              "      <td>2022-02-01 00:18:08.8330</td>\n",
              "      <td>42.354659</td>\n",
              "    </tr>\n",
              "  </tbody>\n",
              "</table>\n",
              "</div>"
            ],
            "text/plain": [
              "                  starttime                  stoptime  start station latitude\n",
              "0  2022-02-01 00:01:22.5160  2022-02-01 00:09:00.2370               42.361358\n",
              "1  2022-02-01 00:01:39.3630  2022-02-01 00:11:35.5800               42.365070\n",
              "2  2022-02-01 00:02:41.5460  2022-02-01 00:18:08.8330               42.354659"
            ]
          },
          "execution_count": 103,
          "metadata": {},
          "output_type": "execute_result"
        }
      ],
      "source": [
        "df2"
      ]
    },
    {
      "cell_type": "code",
      "execution_count": null,
      "id": "55a39ef7",
      "metadata": {
        "id": "55a39ef7"
      },
      "outputs": [],
      "source": [
        "# SQL: SELECT * FROM t1 JOIN t2 ON t1.column = t2.columnl;\n",
        "df1 = pd.read_sql('select * from new_0 as t1 full outer join new_1 as t2 on t1.index=t2.index;', psql_engine)\n",
        "# Pandas equivalent\n",
        "df2 = pd.concat([trips_02[[\"starttime\",\"stoptime\"]][0:3],\n",
        "                trips_02[[\"start station latitude\"]][0:4]], axis=1, join=\"outer\")"
      ]
    },
    {
      "cell_type": "code",
      "execution_count": null,
      "id": "daa39053",
      "metadata": {
        "id": "daa39053",
        "outputId": "ade794d9-b7db-463b-9606-c2202c2c89d8"
      },
      "outputs": [
        {
          "data": {
            "text/html": [
              "<div>\n",
              "<style scoped>\n",
              "    .dataframe tbody tr th:only-of-type {\n",
              "        vertical-align: middle;\n",
              "    }\n",
              "\n",
              "    .dataframe tbody tr th {\n",
              "        vertical-align: top;\n",
              "    }\n",
              "\n",
              "    .dataframe thead th {\n",
              "        text-align: right;\n",
              "    }\n",
              "</style>\n",
              "<table border=\"1\" class=\"dataframe\">\n",
              "  <thead>\n",
              "    <tr style=\"text-align: right;\">\n",
              "      <th></th>\n",
              "      <th>index</th>\n",
              "      <th>starttime</th>\n",
              "      <th>stoptime</th>\n",
              "      <th>index</th>\n",
              "      <th>start station latitude</th>\n",
              "    </tr>\n",
              "  </thead>\n",
              "  <tbody>\n",
              "    <tr>\n",
              "      <th>0</th>\n",
              "      <td>0.0</td>\n",
              "      <td>2022-02-01 00:01:22.5160</td>\n",
              "      <td>2022-02-01 00:09:00.2370</td>\n",
              "      <td>0</td>\n",
              "      <td>42.361358</td>\n",
              "    </tr>\n",
              "    <tr>\n",
              "      <th>1</th>\n",
              "      <td>1.0</td>\n",
              "      <td>2022-02-01 00:01:39.3630</td>\n",
              "      <td>2022-02-01 00:11:35.5800</td>\n",
              "      <td>1</td>\n",
              "      <td>42.365070</td>\n",
              "    </tr>\n",
              "    <tr>\n",
              "      <th>2</th>\n",
              "      <td>2.0</td>\n",
              "      <td>2022-02-01 00:02:41.5460</td>\n",
              "      <td>2022-02-01 00:18:08.8330</td>\n",
              "      <td>2</td>\n",
              "      <td>42.354659</td>\n",
              "    </tr>\n",
              "    <tr>\n",
              "      <th>3</th>\n",
              "      <td>NaN</td>\n",
              "      <td>None</td>\n",
              "      <td>None</td>\n",
              "      <td>3</td>\n",
              "      <td>42.361358</td>\n",
              "    </tr>\n",
              "  </tbody>\n",
              "</table>\n",
              "</div>"
            ],
            "text/plain": [
              "   index                 starttime                  stoptime  index  \\\n",
              "0    0.0  2022-02-01 00:01:22.5160  2022-02-01 00:09:00.2370      0   \n",
              "1    1.0  2022-02-01 00:01:39.3630  2022-02-01 00:11:35.5800      1   \n",
              "2    2.0  2022-02-01 00:02:41.5460  2022-02-01 00:18:08.8330      2   \n",
              "3    NaN                      None                      None      3   \n",
              "\n",
              "   start station latitude  \n",
              "0               42.361358  \n",
              "1               42.365070  \n",
              "2               42.354659  \n",
              "3               42.361358  "
            ]
          },
          "execution_count": 106,
          "metadata": {},
          "output_type": "execute_result"
        }
      ],
      "source": [
        "df1"
      ]
    },
    {
      "cell_type": "code",
      "execution_count": null,
      "id": "1fbde194",
      "metadata": {
        "id": "1fbde194",
        "outputId": "e7981d26-0030-4369-e993-af6e21193629"
      },
      "outputs": [
        {
          "data": {
            "text/html": [
              "<div>\n",
              "<style scoped>\n",
              "    .dataframe tbody tr th:only-of-type {\n",
              "        vertical-align: middle;\n",
              "    }\n",
              "\n",
              "    .dataframe tbody tr th {\n",
              "        vertical-align: top;\n",
              "    }\n",
              "\n",
              "    .dataframe thead th {\n",
              "        text-align: right;\n",
              "    }\n",
              "</style>\n",
              "<table border=\"1\" class=\"dataframe\">\n",
              "  <thead>\n",
              "    <tr style=\"text-align: right;\">\n",
              "      <th></th>\n",
              "      <th>starttime</th>\n",
              "      <th>stoptime</th>\n",
              "      <th>start station latitude</th>\n",
              "    </tr>\n",
              "  </thead>\n",
              "  <tbody>\n",
              "    <tr>\n",
              "      <th>0</th>\n",
              "      <td>2022-02-01 00:01:22.5160</td>\n",
              "      <td>2022-02-01 00:09:00.2370</td>\n",
              "      <td>42.361358</td>\n",
              "    </tr>\n",
              "    <tr>\n",
              "      <th>1</th>\n",
              "      <td>2022-02-01 00:01:39.3630</td>\n",
              "      <td>2022-02-01 00:11:35.5800</td>\n",
              "      <td>42.365070</td>\n",
              "    </tr>\n",
              "    <tr>\n",
              "      <th>2</th>\n",
              "      <td>2022-02-01 00:02:41.5460</td>\n",
              "      <td>2022-02-01 00:18:08.8330</td>\n",
              "      <td>42.354659</td>\n",
              "    </tr>\n",
              "    <tr>\n",
              "      <th>3</th>\n",
              "      <td>NaN</td>\n",
              "      <td>NaN</td>\n",
              "      <td>42.361358</td>\n",
              "    </tr>\n",
              "  </tbody>\n",
              "</table>\n",
              "</div>"
            ],
            "text/plain": [
              "                  starttime                  stoptime  start station latitude\n",
              "0  2022-02-01 00:01:22.5160  2022-02-01 00:09:00.2370               42.361358\n",
              "1  2022-02-01 00:01:39.3630  2022-02-01 00:11:35.5800               42.365070\n",
              "2  2022-02-01 00:02:41.5460  2022-02-01 00:18:08.8330               42.354659\n",
              "3                       NaN                       NaN               42.361358"
            ]
          },
          "execution_count": 107,
          "metadata": {},
          "output_type": "execute_result"
        }
      ],
      "source": [
        "df2"
      ]
    },
    {
      "cell_type": "markdown",
      "id": "9fdc01c9",
      "metadata": {
        "id": "9fdc01c9"
      },
      "source": [
        "https://www.codeproject.com/Articles/33052/Visual-Representation-of-SQL-Joins"
      ]
    },
    {
      "cell_type": "markdown",
      "source": [
        "![Visual_SQL_JOINS_V2.png](data:image/png;base64,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)"
      ],
      "metadata": {
        "id": "G0Kny_VpR6RM"
      },
      "id": "G0Kny_VpR6RM"
    },
    {
      "cell_type": "markdown",
      "id": "7c11ab01",
      "metadata": {
        "id": "7c11ab01"
      },
      "source": [
        "### WHERE"
      ]
    },
    {
      "cell_type": "code",
      "execution_count": null,
      "id": "5255aec2",
      "metadata": {
        "id": "5255aec2"
      },
      "outputs": [],
      "source": [
        "# SQL: SELECT * FROM table WHERE table.column <> x;\n",
        "df1 = pd.read_sql('select * from stations where \"Total docks\">20;', psql_engine)\n",
        "# Pandas equivalent\n",
        "df2 = stations[stations[\"Total docks\"]>20]"
      ]
    },
    {
      "cell_type": "code",
      "execution_count": null,
      "id": "a96be01c",
      "metadata": {
        "id": "a96be01c",
        "outputId": "ede76f13-38ac-41a2-bebe-02b74172db1f"
      },
      "outputs": [
        {
          "data": {
            "text/html": [
              "<div>\n",
              "<style scoped>\n",
              "    .dataframe tbody tr th:only-of-type {\n",
              "        vertical-align: middle;\n",
              "    }\n",
              "\n",
              "    .dataframe tbody tr th {\n",
              "        vertical-align: top;\n",
              "    }\n",
              "\n",
              "    .dataframe thead th {\n",
              "        text-align: right;\n",
              "    }\n",
              "</style>\n",
              "<table border=\"1\" class=\"dataframe\">\n",
              "  <thead>\n",
              "    <tr style=\"text-align: right;\">\n",
              "      <th></th>\n",
              "      <th>index</th>\n",
              "      <th>Number</th>\n",
              "      <th>Name</th>\n",
              "      <th>Latitude</th>\n",
              "      <th>Longitude</th>\n",
              "      <th>District</th>\n",
              "      <th>Public</th>\n",
              "      <th>Total docks</th>\n",
              "      <th>Deployment Year</th>\n",
              "    </tr>\n",
              "  </thead>\n",
              "  <tbody>\n",
              "    <tr>\n",
              "      <th>0</th>\n",
              "      <td>6</td>\n",
              "      <td>M32026</td>\n",
              "      <td>359 Broadway - Broadway at Fayette Street</td>\n",
              "      <td>42.370803</td>\n",
              "      <td>-71.104412</td>\n",
              "      <td>Cambridge</td>\n",
              "      <td>Yes</td>\n",
              "      <td>23</td>\n",
              "      <td>2013.0</td>\n",
              "    </tr>\n",
              "    <tr>\n",
              "      <th>1</th>\n",
              "      <td>10</td>\n",
              "      <td>M32054</td>\n",
              "      <td>699 Mt Auburn St</td>\n",
              "      <td>42.375002</td>\n",
              "      <td>-71.148716</td>\n",
              "      <td>Cambridge</td>\n",
              "      <td>Yes</td>\n",
              "      <td>24</td>\n",
              "      <td>2018.0</td>\n",
              "    </tr>\n",
              "    <tr>\n",
              "      <th>2</th>\n",
              "      <td>15</td>\n",
              "      <td>M32058</td>\n",
              "      <td>84 Cambridgepark Dr</td>\n",
              "      <td>42.393600</td>\n",
              "      <td>-71.143941</td>\n",
              "      <td>Cambridge</td>\n",
              "      <td>Yes</td>\n",
              "      <td>27</td>\n",
              "      <td>2018.0</td>\n",
              "    </tr>\n",
              "  </tbody>\n",
              "</table>\n",
              "</div>"
            ],
            "text/plain": [
              "   index  Number                                       Name   Latitude  \\\n",
              "0      6  M32026  359 Broadway - Broadway at Fayette Street  42.370803   \n",
              "1     10  M32054                           699 Mt Auburn St  42.375002   \n",
              "2     15  M32058                        84 Cambridgepark Dr  42.393600   \n",
              "\n",
              "   Longitude   District Public  Total docks  Deployment Year  \n",
              "0 -71.104412  Cambridge    Yes           23           2013.0  \n",
              "1 -71.148716  Cambridge    Yes           24           2018.0  \n",
              "2 -71.143941  Cambridge    Yes           27           2018.0  "
            ]
          },
          "execution_count": 112,
          "metadata": {},
          "output_type": "execute_result"
        }
      ],
      "source": [
        "df1.head(3)"
      ]
    },
    {
      "cell_type": "code",
      "execution_count": null,
      "id": "f86e7444",
      "metadata": {
        "id": "f86e7444",
        "outputId": "e91a8365-e94f-4f69-c77a-67a72fddc2db"
      },
      "outputs": [
        {
          "data": {
            "text/html": [
              "<div>\n",
              "<style scoped>\n",
              "    .dataframe tbody tr th:only-of-type {\n",
              "        vertical-align: middle;\n",
              "    }\n",
              "\n",
              "    .dataframe tbody tr th {\n",
              "        vertical-align: top;\n",
              "    }\n",
              "\n",
              "    .dataframe thead th {\n",
              "        text-align: right;\n",
              "    }\n",
              "</style>\n",
              "<table border=\"1\" class=\"dataframe\">\n",
              "  <thead>\n",
              "    <tr style=\"text-align: right;\">\n",
              "      <th></th>\n",
              "      <th>Number</th>\n",
              "      <th>Name</th>\n",
              "      <th>Latitude</th>\n",
              "      <th>Longitude</th>\n",
              "      <th>District</th>\n",
              "      <th>Public</th>\n",
              "      <th>Total docks</th>\n",
              "      <th>Deployment Year</th>\n",
              "    </tr>\n",
              "  </thead>\n",
              "  <tbody>\n",
              "    <tr>\n",
              "      <th>6</th>\n",
              "      <td>M32026</td>\n",
              "      <td>359 Broadway - Broadway at Fayette Street</td>\n",
              "      <td>42.370803</td>\n",
              "      <td>-71.104412</td>\n",
              "      <td>Cambridge</td>\n",
              "      <td>Yes</td>\n",
              "      <td>23</td>\n",
              "      <td>2013.0</td>\n",
              "    </tr>\n",
              "    <tr>\n",
              "      <th>10</th>\n",
              "      <td>M32054</td>\n",
              "      <td>699 Mt Auburn St</td>\n",
              "      <td>42.375002</td>\n",
              "      <td>-71.148716</td>\n",
              "      <td>Cambridge</td>\n",
              "      <td>Yes</td>\n",
              "      <td>24</td>\n",
              "      <td>2018.0</td>\n",
              "    </tr>\n",
              "    <tr>\n",
              "      <th>15</th>\n",
              "      <td>M32058</td>\n",
              "      <td>84 Cambridgepark Dr</td>\n",
              "      <td>42.393600</td>\n",
              "      <td>-71.143941</td>\n",
              "      <td>Cambridge</td>\n",
              "      <td>Yes</td>\n",
              "      <td>27</td>\n",
              "      <td>2018.0</td>\n",
              "    </tr>\n",
              "  </tbody>\n",
              "</table>\n",
              "</div>"
            ],
            "text/plain": [
              "    Number                                       Name   Latitude  Longitude  \\\n",
              "6   M32026  359 Broadway - Broadway at Fayette Street  42.370803 -71.104412   \n",
              "10  M32054                           699 Mt Auburn St  42.375002 -71.148716   \n",
              "15  M32058                        84 Cambridgepark Dr  42.393600 -71.143941   \n",
              "\n",
              "     District Public  Total docks  Deployment Year  \n",
              "6   Cambridge    Yes           23           2013.0  \n",
              "10  Cambridge    Yes           24           2018.0  \n",
              "15  Cambridge    Yes           27           2018.0  "
            ]
          },
          "execution_count": 113,
          "metadata": {},
          "output_type": "execute_result"
        }
      ],
      "source": [
        "df2.head(3)"
      ]
    },
    {
      "cell_type": "markdown",
      "id": "a4c10177",
      "metadata": {
        "id": "a4c10177"
      },
      "source": [
        "### GROUP BY"
      ]
    },
    {
      "cell_type": "code",
      "execution_count": null,
      "id": "ba730636",
      "metadata": {
        "id": "ba730636"
      },
      "outputs": [],
      "source": [
        "# SQL: SELECT column1, fn(column2) FROM table GROUP BY column1;\n",
        "# Need an aggregate function fn (sum, max, count, ...)\n",
        "df1 = pd.read_sql('select sum(\"Total docks\"), \"Deployment Year\" from stations group by \"Deployment Year\";', psql_engine)\n",
        "# Pandas equivalent\n",
        "df2 = stations.groupby(by=[\"Deployment Year\"]).sum()[\"Total docks\"]"
      ]
    },
    {
      "cell_type": "code",
      "execution_count": null,
      "id": "f7deb42c",
      "metadata": {
        "id": "f7deb42c",
        "outputId": "5594805a-91d3-46b6-a71a-8a5615a3dd7c"
      },
      "outputs": [
        {
          "data": {
            "text/html": [
              "<div>\n",
              "<style scoped>\n",
              "    .dataframe tbody tr th:only-of-type {\n",
              "        vertical-align: middle;\n",
              "    }\n",
              "\n",
              "    .dataframe tbody tr th {\n",
              "        vertical-align: top;\n",
              "    }\n",
              "\n",
              "    .dataframe thead th {\n",
              "        text-align: right;\n",
              "    }\n",
              "</style>\n",
              "<table border=\"1\" class=\"dataframe\">\n",
              "  <thead>\n",
              "    <tr style=\"text-align: right;\">\n",
              "      <th></th>\n",
              "      <th>sum</th>\n",
              "      <th>Deployment Year</th>\n",
              "    </tr>\n",
              "  </thead>\n",
              "  <tbody>\n",
              "    <tr>\n",
              "      <th>0</th>\n",
              "      <td>1053.0</td>\n",
              "      <td>2019.0</td>\n",
              "    </tr>\n",
              "  </tbody>\n",
              "</table>\n",
              "</div>"
            ],
            "text/plain": [
              "      sum  Deployment Year\n",
              "0  1053.0           2019.0"
            ]
          },
          "execution_count": 151,
          "metadata": {},
          "output_type": "execute_result"
        }
      ],
      "source": [
        "df1[df1[\"Deployment Year\"] == 2019.0]"
      ]
    },
    {
      "cell_type": "code",
      "execution_count": null,
      "id": "513fea10",
      "metadata": {
        "id": "513fea10",
        "outputId": "4031d625-5e16-4ca1-e378-3ad9f8a4abaa"
      },
      "outputs": [
        {
          "data": {
            "text/plain": [
              "Deployment Year\n",
              "2019.0    1053\n",
              "Name: Total docks, dtype: int64"
            ]
          },
          "execution_count": 152,
          "metadata": {},
          "output_type": "execute_result"
        }
      ],
      "source": [
        "df2[df2.index == 2019.0]"
      ]
    },
    {
      "cell_type": "markdown",
      "id": "bd5665e8",
      "metadata": {
        "id": "bd5665e8"
      },
      "source": [
        "### HAVING"
      ]
    },
    {
      "cell_type": "code",
      "execution_count": null,
      "id": "6975e8b2",
      "metadata": {
        "id": "6975e8b2"
      },
      "outputs": [],
      "source": [
        "# SQL: SELECT column1, fn(column2) FROM table GROUP BY column1 HAVING fn(column2)=x;\n",
        "# Need an aggregate function fn (sum, max, count, ...)\n",
        "df1 = pd.read_sql('select sum(\"Total docks\"), \"Deployment Year\" from stations group by \"Deployment Year\" having sum(\"Total docks\")=1053;', psql_engine)\n",
        "# Pandas equivalent\n",
        "df2 = stations.groupby(by=[\"Deployment Year\"]).sum()\n",
        "df2 = df2[df2[\"Total docks\"]==1053][\"Total docks\"]"
      ]
    },
    {
      "cell_type": "code",
      "execution_count": null,
      "id": "4034ab78",
      "metadata": {
        "id": "4034ab78",
        "outputId": "4f32f7c1-d8d1-4bbb-c997-45a22a14e8b8"
      },
      "outputs": [
        {
          "data": {
            "text/html": [
              "<div>\n",
              "<style scoped>\n",
              "    .dataframe tbody tr th:only-of-type {\n",
              "        vertical-align: middle;\n",
              "    }\n",
              "\n",
              "    .dataframe tbody tr th {\n",
              "        vertical-align: top;\n",
              "    }\n",
              "\n",
              "    .dataframe thead th {\n",
              "        text-align: right;\n",
              "    }\n",
              "</style>\n",
              "<table border=\"1\" class=\"dataframe\">\n",
              "  <thead>\n",
              "    <tr style=\"text-align: right;\">\n",
              "      <th></th>\n",
              "      <th>sum</th>\n",
              "      <th>Deployment Year</th>\n",
              "    </tr>\n",
              "  </thead>\n",
              "  <tbody>\n",
              "    <tr>\n",
              "      <th>0</th>\n",
              "      <td>1053.0</td>\n",
              "      <td>2019.0</td>\n",
              "    </tr>\n",
              "  </tbody>\n",
              "</table>\n",
              "</div>"
            ],
            "text/plain": [
              "      sum  Deployment Year\n",
              "0  1053.0           2019.0"
            ]
          },
          "execution_count": 146,
          "metadata": {},
          "output_type": "execute_result"
        }
      ],
      "source": [
        "df1"
      ]
    },
    {
      "cell_type": "code",
      "execution_count": null,
      "id": "90757bf6",
      "metadata": {
        "id": "90757bf6",
        "outputId": "64474f1e-41bc-41f1-dbc3-de53f81150ab"
      },
      "outputs": [
        {
          "data": {
            "text/plain": [
              "Deployment Year\n",
              "2019.0    1053\n",
              "Name: Total docks, dtype: int64"
            ]
          },
          "execution_count": 147,
          "metadata": {},
          "output_type": "execute_result"
        }
      ],
      "source": [
        "df2"
      ]
    },
    {
      "cell_type": "markdown",
      "source": [
        "### UNION"
      ],
      "metadata": {
        "id": "TBWfGwKSPECD"
      },
      "id": "TBWfGwKSPECD"
    },
    {
      "cell_type": "code",
      "execution_count": null,
      "id": "902a6ee7",
      "metadata": {
        "id": "902a6ee7"
      },
      "outputs": [],
      "source": [
        "# SQL: SELECT *, column FROM t1 UNION SELECT *, column FROM t2;\n",
        "# Need an aggregate function fn (sum, max, count, ...)\n",
        "df1 = pd.read_sql('select *, \"starttime\" as st from trips_02 union select *, \"starttime\" as st from trips_03 limit 10;', psql_engine)\n",
        "# Pandas equivalent\n",
        "df2 = pd.concat([trips_03, trips_02], axis=0)[:10]"
      ]
    },
    {
      "cell_type": "code",
      "execution_count": null,
      "id": "0f304118",
      "metadata": {
        "id": "0f304118",
        "outputId": "b286a220-4914-4897-86b7-207fe2a8a6fc"
      },
      "outputs": [
        {
          "data": {
            "text/html": [
              "<div>\n",
              "<style scoped>\n",
              "    .dataframe tbody tr th:only-of-type {\n",
              "        vertical-align: middle;\n",
              "    }\n",
              "\n",
              "    .dataframe tbody tr th {\n",
              "        vertical-align: top;\n",
              "    }\n",
              "\n",
              "    .dataframe thead th {\n",
              "        text-align: right;\n",
              "    }\n",
              "</style>\n",
              "<table border=\"1\" class=\"dataframe\">\n",
              "  <thead>\n",
              "    <tr style=\"text-align: right;\">\n",
              "      <th></th>\n",
              "      <th>index</th>\n",
              "      <th>tripduration</th>\n",
              "      <th>starttime</th>\n",
              "      <th>stoptime</th>\n",
              "      <th>start station id</th>\n",
              "      <th>start station name</th>\n",
              "      <th>start station latitude</th>\n",
              "      <th>start station longitude</th>\n",
              "      <th>end station id</th>\n",
              "      <th>end station name</th>\n",
              "      <th>end station latitude</th>\n",
              "      <th>end station longitude</th>\n",
              "      <th>bikeid</th>\n",
              "      <th>usertype</th>\n",
              "      <th>postal code</th>\n",
              "      <th>st</th>\n",
              "    </tr>\n",
              "  </thead>\n",
              "  <tbody>\n",
              "    <tr>\n",
              "      <th>0</th>\n",
              "      <td>0</td>\n",
              "      <td>298</td>\n",
              "      <td>2022-03-01 00:00:03.6830</td>\n",
              "      <td>2022-03-01 00:05:01.7310</td>\n",
              "      <td>67</td>\n",
              "      <td>MIT at Mass Ave / Amherst St</td>\n",
              "      <td>42.3581</td>\n",
              "      <td>-71.093198</td>\n",
              "      <td>179</td>\n",
              "      <td>MIT Vassar St</td>\n",
              "      <td>42.355601</td>\n",
              "      <td>-71.103945</td>\n",
              "      <td>6035</td>\n",
              "      <td>Subscriber</td>\n",
              "      <td>02139</td>\n",
              "      <td>2022-03-01 00:00:03.6830</td>\n",
              "    </tr>\n",
              "  </tbody>\n",
              "</table>\n",
              "</div>"
            ],
            "text/plain": [
              "   index  tripduration                 starttime                  stoptime  \\\n",
              "0      0           298  2022-03-01 00:00:03.6830  2022-03-01 00:05:01.7310   \n",
              "\n",
              "   start station id            start station name  start station latitude  \\\n",
              "0                67  MIT at Mass Ave / Amherst St                 42.3581   \n",
              "\n",
              "   start station longitude  end station id end station name  \\\n",
              "0               -71.093198             179    MIT Vassar St   \n",
              "\n",
              "   end station latitude  end station longitude  bikeid    usertype  \\\n",
              "0             42.355601             -71.103945    6035  Subscriber   \n",
              "\n",
              "  postal code                        st  \n",
              "0       02139  2022-03-01 00:00:03.6830  "
            ]
          },
          "execution_count": 175,
          "metadata": {},
          "output_type": "execute_result"
        }
      ],
      "source": [
        "df1.head(1)"
      ]
    },
    {
      "cell_type": "code",
      "execution_count": null,
      "id": "033a0061",
      "metadata": {
        "id": "033a0061",
        "outputId": "cdd9e143-dd02-40cb-d2b9-f7d4188e021a"
      },
      "outputs": [
        {
          "data": {
            "text/html": [
              "<div>\n",
              "<style scoped>\n",
              "    .dataframe tbody tr th:only-of-type {\n",
              "        vertical-align: middle;\n",
              "    }\n",
              "\n",
              "    .dataframe tbody tr th {\n",
              "        vertical-align: top;\n",
              "    }\n",
              "\n",
              "    .dataframe thead th {\n",
              "        text-align: right;\n",
              "    }\n",
              "</style>\n",
              "<table border=\"1\" class=\"dataframe\">\n",
              "  <thead>\n",
              "    <tr style=\"text-align: right;\">\n",
              "      <th></th>\n",
              "      <th>tripduration</th>\n",
              "      <th>starttime</th>\n",
              "      <th>stoptime</th>\n",
              "      <th>start station id</th>\n",
              "      <th>start station name</th>\n",
              "      <th>start station latitude</th>\n",
              "      <th>start station longitude</th>\n",
              "      <th>end station id</th>\n",
              "      <th>end station name</th>\n",
              "      <th>end station latitude</th>\n",
              "      <th>end station longitude</th>\n",
              "      <th>bikeid</th>\n",
              "      <th>usertype</th>\n",
              "      <th>postal code</th>\n",
              "    </tr>\n",
              "  </thead>\n",
              "  <tbody>\n",
              "    <tr>\n",
              "      <th>0</th>\n",
              "      <td>298</td>\n",
              "      <td>2022-03-01 00:00:03.6830</td>\n",
              "      <td>2022-03-01 00:05:01.7310</td>\n",
              "      <td>67</td>\n",
              "      <td>MIT at Mass Ave / Amherst St</td>\n",
              "      <td>42.3581</td>\n",
              "      <td>-71.093198</td>\n",
              "      <td>179</td>\n",
              "      <td>MIT Vassar St</td>\n",
              "      <td>42.355601</td>\n",
              "      <td>-71.103945</td>\n",
              "      <td>6035</td>\n",
              "      <td>Subscriber</td>\n",
              "      <td>02139</td>\n",
              "    </tr>\n",
              "  </tbody>\n",
              "</table>\n",
              "</div>"
            ],
            "text/plain": [
              "   tripduration                 starttime                  stoptime  \\\n",
              "0           298  2022-03-01 00:00:03.6830  2022-03-01 00:05:01.7310   \n",
              "\n",
              "   start station id            start station name  start station latitude  \\\n",
              "0                67  MIT at Mass Ave / Amherst St                 42.3581   \n",
              "\n",
              "   start station longitude  end station id end station name  \\\n",
              "0               -71.093198             179    MIT Vassar St   \n",
              "\n",
              "   end station latitude  end station longitude  bikeid    usertype postal code  \n",
              "0             42.355601             -71.103945    6035  Subscriber       02139  "
            ]
          },
          "execution_count": 176,
          "metadata": {},
          "output_type": "execute_result"
        }
      ],
      "source": [
        "df2.head(1)"
      ]
    },
    {
      "cell_type": "markdown",
      "source": [
        "### ORDER BY"
      ],
      "metadata": {
        "id": "tjS42RWbOoZz"
      },
      "id": "tjS42RWbOoZz"
    },
    {
      "cell_type": "code",
      "execution_count": null,
      "id": "d4e6e3d1",
      "metadata": {
        "id": "d4e6e3d1"
      },
      "outputs": [],
      "source": [
        "# SQL: SELECT *, column FROM t1 UNION SELECT *, column FROM t2 ORDER BY column DESC;\n",
        "# Need an aggregate function fn (sum, max, count, ...)\n",
        "df1 = pd.read_sql('select *, \"starttime\" as st from trips_02 union select *, \"starttime\" as st from trips_03 order by \"starttime\" desc limit 10;', psql_engine)\n",
        "# Pandas equivalent\n",
        "df2 = pd.concat([trips_02, trips_03], axis=0).sort_values(by=[\"starttime\"], axis=0, ascending=False)[:10]"
      ]
    },
    {
      "cell_type": "code",
      "execution_count": null,
      "id": "82a79b94",
      "metadata": {
        "id": "82a79b94",
        "outputId": "4b09c266-19bc-43b0-d9ca-d6bf0d40e632"
      },
      "outputs": [
        {
          "data": {
            "text/html": [
              "<div>\n",
              "<style scoped>\n",
              "    .dataframe tbody tr th:only-of-type {\n",
              "        vertical-align: middle;\n",
              "    }\n",
              "\n",
              "    .dataframe tbody tr th {\n",
              "        vertical-align: top;\n",
              "    }\n",
              "\n",
              "    .dataframe thead th {\n",
              "        text-align: right;\n",
              "    }\n",
              "</style>\n",
              "<table border=\"1\" class=\"dataframe\">\n",
              "  <thead>\n",
              "    <tr style=\"text-align: right;\">\n",
              "      <th></th>\n",
              "      <th>index</th>\n",
              "      <th>tripduration</th>\n",
              "      <th>starttime</th>\n",
              "      <th>stoptime</th>\n",
              "      <th>start station id</th>\n",
              "      <th>start station name</th>\n",
              "      <th>start station latitude</th>\n",
              "      <th>start station longitude</th>\n",
              "      <th>end station id</th>\n",
              "      <th>end station name</th>\n",
              "      <th>end station latitude</th>\n",
              "      <th>end station longitude</th>\n",
              "      <th>bikeid</th>\n",
              "      <th>usertype</th>\n",
              "      <th>postal code</th>\n",
              "      <th>st</th>\n",
              "    </tr>\n",
              "  </thead>\n",
              "  <tbody>\n",
              "    <tr>\n",
              "      <th>0</th>\n",
              "      <td>182420</td>\n",
              "      <td>755</td>\n",
              "      <td>2022-03-31 23:59:53.8100</td>\n",
              "      <td>2022-04-01 00:12:29.5810</td>\n",
              "      <td>530</td>\n",
              "      <td>Foley St at Grand Union Blvd</td>\n",
              "      <td>42.393018</td>\n",
              "      <td>-71.080717</td>\n",
              "      <td>235</td>\n",
              "      <td>East Somerville Library (Broadway and Illinois)</td>\n",
              "      <td>42.387628</td>\n",
              "      <td>-71.083187</td>\n",
              "      <td>3216</td>\n",
              "      <td>Subscriber</td>\n",
              "      <td>02114</td>\n",
              "      <td>2022-03-31 23:59:53.8100</td>\n",
              "    </tr>\n",
              "  </tbody>\n",
              "</table>\n",
              "</div>"
            ],
            "text/plain": [
              "    index  tripduration                 starttime                  stoptime  \\\n",
              "0  182420           755  2022-03-31 23:59:53.8100  2022-04-01 00:12:29.5810   \n",
              "\n",
              "   start station id            start station name  start station latitude  \\\n",
              "0               530  Foley St at Grand Union Blvd               42.393018   \n",
              "\n",
              "   start station longitude  end station id  \\\n",
              "0               -71.080717             235   \n",
              "\n",
              "                                  end station name  end station latitude  \\\n",
              "0  East Somerville Library (Broadway and Illinois)             42.387628   \n",
              "\n",
              "   end station longitude  bikeid    usertype postal code  \\\n",
              "0             -71.083187    3216  Subscriber       02114   \n",
              "\n",
              "                         st  \n",
              "0  2022-03-31 23:59:53.8100  "
            ]
          },
          "execution_count": 178,
          "metadata": {},
          "output_type": "execute_result"
        }
      ],
      "source": [
        "df1.head(1)"
      ]
    },
    {
      "cell_type": "code",
      "execution_count": null,
      "id": "bb1d8b4e",
      "metadata": {
        "id": "bb1d8b4e",
        "outputId": "1747e8f8-50f7-41d2-bf89-692bc4a38fe3"
      },
      "outputs": [
        {
          "data": {
            "text/html": [
              "<div>\n",
              "<style scoped>\n",
              "    .dataframe tbody tr th:only-of-type {\n",
              "        vertical-align: middle;\n",
              "    }\n",
              "\n",
              "    .dataframe tbody tr th {\n",
              "        vertical-align: top;\n",
              "    }\n",
              "\n",
              "    .dataframe thead th {\n",
              "        text-align: right;\n",
              "    }\n",
              "</style>\n",
              "<table border=\"1\" class=\"dataframe\">\n",
              "  <thead>\n",
              "    <tr style=\"text-align: right;\">\n",
              "      <th></th>\n",
              "      <th>tripduration</th>\n",
              "      <th>starttime</th>\n",
              "      <th>stoptime</th>\n",
              "      <th>start station id</th>\n",
              "      <th>start station name</th>\n",
              "      <th>start station latitude</th>\n",
              "      <th>start station longitude</th>\n",
              "      <th>end station id</th>\n",
              "      <th>end station name</th>\n",
              "      <th>end station latitude</th>\n",
              "      <th>end station longitude</th>\n",
              "      <th>bikeid</th>\n",
              "      <th>usertype</th>\n",
              "      <th>postal code</th>\n",
              "    </tr>\n",
              "  </thead>\n",
              "  <tbody>\n",
              "    <tr>\n",
              "      <th>182420</th>\n",
              "      <td>755</td>\n",
              "      <td>2022-03-31 23:59:53.8100</td>\n",
              "      <td>2022-04-01 00:12:29.5810</td>\n",
              "      <td>530</td>\n",
              "      <td>Foley St at Grand Union Blvd</td>\n",
              "      <td>42.393018</td>\n",
              "      <td>-71.080717</td>\n",
              "      <td>235</td>\n",
              "      <td>East Somerville Library (Broadway and Illinois)</td>\n",
              "      <td>42.387628</td>\n",
              "      <td>-71.083187</td>\n",
              "      <td>3216</td>\n",
              "      <td>Subscriber</td>\n",
              "      <td>02114</td>\n",
              "    </tr>\n",
              "  </tbody>\n",
              "</table>\n",
              "</div>"
            ],
            "text/plain": [
              "        tripduration                 starttime                  stoptime  \\\n",
              "182420           755  2022-03-31 23:59:53.8100  2022-04-01 00:12:29.5810   \n",
              "\n",
              "        start station id            start station name  \\\n",
              "182420               530  Foley St at Grand Union Blvd   \n",
              "\n",
              "        start station latitude  start station longitude  end station id  \\\n",
              "182420               42.393018               -71.080717             235   \n",
              "\n",
              "                                       end station name  end station latitude  \\\n",
              "182420  East Somerville Library (Broadway and Illinois)             42.387628   \n",
              "\n",
              "        end station longitude  bikeid    usertype postal code  \n",
              "182420             -71.083187    3216  Subscriber       02114  "
            ]
          },
          "execution_count": 180,
          "metadata": {},
          "output_type": "execute_result"
        }
      ],
      "source": [
        "df2.head(1)"
      ]
    },
    {
      "cell_type": "code",
      "execution_count": null,
      "id": "02a1f810",
      "metadata": {
        "id": "02a1f810"
      },
      "outputs": [],
      "source": [
        ""
      ]
    }
  ],
  "metadata": {
    "kernelspec": {
      "display_name": "Python 3 (ipykernel)",
      "language": "python",
      "name": "python3"
    },
    "language_info": {
      "codemirror_mode": {
        "name": "ipython",
        "version": 3
      },
      "file_extension": ".py",
      "mimetype": "text/x-python",
      "name": "python",
      "nbconvert_exporter": "python",
      "pygments_lexer": "ipython3",
      "version": "3.9.7"
    },
    "colab": {
      "name": "Postgres.ipynb",
      "provenance": [],
      "collapsed_sections": []
    }
  },
  "nbformat": 4,
  "nbformat_minor": 5
}