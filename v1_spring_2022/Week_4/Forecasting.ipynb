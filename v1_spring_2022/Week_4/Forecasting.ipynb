{
  "nbformat": 4,
  "nbformat_minor": 0,
  "metadata": {
    "colab": {
      "name": "Forecasting.ipynb",
      "provenance": [],
      "collapsed_sections": []
    },
    "kernelspec": {
      "name": "python3",
      "display_name": "Python 3"
    },
    "language_info": {
      "name": "python"
    }
  },
  "cells": [
    {
      "cell_type": "code",
      "source": [
        "import os\n",
        "\n",
        "from IPython import display\n",
        "import matplotlib.pyplot as plt\n",
        "import numpy as np\n",
        "import pandas as pd\n",
        "\n",
        "import tensorflow as tf\n",
        "from tensorflow import keras\n",
        "from tensorflow.keras import layers\n",
        "from sklearn import preprocessing\n",
        "from sklearn.utils import shuffle"
      ],
      "metadata": {
        "id": "Oo6ABYFiBS1_"
      },
      "execution_count": null,
      "outputs": []
    },
    {
      "cell_type": "markdown",
      "source": [
        "## Forecasting"
      ],
      "metadata": {
        "id": "X921mNMoV6Q5"
      }
    },
    {
      "cell_type": "markdown",
      "source": [
        "We will work with the weather dataset from Jena, Germany. It is provided by the Max Planck Institute and can be downloaded from Keras datasets."
      ],
      "metadata": {
        "id": "yhQx_V9VT7mD"
      }
    },
    {
      "cell_type": "code",
      "source": [
        "tf.keras.utils.get_file('weather_data.zip',\n",
        "                        'https://s3.amazonaws.com/keras-datasets/jena_climate_2009_2016.csv.zip',\n",
        "                        cache_dir='./',\n",
        "                        cache_subdir='datasets/weather',\n",
        "                        extract=True)"
      ],
      "metadata": {
        "colab": {
          "base_uri": "https://localhost:8080/",
          "height": 35
        },
        "id": "FfhdzASfTFOv",
        "outputId": "1eca8919-666b-4382-81bb-cc3fd269cfc0"
      },
      "execution_count": null,
      "outputs": [
        {
          "output_type": "execute_result",
          "data": {
            "text/plain": [
              "'./datasets/weather/weather_data.zip'"
            ],
            "application/vnd.google.colaboratory.intrinsic+json": {
              "type": "string"
            }
          },
          "metadata": {},
          "execution_count": 2
        }
      ]
    },
    {
      "cell_type": "markdown",
      "source": [
        "### Data exploration"
      ],
      "metadata": {
        "id": "pclCldScZRN0"
      }
    },
    {
      "cell_type": "code",
      "source": [
        "# Import the data as a DataFrame for simple exploration.\n",
        "\n",
        "df = pd.read_csv('./datasets/weather/jena_climate_2009_2016.csv')\n",
        "df.head()"
      ],
      "metadata": {
        "colab": {
          "base_uri": "https://localhost:8080/",
          "height": 206
        },
        "id": "L8WiFdqrmELI",
        "outputId": "8b903f2b-e774-45cf-c17d-e697eff94399"
      },
      "execution_count": null,
      "outputs": [
        {
          "output_type": "execute_result",
          "data": {
            "text/plain": [
              "             Date Time  p (mbar)  T (degC)  Tpot (K)  Tdew (degC)  rh (%)  \\\n",
              "0  01.01.2009 00:10:00    996.52     -8.02    265.40        -8.90    93.3   \n",
              "1  01.01.2009 00:20:00    996.57     -8.41    265.01        -9.28    93.4   \n",
              "2  01.01.2009 00:30:00    996.53     -8.51    264.91        -9.31    93.9   \n",
              "3  01.01.2009 00:40:00    996.51     -8.31    265.12        -9.07    94.2   \n",
              "4  01.01.2009 00:50:00    996.51     -8.27    265.15        -9.04    94.1   \n",
              "\n",
              "   VPmax (mbar)  VPact (mbar)  VPdef (mbar)  sh (g/kg)  H2OC (mmol/mol)  \\\n",
              "0          3.33          3.11          0.22       1.94             3.12   \n",
              "1          3.23          3.02          0.21       1.89             3.03   \n",
              "2          3.21          3.01          0.20       1.88             3.02   \n",
              "3          3.26          3.07          0.19       1.92             3.08   \n",
              "4          3.27          3.08          0.19       1.92             3.09   \n",
              "\n",
              "   rho (g/m**3)  wv (m/s)  max. wv (m/s)  wd (deg)  \n",
              "0       1307.75      1.03           1.75     152.3  \n",
              "1       1309.80      0.72           1.50     136.1  \n",
              "2       1310.24      0.19           0.63     171.6  \n",
              "3       1309.19      0.34           0.50     198.0  \n",
              "4       1309.00      0.32           0.63     214.3  "
            ],
            "text/html": [
              "\n",
              "  <div id=\"df-ec158c20-693a-489a-9d53-8230807a87ad\">\n",
              "    <div class=\"colab-df-container\">\n",
              "      <div>\n",
              "<style scoped>\n",
              "    .dataframe tbody tr th:only-of-type {\n",
              "        vertical-align: middle;\n",
              "    }\n",
              "\n",
              "    .dataframe tbody tr th {\n",
              "        vertical-align: top;\n",
              "    }\n",
              "\n",
              "    .dataframe thead th {\n",
              "        text-align: right;\n",
              "    }\n",
              "</style>\n",
              "<table border=\"1\" class=\"dataframe\">\n",
              "  <thead>\n",
              "    <tr style=\"text-align: right;\">\n",
              "      <th></th>\n",
              "      <th>Date Time</th>\n",
              "      <th>p (mbar)</th>\n",
              "      <th>T (degC)</th>\n",
              "      <th>Tpot (K)</th>\n",
              "      <th>Tdew (degC)</th>\n",
              "      <th>rh (%)</th>\n",
              "      <th>VPmax (mbar)</th>\n",
              "      <th>VPact (mbar)</th>\n",
              "      <th>VPdef (mbar)</th>\n",
              "      <th>sh (g/kg)</th>\n",
              "      <th>H2OC (mmol/mol)</th>\n",
              "      <th>rho (g/m**3)</th>\n",
              "      <th>wv (m/s)</th>\n",
              "      <th>max. wv (m/s)</th>\n",
              "      <th>wd (deg)</th>\n",
              "    </tr>\n",
              "  </thead>\n",
              "  <tbody>\n",
              "    <tr>\n",
              "      <th>0</th>\n",
              "      <td>01.01.2009 00:10:00</td>\n",
              "      <td>996.52</td>\n",
              "      <td>-8.02</td>\n",
              "      <td>265.40</td>\n",
              "      <td>-8.90</td>\n",
              "      <td>93.3</td>\n",
              "      <td>3.33</td>\n",
              "      <td>3.11</td>\n",
              "      <td>0.22</td>\n",
              "      <td>1.94</td>\n",
              "      <td>3.12</td>\n",
              "      <td>1307.75</td>\n",
              "      <td>1.03</td>\n",
              "      <td>1.75</td>\n",
              "      <td>152.3</td>\n",
              "    </tr>\n",
              "    <tr>\n",
              "      <th>1</th>\n",
              "      <td>01.01.2009 00:20:00</td>\n",
              "      <td>996.57</td>\n",
              "      <td>-8.41</td>\n",
              "      <td>265.01</td>\n",
              "      <td>-9.28</td>\n",
              "      <td>93.4</td>\n",
              "      <td>3.23</td>\n",
              "      <td>3.02</td>\n",
              "      <td>0.21</td>\n",
              "      <td>1.89</td>\n",
              "      <td>3.03</td>\n",
              "      <td>1309.80</td>\n",
              "      <td>0.72</td>\n",
              "      <td>1.50</td>\n",
              "      <td>136.1</td>\n",
              "    </tr>\n",
              "    <tr>\n",
              "      <th>2</th>\n",
              "      <td>01.01.2009 00:30:00</td>\n",
              "      <td>996.53</td>\n",
              "      <td>-8.51</td>\n",
              "      <td>264.91</td>\n",
              "      <td>-9.31</td>\n",
              "      <td>93.9</td>\n",
              "      <td>3.21</td>\n",
              "      <td>3.01</td>\n",
              "      <td>0.20</td>\n",
              "      <td>1.88</td>\n",
              "      <td>3.02</td>\n",
              "      <td>1310.24</td>\n",
              "      <td>0.19</td>\n",
              "      <td>0.63</td>\n",
              "      <td>171.6</td>\n",
              "    </tr>\n",
              "    <tr>\n",
              "      <th>3</th>\n",
              "      <td>01.01.2009 00:40:00</td>\n",
              "      <td>996.51</td>\n",
              "      <td>-8.31</td>\n",
              "      <td>265.12</td>\n",
              "      <td>-9.07</td>\n",
              "      <td>94.2</td>\n",
              "      <td>3.26</td>\n",
              "      <td>3.07</td>\n",
              "      <td>0.19</td>\n",
              "      <td>1.92</td>\n",
              "      <td>3.08</td>\n",
              "      <td>1309.19</td>\n",
              "      <td>0.34</td>\n",
              "      <td>0.50</td>\n",
              "      <td>198.0</td>\n",
              "    </tr>\n",
              "    <tr>\n",
              "      <th>4</th>\n",
              "      <td>01.01.2009 00:50:00</td>\n",
              "      <td>996.51</td>\n",
              "      <td>-8.27</td>\n",
              "      <td>265.15</td>\n",
              "      <td>-9.04</td>\n",
              "      <td>94.1</td>\n",
              "      <td>3.27</td>\n",
              "      <td>3.08</td>\n",
              "      <td>0.19</td>\n",
              "      <td>1.92</td>\n",
              "      <td>3.09</td>\n",
              "      <td>1309.00</td>\n",
              "      <td>0.32</td>\n",
              "      <td>0.63</td>\n",
              "      <td>214.3</td>\n",
              "    </tr>\n",
              "  </tbody>\n",
              "</table>\n",
              "</div>\n",
              "      <button class=\"colab-df-convert\" onclick=\"convertToInteractive('df-ec158c20-693a-489a-9d53-8230807a87ad')\"\n",
              "              title=\"Convert this dataframe to an interactive table.\"\n",
              "              style=\"display:none;\">\n",
              "        \n",
              "  <svg xmlns=\"http://www.w3.org/2000/svg\" height=\"24px\"viewBox=\"0 0 24 24\"\n",
              "       width=\"24px\">\n",
              "    <path d=\"M0 0h24v24H0V0z\" fill=\"none\"/>\n",
              "    <path d=\"M18.56 5.44l.94 2.06.94-2.06 2.06-.94-2.06-.94-.94-2.06-.94 2.06-2.06.94zm-11 1L8.5 8.5l.94-2.06 2.06-.94-2.06-.94L8.5 2.5l-.94 2.06-2.06.94zm10 10l.94 2.06.94-2.06 2.06-.94-2.06-.94-.94-2.06-.94 2.06-2.06.94z\"/><path d=\"M17.41 7.96l-1.37-1.37c-.4-.4-.92-.59-1.43-.59-.52 0-1.04.2-1.43.59L10.3 9.45l-7.72 7.72c-.78.78-.78 2.05 0 2.83L4 21.41c.39.39.9.59 1.41.59.51 0 1.02-.2 1.41-.59l7.78-7.78 2.81-2.81c.8-.78.8-2.07 0-2.86zM5.41 20L4 18.59l7.72-7.72 1.47 1.35L5.41 20z\"/>\n",
              "  </svg>\n",
              "      </button>\n",
              "      \n",
              "  <style>\n",
              "    .colab-df-container {\n",
              "      display:flex;\n",
              "      flex-wrap:wrap;\n",
              "      gap: 12px;\n",
              "    }\n",
              "\n",
              "    .colab-df-convert {\n",
              "      background-color: #E8F0FE;\n",
              "      border: none;\n",
              "      border-radius: 50%;\n",
              "      cursor: pointer;\n",
              "      display: none;\n",
              "      fill: #1967D2;\n",
              "      height: 32px;\n",
              "      padding: 0 0 0 0;\n",
              "      width: 32px;\n",
              "    }\n",
              "\n",
              "    .colab-df-convert:hover {\n",
              "      background-color: #E2EBFA;\n",
              "      box-shadow: 0px 1px 2px rgba(60, 64, 67, 0.3), 0px 1px 3px 1px rgba(60, 64, 67, 0.15);\n",
              "      fill: #174EA6;\n",
              "    }\n",
              "\n",
              "    [theme=dark] .colab-df-convert {\n",
              "      background-color: #3B4455;\n",
              "      fill: #D2E3FC;\n",
              "    }\n",
              "\n",
              "    [theme=dark] .colab-df-convert:hover {\n",
              "      background-color: #434B5C;\n",
              "      box-shadow: 0px 1px 3px 1px rgba(0, 0, 0, 0.15);\n",
              "      filter: drop-shadow(0px 1px 2px rgba(0, 0, 0, 0.3));\n",
              "      fill: #FFFFFF;\n",
              "    }\n",
              "  </style>\n",
              "\n",
              "      <script>\n",
              "        const buttonEl =\n",
              "          document.querySelector('#df-ec158c20-693a-489a-9d53-8230807a87ad button.colab-df-convert');\n",
              "        buttonEl.style.display =\n",
              "          google.colab.kernel.accessAllowed ? 'block' : 'none';\n",
              "\n",
              "        async function convertToInteractive(key) {\n",
              "          const element = document.querySelector('#df-ec158c20-693a-489a-9d53-8230807a87ad');\n",
              "          const dataTable =\n",
              "            await google.colab.kernel.invokeFunction('convertToInteractive',\n",
              "                                                     [key], {});\n",
              "          if (!dataTable) return;\n",
              "\n",
              "          const docLinkHtml = 'Like what you see? Visit the ' +\n",
              "            '<a target=\"_blank\" href=https://colab.research.google.com/notebooks/data_table.ipynb>data table notebook</a>'\n",
              "            + ' to learn more about interactive tables.';\n",
              "          element.innerHTML = '';\n",
              "          dataTable['output_type'] = 'display_data';\n",
              "          await google.colab.output.renderOutput(dataTable, element);\n",
              "          const docLink = document.createElement('div');\n",
              "          docLink.innerHTML = docLinkHtml;\n",
              "          element.appendChild(docLink);\n",
              "        }\n",
              "      </script>\n",
              "    </div>\n",
              "  </div>\n",
              "  "
            ]
          },
          "metadata": {},
          "execution_count": 3
        }
      ]
    },
    {
      "cell_type": "code",
      "source": [
        "df.describe()"
      ],
      "metadata": {
        "colab": {
          "base_uri": "https://localhost:8080/",
          "height": 300
        },
        "id": "P6tvSKwHUByj",
        "outputId": "f3e3a211-c405-4f55-8b0f-bc9f7d7a3856"
      },
      "execution_count": null,
      "outputs": [
        {
          "output_type": "execute_result",
          "data": {
            "text/plain": [
              "            p (mbar)       T (degC)       Tpot (K)    Tdew (degC)  \\\n",
              "count  420451.000000  420451.000000  420451.000000  420451.000000   \n",
              "mean      989.212508       9.448567     283.491182       4.954011   \n",
              "std         8.359454       8.423685       8.504820       6.730411   \n",
              "min       913.600000     -23.010000     250.600000     -25.010000   \n",
              "25%       984.200000       3.360000     277.430000       0.240000   \n",
              "50%       989.570000       9.410000     283.460000       5.210000   \n",
              "75%       994.720000      15.470000     289.530000      10.070000   \n",
              "max      1015.350000      37.280000     311.340000      23.110000   \n",
              "\n",
              "              rh (%)   VPmax (mbar)   VPact (mbar)   VPdef (mbar)  \\\n",
              "count  420451.000000  420451.000000  420451.000000  420451.000000   \n",
              "mean       76.007045      13.575089       9.532524       4.042483   \n",
              "std        16.477126       7.739481       4.183895       4.897270   \n",
              "min        12.950000       0.950000       0.790000       0.000000   \n",
              "25%        65.210000       7.780000       6.210000       0.870000   \n",
              "50%        79.300000      11.820000       8.860000       2.190000   \n",
              "75%        89.400000      17.600000      12.350000       5.300000   \n",
              "max       100.000000      63.770000      28.320000      46.010000   \n",
              "\n",
              "           sh (g/kg)  H2OC (mmol/mol)   rho (g/m**3)       wv (m/s)  \\\n",
              "count  420451.000000    420451.000000  420451.000000  420451.000000   \n",
              "mean        6.021630         9.638982    1216.069883       2.130309   \n",
              "std         2.655973         4.235130      39.977065       1.541830   \n",
              "min         0.500000         0.800000    1059.450000       0.000000   \n",
              "25%         3.920000         6.290000    1187.490000       0.990000   \n",
              "50%         5.590000         8.960000    1213.800000       1.760000   \n",
              "75%         7.800000        12.480000    1242.770000       2.860000   \n",
              "max        18.130000        28.820000    1393.540000      14.630000   \n",
              "\n",
              "       max. wv (m/s)       wd (deg)  \n",
              "count  420451.000000  420451.000000  \n",
              "mean        3.532381     174.726164  \n",
              "std         2.340482      86.675965  \n",
              "min         0.000000       0.000000  \n",
              "25%         1.760000     124.800000  \n",
              "50%         2.960000     198.100000  \n",
              "75%         4.740000     234.100000  \n",
              "max        23.500000     360.000000  "
            ],
            "text/html": [
              "\n",
              "  <div id=\"df-d2c2c7d8-f1a7-43b4-9d91-a4a03442cbe0\">\n",
              "    <div class=\"colab-df-container\">\n",
              "      <div>\n",
              "<style scoped>\n",
              "    .dataframe tbody tr th:only-of-type {\n",
              "        vertical-align: middle;\n",
              "    }\n",
              "\n",
              "    .dataframe tbody tr th {\n",
              "        vertical-align: top;\n",
              "    }\n",
              "\n",
              "    .dataframe thead th {\n",
              "        text-align: right;\n",
              "    }\n",
              "</style>\n",
              "<table border=\"1\" class=\"dataframe\">\n",
              "  <thead>\n",
              "    <tr style=\"text-align: right;\">\n",
              "      <th></th>\n",
              "      <th>p (mbar)</th>\n",
              "      <th>T (degC)</th>\n",
              "      <th>Tpot (K)</th>\n",
              "      <th>Tdew (degC)</th>\n",
              "      <th>rh (%)</th>\n",
              "      <th>VPmax (mbar)</th>\n",
              "      <th>VPact (mbar)</th>\n",
              "      <th>VPdef (mbar)</th>\n",
              "      <th>sh (g/kg)</th>\n",
              "      <th>H2OC (mmol/mol)</th>\n",
              "      <th>rho (g/m**3)</th>\n",
              "      <th>wv (m/s)</th>\n",
              "      <th>max. wv (m/s)</th>\n",
              "      <th>wd (deg)</th>\n",
              "    </tr>\n",
              "  </thead>\n",
              "  <tbody>\n",
              "    <tr>\n",
              "      <th>count</th>\n",
              "      <td>420451.000000</td>\n",
              "      <td>420451.000000</td>\n",
              "      <td>420451.000000</td>\n",
              "      <td>420451.000000</td>\n",
              "      <td>420451.000000</td>\n",
              "      <td>420451.000000</td>\n",
              "      <td>420451.000000</td>\n",
              "      <td>420451.000000</td>\n",
              "      <td>420451.000000</td>\n",
              "      <td>420451.000000</td>\n",
              "      <td>420451.000000</td>\n",
              "      <td>420451.000000</td>\n",
              "      <td>420451.000000</td>\n",
              "      <td>420451.000000</td>\n",
              "    </tr>\n",
              "    <tr>\n",
              "      <th>mean</th>\n",
              "      <td>989.212508</td>\n",
              "      <td>9.448567</td>\n",
              "      <td>283.491182</td>\n",
              "      <td>4.954011</td>\n",
              "      <td>76.007045</td>\n",
              "      <td>13.575089</td>\n",
              "      <td>9.532524</td>\n",
              "      <td>4.042483</td>\n",
              "      <td>6.021630</td>\n",
              "      <td>9.638982</td>\n",
              "      <td>1216.069883</td>\n",
              "      <td>2.130309</td>\n",
              "      <td>3.532381</td>\n",
              "      <td>174.726164</td>\n",
              "    </tr>\n",
              "    <tr>\n",
              "      <th>std</th>\n",
              "      <td>8.359454</td>\n",
              "      <td>8.423685</td>\n",
              "      <td>8.504820</td>\n",
              "      <td>6.730411</td>\n",
              "      <td>16.477126</td>\n",
              "      <td>7.739481</td>\n",
              "      <td>4.183895</td>\n",
              "      <td>4.897270</td>\n",
              "      <td>2.655973</td>\n",
              "      <td>4.235130</td>\n",
              "      <td>39.977065</td>\n",
              "      <td>1.541830</td>\n",
              "      <td>2.340482</td>\n",
              "      <td>86.675965</td>\n",
              "    </tr>\n",
              "    <tr>\n",
              "      <th>min</th>\n",
              "      <td>913.600000</td>\n",
              "      <td>-23.010000</td>\n",
              "      <td>250.600000</td>\n",
              "      <td>-25.010000</td>\n",
              "      <td>12.950000</td>\n",
              "      <td>0.950000</td>\n",
              "      <td>0.790000</td>\n",
              "      <td>0.000000</td>\n",
              "      <td>0.500000</td>\n",
              "      <td>0.800000</td>\n",
              "      <td>1059.450000</td>\n",
              "      <td>0.000000</td>\n",
              "      <td>0.000000</td>\n",
              "      <td>0.000000</td>\n",
              "    </tr>\n",
              "    <tr>\n",
              "      <th>25%</th>\n",
              "      <td>984.200000</td>\n",
              "      <td>3.360000</td>\n",
              "      <td>277.430000</td>\n",
              "      <td>0.240000</td>\n",
              "      <td>65.210000</td>\n",
              "      <td>7.780000</td>\n",
              "      <td>6.210000</td>\n",
              "      <td>0.870000</td>\n",
              "      <td>3.920000</td>\n",
              "      <td>6.290000</td>\n",
              "      <td>1187.490000</td>\n",
              "      <td>0.990000</td>\n",
              "      <td>1.760000</td>\n",
              "      <td>124.800000</td>\n",
              "    </tr>\n",
              "    <tr>\n",
              "      <th>50%</th>\n",
              "      <td>989.570000</td>\n",
              "      <td>9.410000</td>\n",
              "      <td>283.460000</td>\n",
              "      <td>5.210000</td>\n",
              "      <td>79.300000</td>\n",
              "      <td>11.820000</td>\n",
              "      <td>8.860000</td>\n",
              "      <td>2.190000</td>\n",
              "      <td>5.590000</td>\n",
              "      <td>8.960000</td>\n",
              "      <td>1213.800000</td>\n",
              "      <td>1.760000</td>\n",
              "      <td>2.960000</td>\n",
              "      <td>198.100000</td>\n",
              "    </tr>\n",
              "    <tr>\n",
              "      <th>75%</th>\n",
              "      <td>994.720000</td>\n",
              "      <td>15.470000</td>\n",
              "      <td>289.530000</td>\n",
              "      <td>10.070000</td>\n",
              "      <td>89.400000</td>\n",
              "      <td>17.600000</td>\n",
              "      <td>12.350000</td>\n",
              "      <td>5.300000</td>\n",
              "      <td>7.800000</td>\n",
              "      <td>12.480000</td>\n",
              "      <td>1242.770000</td>\n",
              "      <td>2.860000</td>\n",
              "      <td>4.740000</td>\n",
              "      <td>234.100000</td>\n",
              "    </tr>\n",
              "    <tr>\n",
              "      <th>max</th>\n",
              "      <td>1015.350000</td>\n",
              "      <td>37.280000</td>\n",
              "      <td>311.340000</td>\n",
              "      <td>23.110000</td>\n",
              "      <td>100.000000</td>\n",
              "      <td>63.770000</td>\n",
              "      <td>28.320000</td>\n",
              "      <td>46.010000</td>\n",
              "      <td>18.130000</td>\n",
              "      <td>28.820000</td>\n",
              "      <td>1393.540000</td>\n",
              "      <td>14.630000</td>\n",
              "      <td>23.500000</td>\n",
              "      <td>360.000000</td>\n",
              "    </tr>\n",
              "  </tbody>\n",
              "</table>\n",
              "</div>\n",
              "      <button class=\"colab-df-convert\" onclick=\"convertToInteractive('df-d2c2c7d8-f1a7-43b4-9d91-a4a03442cbe0')\"\n",
              "              title=\"Convert this dataframe to an interactive table.\"\n",
              "              style=\"display:none;\">\n",
              "        \n",
              "  <svg xmlns=\"http://www.w3.org/2000/svg\" height=\"24px\"viewBox=\"0 0 24 24\"\n",
              "       width=\"24px\">\n",
              "    <path d=\"M0 0h24v24H0V0z\" fill=\"none\"/>\n",
              "    <path d=\"M18.56 5.44l.94 2.06.94-2.06 2.06-.94-2.06-.94-.94-2.06-.94 2.06-2.06.94zm-11 1L8.5 8.5l.94-2.06 2.06-.94-2.06-.94L8.5 2.5l-.94 2.06-2.06.94zm10 10l.94 2.06.94-2.06 2.06-.94-2.06-.94-.94-2.06-.94 2.06-2.06.94z\"/><path d=\"M17.41 7.96l-1.37-1.37c-.4-.4-.92-.59-1.43-.59-.52 0-1.04.2-1.43.59L10.3 9.45l-7.72 7.72c-.78.78-.78 2.05 0 2.83L4 21.41c.39.39.9.59 1.41.59.51 0 1.02-.2 1.41-.59l7.78-7.78 2.81-2.81c.8-.78.8-2.07 0-2.86zM5.41 20L4 18.59l7.72-7.72 1.47 1.35L5.41 20z\"/>\n",
              "  </svg>\n",
              "      </button>\n",
              "      \n",
              "  <style>\n",
              "    .colab-df-container {\n",
              "      display:flex;\n",
              "      flex-wrap:wrap;\n",
              "      gap: 12px;\n",
              "    }\n",
              "\n",
              "    .colab-df-convert {\n",
              "      background-color: #E8F0FE;\n",
              "      border: none;\n",
              "      border-radius: 50%;\n",
              "      cursor: pointer;\n",
              "      display: none;\n",
              "      fill: #1967D2;\n",
              "      height: 32px;\n",
              "      padding: 0 0 0 0;\n",
              "      width: 32px;\n",
              "    }\n",
              "\n",
              "    .colab-df-convert:hover {\n",
              "      background-color: #E2EBFA;\n",
              "      box-shadow: 0px 1px 2px rgba(60, 64, 67, 0.3), 0px 1px 3px 1px rgba(60, 64, 67, 0.15);\n",
              "      fill: #174EA6;\n",
              "    }\n",
              "\n",
              "    [theme=dark] .colab-df-convert {\n",
              "      background-color: #3B4455;\n",
              "      fill: #D2E3FC;\n",
              "    }\n",
              "\n",
              "    [theme=dark] .colab-df-convert:hover {\n",
              "      background-color: #434B5C;\n",
              "      box-shadow: 0px 1px 3px 1px rgba(0, 0, 0, 0.15);\n",
              "      filter: drop-shadow(0px 1px 2px rgba(0, 0, 0, 0.3));\n",
              "      fill: #FFFFFF;\n",
              "    }\n",
              "  </style>\n",
              "\n",
              "      <script>\n",
              "        const buttonEl =\n",
              "          document.querySelector('#df-d2c2c7d8-f1a7-43b4-9d91-a4a03442cbe0 button.colab-df-convert');\n",
              "        buttonEl.style.display =\n",
              "          google.colab.kernel.accessAllowed ? 'block' : 'none';\n",
              "\n",
              "        async function convertToInteractive(key) {\n",
              "          const element = document.querySelector('#df-d2c2c7d8-f1a7-43b4-9d91-a4a03442cbe0');\n",
              "          const dataTable =\n",
              "            await google.colab.kernel.invokeFunction('convertToInteractive',\n",
              "                                                     [key], {});\n",
              "          if (!dataTable) return;\n",
              "\n",
              "          const docLinkHtml = 'Like what you see? Visit the ' +\n",
              "            '<a target=\"_blank\" href=https://colab.research.google.com/notebooks/data_table.ipynb>data table notebook</a>'\n",
              "            + ' to learn more about interactive tables.';\n",
              "          element.innerHTML = '';\n",
              "          dataTable['output_type'] = 'display_data';\n",
              "          await google.colab.output.renderOutput(dataTable, element);\n",
              "          const docLink = document.createElement('div');\n",
              "          docLink.innerHTML = docLinkHtml;\n",
              "          element.appendChild(docLink);\n",
              "        }\n",
              "      </script>\n",
              "    </div>\n",
              "  </div>\n",
              "  "
            ]
          },
          "metadata": {},
          "execution_count": 4
        }
      ]
    },
    {
      "cell_type": "code",
      "source": [
        "# We will focus on the temperature as the quantity of interest.\n",
        "\n",
        "plt.plot(df['T (degC)'][:12000])"
      ],
      "metadata": {
        "colab": {
          "base_uri": "https://localhost:8080/",
          "height": 282
        },
        "id": "-mf2Gr-MCw0o",
        "outputId": "bf415e11-8526-4d20-b339-eba3dbb39588"
      },
      "execution_count": null,
      "outputs": [
        {
          "output_type": "execute_result",
          "data": {
            "text/plain": [
              "[<matplotlib.lines.Line2D at 0x7fe9553c6450>]"
            ]
          },
          "metadata": {},
          "execution_count": 5
        },
        {
          "output_type": "display_data",
          "data": {
            "text/plain": [
              "<Figure size 432x288 with 1 Axes>"
            ],
            "image/png": "[encoded data removed]"
          },
          "metadata": {
            "needs_background": "light"
          }
        }
      ]
    },
    {
      "cell_type": "markdown",
      "source": [
        "### Prepare datasets for a deep neural network model\n"
      ],
      "metadata": {
        "id": "2s9o_kN3PYjn"
      }
    },
    {
      "cell_type": "code",
      "source": [
        "# Let us separate the timestamps instead of which we can use the index.\n",
        "\n",
        "df_timestamps = df['Date Time']\n",
        "df = df.drop(columns='Date Time')"
      ],
      "metadata": {
        "id": "O-xVdR8fUQNP"
      },
      "execution_count": null,
      "outputs": []
    },
    {
      "cell_type": "code",
      "source": [
        "# Create a copy of the temperatur column which will act as our labels.\n",
        "\n",
        "temps = df['T (degC)'].copy()"
      ],
      "metadata": {
        "id": "5Sy6cCPoUe4R"
      },
      "execution_count": null,
      "outputs": []
    },
    {
      "cell_type": "code",
      "source": [
        "temps_mean = temps.mean()\n",
        "temps_std = temps.std()\n",
        "\n",
        "temps = (temps-temps_mean)/temps_std"
      ],
      "metadata": {
        "id": "xIUFHMHefRxZ"
      },
      "execution_count": null,
      "outputs": []
    },
    {
      "cell_type": "code",
      "source": [
        "# Normalize the data.\n",
        "\n",
        "df = (df - df.mean())/df.std()"
      ],
      "metadata": {
        "id": "M1cQhX0XUmyP"
      },
      "execution_count": null,
      "outputs": []
    },
    {
      "cell_type": "code",
      "source": [
        "# Create time series datasets which package data in a sliding window.\n",
        "\n",
        "# The number of samples included in our sliding window, analogous to the \n",
        "# kernel size in Convnets.\n",
        "window_size = 120\n",
        "\n",
        "# Analogous to strides in Convnets, the number of data points to skip when\n",
        "# sampling data from the window.\n",
        "strides = 6\n",
        "\n",
        "# How far into the future is the target of prediction.\n",
        "delay = strides * (window_size + 24 - 1)\n",
        "\n",
        "\n",
        "# Choose how to split the datasets to training, validation and test datasets.\n",
        "num_train = int(0.3 * len(df))\n",
        "num_valid = int(0.2 * len(df))\n",
        "num_test = len(df) - num_train - num_valid\n",
        "batch_size = 256\n",
        "\n",
        "\n",
        "train_dataset = keras.utils.timeseries_dataset_from_array(\n",
        "    df[:-delay],\n",
        "    targets=temps[delay:],\n",
        "    sampling_rate=strides,\n",
        "    sequence_length=window_size,\n",
        "    shuffle=True,\n",
        "    batch_size=batch_size,\n",
        "    start_index=0,\n",
        "    end_index=num_train)\n",
        "\n",
        "valid_dataset = keras.utils.timeseries_dataset_from_array(\n",
        "    df[:-delay],\n",
        "    targets=temps[delay:],\n",
        "    sampling_rate=strides,\n",
        "    sequence_length=window_size,\n",
        "    shuffle=True,\n",
        "    batch_size=batch_size,\n",
        "    start_index=num_train,\n",
        "    end_index=num_train + num_valid)\n",
        "\n",
        "test_dataset = keras.utils.timeseries_dataset_from_array(\n",
        "    df[:-delay],\n",
        "    targets=temps[delay:],\n",
        "    sampling_rate=strides,\n",
        "    sequence_length=window_size,\n",
        "    shuffle=True,\n",
        "    batch_size=batch_size,\n",
        "    start_index=num_train + num_valid)"
      ],
      "metadata": {
        "id": "kjpUdzbiEok9"
      },
      "execution_count": null,
      "outputs": []
    },
    {
      "cell_type": "code",
      "source": [
        "for samples, targets in train_dataset:\n",
        "    print(\"samples shape:\", samples.shape)\n",
        "    print(\"targets shape:\", targets.shape)\n",
        "    break"
      ],
      "metadata": {
        "colab": {
          "base_uri": "https://localhost:8080/"
        },
        "id": "NRgXiLZFIp-l",
        "outputId": "024d9969-1a4a-4b4e-87f6-26635572aec3"
      },
      "execution_count": null,
      "outputs": [
        {
          "output_type": "stream",
          "name": "stdout",
          "text": [
            "samples shape: (256, 120, 14)\n",
            "targets shape: (256,)\n"
          ]
        }
      ]
    },
    {
      "cell_type": "markdown",
      "source": [
        "### Baseline model"
      ],
      "metadata": {
        "id": "vWkzhbw-l4zS"
      }
    },
    {
      "cell_type": "code",
      "source": [
        "model_input = keras.Input(shape=(window_size, df.shape[-1]))\n",
        "x = layers.Flatten()(model_input)\n",
        "x = layers.Dense(16, activation=\"relu\")(x)\n",
        "x = layers.Dropout(0.5)(x)\n",
        "x = layers.Dense(1)(x)\n",
        "model_dense = keras.Model(model_input, x)\n",
        "\n",
        "model_dense.compile(optimizer=\"adam\", loss=\"mse\", metrics=[\"mae\"])"
      ],
      "metadata": {
        "id": "eBF29vo4mAYP"
      },
      "execution_count": null,
      "outputs": []
    },
    {
      "cell_type": "code",
      "source": [
        "model_dense.summary()"
      ],
      "metadata": {
        "colab": {
          "base_uri": "https://localhost:8080/"
        },
        "id": "xCjDNC-B3IM3",
        "outputId": "e85e08c8-bc16-46fb-d0c1-e471b65a2dc1"
      },
      "execution_count": null,
      "outputs": [
        {
          "output_type": "stream",
          "name": "stdout",
          "text": [
            "Model: \"model_3\"\n",
            "_________________________________________________________________\n",
            " Layer (type)                Output Shape              Param #   \n",
            "=================================================================\n",
            " input_4 (InputLayer)        [(None, 120, 14)]         0         \n",
            "                                                                 \n",
            " flatten_3 (Flatten)         (None, 1680)              0         \n",
            "                                                                 \n",
            " dense_6 (Dense)             (None, 16)                26896     \n",
            "                                                                 \n",
            " dropout_3 (Dropout)         (None, 16)                0         \n",
            "                                                                 \n",
            " dense_7 (Dense)             (None, 1)                 17        \n",
            "                                                                 \n",
            "=================================================================\n",
            "Total params: 26,913\n",
            "Trainable params: 26,913\n",
            "Non-trainable params: 0\n",
            "_________________________________________________________________\n"
          ]
        }
      ]
    },
    {
      "cell_type": "code",
      "source": [
        "history = model_dense.fit(train_dataset,\n",
        "                          epochs=4,\n",
        "                          validation_data=valid_dataset)"
      ],
      "metadata": {
        "colab": {
          "base_uri": "https://localhost:8080/"
        },
        "id": "m_1NBStsoQIE",
        "outputId": "996b9936-7950-424f-b718-d17255da9fb6"
      },
      "execution_count": null,
      "outputs": [
        {
          "output_type": "stream",
          "name": "stdout",
          "text": [
            "Epoch 1/4\n",
            "490/490 [==============================] - 42s 85ms/step - loss: 0.4897 - mae: 0.5234 - val_loss: 0.2305 - val_mae: 0.3808\n",
            "Epoch 2/4\n",
            "490/490 [==============================] - 43s 88ms/step - loss: 0.2948 - mae: 0.4170 - val_loss: 0.1859 - val_mae: 0.3402\n",
            "Epoch 3/4\n",
            "490/490 [==============================] - 43s 87ms/step - loss: 0.2642 - mae: 0.3936 - val_loss: 0.1786 - val_mae: 0.3335\n",
            "Epoch 4/4\n",
            "490/490 [==============================] - 42s 86ms/step - loss: 0.2491 - mae: 0.3813 - val_loss: 0.1586 - val_mae: 0.3134\n"
          ]
        }
      ]
    },
    {
      "cell_type": "code",
      "source": [
        "plt.plot(history.history['mae'], c='b')\n",
        "plt.plot(history.history['val_mae'], c='g')\n",
        "plt.legend(['Train MAE', 'Validation MAE'])\n",
        "plt.show()"
      ],
      "metadata": {
        "colab": {
          "base_uri": "https://localhost:8080/",
          "height": 265
        },
        "id": "4_yWdp74y2hN",
        "outputId": "f8f9f889-5c72-4db1-be49-04a4d587fb3a"
      },
      "execution_count": null,
      "outputs": [
        {
          "output_type": "display_data",
          "data": {
            "text/plain": [
              "<Figure size 432x288 with 1 Axes>"
            ],
            "image/png": "[encoded data removed]"
          },
          "metadata": {
            "needs_background": "light"
          }
        }
      ]
    },
    {
      "cell_type": "code",
      "source": [
        "model_dense.evaluate(test_dataset)"
      ],
      "metadata": {
        "colab": {
          "base_uri": "https://localhost:8080/"
        },
        "id": "D_zo1k6U1DZK",
        "outputId": "be886a19-b552-4616-82bc-9baf752ced72"
      },
      "execution_count": null,
      "outputs": [
        {
          "output_type": "stream",
          "name": "stdout",
          "text": [
            "816/816 [==============================] - 46s 56ms/step - loss: 0.1473 - mae: 0.3030\n"
          ]
        },
        {
          "output_type": "execute_result",
          "data": {
            "text/plain": [
              "[0.14731527864933014, 0.30304598808288574]"
            ]
          },
          "metadata": {},
          "execution_count": 39
        }
      ]
    },
    {
      "cell_type": "code",
      "source": [
        "y_pred = np.zeros(shape=(0), dtype='float32')\n",
        "y_true = np.zeros(shape=(0), dtype='float32')\n",
        "for samples, targets in test_dataset:\n",
        "    y_pred = np.concatenate([y_pred, model_dense.predict(samples).reshape((-1))], axis=0)\n",
        "    y_true = np.concatenate([y_true, targets], axis=0)"
      ],
      "metadata": {
        "id": "dsLmGsAFqNXR"
      },
      "execution_count": null,
      "outputs": []
    },
    {
      "cell_type": "code",
      "source": [
        "plt.plot(y_pred[:60], c='b')\n",
        "plt.plot(y_true[:60], c='g')\n",
        "plt.legend(['Predicted (NU)', 'Actual (NU)'])\n",
        "plt.show()"
      ],
      "metadata": {
        "colab": {
          "base_uri": "https://localhost:8080/",
          "height": 269
        },
        "id": "Ygi_NEbSs5gQ",
        "outputId": "d145bc4e-cdc6-43a6-db8b-e9eba8465158"
      },
      "execution_count": null,
      "outputs": [
        {
          "output_type": "display_data",
          "data": {
            "text/plain": [
              "<Figure size 432x288 with 1 Axes>"
            ],
            "image/png": "[encoded data removed]"
          },
          "metadata": {
            "needs_background": "light"
          }
        }
      ]
    },
    {
      "cell_type": "markdown",
      "source": [
        "### Convnet model"
      ],
      "metadata": {
        "id": "SbMRW2a_1W_U"
      }
    },
    {
      "cell_type": "code",
      "source": [
        "model_input = keras.Input(shape=(window_size, df.shape[-1]))\n",
        "x = layers.Conv1D(16, 4, activation=\"relu\")(model_input)\n",
        "x = layers.GlobalAveragePooling1D()(x)\n",
        "x = layers.Dropout(0.5)(x)\n",
        "x = layers.Dense(1)(x)\n",
        "\n",
        "model_conv = keras.Model(model_input, x)\n",
        "\n",
        "callback = keras.callbacks.EarlyStopping(monitor='val_loss',\n",
        "                                         patience=5,\n",
        "                                         restore_best_weights=True)\n",
        "\n",
        "model_conv.compile(optimizer=\"adam\", loss=\"mse\", metrics=[\"mae\"])"
      ],
      "metadata": {
        "id": "dvGOFw6O1dnj"
      },
      "execution_count": null,
      "outputs": []
    },
    {
      "cell_type": "code",
      "source": [
        "model_conv.summary()"
      ],
      "metadata": {
        "colab": {
          "base_uri": "https://localhost:8080/"
        },
        "id": "yEifY2Gp2_-v",
        "outputId": "53a240f5-1ad7-41f5-ec33-fdfab2fc9044"
      },
      "execution_count": null,
      "outputs": [
        {
          "output_type": "stream",
          "name": "stdout",
          "text": [
            "Model: \"model_4\"\n",
            "_________________________________________________________________\n",
            " Layer (type)                Output Shape              Param #   \n",
            "=================================================================\n",
            " input_5 (InputLayer)        [(None, 120, 14)]         0         \n",
            "                                                                 \n",
            " conv1d (Conv1D)             (None, 117, 16)           912       \n",
            "                                                                 \n",
            " global_average_pooling1d (G  (None, 16)               0         \n",
            " lobalAveragePooling1D)                                          \n",
            "                                                                 \n",
            " dropout_4 (Dropout)         (None, 16)                0         \n",
            "                                                                 \n",
            " dense_8 (Dense)             (None, 1)                 17        \n",
            "                                                                 \n",
            "=================================================================\n",
            "Total params: 929\n",
            "Trainable params: 929\n",
            "Non-trainable params: 0\n",
            "_________________________________________________________________\n"
          ]
        }
      ]
    },
    {
      "cell_type": "code",
      "source": [
        "history = model_conv.fit(train_dataset,\n",
        "                         epochs=4,\n",
        "                         validation_data=valid_dataset,\n",
        "                         callbacks=callback)"
      ],
      "metadata": {
        "colab": {
          "base_uri": "https://localhost:8080/"
        },
        "id": "OmDGkjMw3VtX",
        "outputId": "4b529f47-470b-4253-cd1d-03d29e293316"
      },
      "execution_count": null,
      "outputs": [
        {
          "output_type": "stream",
          "name": "stdout",
          "text": [
            "Epoch 1/4\n",
            "490/490 [==============================] - 47s 96ms/step - loss: 0.4390 - mae: 0.5226 - val_loss: 0.3531 - val_mae: 0.4652\n",
            "Epoch 2/4\n",
            "490/490 [==============================] - 49s 100ms/step - loss: 0.3964 - mae: 0.4973 - val_loss: 0.3490 - val_mae: 0.4639\n",
            "Epoch 3/4\n",
            "490/490 [==============================] - 49s 99ms/step - loss: 0.3924 - mae: 0.4947 - val_loss: 0.3501 - val_mae: 0.4642\n",
            "Epoch 4/4\n",
            "490/490 [==============================] - 47s 95ms/step - loss: 0.3890 - mae: 0.4928 - val_loss: 0.3492 - val_mae: 0.4640\n"
          ]
        }
      ]
    },
    {
      "cell_type": "code",
      "source": [
        "model_conv.evaluate(test_dataset)"
      ],
      "metadata": {
        "colab": {
          "base_uri": "https://localhost:8080/"
        },
        "id": "dSEYoJZm4G14",
        "outputId": "847ec636-9803-46cb-d4c0-655710c20d22"
      },
      "execution_count": null,
      "outputs": [
        {
          "output_type": "stream",
          "name": "stdout",
          "text": [
            "816/816 [==============================] - 59s 71ms/step - loss: 0.3047 - mae: 0.4359\n"
          ]
        },
        {
          "output_type": "execute_result",
          "data": {
            "text/plain": [
              "[0.3047023415565491, 0.4359057545661926]"
            ]
          },
          "metadata": {},
          "execution_count": 49
        }
      ]
    },
    {
      "cell_type": "markdown",
      "source": [
        "### Convnet with delayed input"
      ],
      "metadata": {
        "id": "J236bsAPJHtE"
      }
    },
    {
      "cell_type": "code",
      "source": [
        "model_input = keras.Input(shape=(window_size, df.shape[-1]))\n",
        "x = layers.ZeroPadding1D(4)(model_input)\n",
        "x = layers.Lambda(lambda x: x[:,:-8,:])(x)\n",
        "\n",
        "\n",
        "# For timeseries it's important to ignore padding during training.\n",
        "# We do that with the Masking layer.\n",
        "x = layers.Masking()(x)\n",
        "\n",
        "x = layers.Concatenate(axis=2)([model_input, x])\n",
        "x = layers.Conv1D(16, 2, activation=\"relu\")(x)\n",
        "x = layers.GlobalMaxPooling1D()(x)\n",
        "x = layers.Dropout(0.5)(x)\n",
        "x = layers.Dense(1)(x)\n",
        "\n",
        "model_conv_d = keras.Model(model_input, x)\n",
        "\n",
        "callback = keras.callbacks.EarlyStopping(monitor='val_loss',\n",
        "                                         patience=5,\n",
        "                                         restore_best_weights=True)\n",
        "\n",
        "model_conv_d.compile(optimizer=\"adam\", loss=\"mse\", metrics=[\"mae\"])"
      ],
      "metadata": {
        "id": "_XJuPISkIqXe"
      },
      "execution_count": null,
      "outputs": []
    },
    {
      "cell_type": "code",
      "source": [
        "model_conv_d.summary()"
      ],
      "metadata": {
        "colab": {
          "base_uri": "https://localhost:8080/"
        },
        "id": "30Ypurno4xEs",
        "outputId": "970a233d-d533-4e7d-afb5-72f90ee8f9a0"
      },
      "execution_count": null,
      "outputs": [
        {
          "output_type": "stream",
          "name": "stdout",
          "text": [
            "Model: \"model_5\"\n",
            "__________________________________________________________________________________________________\n",
            " Layer (type)                   Output Shape         Param #     Connected to                     \n",
            "==================================================================================================\n",
            " input_6 (InputLayer)           [(None, 120, 14)]    0           []                               \n",
            "                                                                                                  \n",
            " zero_padding1d (ZeroPadding1D)  (None, 128, 14)     0           ['input_6[0][0]']                \n",
            "                                                                                                  \n",
            " lambda (Lambda)                (None, 120, 14)      0           ['zero_padding1d[0][0]']         \n",
            "                                                                                                  \n",
            " masking (Masking)              (None, 120, 14)      0           ['lambda[0][0]']                 \n",
            "                                                                                                  \n",
            " concatenate (Concatenate)      (None, 120, 28)      0           ['input_6[0][0]',                \n",
            "                                                                  'masking[0][0]']                \n",
            "                                                                                                  \n",
            " conv1d_1 (Conv1D)              (None, 119, 16)      912         ['concatenate[0][0]']            \n",
            "                                                                                                  \n",
            " global_max_pooling1d (GlobalMa  (None, 16)          0           ['conv1d_1[0][0]']               \n",
            " xPooling1D)                                                                                      \n",
            "                                                                                                  \n",
            " dropout_5 (Dropout)            (None, 16)           0           ['global_max_pooling1d[0][0]']   \n",
            "                                                                                                  \n",
            " dense_9 (Dense)                (None, 1)            17          ['dropout_5[0][0]']              \n",
            "                                                                                                  \n",
            "==================================================================================================\n",
            "Total params: 929\n",
            "Trainable params: 929\n",
            "Non-trainable params: 0\n",
            "__________________________________________________________________________________________________\n"
          ]
        }
      ]
    },
    {
      "cell_type": "code",
      "source": [
        "history = model_conv_d.fit(train_dataset,\n",
        "                           epochs=4,\n",
        "                           validation_data=valid_dataset,\n",
        "                           callbacks=callback)"
      ],
      "metadata": {
        "id": "HrwqWjPuRvyy",
        "colab": {
          "base_uri": "https://localhost:8080/"
        },
        "outputId": "af82cd4e-2510-4f6b-887c-245ec9ce3752"
      },
      "execution_count": null,
      "outputs": [
        {
          "output_type": "stream",
          "name": "stdout",
          "text": [
            "Epoch 1/4\n",
            "490/490 [==============================] - 52s 105ms/step - loss: 0.5869 - mae: 0.6028 - val_loss: 0.3561 - val_mae: 0.4676\n",
            "Epoch 2/4\n",
            "490/490 [==============================] - 52s 106ms/step - loss: 0.4204 - mae: 0.5127 - val_loss: 0.3479 - val_mae: 0.4624\n",
            "Epoch 3/4\n",
            "490/490 [==============================] - 51s 104ms/step - loss: 0.4010 - mae: 0.4998 - val_loss: 0.3367 - val_mae: 0.4574\n",
            "Epoch 4/4\n",
            "490/490 [==============================] - 51s 103ms/step - loss: 0.3896 - mae: 0.4917 - val_loss: 0.3398 - val_mae: 0.4562\n"
          ]
        }
      ]
    },
    {
      "cell_type": "code",
      "source": [
        "y_pred = np.zeros(shape=(0), dtype='float32')\n",
        "y_true = np.zeros(shape=(0), dtype='float32')\n",
        "for samples, targets in test_dataset:\n",
        "    y_pred = np.concatenate([y_pred, model_conv_d.predict(samples).reshape((-1))], axis=0)\n",
        "    y_true = np.concatenate([y_true, targets], axis=0)\n",
        "\n",
        "plt.plot(y_pred[:20], c='b')\n",
        "plt.plot(y_true[:20], c='g')\n",
        "plt.legend(['Predicted (NU)', 'Actual (NU)'])\n",
        "plt.show()"
      ],
      "metadata": {
        "colab": {
          "base_uri": "https://localhost:8080/",
          "height": 265
        },
        "id": "kCCsazBh7Hqt",
        "outputId": "3df1b4f4-c99c-46b1-8d12-6145fdd17fa6"
      },
      "execution_count": null,
      "outputs": [
        {
          "output_type": "display_data",
          "data": {
            "text/plain": [
              "<Figure size 432x288 with 1 Axes>"
            ],
            "image/png": "[encoded data removed]"
          },
          "metadata": {
            "needs_background": "light"
          }
        }
      ]
    },
    {
      "cell_type": "code",
      "source": [
        "model_conv_d.evaluate(test_dataset)"
      ],
      "metadata": {
        "id": "jW_fVhmR6x6h"
      },
      "execution_count": null,
      "outputs": []
    },
    {
      "cell_type": "markdown",
      "source": [
        "## Simple RNN"
      ],
      "metadata": {
        "id": "-VwjogBjP3po"
      }
    },
    {
      "cell_type": "code",
      "source": [
        "model_input = keras.Input(shape=(window_size, df.shape[-1]))\n",
        "x = layers.SimpleRNN(16, dropout=0.3, activation=\"relu\")(model_input)\n",
        "x = layers.Dropout(0.5)(x)\n",
        "x = layers.Dense(1)(x)\n",
        "\n",
        "model_SRNN = keras.Model(model_input, x)\n",
        "\n",
        "callback = keras.callbacks.EarlyStopping(monitor='val_loss',\n",
        "                                         patience=5,\n",
        "                                         restore_best_weights=True)\n",
        "\n",
        "model_SRNN.compile(optimizer=\"adam\", loss=\"mse\", metrics=[\"mae\"])"
      ],
      "metadata": {
        "id": "usFbtQRxQbVM"
      },
      "execution_count": null,
      "outputs": []
    },
    {
      "cell_type": "code",
      "source": [
        "model_SRNN.summary()"
      ],
      "metadata": {
        "id": "y628eLl1Sd72",
        "colab": {
          "base_uri": "https://localhost:8080/"
        },
        "outputId": "df0e933d-59b4-40a5-c73e-32b995eaa232"
      },
      "execution_count": null,
      "outputs": [
        {
          "output_type": "stream",
          "name": "stdout",
          "text": [
            "Model: \"model_7\"\n",
            "_________________________________________________________________\n",
            " Layer (type)                Output Shape              Param #   \n",
            "=================================================================\n",
            " input_8 (InputLayer)        [(None, 120, 14)]         0         \n",
            "                                                                 \n",
            " simple_rnn_1 (SimpleRNN)    (None, 16)                496       \n",
            "                                                                 \n",
            " dropout_7 (Dropout)         (None, 16)                0         \n",
            "                                                                 \n",
            " dense_11 (Dense)            (None, 1)                 17        \n",
            "                                                                 \n",
            "=================================================================\n",
            "Total params: 513\n",
            "Trainable params: 513\n",
            "Non-trainable params: 0\n",
            "_________________________________________________________________\n"
          ]
        }
      ]
    },
    {
      "cell_type": "code",
      "source": [
        "history = model_SRNN.fit(train_dataset,\n",
        "                         epochs=4,\n",
        "                         validation_data=valid_dataset,\n",
        "                         callbacks=callback)"
      ],
      "metadata": {
        "colab": {
          "base_uri": "https://localhost:8080/"
        },
        "id": "jShVUI1Y8wJ7",
        "outputId": "bc10844c-a6eb-490d-9688-def69036f130"
      },
      "execution_count": null,
      "outputs": [
        {
          "output_type": "stream",
          "name": "stdout",
          "text": [
            "Epoch 1/4\n",
            "490/490 [==============================] - 71s 142ms/step - loss: 1.3348 - mae: 0.7642 - val_loss: 0.2341 - val_mae: 0.3839\n",
            "Epoch 2/4\n",
            "490/490 [==============================] - 77s 157ms/step - loss: 0.3920 - mae: 0.4779 - val_loss: 0.2216 - val_mae: 0.3713\n",
            "Epoch 3/4\n",
            "490/490 [==============================] - 75s 152ms/step - loss: 0.3412 - mae: 0.4460 - val_loss: 0.2049 - val_mae: 0.3579\n",
            "Epoch 4/4\n",
            "490/490 [==============================] - 59s 120ms/step - loss: 0.3228 - mae: 0.4350 - val_loss: 0.2074 - val_mae: 0.3591\n"
          ]
        }
      ]
    },
    {
      "cell_type": "code",
      "source": [
        "model_SRNN.evaluate(test_dataset)"
      ],
      "metadata": {
        "colab": {
          "base_uri": "https://localhost:8080/"
        },
        "id": "4Tg2uRpq9jVb",
        "outputId": "45e83650-18dc-4581-cdd7-af85c2ca854c"
      },
      "execution_count": null,
      "outputs": [
        {
          "output_type": "stream",
          "name": "stdout",
          "text": [
            "816/816 [==============================] - 50s 61ms/step - loss: 0.1709 - mae: 0.3268\n"
          ]
        },
        {
          "output_type": "execute_result",
          "data": {
            "text/plain": [
              "[0.17085379362106323, 0.32678738236427307]"
            ]
          },
          "metadata": {},
          "execution_count": 63
        }
      ]
    },
    {
      "cell_type": "markdown",
      "source": [
        "### LSTM"
      ],
      "metadata": {
        "id": "aqBLmhENRMeZ"
      }
    },
    {
      "cell_type": "code",
      "source": [
        "model_input = keras.Input(shape=(window_size, df.shape[-1]))\n",
        "x = layers.LSTM(8, dropout=0.4, activation=\"relu\")(model_input)\n",
        "x = layers.Dropout(0.4)(x)\n",
        "x = layers.Dense(1)(x)\n",
        "\n",
        "model_LSTM = keras.Model(model_input, x)\n",
        "\n",
        "callback = keras.callbacks.EarlyStopping(monitor='val_loss',\n",
        "                                         patience=5,\n",
        "                                         restore_best_weights=True)\n",
        "\n",
        "model_LSTM.compile(optimizer=\"adam\", loss=\"mse\", metrics=[\"mae\"])"
      ],
      "metadata": {
        "id": "RmXDOwr6RNgT"
      },
      "execution_count": null,
      "outputs": []
    },
    {
      "cell_type": "code",
      "source": [
        "model_LSTM.summary()"
      ],
      "metadata": {
        "colab": {
          "base_uri": "https://localhost:8080/"
        },
        "id": "KephiJMa9_pw",
        "outputId": "a70911f3-4270-4513-f46b-09b6cef20b97"
      },
      "execution_count": null,
      "outputs": [
        {
          "output_type": "stream",
          "name": "stdout",
          "text": [
            "Model: \"model_8\"\n",
            "_________________________________________________________________\n",
            " Layer (type)                Output Shape              Param #   \n",
            "=================================================================\n",
            " input_9 (InputLayer)        [(None, 120, 14)]         0         \n",
            "                                                                 \n",
            " lstm (LSTM)                 (None, 8)                 736       \n",
            "                                                                 \n",
            " dropout_8 (Dropout)         (None, 8)                 0         \n",
            "                                                                 \n",
            " dense_12 (Dense)            (None, 1)                 9         \n",
            "                                                                 \n",
            "=================================================================\n",
            "Total params: 745\n",
            "Trainable params: 745\n",
            "Non-trainable params: 0\n",
            "_________________________________________________________________\n"
          ]
        }
      ]
    },
    {
      "cell_type": "code",
      "source": [
        "history = model_LSTM.fit(train_dataset,\n",
        "                         epochs=4,\n",
        "                         validation_data=valid_dataset,\n",
        "                         callbacks=callback)"
      ],
      "metadata": {
        "id": "1PgRn3ASSe2N",
        "colab": {
          "base_uri": "https://localhost:8080/"
        },
        "outputId": "9e29f05a-87ff-4171-e087-d7258f28d8c7"
      },
      "execution_count": null,
      "outputs": [
        {
          "output_type": "stream",
          "name": "stdout",
          "text": [
            "Epoch 1/4\n",
            "490/490 [==============================] - 74s 146ms/step - loss: 13736.6533 - mae: 1.3820 - val_loss: 1.1544 - val_mae: 0.8363\n",
            "Epoch 2/4\n",
            "490/490 [==============================] - 73s 147ms/step - loss: 1.4138 - mae: 0.8782 - val_loss: 0.8881 - val_mae: 0.7281\n",
            "Epoch 3/4\n",
            "490/490 [==============================] - 73s 148ms/step - loss: 1.3231 - mae: 0.8407 - val_loss: 0.8094 - val_mae: 0.6916\n",
            "Epoch 4/4\n",
            "490/490 [==============================] - 74s 150ms/step - loss: 1.3005 - mae: 0.8332 - val_loss: 0.7832 - val_mae: 0.6799\n"
          ]
        }
      ]
    },
    {
      "cell_type": "code",
      "source": [
        "model_LSTM.evaluate(test_dataset)"
      ],
      "metadata": {
        "id": "Sbg-24GZ97BU"
      },
      "execution_count": null,
      "outputs": []
    },
    {
      "cell_type": "markdown",
      "source": [
        "### Stacked LSTMs"
      ],
      "metadata": {
        "id": "W2p5aTLqDzv3"
      }
    },
    {
      "cell_type": "code",
      "source": [
        "model_input = keras.Input(shape=(window_size, df.shape[-1]))\n",
        "x = layers.LSTM(4, dropout=0.3, activation=\"relu\", return_sequences=True)(model_input)\n",
        "x = layers.LSTM(4, dropout=0.3, activation=\"relu\")(x)\n",
        "x = layers.Dropout(0.5)(x)\n",
        "x = layers.Dense(1)(x)\n",
        "\n",
        "model_LSTM2 = keras.Model(model_input, x)\n",
        "\n",
        "callback = keras.callbacks.EarlyStopping(monitor='val_loss',\n",
        "                                         patience=5,\n",
        "                                         restore_best_weights=True)\n",
        "\n",
        "model_LSTM2.compile(optimizer=\"adam\", loss=\"mse\", metrics=[\"mae\"])"
      ],
      "metadata": {
        "id": "6cfPJ4fjDbJ7"
      },
      "execution_count": null,
      "outputs": []
    },
    {
      "cell_type": "code",
      "source": [
        "model_LSTM2.summary()"
      ],
      "metadata": {
        "id": "VQDHdszKEHlM"
      },
      "execution_count": null,
      "outputs": []
    },
    {
      "cell_type": "code",
      "source": [
        "history = model_LSTM2.fit(train_dataset,\n",
        "                          epochs=4,\n",
        "                          validation_data=valid_dataset,\n",
        "                          callbacks=callback)"
      ],
      "metadata": {
        "id": "OzNq8_6PEIJp"
      },
      "execution_count": null,
      "outputs": []
    },
    {
      "cell_type": "markdown",
      "source": [
        "### Bi-directional LSTM"
      ],
      "metadata": {
        "id": "WJaQCKJ9rfvN"
      }
    },
    {
      "cell_type": "code",
      "source": [
        ""
      ],
      "metadata": {
        "id": "_72QvKoBriLZ"
      },
      "execution_count": null,
      "outputs": []
    },
    {
      "cell_type": "markdown",
      "source": [
        "### Compare with GRU layers"
      ],
      "metadata": {
        "id": "Qo0FhEJPrjB3"
      }
    },
    {
      "cell_type": "code",
      "source": [
        ""
      ],
      "metadata": {
        "id": "RF3gh2Ivr24T"
      },
      "execution_count": null,
      "outputs": []
    }
  ]
}