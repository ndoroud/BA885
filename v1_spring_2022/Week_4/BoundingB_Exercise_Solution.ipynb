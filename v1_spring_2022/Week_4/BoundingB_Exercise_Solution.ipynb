{
  "nbformat": 4,
  "nbformat_minor": 0,
  "metadata": {
    "colab": {
      "name": "BoundingB_Exercise_Solution.ipynb",
      "provenance": [],
      "collapsed_sections": []
    },
    "kernelspec": {
      "name": "python3",
      "display_name": "Python 3"
    },
    "language_info": {
      "name": "python"
    }
  },
  "cells": [
    {
      "cell_type": "markdown",
      "source": [
        "# Bounding boxes"
      ],
      "metadata": {
        "id": "dAlbbKGO48F_"
      }
    },
    {
      "cell_type": "code",
      "execution_count": null,
      "metadata": {
        "id": "qdLXSl7y6zFY",
        "colab": {
          "base_uri": "https://localhost:8080/"
        },
        "outputId": "15fa11ec-56ad-401d-ef26-443a8cc05286"
      },
      "outputs": [
        {
          "output_type": "stream",
          "name": "stdout",
          "text": [
            "Collecting tensorflow_io\n",
            "  Downloading tensorflow_io-0.24.0-cp37-cp37m-manylinux_2_12_x86_64.manylinux2010_x86_64.whl (23.4 MB)\n",
            "\u001b[K     |████████████████████████████████| 23.4 MB 1.8 MB/s \n",
            "\u001b[?25hRequirement already satisfied: tensorflow-io-gcs-filesystem==0.24.0 in /usr/local/lib/python3.7/dist-packages (from tensorflow_io) (0.24.0)\n",
            "Installing collected packages: tensorflow-io\n",
            "Successfully installed tensorflow-io-0.24.0\n"
          ]
        }
      ],
      "source": [
        "!pip install tensorflow_io"
      ]
    },
    {
      "cell_type": "code",
      "source": [
        "import os\n",
        "\n",
        "from IPython import display\n",
        "import matplotlib.pyplot as plt\n",
        "import numpy as np\n",
        "import pandas as pd\n",
        "\n",
        "import tensorflow as tf\n",
        "import tensorflow_hub as hub\n",
        "import tensorflow_io as tfio\n",
        "from tensorflow import keras\n",
        "from tensorflow.keras import layers\n",
        "from sklearn.utils import shuffle"
      ],
      "metadata": {
        "id": "1ESyta3o4z4q"
      },
      "execution_count": null,
      "outputs": []
    },
    {
      "cell_type": "markdown",
      "source": [
        "## Load data"
      ],
      "metadata": {
        "id": "dAa_w6pE5Y_T"
      }
    },
    {
      "cell_type": "markdown",
      "source": [
        "We will use the test set of the \"speech commands\" dataset published by Peter Warden in conjunction with the paper [1804.03209](https://arxiv.org/abs/1804.03209).\n",
        "\n",
        "The training set is located [here](http://download.tensorflow.org/data/speech_commands_v0.02.tar.gz) and the test dataset can be found [here](http://download.tensorflow.org/data/speech_commands_test_set_v0.02.tar.gz)."
      ],
      "metadata": {
        "id": "JrvDLYE3x3BD"
      }
    },
    {
      "cell_type": "code",
      "source": [
        "dataset_links = {'train_data': 'http://download.tensorflow.org/data/speech_commands_v0.02.tar.gz',\n",
        "                 'test_data': 'http://download.tensorflow.org/data/speech_commands_test_set_v0.02.tar.gz'}"
      ],
      "metadata": {
        "id": "-MSguCPHI0R9"
      },
      "execution_count": null,
      "outputs": []
    },
    {
      "cell_type": "code",
      "source": [
        "for key in dataset_links:\n",
        "    tf.keras.utils.get_file(key+'.tar.gz',\n",
        "                            dataset_links[key],\n",
        "                            cache_dir='./',\n",
        "                            cache_subdir='datasets/'+key,\n",
        "                            extract=True)"
      ],
      "metadata": {
        "id": "w0mZ3afS5orn",
        "colab": {
          "base_uri": "https://localhost:8080/"
        },
        "outputId": "24db9036-ce95-4e05-e7f7-43419f69ac17"
      },
      "execution_count": null,
      "outputs": [
        {
          "output_type": "stream",
          "name": "stdout",
          "text": [
            "Downloading data from http://download.tensorflow.org/data/speech_commands_v0.02.tar.gz\n",
            "2428928000/2428923189 [==============================] - 32s 0us/step\n",
            "2428936192/2428923189 [==============================] - 32s 0us/step\n",
            "Downloading data from http://download.tensorflow.org/data/speech_commands_test_set_v0.02.tar.gz\n",
            "112566272/112563277 [==============================] - 1s 0us/step\n",
            "112574464/112563277 [==============================] - 1s 0us/step\n"
          ]
        }
      ]
    },
    {
      "cell_type": "code",
      "source": [
        "# Perform os.walk to list all the files in our dataset and the\n",
        "# corresponding labels.\n",
        "\n",
        "train_data_paths = []\n",
        "for folder, labels, samples in os.walk('./datasets/train_data/'):\n",
        "    for sample in samples:\n",
        "        if sample[-3:] == 'wav':\n",
        "            train_data_paths.append([folder+'/'+sample, folder[22:]])"
      ],
      "metadata": {
        "id": "YkE8y9_Pq4jW"
      },
      "execution_count": null,
      "outputs": []
    },
    {
      "cell_type": "code",
      "source": [
        "# Convert the list of files and labels to a DataFrame for further\n",
        "# analysis\n",
        "\n",
        "df = pd.DataFrame(train_data_paths)\n",
        "df.head()"
      ],
      "metadata": {
        "id": "P9kPQ9u1u_PR",
        "colab": {
          "base_uri": "https://localhost:8080/",
          "height": 206
        },
        "outputId": "7e97b0c4-86fd-4d58-abb3-18742642aabf"
      },
      "execution_count": null,
      "outputs": [
        {
          "output_type": "execute_result",
          "data": {
            "text/plain": [
              "                                                   0      1\n",
              "0  ./datasets/train_data/eight/bfd26d6b_nohash_1.wav  eight\n",
              "1  ./datasets/train_data/eight/0585b66d_nohash_3.wav  eight\n",
              "2  ./datasets/train_data/eight/f2898d06_nohash_1.wav  eight\n",
              "3  ./datasets/train_data/eight/36de13e1_nohash_0.wav  eight\n",
              "4  ./datasets/train_data/eight/c634a189_nohash_4.wav  eight"
            ],
            "text/html": [
              "\n",
              "  <div id=\"df-ec82902b-ede8-4674-89b1-5b32e48f6f4d\">\n",
              "    <div class=\"colab-df-container\">\n",
              "      <div>\n",
              "<style scoped>\n",
              "    .dataframe tbody tr th:only-of-type {\n",
              "        vertical-align: middle;\n",
              "    }\n",
              "\n",
              "    .dataframe tbody tr th {\n",
              "        vertical-align: top;\n",
              "    }\n",
              "\n",
              "    .dataframe thead th {\n",
              "        text-align: right;\n",
              "    }\n",
              "</style>\n",
              "<table border=\"1\" class=\"dataframe\">\n",
              "  <thead>\n",
              "    <tr style=\"text-align: right;\">\n",
              "      <th></th>\n",
              "      <th>0</th>\n",
              "      <th>1</th>\n",
              "    </tr>\n",
              "  </thead>\n",
              "  <tbody>\n",
              "    <tr>\n",
              "      <th>0</th>\n",
              "      <td>./datasets/train_data/eight/bfd26d6b_nohash_1.wav</td>\n",
              "      <td>eight</td>\n",
              "    </tr>\n",
              "    <tr>\n",
              "      <th>1</th>\n",
              "      <td>./datasets/train_data/eight/0585b66d_nohash_3.wav</td>\n",
              "      <td>eight</td>\n",
              "    </tr>\n",
              "    <tr>\n",
              "      <th>2</th>\n",
              "      <td>./datasets/train_data/eight/f2898d06_nohash_1.wav</td>\n",
              "      <td>eight</td>\n",
              "    </tr>\n",
              "    <tr>\n",
              "      <th>3</th>\n",
              "      <td>./datasets/train_data/eight/36de13e1_nohash_0.wav</td>\n",
              "      <td>eight</td>\n",
              "    </tr>\n",
              "    <tr>\n",
              "      <th>4</th>\n",
              "      <td>./datasets/train_data/eight/c634a189_nohash_4.wav</td>\n",
              "      <td>eight</td>\n",
              "    </tr>\n",
              "  </tbody>\n",
              "</table>\n",
              "</div>\n",
              "      <button class=\"colab-df-convert\" onclick=\"convertToInteractive('df-ec82902b-ede8-4674-89b1-5b32e48f6f4d')\"\n",
              "              title=\"Convert this dataframe to an interactive table.\"\n",
              "              style=\"display:none;\">\n",
              "        \n",
              "  <svg xmlns=\"http://www.w3.org/2000/svg\" height=\"24px\"viewBox=\"0 0 24 24\"\n",
              "       width=\"24px\">\n",
              "    <path d=\"M0 0h24v24H0V0z\" fill=\"none\"/>\n",
              "    <path d=\"M18.56 5.44l.94 2.06.94-2.06 2.06-.94-2.06-.94-.94-2.06-.94 2.06-2.06.94zm-11 1L8.5 8.5l.94-2.06 2.06-.94-2.06-.94L8.5 2.5l-.94 2.06-2.06.94zm10 10l.94 2.06.94-2.06 2.06-.94-2.06-.94-.94-2.06-.94 2.06-2.06.94z\"/><path d=\"M17.41 7.96l-1.37-1.37c-.4-.4-.92-.59-1.43-.59-.52 0-1.04.2-1.43.59L10.3 9.45l-7.72 7.72c-.78.78-.78 2.05 0 2.83L4 21.41c.39.39.9.59 1.41.59.51 0 1.02-.2 1.41-.59l7.78-7.78 2.81-2.81c.8-.78.8-2.07 0-2.86zM5.41 20L4 18.59l7.72-7.72 1.47 1.35L5.41 20z\"/>\n",
              "  </svg>\n",
              "      </button>\n",
              "      \n",
              "  <style>\n",
              "    .colab-df-container {\n",
              "      display:flex;\n",
              "      flex-wrap:wrap;\n",
              "      gap: 12px;\n",
              "    }\n",
              "\n",
              "    .colab-df-convert {\n",
              "      background-color: #E8F0FE;\n",
              "      border: none;\n",
              "      border-radius: 50%;\n",
              "      cursor: pointer;\n",
              "      display: none;\n",
              "      fill: #1967D2;\n",
              "      height: 32px;\n",
              "      padding: 0 0 0 0;\n",
              "      width: 32px;\n",
              "    }\n",
              "\n",
              "    .colab-df-convert:hover {\n",
              "      background-color: #E2EBFA;\n",
              "      box-shadow: 0px 1px 2px rgba(60, 64, 67, 0.3), 0px 1px 3px 1px rgba(60, 64, 67, 0.15);\n",
              "      fill: #174EA6;\n",
              "    }\n",
              "\n",
              "    [theme=dark] .colab-df-convert {\n",
              "      background-color: #3B4455;\n",
              "      fill: #D2E3FC;\n",
              "    }\n",
              "\n",
              "    [theme=dark] .colab-df-convert:hover {\n",
              "      background-color: #434B5C;\n",
              "      box-shadow: 0px 1px 3px 1px rgba(0, 0, 0, 0.15);\n",
              "      filter: drop-shadow(0px 1px 2px rgba(0, 0, 0, 0.3));\n",
              "      fill: #FFFFFF;\n",
              "    }\n",
              "  </style>\n",
              "\n",
              "      <script>\n",
              "        const buttonEl =\n",
              "          document.querySelector('#df-ec82902b-ede8-4674-89b1-5b32e48f6f4d button.colab-df-convert');\n",
              "        buttonEl.style.display =\n",
              "          google.colab.kernel.accessAllowed ? 'block' : 'none';\n",
              "\n",
              "        async function convertToInteractive(key) {\n",
              "          const element = document.querySelector('#df-ec82902b-ede8-4674-89b1-5b32e48f6f4d');\n",
              "          const dataTable =\n",
              "            await google.colab.kernel.invokeFunction('convertToInteractive',\n",
              "                                                     [key], {});\n",
              "          if (!dataTable) return;\n",
              "\n",
              "          const docLinkHtml = 'Like what you see? Visit the ' +\n",
              "            '<a target=\"_blank\" href=https://colab.research.google.com/notebooks/data_table.ipynb>data table notebook</a>'\n",
              "            + ' to learn more about interactive tables.';\n",
              "          element.innerHTML = '';\n",
              "          dataTable['output_type'] = 'display_data';\n",
              "          await google.colab.output.renderOutput(dataTable, element);\n",
              "          const docLink = document.createElement('div');\n",
              "          docLink.innerHTML = docLinkHtml;\n",
              "          element.appendChild(docLink);\n",
              "        }\n",
              "      </script>\n",
              "    </div>\n",
              "  </div>\n",
              "  "
            ]
          },
          "metadata": {},
          "execution_count": 9
        }
      ]
    },
    {
      "cell_type": "code",
      "source": [
        "# Make sure only audio files are listed in our data frame.\n",
        "all(df[0].apply(lambda row: row[-3:]=='wav'))"
      ],
      "metadata": {
        "colab": {
          "base_uri": "https://localhost:8080/"
        },
        "id": "QHtnBrepv02j",
        "outputId": "691e6ce2-124a-40dd-ae1a-dfd72b7d5a8d"
      },
      "execution_count": null,
      "outputs": [
        {
          "output_type": "execute_result",
          "data": {
            "text/plain": [
              "True"
            ]
          },
          "metadata": {},
          "execution_count": 10
        }
      ]
    },
    {
      "cell_type": "code",
      "source": [
        "# Now we can easily list all the labels\n",
        "df[1].unique()"
      ],
      "metadata": {
        "id": "nfJtllStv_9H",
        "colab": {
          "base_uri": "https://localhost:8080/"
        },
        "outputId": "703342c8-828c-4a86-f7e6-f1eb41c63c97"
      },
      "execution_count": null,
      "outputs": [
        {
          "output_type": "execute_result",
          "data": {
            "text/plain": [
              "array(['eight', 'zero', 'follow', 'on', 'one', 'seven', 'dog', 'yes',\n",
              "       'cat', 'six', 'house', 'two', 'right', 'three', 'left', 'bird',\n",
              "       'marvin', '_background_noise_', 'forward', 'four', 'stop',\n",
              "       'visual', 'learn', 'tree', 'nine', 'off', 'backward', 'five',\n",
              "       'bed', 'go', 'down', 'sheila', 'up', 'no', 'happy', 'wow'],\n",
              "      dtype=object)"
            ]
          },
          "metadata": {},
          "execution_count": 11
        }
      ]
    },
    {
      "cell_type": "code",
      "source": [
        "# Count the number of samples available per class\n",
        "\n",
        "for cat in df[1].unique():\n",
        "    print(cat+\" : {}\".format((df[1] == cat).sum()))"
      ],
      "metadata": {
        "colab": {
          "base_uri": "https://localhost:8080/"
        },
        "id": "pID-cE1qr3Si",
        "outputId": "34b6a396-4aa5-437b-f599-f69bf93c6d6a"
      },
      "execution_count": null,
      "outputs": [
        {
          "output_type": "stream",
          "name": "stdout",
          "text": [
            "four : 3728\n",
            "down : 3917\n",
            "off : 3745\n",
            "zero : 4052\n",
            "one : 3890\n",
            "nine : 3934\n",
            "two : 3880\n",
            "seven : 3998\n",
            "sheila : 2022\n",
            "up : 3723\n",
            "stop : 3872\n",
            "no : 3941\n",
            "visual : 1592\n",
            "backward : 1664\n",
            "three : 3727\n",
            "go : 3880\n",
            "tree : 1759\n",
            "cat : 2031\n",
            "dog : 2128\n",
            "follow : 1579\n",
            "bird : 2064\n",
            "wow : 2123\n",
            "six : 3860\n",
            "yes : 4044\n",
            "left : 3801\n",
            "on : 3845\n",
            "five : 4052\n",
            "learn : 1575\n",
            "house : 2113\n",
            "marvin : 2100\n",
            "happy : 2054\n",
            "eight : 3787\n",
            "right : 3778\n",
            "forward : 1557\n",
            "bed : 2014\n",
            "_background_noise_ : 6\n"
          ]
        }
      ]
    },
    {
      "cell_type": "code",
      "source": [
        "# Remove \"_background_noise_\" recordings from the samples.\n",
        "\n",
        "df = df.drop(df[df[1] =='_background_noise_'].index)"
      ],
      "metadata": {
        "id": "Xhpc0yqisxBT"
      },
      "execution_count": null,
      "outputs": []
    },
    {
      "cell_type": "code",
      "source": [
        "df[1].unique()"
      ],
      "metadata": {
        "colab": {
          "base_uri": "https://localhost:8080/"
        },
        "id": "KLV2u875tch_",
        "outputId": "d54fadb8-204c-4e53-99a0-cdd24f0139b0"
      },
      "execution_count": null,
      "outputs": [
        {
          "output_type": "execute_result",
          "data": {
            "text/plain": [
              "array(['four', 'down', 'off', 'zero', 'one', 'nine', 'two', 'seven',\n",
              "       'sheila', 'up', 'stop', 'no', 'visual', 'backward', 'three', 'go',\n",
              "       'tree', 'cat', 'dog', 'follow', 'bird', 'wow', 'six', 'yes',\n",
              "       'left', 'on', 'five', 'learn', 'house', 'marvin', 'happy', 'eight',\n",
              "       'right', 'forward', 'bed'], dtype=object)"
            ]
          },
          "metadata": {},
          "execution_count": 75
        }
      ]
    },
    {
      "cell_type": "code",
      "source": [
        "# Vectorize the labels by creating a dictionary as follows:\n",
        "\n",
        "labels_dict = {df[1].unique()[i]:i for i in range(len(df[1].unique()))}\n",
        "labels_lookup = {y:x for x,y in labels_dict.items()}"
      ],
      "metadata": {
        "id": "iK0irY-Ap9nK"
      },
      "execution_count": null,
      "outputs": []
    },
    {
      "cell_type": "code",
      "source": [
        "# Lastly, shuffle the data before we split it into training,\n",
        "# validation and test sets.\n",
        "df = df.sample(frac=1)"
      ],
      "metadata": {
        "id": "0UpK4wAW-4Ul"
      },
      "execution_count": null,
      "outputs": []
    },
    {
      "cell_type": "markdown",
      "source": [
        "## Data generator"
      ],
      "metadata": {
        "id": "4NXU5wQ-vSdk"
      }
    },
    {
      "cell_type": "code",
      "source": [
        "# We first need a function to load an audio file as an array.\n",
        "def load_audio(filepath):\n",
        "    audio = tfio.audio.AudioIOTensor(filepath)\n",
        "    audio_rate = int(audio.rate)\n",
        "    assert audio_rate == 16000\n",
        "    audio = audio.to_tensor().numpy() / 32767.0\n",
        "    len = audio.shape[0]\n",
        "    # Padding\n",
        "    if len == 16000:\n",
        "        return audio\n",
        "    elif len < 16000:\n",
        "        return np.concatenate([audio, \n",
        "                               np.zeros(shape=(16000-len, 1),\n",
        "                                        dtype=\"float64\")], \n",
        "                              axis=0)\n",
        "    else:\n",
        "        return audio[0:16000]"
      ],
      "metadata": {
        "id": "pMozO5NZ8mth"
      },
      "execution_count": null,
      "outputs": []
    },
    {
      "cell_type": "markdown",
      "source": [
        "There are multiple ways to feed data to a keras model for training, evaluation, or inference. For large datasets that can't be loaded on memory, we have to build a generator.\n",
        "\n",
        "For image data, \"[image_dataset_from_directory](https://www.tensorflow.org/api_docs/python/tf/keras/utils/image_dataset_from_directory)\" is a suitable generator. One can also build a dataset generator and use the \"[flow_from_directory](https://www.tensorflow.org/api_docs/python/tf/keras/preprocessing/image/ImageDataGenerator#flow_from_directory)\" option.\n",
        "\n",
        "For other file formats we can subclass an existing class to import data in batches. We will subclass \"Sequence\" for our audio data."
      ],
      "metadata": {
        "id": "jVoKXu4p7cqp"
      }
    },
    {
      "cell_type": "code",
      "source": [
        "class audio_gen(keras.utils.Sequence):\n",
        "    def __init__(self, file_paths, labels,\n",
        "                 batch_size=128, shape=(16000,1),\n",
        "                 shuffle_on_epoch_end=True):\n",
        "        # Initialization\n",
        "        super().__init__()\n",
        "        self.shape = shape\n",
        "        self.batch_size = batch_size\n",
        "        self.labels = labels\n",
        "        self.paths = file_paths\n",
        "        self.n_channels = shape[-1]\n",
        "        self.n_classes = max(labels)+1\n",
        "        self.shuffle = shuffle_on_epoch_end\n",
        "        self.on_epoch_end()\n",
        "    \n",
        "    def __len__(self):\n",
        "        return int(np.floor(len(self.paths) / self.batch_size))\n",
        "    \n",
        "    def __getitem__(self, idx):\n",
        "        batch_paths = self.paths[self.batch_size * idx: \n",
        "                                 self.batch_size * (idx+1)]\n",
        "        batch_labels = self.labels[self.batch_size * idx:\n",
        "                                   self.batch_size * (idx+1)]\n",
        "        batch_samples = np.zeros(shape=(0, self.shape[0], self.shape[1]), \n",
        "                                 dtype='float32')\n",
        "        for path in batch_paths:\n",
        "            batch_samples = np.concatenate([batch_samples, [load_audio(path)]], \n",
        "                                           axis=0)\n",
        "        return batch_samples, np.array(batch_labels, dtype='int')\n",
        "\n",
        "    def on_epoch_end(self):\n",
        "        # suffle the d\n",
        "        if self.shuffle:\n",
        "            self.paths, self.labels = shuffle(self.paths, self.labels)"
      ],
      "metadata": {
        "id": "iABdDhGau2RY"
      },
      "execution_count": null,
      "outputs": []
    },
    {
      "cell_type": "code",
      "source": [
        "len(df)"
      ],
      "metadata": {
        "colab": {
          "base_uri": "https://localhost:8080/"
        },
        "id": "oPX_birsFClk",
        "outputId": "c8f99a98-1dcf-4b02-fbbf-cb46958c670f"
      },
      "execution_count": null,
      "outputs": [
        {
          "output_type": "execute_result",
          "data": {
            "text/plain": [
              "105829"
            ]
          },
          "metadata": {},
          "execution_count": 80
        }
      ]
    },
    {
      "cell_type": "code",
      "source": [
        "# Split the data into training, validation and test datasets.\n",
        "\n",
        "train_paths = np.array(df[0])[:80000]\n",
        "train_labels = np.array([labels_dict[x] for x in df[1]])[0:80000]\n",
        "\n",
        "valid_paths = np.array(df[0])[80000:100000]\n",
        "valid_labels = np.array([labels_dict[x] for x in df[1]])[80000:100000]\n",
        "\n",
        "test_paths = np.array(df[0])[100000:]\n",
        "test_labels = np.array([labels_dict[x] for x in df[1]])[100000:]"
      ],
      "metadata": {
        "id": "nLFh6w3W6X7_"
      },
      "execution_count": null,
      "outputs": []
    },
    {
      "cell_type": "code",
      "source": [
        "# Build a dataset generator for each dataset.\n",
        "\n",
        "train_gen = audio_gen(train_paths, train_labels)\n",
        "valid_gen = audio_gen(valid_paths, valid_labels)\n",
        "test_gen = audio_gen(test_paths, test_labels)"
      ],
      "metadata": {
        "id": "gEX_FrXl6ZQe"
      },
      "execution_count": null,
      "outputs": []
    },
    {
      "cell_type": "markdown",
      "source": [
        "## Convnet Classifier"
      ],
      "metadata": {
        "id": "_lv_LjWNBLwQ"
      }
    },
    {
      "cell_type": "markdown",
      "source": [
        "Build a simple convnet capable of classifying our 1s long audio samples. Choose the kernel size and strides for each layer to generate reasonable frames over the sample. Starting with a 16000 component vector, we can track which components are \"seen\" by each branch of the Convnet below.\n",
        "\n",
        "- Input [0:16000]\n",
        "\n",
        "- Conv1D [0:128] [64:196] [128:256] ...  (250 frames in total)\n",
        "\n",
        "- MaxPool [0:196] [128:320] [256:448] ... (125 frames in total)\n",
        "\n",
        "- Conv1D [0:8192] [4096:12286] ... (4 frames in total)"
      ],
      "metadata": {
        "id": "LJX53PrhhNWE"
      }
    },
    {
      "cell_type": "code",
      "source": [
        "n_categories = max(train_labels)+1\n",
        "inputs = keras.Input(shape=(16000,1))\n",
        "x = layers.Conv1D(32, 128, strides=64, activation=\"relu\", padding=\"same\")(inputs)\n",
        "x = layers.MaxPooling1D(pool_size=2)(x)\n",
        "x = layers.Conv1D(64, 64, strides=32, activation=\"relu\", padding=\"same\")(x)\n",
        "x = layers.GlobalAveragePooling1D()(x)\n",
        "x = layers.Dense(n_categories, activation=\"softmax\")(x)\n",
        "\n",
        "model = keras.Model(inputs, x)\n",
        "model.summary()"
      ],
      "metadata": {
        "colab": {
          "base_uri": "https://localhost:8080/"
        },
        "id": "fDyehTlEAsfR",
        "outputId": "3e0c9ea3-ec8d-4572-c25d-fd48c2dc476f"
      },
      "execution_count": null,
      "outputs": [
        {
          "output_type": "stream",
          "name": "stdout",
          "text": [
            "Model: \"model_3\"\n",
            "_________________________________________________________________\n",
            " Layer (type)                Output Shape              Param #   \n",
            "=================================================================\n",
            " input_4 (InputLayer)        [(None, 16000, 1)]        0         \n",
            "                                                                 \n",
            " conv1d_6 (Conv1D)           (None, 250, 32)           4128      \n",
            "                                                                 \n",
            " max_pooling1d_3 (MaxPooling  (None, 125, 32)          0         \n",
            " 1D)                                                             \n",
            "                                                                 \n",
            " conv1d_7 (Conv1D)           (None, 4, 64)             131136    \n",
            "                                                                 \n",
            " global_average_pooling1d_3   (None, 64)               0         \n",
            " (GlobalAveragePooling1D)                                        \n",
            "                                                                 \n",
            " dense_3 (Dense)             (None, 35)                2275      \n",
            "                                                                 \n",
            "=================================================================\n",
            "Total params: 137,539\n",
            "Trainable params: 137,539\n",
            "Non-trainable params: 0\n",
            "_________________________________________________________________\n"
          ]
        }
      ]
    },
    {
      "cell_type": "code",
      "source": [
        "model.compile(optimizer=\"adam\",\n",
        "              loss=\"sparse_categorical_crossentropy\",\n",
        "              metrics=[\"accuracy\"])\n",
        "callback = keras.callbacks.EarlyStopping(monitor='val_loss',\n",
        "                                         patience=5,\n",
        "                                         restore_best_weights=True)"
      ],
      "metadata": {
        "id": "8gXcQiraEPPP"
      },
      "execution_count": null,
      "outputs": []
    },
    {
      "cell_type": "code",
      "source": [
        "#model.load_weights('./models/speech_recognition_train1.h5')"
      ],
      "metadata": {
        "id": "83HEWHUYgnQJ"
      },
      "execution_count": 147,
      "outputs": []
    },
    {
      "cell_type": "code",
      "source": [
        "model.fit(train_gen, validation_data=valid_gen, validation_steps=1,\n",
        "          epochs=20, callbacks=callback)"
      ],
      "metadata": {
        "colab": {
          "base_uri": "https://localhost:8080/"
        },
        "id": "uSS5tTLYE6Z1",
        "outputId": "3855b8e0-1b7d-4040-955e-e9a1159703c6"
      },
      "execution_count": null,
      "outputs": [
        {
          "output_type": "stream",
          "name": "stdout",
          "text": [
            "Epoch 1/20\n",
            "625/625 [==============================] - 518s 828ms/step - loss: 3.0077 - accuracy: 0.1605 - val_loss: 2.7747 - val_accuracy: 0.2891\n",
            "Epoch 2/20\n",
            "625/625 [==============================] - 488s 780ms/step - loss: 2.4017 - accuracy: 0.3237 - val_loss: 2.1678 - val_accuracy: 0.3906\n",
            "Epoch 3/20\n",
            "625/625 [==============================] - 499s 797ms/step - loss: 2.0331 - accuracy: 0.4366 - val_loss: 2.0769 - val_accuracy: 0.4297\n",
            "Epoch 4/20\n",
            "625/625 [==============================] - 495s 792ms/step - loss: 1.8202 - accuracy: 0.5002 - val_loss: 1.8814 - val_accuracy: 0.5078\n",
            "Epoch 5/20\n",
            "625/625 [==============================] - 490s 784ms/step - loss: 1.6640 - accuracy: 0.5452 - val_loss: 1.6273 - val_accuracy: 0.5469\n",
            "Epoch 6/20\n",
            "625/625 [==============================] - 496s 794ms/step - loss: 1.5425 - accuracy: 0.5770 - val_loss: 1.6117 - val_accuracy: 0.5469\n",
            "Epoch 7/20\n",
            "625/625 [==============================] - 493s 788ms/step - loss: 1.4357 - accuracy: 0.6061 - val_loss: 1.6761 - val_accuracy: 0.5938\n",
            "Epoch 8/20\n",
            "625/625 [==============================] - 501s 802ms/step - loss: 1.3501 - accuracy: 0.6273 - val_loss: 1.7179 - val_accuracy: 0.5625\n",
            "Epoch 9/20\n",
            "625/625 [==============================] - 495s 791ms/step - loss: 1.2749 - accuracy: 0.6507 - val_loss: 1.4586 - val_accuracy: 0.6328\n",
            "Epoch 10/20\n",
            "625/625 [==============================] - 489s 782ms/step - loss: 1.2106 - accuracy: 0.6660 - val_loss: 1.6260 - val_accuracy: 0.6016\n",
            "Epoch 11/20\n",
            "625/625 [==============================] - 487s 779ms/step - loss: 1.1540 - accuracy: 0.6797 - val_loss: 1.5446 - val_accuracy: 0.6016\n",
            "Epoch 12/20\n",
            "625/625 [==============================] - 472s 755ms/step - loss: 1.1021 - accuracy: 0.6928 - val_loss: 1.4691 - val_accuracy: 0.6328\n",
            "Epoch 13/20\n",
            "625/625 [==============================] - 519s 830ms/step - loss: 1.0571 - accuracy: 0.7060 - val_loss: 1.5809 - val_accuracy: 0.6641\n",
            "Epoch 14/20\n",
            "625/625 [==============================] - 443s 709ms/step - loss: 1.0137 - accuracy: 0.7171 - val_loss: 1.1894 - val_accuracy: 0.6094\n",
            "Epoch 15/20\n",
            "625/625 [==============================] - 484s 774ms/step - loss: 0.9741 - accuracy: 0.7271 - val_loss: 1.3351 - val_accuracy: 0.6094\n",
            "Epoch 16/20\n",
            "625/625 [==============================] - 496s 794ms/step - loss: 0.9394 - accuracy: 0.7362 - val_loss: 1.3927 - val_accuracy: 0.6016\n",
            "Epoch 17/20\n",
            "625/625 [==============================] - 486s 777ms/step - loss: 0.9064 - accuracy: 0.7455 - val_loss: 1.5775 - val_accuracy: 0.6172\n",
            "Epoch 18/20\n",
            "625/625 [==============================] - 488s 780ms/step - loss: 0.8747 - accuracy: 0.7526 - val_loss: 1.2696 - val_accuracy: 0.7344\n",
            "Epoch 19/20\n",
            "625/625 [==============================] - 473s 757ms/step - loss: 0.8471 - accuracy: 0.7598 - val_loss: 1.4392 - val_accuracy: 0.6484\n"
          ]
        },
        {
          "output_type": "execute_result",
          "data": {
            "text/plain": [
              "<keras.callbacks.History at 0x7f7b5f553c10>"
            ]
          },
          "metadata": {},
          "execution_count": 85
        }
      ]
    },
    {
      "cell_type": "code",
      "source": [
        "model.save_weights('./models/speech_recognition_train1.h5')"
      ],
      "metadata": {
        "id": "Nr1VWfpC6VN6"
      },
      "execution_count": 145,
      "outputs": []
    },
    {
      "cell_type": "code",
      "source": [
        "model.evaluate(valid_gen)"
      ],
      "metadata": {
        "colab": {
          "base_uri": "https://localhost:8080/"
        },
        "id": "q8IeJAzvrDkA",
        "outputId": "3b6e518b-afcf-4845-986a-4f9c35b49f3e"
      },
      "execution_count": null,
      "outputs": [
        {
          "output_type": "stream",
          "name": "stdout",
          "text": [
            "156/156 [==============================] - 137s 878ms/step - loss: 1.5261 - accuracy: 0.6219\n"
          ]
        },
        {
          "output_type": "execute_result",
          "data": {
            "text/plain": [
              "[1.5260803699493408, 0.6219450831413269]"
            ]
          },
          "metadata": {},
          "execution_count": 87
        }
      ]
    },
    {
      "cell_type": "code",
      "source": [
        "model.evaluate(test_gen)"
      ],
      "metadata": {
        "colab": {
          "base_uri": "https://localhost:8080/"
        },
        "id": "ACWcNF8ZcGw6",
        "outputId": "3fd5f65f-4273-4737-93eb-3ffb3a5723a1"
      },
      "execution_count": null,
      "outputs": [
        {
          "output_type": "stream",
          "name": "stdout",
          "text": [
            "45/45 [==============================] - 52s 1s/step - loss: 1.4911 - accuracy: 0.6165\n"
          ]
        },
        {
          "output_type": "execute_result",
          "data": {
            "text/plain": [
              "[1.491104006767273, 0.6164930462837219]"
            ]
          },
          "metadata": {},
          "execution_count": 131
        }
      ]
    },
    {
      "cell_type": "markdown",
      "source": [
        "## Bounding boxes"
      ],
      "metadata": {
        "id": "VoWiUs0iTzRV"
      }
    },
    {
      "cell_type": "markdown",
      "source": [
        "With a suitable convnet classifier, we can build a new model that uses the classifier for feature extraction in four 8000-long frames within the sample and classify each frame separately. The frame yielding the highest confidence value is the frame encasing the spoken word within the recording."
      ],
      "metadata": {
        "id": "YxF1xEYhlina"
      }
    },
    {
      "cell_type": "code",
      "source": [
        "# Build a new model sharing the first few layers with our classifier.\n",
        "n_categories = max(train_labels)+1\n",
        "y_inputs = keras.Input(shape=(16000,1))\n",
        "y = layers.Conv1D(32, 128, strides=64, activation=\"relu\", padding=\"same\")(y_inputs)\n",
        "y = layers.MaxPooling1D(pool_size=2)(y)\n",
        "y = layers.Conv1D(64, 64, strides=32, activation=\"relu\", padding=\"same\")(y)\n",
        "\n",
        "# The output of the last layer is 4 feature representations of the four frames.\n",
        "# We can feed these 4 representations directly to our classification layer\n",
        "# instead of applying the MaxPooling layer. \n",
        "y = layers.Dense(n_categories, activation=\"softmax\")(y)\n",
        "\n",
        "# The output of the classification layer is four sets of probability\n",
        "# distributions over our 35 classes. To select the maximum value in \n",
        "# each set we apply the following 2 layers:\n",
        "y = layers.Permute((2,1))(y)\n",
        "y = layers.GlobalMaxPooling1D()(y)\n",
        "\n",
        "# Lastly we apply Softmax to our 4-component output to convert the components\n",
        "# to probabilities.\n",
        "y = layers.Softmax()(y)\n",
        "\n",
        "y_model = keras.Model(y_inputs, y)\n",
        "y_model.summary()"
      ],
      "metadata": {
        "colab": {
          "base_uri": "https://localhost:8080/"
        },
        "id": "eSee3S7KT5Da",
        "outputId": "cbe49f56-6a2d-4f2a-ec2c-0bfc098df936"
      },
      "execution_count": null,
      "outputs": [
        {
          "output_type": "stream",
          "name": "stdout",
          "text": [
            "Model: \"model_8\"\n",
            "_________________________________________________________________\n",
            " Layer (type)                Output Shape              Param #   \n",
            "=================================================================\n",
            " input_17 (InputLayer)       [(None, 16000, 1)]        0         \n",
            "                                                                 \n",
            " conv1d_32 (Conv1D)          (None, 250, 32)           4128      \n",
            "                                                                 \n",
            " max_pooling1d_23 (MaxPoolin  (None, 125, 32)          0         \n",
            " g1D)                                                            \n",
            "                                                                 \n",
            " conv1d_33 (Conv1D)          (None, 4, 64)             131136    \n",
            "                                                                 \n",
            " dense_16 (Dense)            (None, 4, 35)             2275      \n",
            "                                                                 \n",
            " permute_7 (Permute)         (None, 35, 4)             0         \n",
            "                                                                 \n",
            " global_max_pooling1d_2 (Glo  (None, 4)                0         \n",
            " balMaxPooling1D)                                                \n",
            "                                                                 \n",
            " softmax_1 (Softmax)         (None, 4)                 0         \n",
            "                                                                 \n",
            "=================================================================\n",
            "Total params: 137,539\n",
            "Trainable params: 137,539\n",
            "Non-trainable params: 0\n",
            "_________________________________________________________________\n"
          ]
        }
      ]
    },
    {
      "cell_type": "code",
      "source": [
        "# Set the weights of the new model to be the same as the classifier.\n",
        "\n",
        "y_model.layers[1].set_weights(model.layers[1].get_weights())\n",
        "y_model.layers[3].set_weights(model.layers[3].get_weights())\n",
        "y_model.layers[4].set_weights(model.layers[5].get_weights())"
      ],
      "metadata": {
        "id": "pU3U74SlZBqP"
      },
      "execution_count": null,
      "outputs": []
    },
    {
      "cell_type": "code",
      "source": [
        "testing_samples = np.zeros(shape=(0, 16000, 1), dtype='float32')\n",
        "for i in [3,9]:\n",
        "    testing_samples = np.concatenate([testing_samples, [load_audio(df[0][i])]], axis=0)"
      ],
      "metadata": {
        "id": "v0v3VvvhZzjo"
      },
      "execution_count": 160,
      "outputs": []
    },
    {
      "cell_type": "code",
      "source": [
        "y_model.predict(testing_samples)"
      ],
      "metadata": {
        "colab": {
          "base_uri": "https://localhost:8080/"
        },
        "id": "KxEiy0ozdWLw",
        "outputId": "ad9f8f1f-be57-4e8f-beff-fca57d92f88a"
      },
      "execution_count": 161,
      "outputs": [
        {
          "output_type": "execute_result",
          "data": {
            "text/plain": [
              "array([[0.23301356, 0.20124741, 0.2515145 , 0.31422454],\n",
              "       [0.35097483, 0.28862965, 0.17560355, 0.18479195]], dtype=float32)"
            ]
          },
          "metadata": {},
          "execution_count": 161
        }
      ]
    },
    {
      "cell_type": "code",
      "source": [
        "_ = plt.plot(testing_samples[0].reshape(16000))"
      ],
      "metadata": {
        "colab": {
          "base_uri": "https://localhost:8080/",
          "height": 266
        },
        "id": "JDVA8Paxb1Ug",
        "outputId": "46303422-5662-414f-e603-3cb44cc6f701"
      },
      "execution_count": 162,
      "outputs": [
        {
          "output_type": "display_data",
          "data": {
            "text/plain": [
              "<Figure size 432x288 with 1 Axes>"
            ],
            "image/png": "[encoded data removed]"
          },
          "metadata": {
            "needs_background": "light"
          }
        }
      ]
    },
    {
      "cell_type": "code",
      "source": [
        "_ = plt.plot(testing_samples[1].reshape(16000))"
      ],
      "metadata": {
        "colab": {
          "base_uri": "https://localhost:8080/",
          "height": 265
        },
        "id": "wGGUz7YAd7zG",
        "outputId": "0370c57d-ae04-41f3-df1e-035d8e632d37"
      },
      "execution_count": 156,
      "outputs": [
        {
          "output_type": "display_data",
          "data": {
            "text/plain": [
              "<Figure size 432x288 with 1 Axes>"
            ],
            "image/png": "[encoded data removed]"
          },
          "metadata": {
            "needs_background": "light"
          }
        }
      ]
    },
    {
      "cell_type": "code",
      "source": [
        ""
      ],
      "metadata": {
        "id": "jzZAQyzSeyEY"
      },
      "execution_count": null,
      "outputs": []
    }
  ]
}