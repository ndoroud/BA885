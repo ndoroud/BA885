{
  "nbformat": 4,
  "nbformat_minor": 0,
  "metadata": {
    "colab": {
      "name": "Reinforced.ipynb",
      "provenance": [],
      "collapsed_sections": []
    },
    "kernelspec": {
      "name": "python3",
      "display_name": "Python 3"
    },
    "language_info": {
      "name": "python"
    }
  },
  "cells": [
    {
      "cell_type": "markdown",
      "source": [
        "# Reinforcement Learning\n",
        "\n",
        "We will look at CartPole-V0 which is already implemented as part of [gym](https://gym.openai.com/envs/#classic_control) and is a simple game of balancing a pole on a plate by moving the plate along a single axis. \n",
        "\n",
        "Our agent or NN has two components:\n",
        "- Actor: Predicts the probability associated with each action (left or right) based on the state of the pole\n",
        "- Critic: Estimates the rewards the agent will receive in the future.\n",
        "\n",
        "We will use the rewards as the objective function to be maximized during training.\n",
        "\n",
        "\n",
        "Based on this [example](https://keras.io/examples/rl/actor_critic_cartpole/) by A. Nandan."
      ],
      "metadata": {
        "id": "p_uLQMdBXb35"
      }
    },
    {
      "cell_type": "markdown",
      "source": [
        "## Setup"
      ],
      "metadata": {
        "id": "OM1TEPKBYby9"
      }
    },
    {
      "cell_type": "code",
      "execution_count": 2,
      "metadata": {
        "id": "BAa6V7TLXJtr"
      },
      "outputs": [],
      "source": [
        "import gym\n",
        "import numpy as np\n",
        "import tensorflow as tf\n",
        "from tensorflow import keras\n",
        "from tensorflow.keras import layers\n",
        "\n",
        "# Configuration parameters for the whole setup\n",
        "seed = 42\n",
        "# Discount factor for past rewards\n",
        "gamma = 0.99\n",
        "# Number of steps before ending the session\n",
        "max_steps_per_episode = 10000\n",
        "\n",
        "# Create the environment\n",
        "env = gym.make(\"CartPole-v0\")\n",
        "env.seed(seed)\n",
        "# Smallest number such that 1.0 + eps != 1.0\n",
        "eps = np.finfo(np.float32).eps.item()"
      ]
    },
    {
      "cell_type": "code",
      "source": [
        "num_inputs = 4\n",
        "num_actions = 2\n",
        "num_hidden = 128\n",
        "\n",
        "inputs = layers.Input(shape=(num_inputs,))\n",
        "x = layers.Dense(128, activation=\"relu\")(inputs)\n",
        "action = layers.Dense(num_actions, activation=\"softmax\")(x)\n",
        "critic = layers.Dense(1)(x)\n",
        "\n",
        "model = keras.Model(inputs=inputs, outputs=[action, critic])"
      ],
      "metadata": {
        "id": "GSWgOUrvZCkX"
      },
      "execution_count": 7,
      "outputs": []
    },
    {
      "cell_type": "code",
      "source": [
        "keras.utils.plot_model(model, to_file='ActionCritic.png')"
      ],
      "metadata": {
        "colab": {
          "base_uri": "https://localhost:8080/",
          "height": 272
        },
        "id": "K-31PpmdgVGm",
        "outputId": "8edc0d5c-b60d-4b16-9769-a822be62d4c1"
      },
      "execution_count": 8,
      "outputs": [
        {
          "output_type": "execute_result",
          "data": {
            "text/plain": [
              "<IPython.core.display.Image object>"
            ],
            "image/png": "[encoded data removed]"
          },
          "metadata": {},
          "execution_count": 8
        }
      ]
    },
    {
      "cell_type": "markdown",
      "source": [
        "## Training"
      ],
      "metadata": {
        "id": "vMXhkRUTZ7uM"
      }
    },
    {
      "cell_type": "code",
      "source": [
        "# Reset the environment\n",
        "state = env.reset()"
      ],
      "metadata": {
        "id": "Z3kElJmSqwcu"
      },
      "execution_count": 25,
      "outputs": []
    },
    {
      "cell_type": "code",
      "source": [
        "# Feedforward\n",
        "model(tf.convert_to_tensor([state]))"
      ],
      "metadata": {
        "colab": {
          "base_uri": "https://localhost:8080/"
        },
        "id": "k-9CQ0Fuqx45",
        "outputId": "376ff07b-003f-477d-cd4d-6fcb419dc586"
      },
      "execution_count": 26,
      "outputs": [
        {
          "output_type": "execute_result",
          "data": {
            "text/plain": [
              "[<tf.Tensor: shape=(1, 2), dtype=float32, numpy=array([[0.5000212 , 0.49997875]], dtype=float32)>,\n",
              " <tf.Tensor: shape=(1, 1), dtype=float32, numpy=array([[0.01055172]], dtype=float32)>]"
            ]
          },
          "metadata": {},
          "execution_count": 26
        }
      ]
    },
    {
      "cell_type": "code",
      "source": [
        "env.step(0)"
      ],
      "metadata": {
        "colab": {
          "base_uri": "https://localhost:8080/"
        },
        "id": "ScK9RjDirqoM",
        "outputId": "a0ddad8e-e2a9-47ab-8e10-a697772326dc"
      },
      "execution_count": 27,
      "outputs": [
        {
          "output_type": "execute_result",
          "data": {
            "text/plain": [
              "(array([-0.01820141, -0.17833326,  0.02500666,  0.32754535]), 1.0, False, {})"
            ]
          },
          "metadata": {},
          "execution_count": 27
        }
      ]
    },
    {
      "cell_type": "code",
      "source": [
        "optimizer = keras.optimizers.Adam(learning_rate=0.01)\n",
        "# The loss function to use for the critic.\n",
        "huber_loss = keras.losses.Huber()\n",
        "# History of the feedforward passes.\n",
        "action_probs_history = []\n",
        "critic_value_history = []\n",
        "# History of the rewards\n",
        "rewards_history = []\n",
        "running_reward = 0\n",
        "episode_count = 0\n",
        "\n",
        "# Run episodes until solved.\n",
        "while True:\n",
        "    # Reset the environment after each run.\n",
        "    state = env.reset()\n",
        "    episode_reward = 0\n",
        "\n",
        "    with tf.GradientTape() as tape:\n",
        "        # Runs a maximum of max_steps unless the game end prematurely.\n",
        "        for timestep in range(1, max_steps_per_episode):\n",
        "            # Convert the state to a tf tensor.\n",
        "            state = tf.convert_to_tensor(state)\n",
        "            # Add an extra dim: shape=(x) --> (1,x)\n",
        "            state = tf.expand_dims(state, 0)\n",
        "\n",
        "            # Feedforward: predicts probabilities for the next action as well as\n",
        "            # the expected rewards.\n",
        "            action_probs, critic_value = model(state)\n",
        "            critic_value_history.append(critic_value[0, 0])\n",
        "\n",
        "            # Sample action from action probability distribution:\n",
        "            # action = 0 or 1 corresponds to the choice made, the log of the\n",
        "            # associated probability is then added to action_probs_history.\n",
        "            action = np.random.choice(num_actions, p=np.squeeze(action_probs))\n",
        "            action_probs_history.append(tf.math.log(action_probs[0, action]))\n",
        "\n",
        "            # Apply the sampled action in our environment\n",
        "            state, reward, done, _ = env.step(action)\n",
        "            rewards_history.append(reward)\n",
        "            episode_reward += reward\n",
        "\n",
        "            if done:\n",
        "                break\n",
        "\n",
        "        # Update running reward to check condition for solving\n",
        "        running_reward = 0.05 * episode_reward + (1 - 0.05) * running_reward\n",
        "\n",
        "        # Calculate expected value from rewards\n",
        "        # - At each timestep what was the total reward received after that timestep\n",
        "        # - Rewards in the past are discounted by multiplying them with gamma\n",
        "        # - These are the labels for our critic\n",
        "        returns = []\n",
        "        discounted_sum = 0\n",
        "        for r in rewards_history[::-1]:\n",
        "            discounted_sum = r + gamma * discounted_sum\n",
        "            returns.insert(0, discounted_sum)\n",
        "\n",
        "        # Normalize\n",
        "        returns = np.array(returns)\n",
        "        returns = (returns - np.mean(returns)) / (np.std(returns) + eps)\n",
        "        returns = returns.tolist()\n",
        "\n",
        "        # Calculating loss values to update our network\n",
        "        history = zip(action_probs_history, critic_value_history, returns)\n",
        "        actor_losses = []\n",
        "        critic_losses = []\n",
        "        for log_prob, value, ret in history:\n",
        "            # At this point in history, the critic estimated that we would get a\n",
        "            # total reward = `value` in the future. We took an action with log probability\n",
        "            # of `log_prob` and ended up recieving a total reward = `ret`.\n",
        "            # The actor must be updated so that it predicts an action that leads to\n",
        "            # high rewards (compared to critic's estimate) with high probability.\n",
        "            diff = ret - value\n",
        "            # Actor loss:\n",
        "            actor_losses.append(-log_prob * diff)\n",
        "\n",
        "            # Critic loss:\n",
        "            # The critic must be updated so that it predicts a better estimate of\n",
        "            # the future rewards.\n",
        "            critic_losses.append(\n",
        "                huber_loss(tf.expand_dims(value, 0), tf.expand_dims(ret, 0))\n",
        "            )\n",
        "\n",
        "        # Backpropagation\n",
        "        loss_value = sum(actor_losses) + sum(critic_losses)\n",
        "        grads = tape.gradient(loss_value, model.trainable_variables)\n",
        "        optimizer.apply_gradients(zip(grads, model.trainable_variables))\n",
        "\n",
        "        # Clear the loss and reward history\n",
        "        action_probs_history.clear()\n",
        "        critic_value_history.clear()\n",
        "        rewards_history.clear()\n",
        "\n",
        "    # Log details\n",
        "    episode_count += 1\n",
        "    if episode_count % 10 == 0:\n",
        "        template = \"running reward: {:.2f} at episode {}\"\n",
        "        print(template.format(running_reward, episode_count))\n",
        "\n",
        "    if running_reward > 195:  # Condition to consider the task solved\n",
        "        print(\"Solved at episode {}!\".format(episode_count))\n",
        "        break\n"
      ],
      "metadata": {
        "colab": {
          "base_uri": "https://localhost:8080/"
        },
        "id": "VN5f6_2bZ6VG",
        "outputId": "0642ef03-6aa3-4f72-8e21-1a113476c229"
      },
      "execution_count": 30,
      "outputs": [
        {
          "output_type": "stream",
          "name": "stdout",
          "text": [
            "running reward: 7.00 at episode 10\n",
            "running reward: 10.95 at episode 20\n",
            "running reward: 16.84 at episode 30\n",
            "running reward: 19.53 at episode 40\n",
            "running reward: 16.09 at episode 50\n",
            "running reward: 14.41 at episode 60\n",
            "running reward: 13.68 at episode 70\n",
            "running reward: 13.86 at episode 80\n",
            "running reward: 14.10 at episode 90\n",
            "running reward: 16.07 at episode 100\n",
            "running reward: 15.85 at episode 110\n",
            "running reward: 15.74 at episode 120\n",
            "running reward: 15.23 at episode 130\n",
            "running reward: 16.86 at episode 140\n",
            "running reward: 34.96 at episode 150\n",
            "running reward: 25.52 at episode 160\n",
            "running reward: 19.48 at episode 170\n",
            "running reward: 15.66 at episode 180\n",
            "running reward: 13.49 at episode 190\n",
            "running reward: 11.98 at episode 200\n",
            "running reward: 11.06 at episode 210\n",
            "running reward: 10.33 at episode 220\n",
            "running reward: 10.22 at episode 230\n",
            "running reward: 10.06 at episode 240\n",
            "running reward: 9.91 at episode 250\n",
            "running reward: 9.80 at episode 260\n",
            "running reward: 9.74 at episode 270\n",
            "running reward: 9.95 at episode 280\n",
            "running reward: 9.71 at episode 290\n",
            "running reward: 9.86 at episode 300\n",
            "running reward: 9.82 at episode 310\n",
            "running reward: 10.13 at episode 320\n",
            "running reward: 10.26 at episode 330\n",
            "running reward: 10.77 at episode 340\n",
            "running reward: 12.90 at episode 350\n",
            "running reward: 13.86 at episode 360\n",
            "running reward: 14.71 at episode 370\n",
            "running reward: 32.81 at episode 380\n",
            "running reward: 47.67 at episode 390\n",
            "running reward: 68.28 at episode 400\n",
            "running reward: 50.15 at episode 410\n",
            "running reward: 35.60 at episode 420\n",
            "running reward: 25.77 at episode 430\n",
            "running reward: 20.15 at episode 440\n",
            "running reward: 17.56 at episode 450\n",
            "running reward: 33.26 at episode 460\n",
            "running reward: 44.56 at episode 470\n",
            "running reward: 61.19 at episode 480\n",
            "running reward: 80.97 at episode 490\n",
            "running reward: 101.96 at episode 500\n",
            "running reward: 107.22 at episode 510\n",
            "running reward: 100.58 at episode 520\n",
            "running reward: 93.33 at episode 530\n",
            "running reward: 117.81 at episode 540\n",
            "running reward: 142.17 at episode 550\n",
            "running reward: 165.38 at episode 560\n",
            "running reward: 178.33 at episode 570\n",
            "running reward: 133.21 at episode 580\n",
            "running reward: 93.07 at episode 590\n",
            "running reward: 65.80 at episode 600\n",
            "running reward: 51.62 at episode 610\n",
            "running reward: 46.13 at episode 620\n",
            "running reward: 43.36 at episode 630\n",
            "running reward: 38.31 at episode 640\n",
            "running reward: 40.33 at episode 650\n",
            "running reward: 38.47 at episode 660\n",
            "running reward: 41.65 at episode 670\n",
            "running reward: 48.28 at episode 680\n",
            "running reward: 47.64 at episode 690\n",
            "running reward: 52.53 at episode 700\n",
            "running reward: 59.80 at episode 710\n",
            "running reward: 70.13 at episode 720\n",
            "running reward: 72.67 at episode 730\n",
            "running reward: 79.27 at episode 740\n",
            "running reward: 83.79 at episode 750\n",
            "running reward: 91.49 at episode 760\n",
            "running reward: 95.59 at episode 770\n",
            "running reward: 106.70 at episode 780\n",
            "running reward: 114.31 at episode 790\n",
            "running reward: 119.59 at episode 800\n",
            "running reward: 137.38 at episode 810\n",
            "running reward: 162.51 at episode 820\n",
            "running reward: 177.55 at episode 830\n",
            "running reward: 186.56 at episode 840\n",
            "running reward: 179.92 at episode 850\n",
            "running reward: 181.88 at episode 860\n",
            "running reward: 179.23 at episode 870\n",
            "running reward: 164.44 at episode 880\n",
            "running reward: 149.76 at episode 890\n",
            "running reward: 131.89 at episode 900\n",
            "running reward: 133.67 at episode 910\n",
            "running reward: 153.09 at episode 920\n",
            "running reward: 171.91 at episode 930\n",
            "running reward: 174.17 at episode 940\n",
            "running reward: 180.56 at episode 950\n",
            "running reward: 173.50 at episode 960\n",
            "running reward: 168.84 at episode 970\n",
            "running reward: 174.75 at episode 980\n",
            "running reward: 176.75 at episode 990\n",
            "running reward: 183.13 at episode 1000\n",
            "running reward: 189.90 at episode 1010\n",
            "running reward: 193.95 at episode 1020\n",
            "Solved at episode 1024!\n"
          ]
        }
      ]
    },
    {
      "cell_type": "markdown",
      "metadata": {
        "id": "brSaNZeiIR7h"
      },
      "source": [
        "## Visualization\n",
        "In early stages of training:\n",
        "\n",
        "![Imgur](https://i.imgur.com/5gCs5kH.gif)\n",
        "\n",
        "In later stages of training:\n",
        "\n",
        "![Imgur](https://i.imgur.com/5ziiZUD.gif)\n"
      ]
    }
  ]
}